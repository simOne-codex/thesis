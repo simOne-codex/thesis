{
 "cells": [
  {
   "cell_type": "code",
   "execution_count": 22,
   "id": "94879d2d",
   "metadata": {},
   "outputs": [],
   "source": [
    "import pickle\n",
    "\n",
    "with open('/nfs/home/genovese/thesis-wildfire-genovese/outputs/random_forest/regression_non_kriged/regression_non_kriged_scores.pkl', 'rb') as f:\n",
    "    result = pickle.load(f)"
   ]
  },
  {
   "cell_type": "code",
   "execution_count": 26,
   "id": "81f020c3",
   "metadata": {},
   "outputs": [
    {
     "data": {
      "text/plain": [
       "0.013793862893581577"
      ]
     },
     "execution_count": 26,
     "metadata": {},
     "output_type": "execute_result"
    }
   ],
   "source": [
    "import numpy as np\n",
    "np.mean(result['validation']['mse'])"
   ]
  }
 ],
 "metadata": {
  "kernelspec": {
   "display_name": ".venv",
   "language": "python",
   "name": "python3"
  },
  "language_info": {
   "codemirror_mode": {
    "name": "ipython",
    "version": 3
   },
   "file_extension": ".py",
   "mimetype": "text/x-python",
   "name": "python",
   "nbconvert_exporter": "python",
   "pygments_lexer": "ipython3",
   "version": "3.10.17"
  }
 },
 "nbformat": 4,
 "nbformat_minor": 5
}
