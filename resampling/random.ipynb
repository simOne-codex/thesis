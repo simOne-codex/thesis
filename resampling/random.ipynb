{
 "cells": [
  {
   "cell_type": "code",
   "execution_count": 5,
   "id": "884d65f2",
   "metadata": {},
   "outputs": [],
   "source": [
    "import sys\n",
    "from importlib import reload \n",
    "sys.path.append('/nfs/home/genovese/thesis-wildfire-genovese/resampling/src/')\n",
    "import PointDataLoader\n",
    "reload(PointDataLoader)\n",
    "from PointDataLoader import *\n"
   ]
  },
  {
   "cell_type": "markdown",
   "id": "fb62c534",
   "metadata": {},
   "source": [
    "---"
   ]
  }
 ],
 "metadata": {
  "kernelspec": {
   "display_name": ".venv",
   "language": "python",
   "name": "python3"
  },
  "language_info": {
   "codemirror_mode": {
    "name": "ipython",
    "version": 3
   },
   "file_extension": ".py",
   "mimetype": "text/x-python",
   "name": "python",
   "nbconvert_exporter": "python",
   "pygments_lexer": "ipython3",
   "version": "3.10.17"
  }
 },
 "nbformat": 4,
 "nbformat_minor": 5
}
