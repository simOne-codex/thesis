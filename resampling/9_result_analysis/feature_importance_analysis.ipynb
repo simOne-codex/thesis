{
 "cells": [
  {
   "cell_type": "code",
   "execution_count": 1,
   "id": "28556803",
   "metadata": {},
   "outputs": [],
   "source": [
    "import pickle\n",
    "import pandas as pd\n",
    "import seaborn as sns\n",
    "import matplotlib.pyplot as plt"
   ]
  },
  {
   "cell_type": "code",
   "execution_count": 2,
   "id": "8c455419",
   "metadata": {},
   "outputs": [],
   "source": [
    "with open('/nfs/home/genovese/thesis-wildfire-genovese/resampling/src/trained_models/final_model.pkl', 'rb') as f:\n",
    "    r_model = pickle.load(f)\n",
    "\n",
    "with open('/nfs/home/genovese/thesis-wildfire-genovese/resampling/src/trained_models/final_classification_model.pkl', 'rb') as f:\n",
    "    c_model = pickle.load(f)\n",
    "\n",
    "# with open ('/nfs/home/genovese/thesis-wildfire-genovese/resampling/src/trained_models/pca.pkl', 'rb') as f:\n",
    "#     pca = pickle.load(f)\n",
    "    \n",
    "X_train = pd.read_csv('/nfs/home/genovese/thesis-wildfire-genovese/database/model_input_resampled/final_X_train_val.csv').set_index('fire_id', drop=True)\n",
    "# old_features = pd.read_csv('/nfs/home/genovese/thesis-wildfire-genovese/database/model_input_resampled/not_imputed_dataset_rekriged.csv', index_col=0).drop(columns=['fire_id', 'target', 'label']).columns"
   ]
  },
  {
   "cell_type": "code",
   "execution_count": 3,
   "id": "09554b59",
   "metadata": {},
   "outputs": [],
   "source": [
    "rf = pd.Series(r_model.feature_importances_, index=X_train.columns[1:]).sort_values(ascending=False)\n",
    "cf = pd.Series(c_model.feature_importances_, index=X_train.columns[1:]).sort_values(ascending=False)"
   ]
  },
  {
   "cell_type": "code",
   "execution_count": 9,
   "id": "a7e38b4d",
   "metadata": {},
   "outputs": [
    {
     "data": {
      "text/plain": [
       "\"\\\\begin{tabular}{lll}\\n\\\\toprule\\n & regression & classification \\\\\\\\\\n\\\\midrule\\n0 & VEGETAZIONE_CATEGORIA_Castagneti & TOTALE_VEGETAZIONE \\\\\\\\\\n1 & TOTALE_VEGETAZIONE & VEGETAZIONE_ASSETTO_Ceduo semplice con o senza matricine \\\\\\\\\\n2 & TER_02 & VEGETAZIONE_PRIORITA_Nessuna \\\\\\\\\\n3 & VEGETAZIONE_TIPO_Pioppeti & VEGETAZIONE_ASSETTO_Fustaia \\\\\\\\\\n4 & Superficie a boschi & Reddito complessivo da 15000 a 26000 euro - Ammontare in euro \\\\\\\\\\n5 & Reddito complessivo da 15000 a 26000 euro - Ammontare in euro & Reddito di spettanza dellimprenditore in contabilita semplificata - Ammontare in euro \\\\\\\\\\n6 & TER_03 & Reddito complessivo da 55000 a 75000 euro - Ammontare in euro \\\\\\\\\\n7 & terreni a riposo & VEGETAZIONE_ASSETTO_Ceduo composto (Fustaia sopra ceduo / ceduo sotto fustaia) \\\\\\\\\\n8 & Superficie agricola utilizzata - ettari & 50_64_in altra condizione \\\\\\\\\\n9 & piante industriali & VEGETAZIONE_CATEGORIA_Castagneti \\\\\\\\\\n10 & cereali per la produzione di granella & AMB_02 \\\\\\\\\\n11 & AMB_03 & SOC_01 \\\\\\\\\\n12 & AMB_02 & SOC_02 \\\\\\\\\\n13 & VEGETAZIONE_TIPO_Robinieto & TER_02 \\\\\\\\\\n14 & totale ovini & SOC_04 \\\\\\\\\\n15 & VEGETAZIONE_TIPO_Querceto di rovere a Potentilla alba & AMB_01 \\\\\\\\\\n16 & Altra superficie rispetto a quella agricola utilizzata, a legna, a boschi e non utilizzata & SOC_03 \\\\\\\\\\n17 & VEGETAZIONE_ASSETTO_Ceduo composto (Fustaia sopra ceduo / ceduo sotto fustaia) & TER_03 \\\\\\\\\\n18 & SOC_01 & Superficie a boschi \\\\\\\\\\n19 & Superficie per coltivazioni arboricole da legna & VEGETAZIONE_TIPO_Robinieto \\\\\\\\\\n20 & patata & Superficie agricola utilizzata - ettari \\\\\\\\\\n21 & Reddito complessivo da 55000 a 75000 euro - Ammontare in euro & cereali per la produzione di granella \\\\\\\\\\n22 & SOC_02 & Superficie totale - ettari \\\\\\\\\\n23 & AMB_01 & ECO_01 \\\\\\\\\\n24 & Reddito di spettanza dellimprenditore in contabilita semplificata - Ammontare in euro & terreni a riposo \\\\\\\\\\n25 & VEGETAZIONE_ASSETTO_Fustaia & totale ovini \\\\\\\\\\n26 & SOC_04 & foraggere avvicendate \\\\\\\\\\n27 & SOC_03 & totale alveari \\\\\\\\\\n28 & VEGETAZIONE_PRIORITA_Nessuna & AMB_03 \\\\\\\\\\n29 & VEGETAZIONE_ASSETTO_Ceduo semplice con o senza matricine & patata \\\\\\\\\\n30 & ECO_01 & Altra superficie rispetto a quella agricola utilizzata, a legna, a boschi e non utilizzata \\\\\\\\\\n31 & totale alveari & coltivazioni legnose agrarie \\\\\\\\\\n32 & coltivazioni fruttifere & coltivazioni fruttifere \\\\\\\\\\n33 & Superficie totale - ettari & piante industriali \\\\\\\\\\n34 & vite & VEGETAZIONE_TIPO_Pioppeti \\\\\\\\\\n35 & 50_64_in altra condizione & vite \\\\\\\\\\n36 & foraggere avvicendate & Superficie per coltivazioni arboricole da legna \\\\\\\\\\n37 & coltivazioni legnose agrarie & ortive protette in serra e tunnel accessibili all'uomo \\\\\\\\\\n38 & ortive protette in serra e tunnel accessibili all'uomo & VEGETAZIONE_TIPO_Querceto di rovere a Potentilla alba \\\\\\\\\\n\\\\bottomrule\\n\\\\end{tabular}\\n\""
      ]
     },
     "execution_count": 9,
     "metadata": {},
     "output_type": "execute_result"
    }
   ],
   "source": [
    "pd.concat([pd.Series(rf.index, name='regression'), pd.Series(cf.index, name='classification')], axis=1).to_latex()"
   ]
  },
  {
   "cell_type": "code",
   "execution_count": 4,
   "id": "a2a3bcc2",
   "metadata": {},
   "outputs": [
    {
     "name": "stdout",
     "output_type": "stream",
     "text": [
      "VEGETAZIONE_CATEGORIA_Castagneti                                                              0.188729\n",
      "TOTALE_VEGETAZIONE                                                                            0.174976\n",
      "TER_02                                                                                        0.079449\n",
      "VEGETAZIONE_TIPO_Pioppeti                                                                     0.036787\n",
      "Superficie a boschi                                                                           0.033579\n",
      "Reddito complessivo da 15000 a 26000 euro - Ammontare in euro                                 0.027406\n",
      "TER_03                                                                                        0.026564\n",
      "terreni a riposo                                                                              0.026336\n",
      "Superficie agricola utilizzata - ettari                                                       0.024943\n",
      "piante industriali                                                                            0.019902\n",
      "cereali per la produzione di granella                                                         0.016849\n",
      "AMB_03                                                                                        0.015993\n",
      "AMB_02                                                                                        0.015790\n",
      "VEGETAZIONE_TIPO_Robinieto                                                                    0.015419\n",
      "totale ovini                                                                                  0.015198\n",
      "VEGETAZIONE_TIPO_Querceto di rovere a Potentilla alba                                         0.014809\n",
      "Altra superficie rispetto a quella agricola utilizzata, a legna, a boschi e non utilizzata    0.014359\n",
      "VEGETAZIONE_ASSETTO_Ceduo composto (Fustaia sopra ceduo / ceduo sotto fustaia)                0.014073\n",
      "SOC_01                                                                                        0.014025\n",
      "Superficie per coltivazioni arboricole da legna                                               0.013841\n",
      "patata                                                                                        0.013438\n",
      "Reddito complessivo da 55000 a 75000 euro - Ammontare in euro                                 0.012966\n",
      "SOC_02                                                                                        0.012690\n",
      "AMB_01                                                                                        0.012514\n",
      "Reddito di spettanza dellimprenditore in contabilita semplificata - Ammontare in euro         0.012367\n",
      "VEGETAZIONE_ASSETTO_Fustaia                                                                   0.011912\n",
      "SOC_04                                                                                        0.011884\n",
      "SOC_03                                                                                        0.011836\n",
      "VEGETAZIONE_PRIORITA_Nessuna                                                                  0.011660\n",
      "VEGETAZIONE_ASSETTO_Ceduo semplice con o senza matricine                                      0.011513\n",
      "ECO_01                                                                                        0.010967\n",
      "totale alveari                                                                                0.010780\n",
      "coltivazioni fruttifere                                                                       0.010616\n",
      "Superficie totale - ettari                                                                    0.010583\n",
      "vite                                                                                          0.010417\n",
      "50_64_in altra condizione                                                                     0.009771\n",
      "foraggere avvicendate                                                                         0.009171\n",
      "coltivazioni legnose agrarie                                                                  0.008863\n",
      "ortive protette in serra e tunnel accessibili all'uomo                                        0.007024\n",
      "dtype: float64 \n",
      " \n",
      "\n",
      "TOTALE_VEGETAZIONE                                                                            0.065031\n",
      "VEGETAZIONE_ASSETTO_Ceduo semplice con o senza matricine                                      0.048990\n",
      "VEGETAZIONE_PRIORITA_Nessuna                                                                  0.046094\n",
      "VEGETAZIONE_ASSETTO_Fustaia                                                                   0.040949\n",
      "Reddito complessivo da 15000 a 26000 euro - Ammontare in euro                                 0.040086\n",
      "Reddito di spettanza dellimprenditore in contabilita semplificata - Ammontare in euro         0.035335\n",
      "Reddito complessivo da 55000 a 75000 euro - Ammontare in euro                                 0.034576\n",
      "VEGETAZIONE_ASSETTO_Ceduo composto (Fustaia sopra ceduo / ceduo sotto fustaia)                0.031040\n",
      "50_64_in altra condizione                                                                     0.030362\n",
      "VEGETAZIONE_CATEGORIA_Castagneti                                                              0.030030\n",
      "AMB_02                                                                                        0.029480\n",
      "SOC_01                                                                                        0.028760\n",
      "SOC_02                                                                                        0.027760\n",
      "TER_02                                                                                        0.027404\n",
      "SOC_04                                                                                        0.027119\n",
      "AMB_01                                                                                        0.026938\n",
      "SOC_03                                                                                        0.026767\n",
      "TER_03                                                                                        0.026719\n",
      "Superficie a boschi                                                                           0.024368\n",
      "VEGETAZIONE_TIPO_Robinieto                                                                    0.023581\n",
      "Superficie agricola utilizzata - ettari                                                       0.021564\n",
      "cereali per la produzione di granella                                                         0.021294\n",
      "Superficie totale - ettari                                                                    0.020584\n",
      "ECO_01                                                                                        0.020567\n",
      "terreni a riposo                                                                              0.019784\n",
      "totale ovini                                                                                  0.019310\n",
      "foraggere avvicendate                                                                         0.018654\n",
      "totale alveari                                                                                0.018427\n",
      "AMB_03                                                                                        0.018370\n",
      "patata                                                                                        0.018327\n",
      "Altra superficie rispetto a quella agricola utilizzata, a legna, a boschi e non utilizzata    0.018258\n",
      "coltivazioni legnose agrarie                                                                  0.017978\n",
      "coltivazioni fruttifere                                                                       0.017331\n",
      "piante industriali                                                                            0.017091\n",
      "VEGETAZIONE_TIPO_Pioppeti                                                                     0.015645\n",
      "vite                                                                                          0.015321\n",
      "Superficie per coltivazioni arboricole da legna                                               0.014443\n",
      "ortive protette in serra e tunnel accessibili all'uomo                                        0.009905\n",
      "VEGETAZIONE_TIPO_Querceto di rovere a Potentilla alba                                         0.005759\n",
      "dtype: float64\n"
     ]
    }
   ],
   "source": [
    "print(rf, '\\n \\n')\n",
    "print(cf)"
   ]
  },
  {
   "cell_type": "markdown",
   "id": "352f2d3e",
   "metadata": {},
   "source": [
    "---"
   ]
  }
 ],
 "metadata": {
  "kernelspec": {
   "display_name": ".venv",
   "language": "python",
   "name": "python3"
  },
  "language_info": {
   "codemirror_mode": {
    "name": "ipython",
    "version": 3
   },
   "file_extension": ".py",
   "mimetype": "text/x-python",
   "name": "python",
   "nbconvert_exporter": "python",
   "pygments_lexer": "ipython3",
   "version": "3.10.17"
  }
 },
 "nbformat": 4,
 "nbformat_minor": 5
}
