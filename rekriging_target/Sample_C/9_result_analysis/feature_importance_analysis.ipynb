{
 "cells": [
  {
   "cell_type": "code",
   "execution_count": 25,
   "id": "28556803",
   "metadata": {},
   "outputs": [],
   "source": [
    "import pickle\n",
    "import pandas as pd\n",
    "import seaborn as sns\n",
    "import matplotlib.pyplot as plt"
   ]
  },
  {
   "cell_type": "code",
   "execution_count": 26,
   "id": "8c455419",
   "metadata": {},
   "outputs": [],
   "source": [
    "with open('/nfs/home/genovese/thesis-wildfire-genovese/rekriging_target/resampling/src/trained_models/final_model.pkl', 'rb') as f:\n",
    "    r_model = pickle.load(f)\n",
    "\n",
    "with open('/nfs/home/genovese/thesis-wildfire-genovese/rekriging_target/resampling/src/trained_models/final_classification_model.pkl', 'rb') as f:\n",
    "    c_model = pickle.load(f)\n",
    "\n",
    "    \n",
    "X_train = pd.read_csv('/nfs/home/genovese/thesis-wildfire-genovese/rekriging_target/database/model_input/final_X_train_val.csv', index_col=0)"
   ]
  },
  {
   "cell_type": "code",
   "execution_count": 27,
   "id": "09554b59",
   "metadata": {},
   "outputs": [],
   "source": [
    "rf = pd.DataFrame(index=X_train.columns)\n",
    "cf = pd.DataFrame(index=X_train.columns)\n",
    "\n",
    "for k, c in zip(list(r_model.keys()), list(c_model.keys())):\n",
    "    rf = pd.concat([rf, pd.Series(r_model[k].feature_importances_, index=X_train.columns, name=k)], axis=1)\n",
    "    cf = pd.concat([cf, pd.Series(c_model[c].feature_importances_, index=X_train.columns, name=c)], axis=1)"
   ]
  },
  {
   "cell_type": "code",
   "execution_count": 32,
   "id": "17418e07",
   "metadata": {},
   "outputs": [
    {
     "data": {
      "text/plain": [
       "piante industriali                                0.132398\n",
       "Addizionale comunale dovuta - Frequenza           0.061265\n",
       "Umidita' media ( % )_season                       0.059343\n",
       "Precipitazione dalle 0 alle 0 (mm)_season         0.053696\n",
       "Superficie agricola utilizzata - ettari           0.051501\n",
       "Velocita' media del vento ( m/s )_season          0.050366\n",
       "Umidita' massima ( % )_season                     0.047456\n",
       "coltivazioni fruttifere                           0.047259\n",
       "AMB_01                                            0.046559\n",
       "Umidita' minima ( % )_season                      0.046112\n",
       "TER_03                                            0.045905\n",
       "Giorni piovosi pioggia dalle 0 alle 0_season      0.043640\n",
       "SOC_03                                            0.042821\n",
       "Temperatura massima ( °C )_season                 0.042692\n",
       "Settore Prevalente_season                         0.040235\n",
       "Radiazione totale ( MJ/mq )_season                0.039757\n",
       "Direzione massima raffica ( ° )_season            0.038866\n",
       "Temperatura minima ( °C )_season                  0.037363\n",
       "Tempo di permanenza nel settore ( min )_season    0.037048\n",
       "Superficie a boschi                               0.035719\n",
       "dtype: float64"
      ]
     },
     "execution_count": 32,
     "metadata": {},
     "output_type": "execute_result"
    }
   ],
   "source": [
    "rf.mean(axis=1).sort_values(ascending=False)"
   ]
  },
  {
   "cell_type": "code",
   "execution_count": 33,
   "id": "28c2ca36",
   "metadata": {},
   "outputs": [
    {
     "data": {
      "text/plain": [
       "Index(['Precipitazione dalle 0 alle 0 (mm)_season',\n",
       "       'Temperatura massima ( °C )_season',\n",
       "       'Giorni piovosi pioggia dalle 0 alle 0_season',\n",
       "       'Umidita' minima ( % )_season', 'Umidita' media ( % )_season',\n",
       "       'Umidita' massima ( % )_season',\n",
       "       'Tempo di permanenza nel settore ( min )_season',\n",
       "       'Temperatura minima ( °C )_season',\n",
       "       'Velocita' media del vento ( m/s )_season', 'Settore Prevalente_season',\n",
       "       'Direzione massima raffica ( ° )_season',\n",
       "       'Radiazione totale ( MJ/mq )_season',\n",
       "       'Addizionale comunale dovuta - Frequenza', 'AMB_01', 'SOC_03', 'TER_03',\n",
       "       'Superficie agricola utilizzata - ettari', 'Superficie a boschi',\n",
       "       'coltivazioni fruttifere', 'piante industriali'],\n",
       "      dtype='object')"
      ]
     },
     "execution_count": 33,
     "metadata": {},
     "output_type": "execute_result"
    }
   ],
   "source": [
    "cf.mean(axis=1).sort_values(ascending=False).index"
   ]
  },
  {
   "cell_type": "markdown",
   "id": "8e5fbd5a",
   "metadata": {},
   "source": [
    "---"
   ]
  }
 ],
 "metadata": {
  "kernelspec": {
   "display_name": ".venv",
   "language": "python",
   "name": "python3"
  },
  "language_info": {
   "codemirror_mode": {
    "name": "ipython",
    "version": 3
   },
   "file_extension": ".py",
   "mimetype": "text/x-python",
   "name": "python",
   "nbconvert_exporter": "python",
   "pygments_lexer": "ipython3",
   "version": "3.10.17"
  }
 },
 "nbformat": 4,
 "nbformat_minor": 5
}
