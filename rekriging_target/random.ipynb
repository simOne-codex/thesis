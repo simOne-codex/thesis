{
 "cells": [
  {
   "cell_type": "code",
   "execution_count": 2,
   "id": "a4ca39e8",
   "metadata": {},
   "outputs": [],
   "source": [
    "import os\n",
    "import geopandas as gpd\n",
    "import pandas as pd\n",
    "import numpy as np\n",
    "import pickle\n",
    "\n",
    "grid = gpd.read_file('/nfs/home/genovese/thesis-wildfire-genovese/rekriging_target/database/grid_1000m_piedmont.geojson')\n",
    "grid_array = np.array(pd.concat([grid.geometry.x, grid.geometry.y], axis=1))\n",
    "\n",
    "\n",
    "file_dir = '/nfs/home/genovese/thesis-wildfire-genovese/rekriging_target/database/kriged_maps/'\n",
    "\n",
    "\n",
    "with open('/nfs/home/genovese/thesis-wildfire-genovese/rekriging_target/database/cache/listdir_lists/listdir_kriged_maps.pkl', 'wb') as f:\n",
    "    pickle.dump(os.listdir(file_dir), f)\n",
    "\n",
    "with open('/nfs/home/genovese/thesis-wildfire-genovese/rekriging_target/database/cache/listdir_lists/grid_array.pkl', 'wb') as s:\n",
    "    pickle.dump(grid_array, s)"
   ]
  },
  {
   "cell_type": "code",
   "execution_count": 1,
   "id": "63e13008",
   "metadata": {},
   "outputs": [],
   "source": [
    "import pandas as pd\n",
    "import os\n",
    "\n",
    "total = 0\n",
    "\n",
    "for file in os.listdir('/nfs/home/genovese/thesis-wildfire-genovese/rekriging_target/database/cache/samples'):\n",
    "    total += pd.read_csv(f'/nfs/home/genovese/thesis-wildfire-genovese/rekriging_target/database/cache/samples/{file}').shape[0]"
   ]
  },
  {
   "cell_type": "code",
   "execution_count": 2,
   "id": "1038c209",
   "metadata": {},
   "outputs": [
    {
     "data": {
      "text/plain": [
       "917583"
      ]
     },
     "execution_count": 2,
     "metadata": {},
     "output_type": "execute_result"
    }
   ],
   "source": [
    "total"
   ]
  },
  {
   "cell_type": "code",
   "execution_count": 1,
   "id": "79e6fece",
   "metadata": {},
   "outputs": [],
   "source": [
    "import pickle\n",
    "\n",
    "with open('/nfs/home/genovese/thesis-wildfire-genovese/rekriging_target/database/cache/listdir_lists/listdir_samples.pkl', 'rb') as f:\n",
    "    lst = pickle.load(f)"
   ]
  },
  {
   "cell_type": "code",
   "execution_count": 5,
   "id": "5960fa42",
   "metadata": {},
   "outputs": [
    {
     "data": {
      "text/plain": [
       "100"
      ]
     },
     "execution_count": 5,
     "metadata": {},
     "output_type": "execute_result"
    }
   ],
   "source": [
    "import os\n",
    "len(os.listdir('/nfs/home/genovese/thesis-wildfire-genovese/rekriging_target/database/cache/samples'))"
   ]
  },
  {
   "cell_type": "code",
   "execution_count": 3,
   "id": "afeca8a9",
   "metadata": {},
   "outputs": [
    {
     "data": {
      "text/plain": [
       "100"
      ]
     },
     "execution_count": 3,
     "metadata": {},
     "output_type": "execute_result"
    }
   ],
   "source": [
    "len(lst)"
   ]
  },
  {
   "cell_type": "code",
   "execution_count": null,
   "id": "fbb33a10",
   "metadata": {},
   "outputs": [],
   "source": [
    "# val_dir = '/nfs/home/genovese/thesis-wildfire-genovese/rekriging_target/database/kriged_map_values/'\n",
    "\n",
    "\n",
    "# with open('/nfs/home/genovese/thesis-wildfire-genovese/rekriging_target/database/cache/listdir_lists/listdir_kriged_map_values.pkl', 'wb') as f:\n",
    "#     pickle.dump(os.listdir(val_dir), f)"
   ]
  },
  {
   "cell_type": "code",
   "execution_count": null,
   "id": "8d216729",
   "metadata": {},
   "outputs": [],
   "source": [
    "# sample_dir = '/nfs/home/genovese/thesis-wildfire-genovese/rekriging_target/database/cache/samples/'\n",
    "\n",
    "# with open('/nfs/home/genovese/thesis-wildfire-genovese/rekriging_target/database/cache/listdir_lists/listdir_samples.pkl', 'wb') as f:\n",
    "#     pickle.dump(os.listdir(sample_dir), f)"
   ]
  }
 ],
 "metadata": {
  "kernelspec": {
   "display_name": ".venv",
   "language": "python",
   "name": "python3"
  },
  "language_info": {
   "codemirror_mode": {
    "name": "ipython",
    "version": 3
   },
   "file_extension": ".py",
   "mimetype": "text/x-python",
   "name": "python",
   "nbconvert_exporter": "python",
   "pygments_lexer": "ipython3",
   "version": "3.10.17"
  }
 },
 "nbformat": 4,
 "nbformat_minor": 5
}
