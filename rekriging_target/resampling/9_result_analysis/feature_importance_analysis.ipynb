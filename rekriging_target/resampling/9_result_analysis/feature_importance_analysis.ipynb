{
 "cells": [
  {
   "cell_type": "code",
   "execution_count": 1,
   "id": "28556803",
   "metadata": {},
   "outputs": [],
   "source": [
    "import pickle\n",
    "import pandas as pd\n",
    "import seaborn as sns\n",
    "import matplotlib.pyplot as plt"
   ]
  },
  {
   "cell_type": "code",
   "execution_count": 2,
   "id": "8c455419",
   "metadata": {},
   "outputs": [],
   "source": [
    "with open('/nfs/home/genovese/thesis-wildfire-genovese/rekriging_target/resampling/src/trained_models/final_model.pkl', 'rb') as f:\n",
    "    r_model = pickle.load(f)\n",
    "\n",
    "with open('/nfs/home/genovese/thesis-wildfire-genovese/rekriging_target/resampling/src/trained_models/final_classification_model.pkl', 'rb') as f:\n",
    "    c_model = pickle.load(f)\n",
    "\n",
    "    \n",
    "X_train = pd.read_csv('/nfs/home/genovese/thesis-wildfire-genovese/rekriging_target/database/model_input/X_train_val.csv')"
   ]
  },
  {
   "cell_type": "code",
   "execution_count": 5,
   "id": "09554b59",
   "metadata": {},
   "outputs": [
    {
     "name": "stdout",
     "output_type": "stream",
     "text": [
      "piante industriali                                                        1.106593e-01\n",
      "Umidita' media ( % )_season                                               3.310858e-02\n",
      "Umidita' minima ( % )_season                                              2.930774e-02\n",
      "Precipitazione dalle 0 alle 0 (mm)_season                                 2.770342e-02\n",
      "VEGETAZIONE_TIPO_Castagneto acidofilo a Teucrium scorodonia delle Alpi    2.692719e-02\n",
      "                                                                              ...     \n",
      "VEGETAZIONE_ASSETTO_Governo misto                                         9.187461e-07\n",
      "VEGETAZIONE_TIPO_Pineta endalpica acidofila di pino silvestre             8.688491e-07\n",
      "VEGETAZIONE_TIPO_Abetina endalpica                                        7.270909e-07\n",
      "VEGETAZIONE_TIPO_Ginepreto di Juniperus communis                          5.906504e-07\n",
      "VEGETAZIONE_TIPO_Cerreta mista appenninica a Sesleria cylindrica          2.588480e-07\n",
      "Length: 378, dtype: float64 \n",
      " \n",
      "\n",
      "Umidita' media ( % )_season                                         0.015535\n",
      "Precipitazione dalle 0 alle 0 (mm)_season                           0.015437\n",
      "Giorni piovosi pioggia dalle 0 alle 0_season                        0.015257\n",
      "Umidita' massima ( % )_season                                       0.015223\n",
      "Umidita' minima ( % )_season                                        0.015080\n",
      "                                                                      ...   \n",
      "VEGETAZIONE_TIPO_Abetina endalpica                                  0.000009\n",
      "VEGETAZIONE_TIPO_Cerreta mista appenninica a Sesleria cylindrica    0.000005\n",
      "VEGETAZIONE_DESTINAZ_Mantenimento delle praterie di altitudine      0.000004\n",
      "VEGETAZIONE_TIPO_Arbusteto di Spartium junceum\\n                    0.000002\n",
      "VEGETAZIONE_TIPO_Arbusteto montano di Buxus sempervirens            0.000002\n",
      "Length: 378, dtype: float64\n"
     ]
    }
   ],
   "source": [
    "rf = pd.Series(r_model[516].feature_importances_, index=X_train.columns).sort_values(ascending=False)\n",
    "cf = pd.Series(c_model[516].feature_importances_, index=X_train.columns).sort_values(ascending=False)\n",
    "\n",
    "print(rf, '\\n \\n')\n",
    "print(cf)"
   ]
  },
  {
   "cell_type": "code",
   "execution_count": 7,
   "id": "a2a3bcc2",
   "metadata": {},
   "outputs": [
    {
     "name": "stdout",
     "output_type": "stream",
     "text": [
      "piante industriali                                                        1.116314e-01\n",
      "Umidita' media ( % )_season                                               3.232771e-02\n",
      "Umidita' minima ( % )_season                                              3.013523e-02\n",
      "Precipitazione dalle 0 alle 0 (mm)_season                                 2.780571e-02\n",
      "VEGETAZIONE_TIPO_Castagneto acidofilo a Teucrium scorodonia delle Alpi    2.737362e-02\n",
      "                                                                              ...     \n",
      "VEGETAZIONE_TIPO_Abetina endalpica                                        4.754321e-07\n",
      "VEGETAZIONE_TIPO_Pineta endalpica basifila di pino silvestre              4.289929e-07\n",
      "VEGETAZIONE_TIPO_Arbusteto montano di Buxus sempervirens                  3.416810e-07\n",
      "VEGETAZIONE_TIPO_Cerreta mista appenninica a Sesleria cylindrica          1.333398e-07\n",
      "VEGETAZIONE_TIPO_Pineta endalpica acidofila di pino silvestre             9.739689e-08\n",
      "Length: 378, dtype: float64 \n",
      " \n",
      "\n",
      "Umidita' minima ( % )_season                                        0.015736\n",
      "Precipitazione dalle 0 alle 0 (mm)_season                           0.015250\n",
      "Umidita' media ( % )_season                                         0.015208\n",
      "Umidita' massima ( % )_season                                       0.015022\n",
      "Giorni piovosi pioggia dalle 0 alle 0_season                        0.014793\n",
      "                                                                      ...   \n",
      "VEGETAZIONE_TIPO_Pineta endalpica basifila di pino silvestre        0.000012\n",
      "VEGETAZIONE_TIPO_Arbusteto di Spartium junceum\\n                    0.000012\n",
      "VEGETAZIONE_INTERVENTO_Taglio a scelta colturale per collettivi     0.000011\n",
      "VEGETAZIONE_TIPO_Cerreta mista appenninica a Sesleria cylindrica    0.000007\n",
      "VEGETAZIONE_DESTINAZ_Mantenimento delle praterie di altitudine      0.000005\n",
      "Length: 378, dtype: float64\n"
     ]
    }
   ],
   "source": [
    "rf = pd.Series(r_model[1919].feature_importances_, index=X_train.columns).sort_values(ascending=False)\n",
    "cf = pd.Series(c_model[1919].feature_importances_, index=X_train.columns).sort_values(ascending=False)\n",
    "\n",
    "print(rf, '\\n \\n')\n",
    "print(cf)"
   ]
  },
  {
   "cell_type": "code",
   "execution_count": 8,
   "id": "b4548c24",
   "metadata": {},
   "outputs": [
    {
     "name": "stdout",
     "output_type": "stream",
     "text": [
      "piante industriali                                                         1.106382e-01\n",
      "Umidita' media ( % )_season                                                3.573201e-02\n",
      "Umidita' minima ( % )_season                                               2.874756e-02\n",
      "Precipitazione dalle 0 alle 0 (mm)_season                                  2.777065e-02\n",
      "VEGETAZIONE_TIPO_Castagneto acidofilo a Teucrium scorodonia delle Alpi     2.537101e-02\n",
      "                                                                               ...     \n",
      "VEGETAZIONE_TIPO_Querceto xero-acidofilo di roverella con Erica arborea    4.999844e-07\n",
      "VEGETAZIONE_TIPO_Cerreta acidofila                                         4.117166e-07\n",
      "VEGETAZIONE_TIPO_Pineta endalpica di greto di pino silvestre               3.557695e-07\n",
      "VEGETAZIONE_TIPO_Pineta endalpica acidofila di pino silvestre              2.994245e-07\n",
      "VEGETAZIONE_TIPO_Pineta endalpica basifila di pino silvestre               0.000000e+00\n",
      "Length: 378, dtype: float64 \n",
      " \n",
      "\n",
      "Umidita' minima ( % )_season                                        0.015400\n",
      "Umidita' media ( % )_season                                         0.014935\n",
      "Giorni piovosi pioggia dalle 0 alle 0_season                        0.014755\n",
      "Precipitazione dalle 0 alle 0 (mm)_season                           0.014478\n",
      "Umidita' massima ( % )_season                                       0.014338\n",
      "                                                                      ...   \n",
      "VEGETAZIONE_TIPO_Arbusteto rupestre di Amelanchier ovalis           0.000012\n",
      "VEGETAZIONE_INTERVENTO_Taglio a scelta colturale per collettivi     0.000012\n",
      "VEGETAZIONE_TIPO_Alneto di ontano verde\\n                           0.000009\n",
      "VEGETAZIONE_TIPO_Cerreta mista appenninica a Sesleria cylindrica    0.000008\n",
      "VEGETAZIONE_DESTINAZ_Mantenimento delle praterie di altitudine      0.000008\n",
      "Length: 378, dtype: float64\n"
     ]
    }
   ],
   "source": [
    "rf = pd.Series(r_model[700].feature_importances_, index=X_train.columns).sort_values(ascending=False)\n",
    "cf = pd.Series(c_model[700].feature_importances_, index=X_train.columns).sort_values(ascending=False)\n",
    "\n",
    "print(rf, '\\n \\n')\n",
    "print(cf)"
   ]
  },
  {
   "cell_type": "markdown",
   "id": "8e5fbd5a",
   "metadata": {},
   "source": [
    "---"
   ]
  }
 ],
 "metadata": {
  "kernelspec": {
   "display_name": ".venv",
   "language": "python",
   "name": "python3"
  },
  "language_info": {
   "codemirror_mode": {
    "name": "ipython",
    "version": 3
   },
   "file_extension": ".py",
   "mimetype": "text/x-python",
   "name": "python",
   "nbconvert_exporter": "python",
   "pygments_lexer": "ipython3",
   "version": "3.10.17"
  }
 },
 "nbformat": 4,
 "nbformat_minor": 5
}
