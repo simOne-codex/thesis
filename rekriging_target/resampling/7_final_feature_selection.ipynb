{
 "cells": [
  {
   "cell_type": "markdown",
   "id": "501b4c57",
   "metadata": {},
   "source": [
    "The RandomForest RFE rotated with PCA showed both a constant train r2 and an increasing validation r2 until iteration 33 (we don't use accuracy score here since we'll decide discretisation afterwards based on validation). We choose those variables selected in iteration 33"
   ]
  },
  {
   "cell_type": "code",
   "execution_count": 1,
   "id": "cdf57a4f",
   "metadata": {},
   "outputs": [],
   "source": [
    "import pandas as pd"
   ]
  },
  {
   "cell_type": "code",
   "execution_count": 3,
   "id": "8715c9b5",
   "metadata": {},
   "outputs": [],
   "source": [
    "scores = pd.read_csv('/nfs/home/genovese/thesis-wildfire-genovese/rekriging_target/resampling/outputs/rfe_without_alt/regression_rf_rfe_tracking.csv',  index_col=0)"
   ]
  },
  {
   "cell_type": "code",
   "execution_count": 9,
   "id": "69bd5c4b",
   "metadata": {},
   "outputs": [],
   "source": [
    "X_train_val = pd.read_csv('/nfs/home/genovese/thesis-wildfire-genovese/rekriging_target/database/model_input/X_train_val.csv')\n",
    "X_test = pd.read_csv('/nfs/home/genovese/thesis-wildfire-genovese/rekriging_target/database/model_input/X_test.csv')"
   ]
  },
  {
   "cell_type": "code",
   "execution_count": 10,
   "id": "622561da",
   "metadata": {},
   "outputs": [],
   "source": [
    "y_train_val = pd.read_csv('/nfs/home/genovese/thesis-wildfire-genovese/rekriging_target/database/model_input/y_train_val.csv')\n",
    "y_test = pd.read_csv('/nfs/home/genovese/thesis-wildfire-genovese/rekriging_target/database/model_input/y_test.csv')"
   ]
  },
  {
   "cell_type": "code",
   "execution_count": 12,
   "id": "730eb951",
   "metadata": {},
   "outputs": [],
   "source": [
    "final_train = X_train_val.loc[:, scores.index].loc[:, ~scores['iteration_26'].isna()]\n",
    "final_test = X_test.loc[:, scores.index].loc[:, ~scores['iteration_26'].isna()]"
   ]
  },
  {
   "cell_type": "code",
   "execution_count": 14,
   "id": "d6f59ff4",
   "metadata": {},
   "outputs": [],
   "source": [
    "final_train.to_csv('/nfs/home/genovese/thesis-wildfire-genovese/rekriging_target/database/model_input/final_X_train_val.csv')\n",
    "final_test.to_csv('/nfs/home/genovese/thesis-wildfire-genovese/rekriging_target/database/model_input/final_X_test.csv')"
   ]
  },
  {
   "cell_type": "markdown",
   "id": "7f5ced0f",
   "metadata": {},
   "source": [
    "---"
   ]
  }
 ],
 "metadata": {
  "kernelspec": {
   "display_name": ".venv",
   "language": "python",
   "name": "python3"
  },
  "language_info": {
   "codemirror_mode": {
    "name": "ipython",
    "version": 3
   },
   "file_extension": ".py",
   "mimetype": "text/x-python",
   "name": "python",
   "nbconvert_exporter": "python",
   "pygments_lexer": "ipython3",
   "version": "3.10.17"
  }
 },
 "nbformat": 4,
 "nbformat_minor": 5
}
