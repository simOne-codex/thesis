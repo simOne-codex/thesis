{
 "cells": [
  {
   "cell_type": "code",
   "execution_count": null,
   "id": "1725bb13",
   "metadata": {},
   "outputs": [],
   "source": [
    "import sys \n",
    "sys.path.append(rf\"/nfs/home/genovese/thesis-wildfire-genovese/src\")\n",
    "from importlib import reload\n",
    "import utils\n",
    "reload(utils)\n",
    "from utils import *"
   ]
  },
  {
   "cell_type": "markdown",
   "id": "796ef540",
   "metadata": {},
   "source": [
    "---"
   ]
  },
  {
   "cell_type": "markdown",
   "id": "bcd1e4e0",
   "metadata": {},
   "source": [
    "Fine tuning on ordinary spherical kriging..."
   ]
  },
  {
   "cell_type": "markdown",
   "id": "bf8eae49",
   "metadata": {},
   "source": [
    "{'nlags': 8, 'variogram_parameters': {'psill': 1.5, 'range': 1.5, 'nugget': -1}, 'weight': False}"
   ]
  },
  {
   "cell_type": "code",
   "execution_count": null,
   "id": "4cce5209",
   "metadata": {},
   "outputs": [],
   "source": [
    "from pykrige.rk import Krige\n",
    "\n",
    "main_dir = '/nfs/home/genovese/thesis-wildfire-genovese/rekriging_target/'"
   ]
  },
  {
   "cell_type": "code",
   "execution_count": null,
   "id": "6b3fecd3",
   "metadata": {},
   "outputs": [],
   "source": [
    "import datetime\n",
    "\n",
    "def get_month_doy_range(month: int, year: int) -> tuple:\n",
    "    \"\"\"\n",
    "    Given a month and a year, returns the first and last day of the month\n",
    "    as day-of-year (DOY) values.\n",
    "    \"\"\"\n",
    "    # First day of the month\n",
    "    first_day = datetime.date(year, month, 1)\n",
    "    # Handle December separately to avoid month rollover issues\n",
    "    if month == 12:\n",
    "        last_day = datetime.date(year, 12, 31)\n",
    "    else:\n",
    "        # First day of next month minus one day gives the last day of the current month\n",
    "        last_day = datetime.date(year, month + 1, 1) - datetime.timedelta(days=1)\n",
    "\n",
    "    return (first_day.timetuple().tm_yday, last_day.timetuple().tm_yday)"
   ]
  },
  {
   "cell_type": "code",
   "execution_count": null,
   "id": "ed6d8bca",
   "metadata": {},
   "outputs": [],
   "source": [
    "file_dir = '/nfs/home/genovese/thesis-wildfire-genovese/rekriging_target/database/cache/by_season/'\n",
    "\n",
    "fire_id = -1\n",
    "\n",
    "for file in [f for f in os.listdir(file_dir) if 'negative' in f]:\n",
    "    df = pd.read_csv(file_dir+f'{file}', index_col=0)\n",
    "    # print(fire_id)\n",
    "    # print(fire_id-df.shape[0])\n",
    "    # print(list(range(fire_id, fire_id-df.shape[0], -1)))\n",
    "    df['fire_id'] = list(range(fire_id, fire_id-df.shape[0], -1))\n",
    "    df['target'] = [0]*df.shape[0]\n",
    "    fire_id += -df.shape[0]\n",
    "    df.to_csv(f'/nfs/home/genovese/thesis-wildfire-genovese/rekriging_target/database/cache/by_season_target_index_assigned/{file}')\n"
   ]
  },
  {
   "cell_type": "code",
   "execution_count": null,
   "id": "740974ee",
   "metadata": {},
   "outputs": [],
   "source": [
    "for file in [f for f in os.listdir(file_dir) if 'positive' in f]:\n",
    "    df = pd.read_csv(file_dir+f'{file}', index_col=0)\n",
    "    df['target'] = 1\n",
    "    df.to_csv(f'/nfs/home/genovese/thesis-wildfire-genovese/rekriging_target/database/cache/by_season_target_index_assigned/{file}')"
   ]
  },
  {
   "cell_type": "markdown",
   "id": "cd5a712f",
   "metadata": {},
   "source": [
    "In 2017_winter_positive.csv, 2017_spring_positive.csv, 2021_winter_positive.crs I had to manually delete some row that had no point reference"
   ]
  },
  {
   "cell_type": "code",
   "execution_count": null,
   "id": "bc4f41e4",
   "metadata": {},
   "outputs": [],
   "source": [
    "from itertools import product\n",
    "import pickle\n",
    "from shapely import wkt\n",
    "\n",
    "for s, y in tqdm(product(['winter', 'spring', 'summer', 'autumn'], list(range(1997, 2025)))):\n",
    "    p = pd.read_csv(main_dir+f'database/cache/by_season_target_index_assigned/{y}_{s}_positive.csv')\n",
    "    if p.shape[0] == 0:\n",
    "        continue\n",
    "    p['geometry'] = p['geometry'].apply(wkt.loads)\n",
    "    positives = gpd.GeoDataFrame(p, geometry='geometry')\n",
    "    \n",
    "    n = pd.read_csv(main_dir+f'database/cache/by_season_target_index_assigned/{y}_{s}_negative.csv')\n",
    "    if n.shape[0] == 0:\n",
    "        continue\n",
    "\n",
    "    n['geometry'] = n['geometry'].apply(wkt.loads)\n",
    "    negatives = gpd.GeoDataFrame(n, geometry='geometry')\n",
    "\n",
    "    tot = pd.concat([positives, negatives])\n",
    "\n",
    "    # Create Kriging model (scikit-learn wrapper)\n",
    "\n",
    "    kriging_model = Krige(method='ordinary', variogram_model='spherical', variogram_parameters={'psill': 1.5, 'range': 1.5, 'nugget': -1}, nlags=8, weight=False)\n",
    "    kriging_model.fit(np.array(pd.concat([tot.geometry.x, tot.geometry.y], axis=1)), tot.target)\n",
    "    with open(main_dir+f'database/kriged_maps/{y}_{s}.pkl', 'wb') as f:\n",
    "        pickle.dump(kriging_model, f)\n"
   ]
  },
  {
   "cell_type": "markdown",
   "id": "8b5633c8",
   "metadata": {},
   "source": [
    "---"
   ]
  },
  {
   "cell_type": "markdown",
   "id": "93143932",
   "metadata": {},
   "source": [
    "---"
   ]
  }
 ],
 "metadata": {
  "kernelspec": {
   "display_name": ".venv",
   "language": "python",
   "name": "python3"
  },
  "language_info": {
   "codemirror_mode": {
    "name": "ipython",
    "version": 3
   },
   "file_extension": ".py",
   "mimetype": "text/x-python",
   "name": "python",
   "nbconvert_exporter": "python",
   "pygments_lexer": "ipython3",
   "version": "3.10.17"
  }
 },
 "nbformat": 4,
 "nbformat_minor": 5
}
