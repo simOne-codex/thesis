{
 "cells": [
  {
   "cell_type": "code",
   "execution_count": null,
   "id": "3e4fd9a3",
   "metadata": {},
   "outputs": [],
   "source": [
    "import sys \n",
    "sys.path.append(rf\"/nfs/home/genovese/thesis-wildfire-genovese/src\")\n",
    "from importlib import reload\n",
    "import utils\n",
    "reload(utils)\n",
    "from utils import *\n",
    "import weather_forecast_utils\n",
    "reload(weather_forecast_utils)\n",
    "from weather_forecast_utils import *"
   ]
  },
  {
   "cell_type": "code",
   "execution_count": null,
   "id": "5e1c8e7c",
   "metadata": {},
   "outputs": [],
   "source": [
    "main_dir = '/nfs/home/genovese/thesis-wildfire-genovese/rekriging_target/'"
   ]
  },
  {
   "cell_type": "code",
   "execution_count": null,
   "id": "539c1847",
   "metadata": {},
   "outputs": [],
   "source": [
    "data = pd.read_excel('/nfs/home/genovese/thesis-wildfire-genovese/data/raw/INCENDI_T_INCENDIO.xls')"
   ]
  },
  {
   "cell_type": "code",
   "execution_count": null,
   "id": "7934e7ae",
   "metadata": {},
   "outputs": [],
   "source": [
    "df = separate_date(data, 'DATA_INCE')"
   ]
  },
  {
   "cell_type": "code",
   "execution_count": null,
   "id": "ebb8bfd7",
   "metadata": {},
   "outputs": [],
   "source": [
    "from shapely import wkt\n",
    "from shapely.geometry import Point"
   ]
  },
  {
   "cell_type": "code",
   "execution_count": null,
   "id": "b64ca25e",
   "metadata": {},
   "outputs": [],
   "source": [
    "def make_point(row):\n",
    "    return Point(row['WGS84EST'], row['WGS84NORD'])\n",
    "\n",
    "df['geometry'] = df.apply(lambda x: make_point(x), axis=1)\n",
    "# df['geometry'] = df['geometry'].apply(wkt.loads)"
   ]
  },
  {
   "cell_type": "code",
   "execution_count": null,
   "id": "383fd445",
   "metadata": {},
   "outputs": [],
   "source": [
    "positives = gpd.GeoDataFrame(df, crs='EPSG:32632', geometry = 'geometry').to_crs(epsg=3857)"
   ]
  },
  {
   "cell_type": "code",
   "execution_count": null,
   "id": "92e6b091",
   "metadata": {},
   "outputs": [],
   "source": [
    "positives[positives['WGS84NORD'] < 500000]"
   ]
  },
  {
   "cell_type": "code",
   "execution_count": null,
   "id": "d9e93337",
   "metadata": {},
   "outputs": [],
   "source": [
    "positives.drop(index=6044, inplace=True)"
   ]
  },
  {
   "cell_type": "code",
   "execution_count": null,
   "id": "2e6b4c81",
   "metadata": {},
   "outputs": [],
   "source": [
    "positives.plot()"
   ]
  },
  {
   "cell_type": "markdown",
   "id": "c68e9973",
   "metadata": {},
   "source": [
    "---"
   ]
  },
  {
   "cell_type": "code",
   "execution_count": null,
   "id": "1d5d7eb8",
   "metadata": {},
   "outputs": [],
   "source": [
    "positive_grid = positives[['ID_INCENDI', 'YYYY', 'MM', 'geometry']].rename(columns = {'ID_INCENDI': 'fire_id'})"
   ]
  },
  {
   "cell_type": "code",
   "execution_count": null,
   "id": "66ac048e",
   "metadata": {},
   "outputs": [],
   "source": [
    "positive_grid.to_file(main_dir+'database/cache/positive_grid.geojson', driver='GeoJSON', index='fire_id')"
   ]
  },
  {
   "cell_type": "code",
   "execution_count": null,
   "id": "26997273",
   "metadata": {},
   "outputs": [],
   "source": [
    "from shapely.geometry import Point\n",
    "import random\n",
    "import geopandas as gpd\n",
    "from tqdm import tqdm\n",
    "\n",
    "def create_random_point(year, min_month, max_month, fires, polygons, buffer_distance = 1000):\n",
    "    month = random.randint(min_month, max_month)\n",
    "    # total = 365\n",
    "    # if year in list(range(2000, 2025, 4)):\n",
    "    #     total += 1\n",
    "    # day = random.randint(1, total)\n",
    "\n",
    "    if not fires.shape[0] == 0:\n",
    "        buffers = gpd.GeoDataFrame(gpd.GeoDataFrame(fires, geometry='geometry', crs=\"EPSG:3857\").geometry.buffer(buffer_distance), \n",
    "                                   columns=['geometry']).union_all(method='unary')\n",
    "        geometry_check = polygons.union_all(method='unary').difference(buffers)\n",
    "    else:\n",
    "        geometry_check = polygons.union_all(method='unary')\n",
    "    \n",
    "    pminx, pminy, pmaxx, pmaxy = geometry_check.bounds\n",
    "\n",
    "    random_point = Point(random.uniform(pminx, pmaxx), random.uniform(pminy, pmaxy))\n",
    "    while not geometry_check.contains(random_point):\n",
    "        random_point = Point(random.uniform(pminx, pmaxx), random.uniform(pminy, pmaxy))\n",
    "\n",
    "    return gpd.GeoDataFrame({'YYYY': {0:year}, 'MM': {0:month}, 'geometry': {0:random_point}}, crs=\"EPSG:3857\")"
   ]
  },
  {
   "cell_type": "code",
   "execution_count": null,
   "id": "0b8857e2",
   "metadata": {},
   "outputs": [],
   "source": [
    "for y, year_df in positive_grid.groupby('YYYY'):\n",
    "    winter = year_df[year_df.MM.isin([1,2,3])]\n",
    "    spring = year_df[year_df.MM.isin([4,5,6])]\n",
    "    summer = year_df[year_df.MM.isin([7,8,9])]\n",
    "    autumn = year_df[year_df.MM.isin([10,11,12])]\n",
    "    for season, season_df in zip([], [winter, spring, summer, autumn]):\n",
    "        n_points = season_df.shape[0]\n",
    "        negative_grid = gpd.GeoDataFrame()\n",
    "        for _ in tqdm(range(n_points)):\n",
    "            negative_grid = pd.concat([negative_grid, create_random_point(y, \n",
    "                                                                        season_df.MM.unique().min(), \n",
    "                                                                        season_df.MM.unique().max(), \n",
    "                                                                        positive_grid, \n",
    "                                                                        confini)], \n",
    "                                                                        ignore_index=True)\n",
    "\n",
    "        save_clean_data(negative_grid, f'{y}_{season}_negative', main_dir+'database/cache/by_season/')\n",
    "        save_clean_data(season_df, f'{y}_{season}_positive', main_dir+'database/cache/by_season/')\n"
   ]
  }
 ],
 "metadata": {
  "kernelspec": {
   "display_name": ".venv",
   "language": "python",
   "name": "python3"
  },
  "language_info": {
   "codemirror_mode": {
    "name": "ipython",
    "version": 3
   },
   "file_extension": ".py",
   "mimetype": "text/x-python",
   "name": "python",
   "nbconvert_exporter": "python",
   "pygments_lexer": "ipython3",
   "version": "3.10.17"
  }
 },
 "nbformat": 4,
 "nbformat_minor": 5
}
