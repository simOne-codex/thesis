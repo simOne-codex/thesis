{
 "cells": [
  {
   "cell_type": "code",
   "execution_count": 1,
   "id": "90836170",
   "metadata": {},
   "outputs": [],
   "source": [
    "import sys\n",
    "sys.path.append(rf'/nfs/home/genovese/thesis-wildfire-genovese/src/')\n",
    "from importlib import reload\n",
    "import utils\n",
    "reload(utils)\n",
    "from utils import *\n",
    "data_folder = '/nfs/home/genovese/thesis-wildfire-genovese/rekriging_target/'"
   ]
  },
  {
   "cell_type": "code",
   "execution_count": null,
   "id": "a95c9d39",
   "metadata": {},
   "outputs": [],
   "source": [
    "confini = gpd.read_file('/nfs/home/genovese/thesis-wildfire-genovese/data/clean_data/confini_piemonte/confini_piemonte.shp')"
   ]
  },
  {
   "cell_type": "code",
   "execution_count": 2,
   "id": "7f0631ea",
   "metadata": {},
   "outputs": [],
   "source": [
    "meteo = dict()\n",
    "    \n",
    "for a in list(range(1988, 2026)):\n",
    "    meteo[a] = gpd.read_file(f'/nfs/home/genovese/thesis-wildfire-genovese/data/gathering_geojson/monthly_weather_forecast/{a}.geojson')"
   ]
  },
  {
   "cell_type": "markdown",
   "id": "67f6e5ff",
   "metadata": {},
   "source": [
    "---"
   ]
  },
  {
   "cell_type": "code",
   "execution_count": null,
   "id": "786a6af2",
   "metadata": {},
   "outputs": [],
   "source": [
    "from tqdm import tqdm"
   ]
  },
  {
   "cell_type": "code",
   "execution_count": null,
   "id": "51ae73b7",
   "metadata": {},
   "outputs": [],
   "source": [
    "import pickle \n",
    "with open('/nfs/home/genovese/thesis-wildfire-genovese/data/data_loader_for_kriging/data_for_weather_kriging.pkl', 'rb') as f:\n",
    "     loaded_dict = pickle.load(f)"
   ]
  },
  {
   "cell_type": "code",
   "execution_count": null,
   "id": "bb80f498",
   "metadata": {},
   "outputs": [],
   "source": [
    "loaded_dict = dict()\n",
    "\n",
    "month_dic = {m: n+1 for n, m in enumerate(['gennaio', 'febbraio', 'marzo', 'aprile', 'maggio', 'giugno', 'luglio', 'agosto', 'settembre', 'ottobre', 'novembre', 'dicembre'])}\n",
    "\n",
    "for y, gdf in tqdm(meteo.items()):\n",
    "\n",
    "    loaded_dict[y] = {}\n",
    "\n",
    "    aux=gdf.copy()\n",
    "    aux.drop(columns=['id_parametro', 'id_aggregazione', 'Denominazione', 'anno'], inplace=True)\n",
    "    aux.rename(columns={'Quota (m s.l.m.)': 'height'}, inplace=True)\n",
    "    aux.to_crs(epsg=3857, inplace=True)\n",
    "\n",
    "    for param, data in tqdm(aux.groupby('parametro_calcolato')):\n",
    "        new_gdf = pd.melt(\n",
    "                data,\n",
    "                id_vars=['height', 'geometry'],\n",
    "                value_vars = ['gennaio', 'febbraio', 'marzo', 'aprile', 'maggio', 'giugno', 'luglio', 'agosto', 'settembre', 'ottobre', 'novembre', 'dicembre'], \n",
    "                var_name='month',\n",
    "                value_name=param,\n",
    "                ignore_index=True)\n",
    "        new_gdf.loc[: ,'month'] = new_gdf.loc[: ,'month'].map(month_dic)\n",
    "        loaded_dict[y][param] = new_gdf"
   ]
  },
  {
   "cell_type": "code",
   "execution_count": null,
   "id": "84eb23e5",
   "metadata": {},
   "outputs": [],
   "source": [
    "import pickle\n",
    "\n",
    "with open('/nfs/home/genovese/thesis-wildfire-genovese/rekriging_target/database/data_for_weather_kriging.pkl', 'wb') as f:\n",
    "    pickle.dump(loaded_dict, f)"
   ]
  },
  {
   "cell_type": "markdown",
   "id": "537c988e",
   "metadata": {},
   "source": [
    "---"
   ]
  },
  {
   "cell_type": "code",
   "execution_count": 11,
   "id": "8dce3df0",
   "metadata": {},
   "outputs": [
    {
     "name": "stdout",
     "output_type": "stream",
     "text": [
      "Year 2025 has dtypes:  [dtype('float64') dtype('O')]\n"
     ]
    }
   ],
   "source": [
    "for y in meteo.keys():\n",
    "    if meteo[y].loc[:, 'gennaio':'dicembre'].dtypes.unique().shape[0] > 1:\n",
    "        print(f'Year {y} has dtypes: ', meteo[y].loc[:, 'gennaio':'dicembre'].dtypes.unique())\n",
    "    elif (meteo[y].loc[:, 'gennaio':'dicembre'].dtypes.unique().shape[0] == 1) and (meteo[y].loc[:, 'gennaio':'dicembre'].dtypes.unique()[0] != 'float64'):\n",
    "            print(f'Year {y} has unique dtype: ', meteo[y].loc[:, 'gennaio':'dicembre'].dtypes.unique())"
   ]
  },
  {
   "cell_type": "markdown",
   "id": "c7d3bbe5",
   "metadata": {},
   "source": [
    "Only 2025 has object dtype in some variable, but I won't predict on that year"
   ]
  }
 ],
 "metadata": {
  "kernelspec": {
   "display_name": ".venv",
   "language": "python",
   "name": "python3"
  },
  "language_info": {
   "codemirror_mode": {
    "name": "ipython",
    "version": 3
   },
   "file_extension": ".py",
   "mimetype": "text/x-python",
   "name": "python",
   "nbconvert_exporter": "python",
   "pygments_lexer": "ipython3",
   "version": "3.10.17"
  }
 },
 "nbformat": 4,
 "nbformat_minor": 5
}
