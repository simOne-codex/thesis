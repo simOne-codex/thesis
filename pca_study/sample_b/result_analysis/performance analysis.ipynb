{
 "cells": [
  {
   "cell_type": "code",
   "execution_count": 1,
   "id": "dd1ef86e",
   "metadata": {},
   "outputs": [],
   "source": [
    "import pandas as pd\n",
    "from sklearn.metrics import accuracy_score, r2_score\n",
    "from sklearn.ensemble import RandomForestRegressor, RandomForestClassifier\n",
    "import pickle\n",
    "import geopandas as gpd\n",
    "import numpy as np\n",
    "from pykrige.rk import Krige\n",
    "import matplotlib.pyplot as plt"
   ]
  },
  {
   "cell_type": "markdown",
   "id": "37cf90db",
   "metadata": {},
   "source": [
    "---"
   ]
  },
  {
   "cell_type": "code",
   "execution_count": 2,
   "id": "75c656cb",
   "metadata": {},
   "outputs": [
    {
     "name": "stdout",
     "output_type": "stream",
     "text": [
      "(6, 1) \n",
      " mean_test_score    0.548423\n",
      "std_test_score     0.018412\n",
      "dtype: float64 \n",
      "\n",
      "(6, 5) \n",
      " mean_test_score    0.548270\n",
      "std_test_score     0.018491\n",
      "dtype: float64 \n",
      "\n",
      "(6, 10) \n",
      " mean_test_score    0.547189\n",
      "std_test_score     0.018867\n",
      "dtype: float64 \n",
      "\n",
      "(50, 1) \n",
      " mean_test_score    0.703398\n",
      "std_test_score     0.020050\n",
      "dtype: float64 \n",
      "\n",
      "(50, 5) \n",
      " mean_test_score    0.688991\n",
      "std_test_score     0.020761\n",
      "dtype: float64 \n",
      "\n",
      "(50, 10) \n",
      " mean_test_score    0.666000\n",
      "std_test_score     0.020581\n",
      "dtype: float64 \n",
      "\n",
      "(100, 1) \n",
      " mean_test_score    0.703398\n",
      "std_test_score     0.020050\n",
      "dtype: float64 \n",
      "\n",
      "(100, 5) \n",
      " mean_test_score    0.688991\n",
      "std_test_score     0.020761\n",
      "dtype: float64 \n",
      "\n",
      "(100, 10) \n",
      " mean_test_score    0.666000\n",
      "std_test_score     0.020581\n",
      "dtype: float64 \n",
      "\n"
     ]
    }
   ],
   "source": [
    "res  =pd.read_csv('/nfs/home/genovese/thesis-wildfire-genovese/pca_study/outputs/sample_b/regression_fine_tuning.csv', index_col=0)\n",
    "for params, df in res.groupby(['param_max_depth', 'param_min_samples_leaf']):\n",
    "    print(params, '\\n', df[['mean_test_score', 'std_test_score']].mean(), '\\n')"
   ]
  },
  {
   "cell_type": "code",
   "execution_count": 3,
   "id": "e1e94576",
   "metadata": {},
   "outputs": [
    {
     "name": "stderr",
     "output_type": "stream",
     "text": [
      "/nfs/home/genovese/.venv/lib/python3.10/site-packages/sklearn/base.py:1389: DataConversionWarning: A column-vector y was passed when a 1d array was expected. Please change the shape of y to (n_samples,), for example using ravel().\n",
      "  return fit_method(estimator, *args, **kwargs)\n"
     ]
    }
   ],
   "source": [
    "#### THE FINAL CHOICE IS: max_depth': 50, 'min_samples_leaf': 1\n",
    "\n",
    "rs = 516\n",
    "\n",
    "X_train = pd.read_csv('/nfs/home/genovese/thesis-wildfire-genovese/pca_study/database/sample_b/final_X_train_val.csv')\n",
    "y_train = pd.read_csv('/nfs/home/genovese/thesis-wildfire-genovese/pca_study/database/sample_b/y_train_val.csv')\n",
    "\n",
    "regression_forest = RandomForestRegressor(max_depth=50,\n",
    "                                          min_samples_leaf=1,\n",
    "                                          n_jobs=-1, \n",
    "                                          random_state=rs\n",
    "                                          )\n",
    "\n",
    "\n",
    "regression_forest.fit(X_train, y_train)\n",
    "\n",
    "with open('/nfs/home/genovese/thesis-wildfire-genovese/pca_study/database/sample_b/trained_models/final_regression.pkl', 'wb') as f:\n",
    "    pickle.dump(regression_forest, f)"
   ]
  },
  {
   "cell_type": "code",
   "execution_count": 4,
   "id": "a2205b4f",
   "metadata": {},
   "outputs": [],
   "source": [
    "with open('/nfs/home/genovese/thesis-wildfire-genovese/pca_study/database/sample_b/trained_models/final_regression.pkl', 'rb') as f:\n",
    "    model = pickle.load(f)"
   ]
  },
  {
   "cell_type": "code",
   "execution_count": 6,
   "id": "062eba1a",
   "metadata": {},
   "outputs": [
    {
     "name": "stdout",
     "output_type": "stream",
     "text": [
      "0.9391398463774282\n",
      "0.610840108401084\n",
      "0.4665866728985729\n",
      "0.2590546347452425\n"
     ]
    }
   ],
   "source": [
    "y_train_pred = model.predict(X_train).round(0)\n",
    "print(r2_score(y_train_pred, y_train['target']))\n",
    "print(accuracy_score(pd.Series(y_train_pred), pd.Series(y_train['target'])))\n",
    "\n",
    "X_test = pd.read_csv('/nfs/home/genovese/thesis-wildfire-genovese/pca_study/database/sample_b/final_X_test.csv')\n",
    "y_test = pd.read_csv('/nfs/home/genovese/thesis-wildfire-genovese/pca_study/database/sample_b/y_test.csv')\n",
    "\n",
    "y_test_pred = model.predict(X_test).round(0)\n",
    "print(r2_score(y_test_pred, y_test['target']))\n",
    "print(accuracy_score(pd.Series(y_test_pred), pd.Series(y_test['target'])))"
   ]
  },
  {
   "cell_type": "code",
   "execution_count": 7,
   "id": "062eba1a",
   "metadata": {},
   "outputs": [],
   "source": [
    "def predict_dispersion(crosstab):\n",
    "    total = 0\n",
    "    for i, row in enumerate(crosstab.to_numpy()):\n",
    "        for j, val in enumerate(row):\n",
    "            total += val * abs(j - i)\n",
    "    return total/(crosstab.sum().sum())*(crosstab.shape[1])"
   ]
  },
  {
   "cell_type": "code",
   "execution_count": 8,
   "id": "1f0a8f74",
   "metadata": {},
   "outputs": [],
   "source": [
    "train_mat= pd.crosstab(y_train.target, y_train_pred)\n",
    "test_mat = pd.crosstab(y_test.target, y_test_pred)"
   ]
  },
  {
   "cell_type": "code",
   "execution_count": 12,
   "id": "d74f6108",
   "metadata": {},
   "outputs": [
    {
     "name": "stdout",
     "output_type": "stream",
     "text": [
      "4.607479674796748\n",
      "14.430325352977288\n"
     ]
    }
   ],
   "source": [
    "print(predict_dispersion(train_mat))\n",
    "print(predict_dispersion(test_mat))"
   ]
  },
  {
   "cell_type": "markdown",
   "id": "9dcab88b",
   "metadata": {},
   "source": [
    "---"
   ]
  },
  {
   "cell_type": "code",
   "execution_count": 13,
   "id": "18fad0f6",
   "metadata": {},
   "outputs": [
    {
     "name": "stdout",
     "output_type": "stream",
     "text": [
      "(6, 1) \n",
      " mean_test_score    0.303414\n",
      "std_test_score     0.016845\n",
      "dtype: float64 \n",
      "\n",
      "(6, 5) \n",
      " mean_test_score    0.303413\n",
      "std_test_score     0.011998\n",
      "dtype: float64 \n",
      "\n",
      "(6, 10) \n",
      " mean_test_score    0.296910\n",
      "std_test_score     0.016626\n",
      "dtype: float64 \n",
      "\n",
      "(50, 1) \n",
      " mean_test_score    0.451161\n",
      "std_test_score     0.015057\n",
      "dtype: float64 \n",
      "\n",
      "(50, 5) \n",
      " mean_test_score    0.419181\n",
      "std_test_score     0.021972\n",
      "dtype: float64 \n",
      "\n",
      "(50, 10) \n",
      " mean_test_score    0.393710\n",
      "std_test_score     0.017604\n",
      "dtype: float64 \n",
      "\n",
      "(100, 1) \n",
      " mean_test_score    0.451161\n",
      "std_test_score     0.015057\n",
      "dtype: float64 \n",
      "\n",
      "(100, 5) \n",
      " mean_test_score    0.419181\n",
      "std_test_score     0.021972\n",
      "dtype: float64 \n",
      "\n",
      "(100, 10) \n",
      " mean_test_score    0.393710\n",
      "std_test_score     0.017604\n",
      "dtype: float64 \n",
      "\n"
     ]
    }
   ],
   "source": [
    "res  =pd.read_csv('/nfs/home/genovese/thesis-wildfire-genovese/pca_study/outputs/sample_b/classification_fine_tuning.csv', index_col=0)\n",
    "for params, df in res.groupby(['param_max_depth', 'param_min_samples_leaf']):\n",
    "    print(params, '\\n', df[['mean_test_score', 'std_test_score']].mean(), '\\n')"
   ]
  },
  {
   "cell_type": "code",
   "execution_count": 14,
   "id": "fc456814",
   "metadata": {},
   "outputs": [
    {
     "name": "stderr",
     "output_type": "stream",
     "text": [
      "/nfs/home/genovese/.venv/lib/python3.10/site-packages/sklearn/base.py:1389: DataConversionWarning: A column-vector y was passed when a 1d array was expected. Please change the shape of y to (n_samples,), for example using ravel().\n",
      "  return fit_method(estimator, *args, **kwargs)\n"
     ]
    }
   ],
   "source": [
    "#### THE FINAL CHOICE IS: max_depth': 50, 'min_samples_leaf': 1\n",
    "\n",
    "rs = 516\n",
    "\n",
    "X_train = pd.read_csv('/nfs/home/genovese/thesis-wildfire-genovese/pca_study/database/sample_b/final_X_train_val.csv')\n",
    "y_train = pd.read_csv('/nfs/home/genovese/thesis-wildfire-genovese/pca_study/database/sample_b/y_train_val.csv')\n",
    "\n",
    "classification_forest = RandomForestClassifier(max_depth=50,\n",
    "                                          min_samples_leaf=1,\n",
    "                                          n_jobs=-1, \n",
    "                                          random_state=rs\n",
    "                                          )\n",
    "\n",
    "\n",
    "classification_forest.fit(X_train, y_train)\n",
    "\n",
    "with open('/nfs/home/genovese/thesis-wildfire-genovese/pca_study/database/sample_b/trained_models/final_classification.pkl', 'wb') as f:\n",
    "    pickle.dump(classification_forest, f)"
   ]
  },
  {
   "cell_type": "code",
   "execution_count": 15,
   "id": "25d18be4",
   "metadata": {},
   "outputs": [],
   "source": [
    "with open('/nfs/home/genovese/thesis-wildfire-genovese/pca_study/database/sample_b/trained_models/final_classification.pkl', 'rb') as f:\n",
    "    model = pickle.load(f)"
   ]
  },
  {
   "cell_type": "code",
   "execution_count": 16,
   "id": "cec694a4",
   "metadata": {},
   "outputs": [
    {
     "name": "stdout",
     "output_type": "stream",
     "text": [
      "0.9989281618695413\n",
      "0.9959891598915989\n",
      "0.6832560065232645\n",
      "0.46838551258440764\n"
     ]
    }
   ],
   "source": [
    "y_train_pred = model.predict(X_train).round(0)\n",
    "print(r2_score(y_train_pred, y_train['target']))\n",
    "print(accuracy_score(pd.Series(y_train_pred), pd.Series(y_train['target'])))\n",
    "\n",
    "X_test = pd.read_csv('/nfs/home/genovese/thesis-wildfire-genovese/pca_study/database/sample_b/final_X_test.csv')\n",
    "y_test = pd.read_csv('/nfs/home/genovese/thesis-wildfire-genovese/pca_study/database/sample_b/y_test.csv')\n",
    "\n",
    "y_test_pred = model.predict(X_test).round(0)\n",
    "print(r2_score(y_test_pred, y_test['target']))\n",
    "print(accuracy_score(pd.Series(y_test_pred), pd.Series(y_test['target'])))"
   ]
  },
  {
   "cell_type": "code",
   "execution_count": 17,
   "id": "5fb32bf3",
   "metadata": {},
   "outputs": [],
   "source": [
    "train_mat= pd.crosstab(y_train.target, y_train_pred)\n",
    "test_mat = pd.crosstab(y_test.target, y_test_pred)"
   ]
  },
  {
   "cell_type": "code",
   "execution_count": 21,
   "id": "ac44e822",
   "metadata": {},
   "outputs": [
    {
     "name": "stdout",
     "output_type": "stream",
     "text": [
      "0.06319783197831978\n",
      "11.972375690607734\n"
     ]
    }
   ],
   "source": [
    "print(predict_dispersion(train_mat))\n",
    "print(predict_dispersion(test_mat))"
   ]
  },
  {
   "cell_type": "markdown",
   "id": "f59f2537",
   "metadata": {},
   "source": [
    "---"
   ]
  }
 ],
 "metadata": {
  "kernelspec": {
   "display_name": ".venv",
   "language": "python",
   "name": "python3"
  },
  "language_info": {
   "codemirror_mode": {
    "name": "ipython",
    "version": 3
   },
   "file_extension": ".py",
   "mimetype": "text/x-python",
   "name": "python",
   "nbconvert_exporter": "python",
   "pygments_lexer": "ipython3",
   "version": "3.10.17"
  }
 },
 "nbformat": 4,
 "nbformat_minor": 5
}
