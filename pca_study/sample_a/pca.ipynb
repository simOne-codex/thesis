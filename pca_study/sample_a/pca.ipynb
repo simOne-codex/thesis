{
 "cells": [
  {
   "cell_type": "code",
   "execution_count": null,
   "id": "eeffdcce",
   "metadata": {},
   "outputs": [],
   "source": [
    "import sys\n",
    "sys.path.append('/nfs/home/genovese/thesis-wildfire-genovese/pca_study/')\n",
    "import utils\n",
    "from importlib import reload\n",
    "reload(utils)\n",
    "from utils import *"
   ]
  },
  {
   "cell_type": "code",
   "execution_count": null,
   "id": "a75b164b",
   "metadata": {},
   "outputs": [],
   "source": [
    "df = pd.read_csv('/nfs/home/genovese/thesis-wildfire-genovese/pca_study/database/sample_a/complete_df.csv').set_index('fire_id')"
   ]
  },
  {
   "cell_type": "code",
   "execution_count": null,
   "id": "6ad855be",
   "metadata": {},
   "outputs": [],
   "source": [
    "df.loc[:, 'target'] = df.target.round(1)\n",
    "\n",
    "transform = {0.0: 0,\n",
    "0.1: 1,\n",
    "0.2: 2,\n",
    "0.3: 3,\n",
    "0.4: 4,\n",
    "0.5: 5,\n",
    "0.6: 6,\n",
    "0.7: 7,\n",
    "0.8: 8,\n",
    "0.9: 9,\n",
    "1.0: 10}\n",
    "\n",
    "df.loc[:, 'target'] = df.target.map(transform)"
   ]
  },
  {
   "cell_type": "code",
   "execution_count": null,
   "id": "efc0893c",
   "metadata": {},
   "outputs": [],
   "source": [
    "random_state =  684         # the same as done in original sample_a\n",
    "train_test_split_before_pca(df, \n",
    "                            output_folder='/nfs/home/genovese/thesis-wildfire-genovese/pca_study/database/sample_a/', \n",
    "                            random_state=random_state,\n",
    "                            impute=True)"
   ]
  },
  {
   "cell_type": "markdown",
   "id": "d107d331",
   "metadata": {},
   "source": [
    "---"
   ]
  },
  {
   "cell_type": "code",
   "execution_count": null,
   "id": "376ba1f7",
   "metadata": {},
   "outputs": [],
   "source": [
    "X_train_val = pd.read_csv('/nfs/home/genovese/thesis-wildfire-genovese/pca_study/database/sample_a/X_train_val.csv')\n",
    "X_test = pd.read_csv('/nfs/home/genovese/thesis-wildfire-genovese/pca_study/database/sample_a/X_test.csv')"
   ]
  },
  {
   "cell_type": "code",
   "execution_count": null,
   "id": "1a1a7acb",
   "metadata": {},
   "outputs": [],
   "source": [
    "scaler, pca, pca_df = pca_with_results(X_train_val)"
   ]
  },
  {
   "cell_type": "code",
   "execution_count": null,
   "id": "7ee8b9e8",
   "metadata": {},
   "outputs": [],
   "source": [
    "pc_to_select = 25 # as it was for the rfe output\n",
    "selected_df = pca_df.loc[:, [f'PC{n}' for n in range(1, pc_to_select+1, 1)]]\n",
    "print('Explained variance: ', np.sum(pca.explained_variance_ratio_[:26]))"
   ]
  },
  {
   "cell_type": "code",
   "execution_count": null,
   "id": "e8ace9e5",
   "metadata": {},
   "outputs": [],
   "source": [
    "import pickle \n",
    "with open('/nfs/home/genovese/thesis-wildfire-genovese/pca_study/database/sample_a/trained_models/pca.pkl', 'wb') as f:\n",
    "    pickle.dump(pca, f)\n",
    "\n",
    "selected_df.to_csv('/nfs/home/genovese/thesis-wildfire-genovese/pca_study/database/sample_a/final_X_train_val.csv', index=False)\n",
    "\n",
    "transform_test_after_pca_selection(X_test, scaler, pca, pc_to_select, output_folder='/nfs/home/genovese/thesis-wildfire-genovese/pca_study/database/sample_a/')"
   ]
  },
  {
   "cell_type": "markdown",
   "id": "65c0033d",
   "metadata": {},
   "source": [
    "---"
   ]
  }
 ],
 "metadata": {
  "kernelspec": {
   "display_name": ".venv",
   "language": "python",
   "name": "python3"
  },
  "language_info": {
   "codemirror_mode": {
    "name": "ipython",
    "version": 3
   },
   "file_extension": ".py",
   "mimetype": "text/x-python",
   "name": "python",
   "nbconvert_exporter": "python",
   "pygments_lexer": "ipython3",
   "version": "3.10.17"
  }
 },
 "nbformat": 4,
 "nbformat_minor": 5
}
