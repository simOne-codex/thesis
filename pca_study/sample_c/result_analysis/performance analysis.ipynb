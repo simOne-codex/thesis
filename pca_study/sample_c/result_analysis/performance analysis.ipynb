{
 "cells": [
  {
   "cell_type": "code",
   "execution_count": 1,
   "id": "dd1ef86e",
   "metadata": {},
   "outputs": [],
   "source": [
    "import pandas as pd\n",
    "from sklearn.metrics import accuracy_score, r2_score\n",
    "from sklearn.ensemble import RandomForestRegressor, RandomForestClassifier\n",
    "import pickle\n",
    "import geopandas as gpd\n",
    "import numpy as np\n",
    "from pykrige.rk import Krige\n",
    "import matplotlib.pyplot as plt"
   ]
  },
  {
   "cell_type": "markdown",
   "id": "37cf90db",
   "metadata": {},
   "source": [
    "---"
   ]
  },
  {
   "cell_type": "code",
   "execution_count": 2,
   "id": "75c656cb",
   "metadata": {},
   "outputs": [
    {
     "name": "stdout",
     "output_type": "stream",
     "text": [
      "(4, 1) \n",
      " mean_test_score    0.220119\n",
      "std_test_score     0.011448\n",
      "dtype: float64 \n",
      "\n",
      "(4, 5) \n",
      " mean_test_score    0.220064\n",
      "std_test_score     0.011453\n",
      "dtype: float64 \n",
      "\n",
      "(4, 10) \n",
      " mean_test_score    0.220088\n",
      "std_test_score     0.011416\n",
      "dtype: float64 \n",
      "\n",
      "(50, 1) \n",
      " mean_test_score    0.395458\n",
      "std_test_score     0.013026\n",
      "dtype: float64 \n",
      "\n",
      "(50, 5) \n",
      " mean_test_score    0.384570\n",
      "std_test_score     0.014458\n",
      "dtype: float64 \n",
      "\n",
      "(50, 10) \n",
      " mean_test_score    0.368164\n",
      "std_test_score     0.014355\n",
      "dtype: float64 \n",
      "\n",
      "(100, 1) \n",
      " mean_test_score    0.395458\n",
      "std_test_score     0.013026\n",
      "dtype: float64 \n",
      "\n",
      "(100, 5) \n",
      " mean_test_score    0.384570\n",
      "std_test_score     0.014458\n",
      "dtype: float64 \n",
      "\n",
      "(100, 10) \n",
      " mean_test_score    0.368164\n",
      "std_test_score     0.014355\n",
      "dtype: float64 \n",
      "\n"
     ]
    }
   ],
   "source": [
    "res  =pd.read_csv('/nfs/home/genovese/thesis-wildfire-genovese/pca_study/outputs/sample_c/regression_fine_tuning.csv', index_col=0)\n",
    "for params, df in res.groupby(['param_max_depth', 'param_min_samples_leaf']):\n",
    "    print(params, '\\n', df[['mean_test_score', 'std_test_score']].mean(), '\\n')"
   ]
  },
  {
   "cell_type": "code",
   "execution_count": 3,
   "id": "e1e94576",
   "metadata": {},
   "outputs": [
    {
     "name": "stderr",
     "output_type": "stream",
     "text": [
      "/nfs/home/genovese/.venv/lib/python3.10/site-packages/sklearn/base.py:1389: DataConversionWarning: A column-vector y was passed when a 1d array was expected. Please change the shape of y to (n_samples,), for example using ravel().\n",
      "  return fit_method(estimator, *args, **kwargs)\n"
     ]
    }
   ],
   "source": [
    "#### THE FINAL CHOICE IS: max_depth': 50, 'min_samples_leaf': 1\n",
    "\n",
    "rs = 516\n",
    "\n",
    "X_train = pd.read_csv('/nfs/home/genovese/thesis-wildfire-genovese/pca_study/database/sample_c/final_X_train_val.csv')\n",
    "y_train = pd.read_csv('/nfs/home/genovese/thesis-wildfire-genovese/pca_study/database/sample_c/y_train_val.csv')\n",
    "\n",
    "regression_forest = RandomForestRegressor(max_depth=50,\n",
    "                                          min_samples_leaf=1,\n",
    "                                          n_jobs=-1, \n",
    "                                          random_state=rs\n",
    "                                          )\n",
    "\n",
    "\n",
    "regression_forest.fit(X_train, y_train)\n",
    "\n",
    "with open('/nfs/home/genovese/thesis-wildfire-genovese/pca_study/database/sample_c/trained_models/final_regression.pkl', 'wb') as f:\n",
    "    pickle.dump(regression_forest, f)"
   ]
  },
  {
   "cell_type": "code",
   "execution_count": 4,
   "id": "a2205b4f",
   "metadata": {},
   "outputs": [],
   "source": [
    "with open('/nfs/home/genovese/thesis-wildfire-genovese/pca_study/database/sample_c/trained_models/final_regression.pkl', 'rb') as f:\n",
    "    model = pickle.load(f)"
   ]
  },
  {
   "cell_type": "code",
   "execution_count": 5,
   "id": "062eba1a",
   "metadata": {},
   "outputs": [
    {
     "name": "stdout",
     "output_type": "stream",
     "text": [
      "0.8528326176465565\n",
      "0.41379310344827586\n",
      "-0.6920404959768287\n",
      "0.15794871794871795\n"
     ]
    }
   ],
   "source": [
    "y_train_pred = model.predict(X_train).round(0)\n",
    "print(r2_score(y_train_pred, y_train['target']))\n",
    "print(accuracy_score(pd.Series(y_train_pred), pd.Series(y_train['target'])))\n",
    "\n",
    "X_test = pd.read_csv('/nfs/home/genovese/thesis-wildfire-genovese/pca_study/database/sample_c/final_X_test.csv')\n",
    "y_test = pd.read_csv('/nfs/home/genovese/thesis-wildfire-genovese/pca_study/database/sample_c/y_test.csv')\n",
    "\n",
    "y_test_pred = model.predict(X_test).round(0)\n",
    "print(r2_score(y_test_pred, y_test['target']))\n",
    "print(accuracy_score(pd.Series(y_test_pred), pd.Series(y_test['target'])))"
   ]
  },
  {
   "cell_type": "code",
   "execution_count": 6,
   "id": "062eba1a",
   "metadata": {},
   "outputs": [],
   "source": [
    "def predict_dispersion(crosstab):\n",
    "    total = 0\n",
    "    for i, row in enumerate(crosstab.to_numpy()):\n",
    "        for j, val in enumerate(row):\n",
    "            total += val * abs(j - i)\n",
    "    return total/(crosstab.sum().sum())*(crosstab.shape[1])"
   ]
  },
  {
   "cell_type": "code",
   "execution_count": 7,
   "id": "1f0a8f74",
   "metadata": {},
   "outputs": [],
   "source": [
    "train_mat= pd.crosstab(y_train.target, y_train_pred)\n",
    "test_mat = pd.crosstab(y_test.target, y_test_pred)"
   ]
  },
  {
   "cell_type": "code",
   "execution_count": 14,
   "id": "6812ab03",
   "metadata": {},
   "outputs": [],
   "source": [
    "test_mat.loc[:, 10.0] = 0\n",
    "test_mat = test_mat.loc[:, [0,1,2,3,4,5,6,7,8,9,10]]"
   ]
  },
  {
   "cell_type": "code",
   "execution_count": 15,
   "id": "d74f6108",
   "metadata": {},
   "outputs": [
    {
     "name": "stdout",
     "output_type": "stream",
     "text": [
      "7.333333333333333\n",
      "20.375384615384615\n"
     ]
    }
   ],
   "source": [
    "print(predict_dispersion(train_mat))\n",
    "print(predict_dispersion(test_mat))"
   ]
  },
  {
   "cell_type": "markdown",
   "id": "9dcab88b",
   "metadata": {},
   "source": [
    "---"
   ]
  },
  {
   "cell_type": "code",
   "execution_count": 16,
   "id": "18fad0f6",
   "metadata": {},
   "outputs": [
    {
     "name": "stdout",
     "output_type": "stream",
     "text": [
      "(4, 1) \n",
      " mean_test_score    0.164631\n",
      "std_test_score     0.011472\n",
      "dtype: float64 \n",
      "\n",
      "(4, 5) \n",
      " mean_test_score    0.164631\n",
      "std_test_score     0.009515\n",
      "dtype: float64 \n",
      "\n",
      "(4, 10) \n",
      " mean_test_score    0.164631\n",
      "std_test_score     0.010737\n",
      "dtype: float64 \n",
      "\n",
      "(50, 1) \n",
      " mean_test_score    0.248168\n",
      "std_test_score     0.008252\n",
      "dtype: float64 \n",
      "\n",
      "(50, 5) \n",
      " mean_test_score    0.240203\n",
      "std_test_score     0.009241\n",
      "dtype: float64 \n",
      "\n",
      "(50, 10) \n",
      " mean_test_score    0.231606\n",
      "std_test_score     0.010893\n",
      "dtype: float64 \n",
      "\n",
      "(100, 1) \n",
      " mean_test_score    0.248168\n",
      "std_test_score     0.008252\n",
      "dtype: float64 \n",
      "\n",
      "(100, 5) \n",
      " mean_test_score    0.240203\n",
      "std_test_score     0.009241\n",
      "dtype: float64 \n",
      "\n",
      "(100, 10) \n",
      " mean_test_score    0.231606\n",
      "std_test_score     0.010893\n",
      "dtype: float64 \n",
      "\n"
     ]
    }
   ],
   "source": [
    "res  =pd.read_csv('/nfs/home/genovese/thesis-wildfire-genovese/pca_study/outputs/sample_c/classification_fine_tuning.csv', index_col=0)\n",
    "for params, df in res.groupby(['param_max_depth', 'param_min_samples_leaf']):\n",
    "    print(params, '\\n', df[['mean_test_score', 'std_test_score']].mean(), '\\n')"
   ]
  },
  {
   "cell_type": "code",
   "execution_count": 17,
   "id": "fc456814",
   "metadata": {},
   "outputs": [
    {
     "name": "stderr",
     "output_type": "stream",
     "text": [
      "/nfs/home/genovese/.venv/lib/python3.10/site-packages/sklearn/base.py:1389: DataConversionWarning: A column-vector y was passed when a 1d array was expected. Please change the shape of y to (n_samples,), for example using ravel().\n",
      "  return fit_method(estimator, *args, **kwargs)\n"
     ]
    }
   ],
   "source": [
    "#### THE FINAL CHOICE IS: max_depth': 50, 'min_samples_leaf': 1\n",
    "\n",
    "rs = 516\n",
    "\n",
    "X_train = pd.read_csv('/nfs/home/genovese/thesis-wildfire-genovese/pca_study/database/sample_c/final_X_train_val.csv')\n",
    "y_train = pd.read_csv('/nfs/home/genovese/thesis-wildfire-genovese/pca_study/database/sample_c/y_train_val.csv')\n",
    "\n",
    "classification_forest = RandomForestClassifier(max_depth=50,\n",
    "                                          min_samples_leaf=1,\n",
    "                                          n_jobs=-1, \n",
    "                                          random_state=rs\n",
    "                                          )\n",
    "\n",
    "\n",
    "classification_forest.fit(X_train, y_train)\n",
    "\n",
    "with open('/nfs/home/genovese/thesis-wildfire-genovese/pca_study/database/sample_c/trained_models/final_classification.pkl', 'wb') as f:\n",
    "    pickle.dump(classification_forest, f)"
   ]
  },
  {
   "cell_type": "code",
   "execution_count": 18,
   "id": "25d18be4",
   "metadata": {},
   "outputs": [],
   "source": [
    "with open('/nfs/home/genovese/thesis-wildfire-genovese/pca_study/database/sample_c/trained_models/final_classification.pkl', 'rb') as f:\n",
    "    model = pickle.load(f)"
   ]
  },
  {
   "cell_type": "code",
   "execution_count": 19,
   "id": "cec694a4",
   "metadata": {},
   "outputs": [
    {
     "name": "stdout",
     "output_type": "stream",
     "text": [
      "1.0\n",
      "1.0\n",
      "0.1750039918149756\n",
      "0.24461538461538462\n"
     ]
    }
   ],
   "source": [
    "y_train_pred = model.predict(X_train).round(0)\n",
    "print(r2_score(y_train_pred, y_train['target']))\n",
    "print(accuracy_score(pd.Series(y_train_pred), pd.Series(y_train['target'])))\n",
    "\n",
    "X_test = pd.read_csv('/nfs/home/genovese/thesis-wildfire-genovese/pca_study/database/sample_c/final_X_test.csv')\n",
    "y_test = pd.read_csv('/nfs/home/genovese/thesis-wildfire-genovese/pca_study/database/sample_c/y_test.csv')\n",
    "\n",
    "y_test_pred = model.predict(X_test).round(0)\n",
    "print(r2_score(y_test_pred, y_test['target']))\n",
    "print(accuracy_score(pd.Series(y_test_pred), pd.Series(y_test['target'])))"
   ]
  },
  {
   "cell_type": "code",
   "execution_count": 20,
   "id": "5fb32bf3",
   "metadata": {},
   "outputs": [],
   "source": [
    "train_mat= pd.crosstab(y_train.target, y_train_pred)\n",
    "test_mat = pd.crosstab(y_test.target, y_test_pred)"
   ]
  },
  {
   "cell_type": "code",
   "execution_count": 23,
   "id": "ac44e822",
   "metadata": {},
   "outputs": [
    {
     "name": "stdout",
     "output_type": "stream",
     "text": [
      "0.0\n",
      "22.722051282051282\n"
     ]
    }
   ],
   "source": [
    "print(predict_dispersion(train_mat))\n",
    "print(predict_dispersion(test_mat))"
   ]
  },
  {
   "cell_type": "markdown",
   "id": "f59f2537",
   "metadata": {},
   "source": [
    "---"
   ]
  }
 ],
 "metadata": {
  "kernelspec": {
   "display_name": ".venv",
   "language": "python",
   "name": "python3"
  },
  "language_info": {
   "codemirror_mode": {
    "name": "ipython",
    "version": 3
   },
   "file_extension": ".py",
   "mimetype": "text/x-python",
   "name": "python",
   "nbconvert_exporter": "python",
   "pygments_lexer": "ipython3",
   "version": "3.10.17"
  }
 },
 "nbformat": 4,
 "nbformat_minor": 5
}
