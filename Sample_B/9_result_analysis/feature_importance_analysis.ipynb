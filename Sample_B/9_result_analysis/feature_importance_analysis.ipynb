{
 "cells": [
  {
   "cell_type": "code",
   "execution_count": 1,
   "id": "28556803",
   "metadata": {},
   "outputs": [],
   "source": [
    "import pickle\n",
    "import pandas as pd\n",
    "import seaborn as sns\n",
    "import matplotlib.pyplot as plt"
   ]
  },
  {
   "cell_type": "code",
   "execution_count": 2,
   "id": "8c455419",
   "metadata": {},
   "outputs": [],
   "source": [
    "with open('/nfs/home/genovese/thesis-wildfire-genovese/Sample_B/src/trained_models/final_model.pkl', 'rb') as f:\n",
    "    r_model = pickle.load(f)\n",
    "\n",
    "with open('/nfs/home/genovese/thesis-wildfire-genovese/Sample_B/src/trained_models/final_classification_model.pkl', 'rb') as f:\n",
    "    c_model = pickle.load(f)\n",
    "\n",
    "# with open ('/nfs/home/genovese/thesis-wildfire-genovese/resampling/src/trained_models/pca.pkl', 'rb') as f:\n",
    "#     pca = pickle.load(f)\n",
    "    \n",
    "X_train = pd.read_csv('/nfs/home/genovese/thesis-wildfire-genovese/database/model_input_resampled/final_X_train_val.csv').set_index('fire_id', drop=True)\n",
    "# old_features = pd.read_csv('/nfs/home/genovese/thesis-wildfire-genovese/database/model_input_resampled/not_imputed_dataset_rekriged.csv', index_col=0).drop(columns=['fire_id', 'target', 'label']).columns"
   ]
  },
  {
   "cell_type": "code",
   "execution_count": 3,
   "id": "09554b59",
   "metadata": {},
   "outputs": [],
   "source": [
    "rf = pd.Series(r_model.feature_importances_, index=X_train.columns[1:]).sort_values(ascending=True)\n",
    "cf = pd.Series(c_model.feature_importances_, index=X_train.columns[1:]).sort_values(ascending=True)"
   ]
  },
  {
   "cell_type": "code",
   "execution_count": 4,
   "id": "10674e5c",
   "metadata": {},
   "outputs": [
    {
     "data": {
      "text/plain": [
       "Index(['VEGETAZIONE_TIPO_Querceto di rovere a Potentilla alba',\n",
       "       'ortive protette in serra e tunnel accessibili all'uomo',\n",
       "       'Superficie per coltivazioni arboricole da legna', 'vite',\n",
       "       'VEGETAZIONE_TIPO_Pioppeti', 'piante industriali',\n",
       "       'coltivazioni fruttifere', 'coltivazioni legnose agrarie',\n",
       "       'Altra superficie rispetto a quella agricola utilizzata, a legna, a boschi e non utilizzata',\n",
       "       'patata', 'AMB_03', 'totale alveari', 'foraggere avvicendate',\n",
       "       'totale ovini', 'terreni a riposo', 'ECO_01',\n",
       "       'Superficie totale - ettari', 'cereali per la produzione di granella',\n",
       "       'Superficie agricola utilizzata - ettari', 'VEGETAZIONE_TIPO_Robinieto',\n",
       "       'Superficie a boschi', 'TER_03', 'SOC_03', 'AMB_01', 'SOC_04', 'TER_02',\n",
       "       'SOC_02', 'SOC_01', 'AMB_02', 'VEGETAZIONE_CATEGORIA_Castagneti',\n",
       "       '50_64_in altra condizione',\n",
       "       'VEGETAZIONE_ASSETTO_Ceduo composto (Fustaia sopra ceduo / ceduo sotto fustaia)',\n",
       "       'Reddito complessivo da 55000 a 75000 euro - Ammontare in euro',\n",
       "       'Reddito di spettanza dellimprenditore in contabilita semplificata - Ammontare in euro',\n",
       "       'Reddito complessivo da 15000 a 26000 euro - Ammontare in euro',\n",
       "       'VEGETAZIONE_ASSETTO_Fustaia', 'VEGETAZIONE_PRIORITA_Nessuna',\n",
       "       'VEGETAZIONE_ASSETTO_Ceduo semplice con o senza matricine',\n",
       "       'TOTALE_VEGETAZIONE'],\n",
       "      dtype='object')"
      ]
     },
     "execution_count": 4,
     "metadata": {},
     "output_type": "execute_result"
    }
   ],
   "source": [
    "cf.index"
   ]
  },
  {
   "cell_type": "code",
   "execution_count": 5,
   "id": "a2a3bcc2",
   "metadata": {},
   "outputs": [
    {
     "name": "stdout",
     "output_type": "stream",
     "text": [
      "TOTALE_VEGETAZIONE                                                                            0.065031\n",
      "VEGETAZIONE_ASSETTO_Ceduo semplice con o senza matricine                                      0.048990\n",
      "VEGETAZIONE_PRIORITA_Nessuna                                                                  0.046094\n",
      "VEGETAZIONE_ASSETTO_Fustaia                                                                   0.040949\n",
      "Reddito complessivo da 15000 a 26000 euro - Ammontare in euro                                 0.040086\n",
      "Reddito di spettanza dellimprenditore in contabilita semplificata - Ammontare in euro         0.035335\n",
      "Reddito complessivo da 55000 a 75000 euro - Ammontare in euro                                 0.034576\n",
      "VEGETAZIONE_ASSETTO_Ceduo composto (Fustaia sopra ceduo / ceduo sotto fustaia)                0.031040\n",
      "50_64_in altra condizione                                                                     0.030362\n",
      "VEGETAZIONE_CATEGORIA_Castagneti                                                              0.030030\n",
      "AMB_02                                                                                        0.029480\n",
      "SOC_01                                                                                        0.028760\n",
      "SOC_02                                                                                        0.027760\n",
      "TER_02                                                                                        0.027404\n",
      "SOC_04                                                                                        0.027119\n",
      "AMB_01                                                                                        0.026938\n",
      "SOC_03                                                                                        0.026767\n",
      "TER_03                                                                                        0.026719\n",
      "Superficie a boschi                                                                           0.024368\n",
      "VEGETAZIONE_TIPO_Robinieto                                                                    0.023581\n",
      "Superficie agricola utilizzata - ettari                                                       0.021564\n",
      "cereali per la produzione di granella                                                         0.021294\n",
      "Superficie totale - ettari                                                                    0.020584\n",
      "ECO_01                                                                                        0.020567\n",
      "terreni a riposo                                                                              0.019784\n",
      "totale ovini                                                                                  0.019310\n",
      "foraggere avvicendate                                                                         0.018654\n",
      "totale alveari                                                                                0.018427\n",
      "AMB_03                                                                                        0.018370\n",
      "patata                                                                                        0.018327\n",
      "Altra superficie rispetto a quella agricola utilizzata, a legna, a boschi e non utilizzata    0.018258\n",
      "coltivazioni legnose agrarie                                                                  0.017978\n",
      "coltivazioni fruttifere                                                                       0.017331\n",
      "piante industriali                                                                            0.017091\n",
      "VEGETAZIONE_TIPO_Pioppeti                                                                     0.015645\n",
      "vite                                                                                          0.015321\n",
      "Superficie per coltivazioni arboricole da legna                                               0.014443\n",
      "ortive protette in serra e tunnel accessibili all'uomo                                        0.009905\n",
      "VEGETAZIONE_TIPO_Querceto di rovere a Potentilla alba                                         0.005759\n",
      "dtype: float64\n"
     ]
    }
   ],
   "source": [
    "# print(rf, '\\n \\n')\n",
    "print(cf)"
   ]
  },
  {
   "cell_type": "markdown",
   "id": "352f2d3e",
   "metadata": {},
   "source": [
    "---"
   ]
  }
 ],
 "metadata": {
  "kernelspec": {
   "display_name": ".venv",
   "language": "python",
   "name": "python3"
  },
  "language_info": {
   "codemirror_mode": {
    "name": "ipython",
    "version": 3
   },
   "file_extension": ".py",
   "mimetype": "text/x-python",
   "name": "python",
   "nbconvert_exporter": "python",
   "pygments_lexer": "ipython3",
   "version": "3.10.17"
  }
 },
 "nbformat": 4,
 "nbformat_minor": 5
}
