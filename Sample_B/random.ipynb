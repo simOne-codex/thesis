{
 "cells": [
  {
   "cell_type": "code",
   "execution_count": 91,
   "id": "884d65f2",
   "metadata": {},
   "outputs": [],
   "source": [
    "import pandas as pd\n",
    "import geopandas as gpd\n",
    "from shapely import wkt\n",
    "from sklearn.model_selection import train_test_split"
   ]
  },
  {
   "cell_type": "code",
   "execution_count": 89,
   "id": "d1a3de9a",
   "metadata": {},
   "outputs": [],
   "source": [
    "X_train_val = pd.read_csv('/nfs/home/genovese/thesis-wildfire-genovese/database/model_input_resampled/X_train_val.csv').set_index('fire_id')\n",
    "y_train_val = pd.read_csv('/nfs/home/genovese/thesis-wildfire-genovese/database/model_input_resampled/y_train_val.csv').set_index('fire_id')"
   ]
  },
  {
   "cell_type": "code",
   "execution_count": 92,
   "id": "678c6e2e",
   "metadata": {},
   "outputs": [],
   "source": [
    "explanatory = X_train_val\n",
    "target =  y_train_val\n",
    "X_train, X_val, y_train, y_val = train_test_split(explanatory,\n",
    "                                                target,\n",
    "                                                test_size=0.15,\n",
    "                                                shuffle=True,\n",
    "                                                random_state=1,\n",
    "                                                stratify=target)"
   ]
  },
  {
   "cell_type": "markdown",
   "id": "e3d7b139",
   "metadata": {},
   "source": [
    "---"
   ]
  },
  {
   "cell_type": "code",
   "execution_count": 22,
   "id": "79d44bee",
   "metadata": {},
   "outputs": [
    {
     "name": "stderr",
     "output_type": "stream",
     "text": [
      "/tmp/ipykernel_4099218/2703120438.py:1: DtypeWarning: Columns (331) have mixed types. Specify dtype option on import or set low_memory=False.\n",
      "  df = pd.read_csv('/nfs/home/genovese/thesis-wildfire-genovese/database/model_input_resampled/table_data_input.csv')\n"
     ]
    }
   ],
   "source": [
    "df = pd.read_csv('/nfs/home/genovese/thesis-wildfire-genovese/database/model_input_resampled/table_data_input.csv')\n",
    "df.drop(columns=df.columns[0], inplace=True)\n",
    "df.drop_duplicates(inplace=True)"
   ]
  },
  {
   "cell_type": "code",
   "execution_count": 31,
   "id": "7a50398c",
   "metadata": {},
   "outputs": [
    {
     "data": {
      "text/plain": [
       "0        0.0\n",
       "1        0.0\n",
       "2        0.0\n",
       "3        0.0\n",
       "4        0.0\n",
       "        ... \n",
       "10880    0.0\n",
       "10881    0.0\n",
       "10882    0.0\n",
       "10883    0.0\n",
       "10884    0.0\n",
       "Name: VEGETAZIONE_INTERVENTO_Ceduazione a ceduo semplice, Length: 10855, dtype: object"
      ]
     },
     "execution_count": 31,
     "metadata": {},
     "output_type": "execute_result"
    }
   ],
   "source": [
    "df.iloc[:, 330]"
   ]
  },
  {
   "cell_type": "code",
   "execution_count": 38,
   "id": "d761a8a0",
   "metadata": {},
   "outputs": [
    {
     "name": "stderr",
     "output_type": "stream",
     "text": [
      "/tmp/ipykernel_4099218/4216348789.py:1: FutureWarning: Downcasting object dtype arrays on .fillna, .ffill, .bfill is deprecated and will change in a future version. Call result.infer_objects(copy=False) instead. To opt-in to the future behavior, set `pd.set_option('future.no_silent_downcasting', True)`\n",
      "  df[df.iloc[:, 330].str.contains('POINT').fillna(False)]\n"
     ]
    },
    {
     "data": {
      "text/html": [
       "<div>\n",
       "<style scoped>\n",
       "    .dataframe tbody tr th:only-of-type {\n",
       "        vertical-align: middle;\n",
       "    }\n",
       "\n",
       "    .dataframe tbody tr th {\n",
       "        vertical-align: top;\n",
       "    }\n",
       "\n",
       "    .dataframe thead th {\n",
       "        text-align: right;\n",
       "    }\n",
       "</style>\n",
       "<table border=\"1\" class=\"dataframe\">\n",
       "  <thead>\n",
       "    <tr style=\"text-align: right;\">\n",
       "      <th></th>\n",
       "      <th>analfabeti</th>\n",
       "      <th>alfabeti privi di titolo di studio</th>\n",
       "      <th>licenza di scuola elementare</th>\n",
       "      <th>licenza di scuola media inferiore o di avviamento professionale</th>\n",
       "      <th>diploma di istruzione secondaria di II grado o di qualifica professionale (corso di 3-4 anni) compresi IFTS</th>\n",
       "      <th>diploma di tecnico superiore ITS o titolo di studio terziario di primo livello</th>\n",
       "      <th>titolo di studio terziario di secondo livello e dottorato di ricerca</th>\n",
       "      <th>titolo di studio terziario di secondo livello</th>\n",
       "      <th>dottorato di ricerca/diploma accademico di formazione alla ricerca</th>\n",
       "      <th>totale_istruzione</th>\n",
       "      <th>...</th>\n",
       "      <th>durata_calma_12</th>\n",
       "      <th>umedia_12</th>\n",
       "      <th>umin_12</th>\n",
       "      <th>umax_12</th>\n",
       "      <th>rtot_12</th>\n",
       "      <th>hdd_base18_12</th>\n",
       "      <th>hdd_base20_12</th>\n",
       "      <th>cdd_base18_12</th>\n",
       "      <th>YYYY</th>\n",
       "      <th>ignition_point (epsg=3857)</th>\n",
       "    </tr>\n",
       "  </thead>\n",
       "  <tbody>\n",
       "    <tr>\n",
       "      <th>981</th>\n",
       "      <td>0.0</td>\n",
       "      <td>0.0</td>\n",
       "      <td>0.0</td>\n",
       "      <td>0.0</td>\n",
       "      <td>0.0</td>\n",
       "      <td>0.0</td>\n",
       "      <td>0.0</td>\n",
       "      <td>0.0</td>\n",
       "      <td>0.0</td>\n",
       "      <td>0.0</td>\n",
       "      <td>...</td>\n",
       "      <td>NaN</td>\n",
       "      <td>NaN</td>\n",
       "      <td>NaN</td>\n",
       "      <td>NaN</td>\n",
       "      <td>NaN</td>\n",
       "      <td>NaN</td>\n",
       "      <td>NaN</td>\n",
       "      <td>NaN</td>\n",
       "      <td>NaN</td>\n",
       "      <td>NaN</td>\n",
       "    </tr>\n",
       "  </tbody>\n",
       "</table>\n",
       "<p>1 rows × 570 columns</p>\n",
       "</div>"
      ],
      "text/plain": [
       "     analfabeti  alfabeti privi di titolo di studio  \\\n",
       "981         0.0                                 0.0   \n",
       "\n",
       "     licenza di scuola elementare  \\\n",
       "981                           0.0   \n",
       "\n",
       "     licenza di scuola media inferiore o di avviamento professionale  \\\n",
       "981                                                0.0                 \n",
       "\n",
       "     diploma di istruzione secondaria di II grado o di qualifica professionale (corso di 3-4 anni) compresi IFTS  \\\n",
       "981                                                0.0                                                             \n",
       "\n",
       "     diploma di tecnico superiore ITS o titolo di studio terziario di primo livello  \\\n",
       "981                                                0.0                                \n",
       "\n",
       "     titolo di studio terziario di secondo livello e dottorato di ricerca  \\\n",
       "981                                                0.0                      \n",
       "\n",
       "     titolo di studio terziario di secondo livello  \\\n",
       "981                                            0.0   \n",
       "\n",
       "     dottorato di ricerca/diploma accademico di formazione alla ricerca  \\\n",
       "981                                                0.0                    \n",
       "\n",
       "     totale_istruzione  ...  durata_calma_12  umedia_12  umin_12  umax_12  \\\n",
       "981                0.0  ...              NaN        NaN      NaN      NaN   \n",
       "\n",
       "     rtot_12  hdd_base18_12  hdd_base20_12  cdd_base18_12  YYYY  \\\n",
       "981      NaN            NaN            NaN            NaN   NaN   \n",
       "\n",
       "     ignition_point (epsg=3857)  \n",
       "981                         NaN  \n",
       "\n",
       "[1 rows x 570 columns]"
      ]
     },
     "execution_count": 38,
     "metadata": {},
     "output_type": "execute_result"
    }
   ],
   "source": [
    "df[df.iloc[:, 330].str.contains('POINT').fillna(False)]"
   ]
  },
  {
   "cell_type": "code",
   "execution_count": 42,
   "id": "f100a08f",
   "metadata": {},
   "outputs": [],
   "source": [
    "df.loc[981, 'ignition_point (epsg=3857)'] = df.loc[981, :].iloc[330]"
   ]
  },
  {
   "cell_type": "code",
   "execution_count": 44,
   "id": "7a910962",
   "metadata": {},
   "outputs": [],
   "source": [
    "df.loc[981, df.columns[330]] = 0.0"
   ]
  },
  {
   "cell_type": "code",
   "execution_count": 46,
   "id": "7c588bb9",
   "metadata": {},
   "outputs": [],
   "source": [
    "df.loc[:, df.columns[330]] = df.loc[:, df.columns[330]].astype('float64')"
   ]
  },
  {
   "cell_type": "code",
   "execution_count": 48,
   "id": "37eb41e6",
   "metadata": {},
   "outputs": [],
   "source": [
    "df.to_csv('/nfs/home/genovese/thesis-wildfire-genovese/database/model_input_resampled/table_data_input.csv', index=False)"
   ]
  },
  {
   "cell_type": "markdown",
   "id": "fb62c534",
   "metadata": {},
   "source": [
    "---"
   ]
  },
  {
   "cell_type": "code",
   "execution_count": 50,
   "id": "8b011554",
   "metadata": {},
   "outputs": [],
   "source": [
    "df = pd.read_csv('/nfs/home/genovese/thesis-wildfire-genovese/database/model_input_resampled/table_data_input.csv')\n",
    "gdf = gpd.read_file('/nfs/home/genovese/thesis-wildfire-genovese/database/cache_resampled/dataset.geojson')"
   ]
  },
  {
   "cell_type": "code",
   "execution_count": 65,
   "id": "69fe1965",
   "metadata": {},
   "outputs": [],
   "source": [
    "df['ignition_point (epsg=3857)'] = df['ignition_point (epsg=3857)'].apply(wkt.loads)"
   ]
  },
  {
   "cell_type": "code",
   "execution_count": 72,
   "id": "5e6defd2",
   "metadata": {},
   "outputs": [
    {
     "name": "stdout",
     "output_type": "stream",
     "text": [
      "POINT (887672.0754000134 5659250.455444928)\n",
      "POINT (841872.0754000134 5532450.455444928)\n"
     ]
    }
   ],
   "source": [
    "print(df.iloc[0, -1])\n",
    "print(gdf.iloc[0, -1])"
   ]
  },
  {
   "cell_type": "code",
   "execution_count": 82,
   "id": "3684240d",
   "metadata": {},
   "outputs": [],
   "source": [
    "gdf.YYYY = gdf.YYYY.astype('float64')"
   ]
  },
  {
   "cell_type": "code",
   "execution_count": 84,
   "id": "7359682d",
   "metadata": {},
   "outputs": [],
   "source": [
    "merged = pd.merge(gdf, df.rename(columns={'ignition_point (epsg=3857)': 'geometry'}), on=['geometry', 'YYYY'], how='inner')"
   ]
  },
  {
   "cell_type": "code",
   "execution_count": 85,
   "id": "b76e453d",
   "metadata": {},
   "outputs": [],
   "source": [
    "merged.set_index('fire_id', inplace=True)"
   ]
  },
  {
   "cell_type": "code",
   "execution_count": 87,
   "id": "302704d8",
   "metadata": {},
   "outputs": [],
   "source": [
    "merged.to_csv('/nfs/home/genovese/thesis-wildfire-genovese/database/model_input_resampled/table_data_input_with_target.csv')"
   ]
  },
  {
   "cell_type": "markdown",
   "id": "f74d17d7",
   "metadata": {},
   "source": [
    "---"
   ]
  }
 ],
 "metadata": {
  "kernelspec": {
   "display_name": ".venv",
   "language": "python",
   "name": "python3"
  },
  "language_info": {
   "codemirror_mode": {
    "name": "ipython",
    "version": 3
   },
   "file_extension": ".py",
   "mimetype": "text/x-python",
   "name": "python",
   "nbconvert_exporter": "python",
   "pygments_lexer": "ipython3",
   "version": "3.10.17"
  }
 },
 "nbformat": 4,
 "nbformat_minor": 5
}
