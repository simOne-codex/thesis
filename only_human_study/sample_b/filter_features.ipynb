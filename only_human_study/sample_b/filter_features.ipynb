{
 "cells": [
  {
   "cell_type": "code",
   "execution_count": null,
   "id": "eeffdcce",
   "metadata": {},
   "outputs": [],
   "source": [
    "import sys\n",
    "sys.path.append('/nfs/home/genovese/thesis-wildfire-genovese/only_human_study/')\n",
    "import utils\n",
    "from importlib import reload\n",
    "reload(utils)\n",
    "from utils import *"
   ]
  },
  {
   "cell_type": "code",
   "execution_count": 3,
   "id": "a75b164b",
   "metadata": {},
   "outputs": [],
   "source": [
    "df = pd.read_csv('/nfs/home/genovese/thesis-wildfire-genovese/only_human_study/database/sample_b/complete_df.csv').set_index('fire_id')"
   ]
  },
  {
   "cell_type": "code",
   "execution_count": 5,
   "id": "6ad855be",
   "metadata": {},
   "outputs": [],
   "source": [
    "df.loc[:, 'target'] = df.target.round(1)\n",
    "\n",
    "transform = {0.0: 0,\n",
    "0.1: 1,\n",
    "0.2: 2,\n",
    "0.3: 3,\n",
    "0.4: 4,\n",
    "0.5: 5,\n",
    "0.6: 6,\n",
    "0.7: 7,\n",
    "0.8: 8,\n",
    "0.9: 9,\n",
    "1.0: 10}\n",
    "\n",
    "df.loc[:, 'target'] = df.target.map(transform)"
   ]
  },
  {
   "cell_type": "code",
   "execution_count": 6,
   "id": "0e8f4c83",
   "metadata": {},
   "outputs": [],
   "source": [
    "df = df.loc[:, [c for c in df.columns if 'VEGETAZIONE' not in c]]\n",
    "df = df.loc[:, [c for c in df.columns if 'ALTIMETRIA' not in c]]\n",
    "df = df.loc[:, [c for c in df.columns if c not in [\n",
    "    'tmedia','tmax','tmin','ptot','vmedia','vraffica','settore_prevalente','tempo_permanenza',\n",
    "    'durata_calma','umedia','umin','umax','rtot', 'hdd_base18','hdd_base20','cdd_base18', 'IFC (decile)', 'IFC (valore)', 'day_count', 'YYYY']]]"
   ]
  },
  {
   "cell_type": "code",
   "execution_count": 8,
   "id": "efc0893c",
   "metadata": {},
   "outputs": [],
   "source": [
    "random_state =  684         # the same as done in original sample_b\n",
    "train_test_split_before_rfe(df, \n",
    "                            output_folder='/nfs/home/genovese/thesis-wildfire-genovese/only_human_study/database/sample_b/', \n",
    "                            random_state=random_state,\n",
    "                            impute=True)"
   ]
  },
  {
   "cell_type": "markdown",
   "id": "d107d331",
   "metadata": {},
   "source": [
    "---"
   ]
  },
  {
   "cell_type": "code",
   "execution_count": 9,
   "id": "376ba1f7",
   "metadata": {},
   "outputs": [],
   "source": [
    "X_train_val = pd.read_csv('/nfs/home/genovese/thesis-wildfire-genovese/only_human_study/database/sample_b/X_train_val.csv')\n",
    "X_test = pd.read_csv('/nfs/home/genovese/thesis-wildfire-genovese/only_human_study/database/sample_b/X_test.csv')\n",
    "y_train_val = pd.read_csv('/nfs/home/genovese/thesis-wildfire-genovese/only_human_study/database/sample_b/y_train_val.csv')\n",
    "y_test = pd.read_csv('/nfs/home/genovese/thesis-wildfire-genovese/only_human_study/database/sample_b/y_test.csv')"
   ]
  }
 ],
 "metadata": {
  "kernelspec": {
   "display_name": ".venv",
   "language": "python",
   "name": "python3"
  },
  "language_info": {
   "codemirror_mode": {
    "name": "ipython",
    "version": 3
   },
   "file_extension": ".py",
   "mimetype": "text/x-python",
   "name": "python",
   "nbconvert_exporter": "python",
   "pygments_lexer": "ipython3",
   "version": "3.10.17"
  }
 },
 "nbformat": 4,
 "nbformat_minor": 5
}
