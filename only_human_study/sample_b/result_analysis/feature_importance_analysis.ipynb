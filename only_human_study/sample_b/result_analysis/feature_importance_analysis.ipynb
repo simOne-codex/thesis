{
 "cells": [
  {
   "cell_type": "code",
   "execution_count": 1,
   "id": "28556803",
   "metadata": {},
   "outputs": [],
   "source": [
    "import pickle\n",
    "import pandas as pd\n",
    "import seaborn as sns\n",
    "import matplotlib.pyplot as plt"
   ]
  },
  {
   "cell_type": "code",
   "execution_count": 2,
   "id": "8c455419",
   "metadata": {},
   "outputs": [],
   "source": [
    "with open('/nfs/home/genovese/thesis-wildfire-genovese/only_human_study/database/sample_b/trained_models/all_final_model.pkl', 'rb') as f:\n",
    "    r_model = pickle.load(f)\n",
    "\n",
    "with open('/nfs/home/genovese/thesis-wildfire-genovese/only_human_study/database/sample_b/trained_models/all_final_classification_model.pkl', 'rb') as f:\n",
    "    c_model = pickle.load(f)\n",
    "\n",
    "    \n",
    "X_train = pd.read_csv('/nfs/home/genovese/thesis-wildfire-genovese/only_human_study/database/sample_b/X_train_val.csv')"
   ]
  },
  {
   "cell_type": "code",
   "execution_count": 3,
   "id": "09554b59",
   "metadata": {},
   "outputs": [],
   "source": [
    "rf = pd.DataFrame(index=X_train.columns)\n",
    "cf = pd.DataFrame(index=X_train.columns)\n",
    "\n",
    "for k, c in zip(list(r_model.keys()), list(c_model.keys())):\n",
    "    rf = pd.concat([rf, pd.Series(r_model[k].feature_importances_, index=X_train.columns, name=k)], axis=1)\n",
    "    cf = pd.concat([cf, pd.Series(c_model[c].feature_importances_, index=X_train.columns, name=c)], axis=1)"
   ]
  },
  {
   "cell_type": "code",
   "execution_count": 4,
   "id": "17418e07",
   "metadata": {},
   "outputs": [
    {
     "data": {
      "text/plain": [
       "Superficie agricola utilizzata - ettari    0.224958\n",
       "TER_02                                     0.093974\n",
       "Superficie a boschi                        0.080700\n",
       "piante industriali                         0.076467\n",
       "terreni a riposo                           0.045756\n",
       "                                             ...   \n",
       "GP_RTP_1                                   0.000240\n",
       "50_64_totale_istruzione                    0.000234\n",
       "50_64_totale_occupazione                   0.000155\n",
       "Grado di urbanizzazione                    0.000130\n",
       "Superficie a funghi                        0.000015\n",
       "Length: 183, dtype: float64"
      ]
     },
     "execution_count": 4,
     "metadata": {},
     "output_type": "execute_result"
    }
   ],
   "source": [
    "rf.mean(axis=1).sort_values(ascending=False)"
   ]
  },
  {
   "cell_type": "code",
   "execution_count": 5,
   "id": "28c2ca36",
   "metadata": {},
   "outputs": [
    {
     "data": {
      "text/plain": [
       "Index(['Superficie agricola utilizzata - ettari',\n",
       "       'cereali per la produzione di granella', 'Superficie a boschi',\n",
       "       'seminativi', 'Superficie totale - ettari', 'terreni a riposo',\n",
       "       'piante industriali', 'TER_02', 'TER_03',\n",
       "       'Altra superficie rispetto a quella agricola utilizzata, a legna, a boschi e non utilizzata',\n",
       "       ...\n",
       "       '50_64_studente/ssa', '65_in cerca di occupazione', 'GP_RTP_2',\n",
       "       'Grado di urbanizzazione',\n",
       "       'Reddito complessivo minore o uguale a zero euro - Frequenza',\n",
       "       'Reddito complessivo minore o uguale a zero euro - Ammontare in euro',\n",
       "       'agrumi', 'Classe amp', 'GP_RTP_1', 'Superficie a funghi'],\n",
       "      dtype='object', length=183)"
      ]
     },
     "execution_count": 5,
     "metadata": {},
     "output_type": "execute_result"
    }
   ],
   "source": [
    "cf.mean(axis=1).sort_values(ascending=False).index"
   ]
  },
  {
   "cell_type": "markdown",
   "id": "8e5fbd5a",
   "metadata": {},
   "source": [
    "---"
   ]
  }
 ],
 "metadata": {
  "kernelspec": {
   "display_name": ".venv",
   "language": "python",
   "name": "python3"
  },
  "language_info": {
   "codemirror_mode": {
    "name": "ipython",
    "version": 3
   },
   "file_extension": ".py",
   "mimetype": "text/x-python",
   "name": "python",
   "nbconvert_exporter": "python",
   "pygments_lexer": "ipython3",
   "version": "3.10.17"
  }
 },
 "nbformat": 4,
 "nbformat_minor": 5
}
