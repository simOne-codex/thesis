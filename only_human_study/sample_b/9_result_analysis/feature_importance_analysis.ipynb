{
 "cells": [
  {
   "cell_type": "code",
   "execution_count": 1,
   "id": "28556803",
   "metadata": {},
   "outputs": [],
   "source": [
    "import pickle\n",
    "import pandas as pd\n",
    "import seaborn as sns\n",
    "import matplotlib.pyplot as plt"
   ]
  },
  {
   "cell_type": "code",
   "execution_count": 2,
   "id": "8c455419",
   "metadata": {},
   "outputs": [],
   "source": [
    "with open('/nfs/home/genovese/thesis-wildfire-genovese/only_human_study/database/sample_b/trained_models/final_model.pkl', 'rb') as f:\n",
    "    r_model = pickle.load(f)\n",
    "\n",
    "with open('/nfs/home/genovese/thesis-wildfire-genovese/only_human_study/database/sample_b/trained_models/final_classification_model.pkl', 'rb') as f:\n",
    "    c_model = pickle.load(f)\n",
    "\n",
    "    \n",
    "X_train = pd.read_csv('/nfs/home/genovese/thesis-wildfire-genovese/only_human_study/database/sample_b/final_X_train_val.csv')"
   ]
  },
  {
   "cell_type": "code",
   "execution_count": 3,
   "id": "09554b59",
   "metadata": {},
   "outputs": [],
   "source": [
    "rf = pd.DataFrame(index=X_train.columns)\n",
    "cf = pd.DataFrame(index=X_train.columns)\n",
    "\n",
    "for k, c in zip(list(r_model.keys()), list(c_model.keys())):\n",
    "    rf = pd.concat([rf, pd.Series(r_model[k].feature_importances_, index=X_train.columns, name=k)], axis=1)\n",
    "    cf = pd.concat([cf, pd.Series(c_model[c].feature_importances_, index=X_train.columns, name=c)], axis=1)"
   ]
  },
  {
   "cell_type": "code",
   "execution_count": 4,
   "id": "17418e07",
   "metadata": {},
   "outputs": [
    {
     "data": {
      "text/plain": [
       "Superficie agricola utilizzata - ettari                          0.235963\n",
       "TER_02                                                           0.117254\n",
       "Superficie a boschi                                              0.103255\n",
       "piante industriali                                               0.092123\n",
       "terreni a riposo                                                 0.066038\n",
       "AMB_02                                                           0.043035\n",
       "Reddito complessivo da 15000 a 26000 euro - Ammontare in euro    0.036475\n",
       "totale ovini                                                     0.035404\n",
       "TER_03                                                           0.034742\n",
       "cereali per la produzione di granella                            0.034206\n",
       "prati permanenti e pascoli                                       0.027782\n",
       "Superficie totale - ettari                                       0.022272\n",
       "seminativi                                                       0.019451\n",
       "Reddito da partecipazione - Ammontare in euro                    0.019355\n",
       "TOTALE_STRADE                                                    0.016566\n",
       "Addizionale comunale dovuta - Frequenza                          0.016225\n",
       "Reddito da fabbricati - Ammontare in euro                        0.013622\n",
       "casalinga/o                                                      0.013282\n",
       "Addizionale comunale dovuta - Ammontare in euro                  0.012905\n",
       "Reddito da pensione - Frequenza                                  0.008938\n",
       "Reddito da pensione - Ammontare in euro                          0.008481\n",
       "Reddito imponibile - Frequenza                                   0.007567\n",
       "Reddito da fabbricati - Frequenza                                0.007563\n",
       "Imposta netta - Ammontare in euro                                0.007496\n",
       "dtype: float64"
      ]
     },
     "execution_count": 4,
     "metadata": {},
     "output_type": "execute_result"
    }
   ],
   "source": [
    "rf.mean(axis=1).sort_values(ascending=False)"
   ]
  },
  {
   "cell_type": "code",
   "execution_count": 5,
   "id": "28c2ca36",
   "metadata": {},
   "outputs": [
    {
     "data": {
      "text/plain": [
       "Index(['Superficie a boschi', 'cereali per la produzione di granella',\n",
       "       'Superficie agricola utilizzata - ettari', 'TER_02', 'seminativi',\n",
       "       'TER_03', 'terreni a riposo', 'Superficie totale - ettari', 'AMB_02',\n",
       "       'piante industriali', 'prati permanenti e pascoli', 'totale ovini',\n",
       "       'Reddito da fabbricati - Ammontare in euro',\n",
       "       'Reddito da fabbricati - Frequenza',\n",
       "       'Reddito complessivo da 15000 a 26000 euro - Ammontare in euro',\n",
       "       'Reddito da pensione - Frequenza',\n",
       "       'Addizionale comunale dovuta - Frequenza',\n",
       "       'Reddito imponibile - Frequenza',\n",
       "       'Addizionale comunale dovuta - Ammontare in euro',\n",
       "       'Imposta netta - Ammontare in euro',\n",
       "       'Reddito da partecipazione - Ammontare in euro',\n",
       "       'Reddito da pensione - Ammontare in euro', 'casalinga/o',\n",
       "       'TOTALE_STRADE'],\n",
       "      dtype='object')"
      ]
     },
     "execution_count": 5,
     "metadata": {},
     "output_type": "execute_result"
    }
   ],
   "source": [
    "cf.mean(axis=1).sort_values(ascending=False).index"
   ]
  },
  {
   "cell_type": "markdown",
   "id": "8e5fbd5a",
   "metadata": {},
   "source": [
    "---"
   ]
  }
 ],
 "metadata": {
  "kernelspec": {
   "display_name": ".venv",
   "language": "python",
   "name": "python3"
  },
  "language_info": {
   "codemirror_mode": {
    "name": "ipython",
    "version": 3
   },
   "file_extension": ".py",
   "mimetype": "text/x-python",
   "name": "python",
   "nbconvert_exporter": "python",
   "pygments_lexer": "ipython3",
   "version": "3.10.17"
  }
 },
 "nbformat": 4,
 "nbformat_minor": 5
}
