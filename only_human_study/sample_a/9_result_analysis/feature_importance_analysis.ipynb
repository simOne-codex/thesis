{
 "cells": [
  {
   "cell_type": "code",
   "execution_count": 1,
   "id": "28556803",
   "metadata": {},
   "outputs": [],
   "source": [
    "import pickle\n",
    "import pandas as pd\n",
    "import seaborn as sns\n",
    "import matplotlib.pyplot as plt"
   ]
  },
  {
   "cell_type": "code",
   "execution_count": 2,
   "id": "8c455419",
   "metadata": {},
   "outputs": [],
   "source": [
    "with open('/nfs/home/genovese/thesis-wildfire-genovese/only_human_study/database/sample_a/trained_models/final_model.pkl', 'rb') as f:\n",
    "    r_model = pickle.load(f)\n",
    "\n",
    "with open('/nfs/home/genovese/thesis-wildfire-genovese/only_human_study/database/sample_a/trained_models/final_classification_model.pkl', 'rb') as f:\n",
    "    c_model = pickle.load(f)\n",
    "\n",
    "    \n",
    "X_train = pd.read_csv('/nfs/home/genovese/thesis-wildfire-genovese/only_human_study/database/sample_a/final_X_train_val.csv')"
   ]
  },
  {
   "cell_type": "code",
   "execution_count": 3,
   "id": "09554b59",
   "metadata": {},
   "outputs": [],
   "source": [
    "rf = pd.DataFrame(index=X_train.columns)\n",
    "cf = pd.DataFrame(index=X_train.columns)\n",
    "\n",
    "for k, c in zip(list(r_model.keys()), list(c_model.keys())):\n",
    "    rf = pd.concat([rf, pd.Series(r_model[k].feature_importances_, index=X_train.columns, name=k)], axis=1)\n",
    "    cf = pd.concat([cf, pd.Series(c_model[c].feature_importances_, index=X_train.columns, name=c)], axis=1)"
   ]
  },
  {
   "cell_type": "code",
   "execution_count": 4,
   "id": "17418e07",
   "metadata": {},
   "outputs": [
    {
     "data": {
      "text/plain": [
       "Superficie agricola utilizzata - ettari                          0.201692\n",
       "Superficie a boschi                                              0.096043\n",
       "AMB_02                                                           0.073520\n",
       "TER_02                                                           0.071070\n",
       "TOTALE_STRADE                                                    0.064900\n",
       "totale ovini                                                     0.062772\n",
       "50_64_in altra condizione                                        0.060635\n",
       "cereali per la produzione di granella                            0.057659\n",
       "terreni a riposo                                                 0.056552\n",
       "Bonus spettante - Ammontare in euro                              0.054987\n",
       "coltivazioni fruttifere                                          0.053026\n",
       "Reddito complessivo da 15000 a 26000 euro - Ammontare in euro    0.051714\n",
       "AMB_01                                                           0.048676\n",
       "Addizionale comunale dovuta - Ammontare in euro                  0.046753\n",
       "dtype: float64"
      ]
     },
     "execution_count": 4,
     "metadata": {},
     "output_type": "execute_result"
    }
   ],
   "source": [
    "rf.mean(axis=1).sort_values(ascending=False)"
   ]
  },
  {
   "cell_type": "code",
   "execution_count": 5,
   "id": "28c2ca36",
   "metadata": {},
   "outputs": [
    {
     "data": {
      "text/plain": [
       "Index(['cereali per la produzione di granella',\n",
       "       'Superficie agricola utilizzata - ettari', 'Superficie a boschi',\n",
       "       'terreni a riposo', 'TER_02',\n",
       "       'Reddito complessivo da 15000 a 26000 euro - Ammontare in euro',\n",
       "       'AMB_02', 'Addizionale comunale dovuta - Ammontare in euro',\n",
       "       'totale ovini', 'coltivazioni fruttifere',\n",
       "       'Bonus spettante - Ammontare in euro', 'AMB_01', 'TOTALE_STRADE',\n",
       "       '50_64_in altra condizione'],\n",
       "      dtype='object')"
      ]
     },
     "execution_count": 5,
     "metadata": {},
     "output_type": "execute_result"
    }
   ],
   "source": [
    "cf.mean(axis=1).sort_values(ascending=False).index"
   ]
  },
  {
   "cell_type": "markdown",
   "id": "8e5fbd5a",
   "metadata": {},
   "source": [
    "---"
   ]
  }
 ],
 "metadata": {
  "kernelspec": {
   "display_name": ".venv",
   "language": "python",
   "name": "python3"
  },
  "language_info": {
   "codemirror_mode": {
    "name": "ipython",
    "version": 3
   },
   "file_extension": ".py",
   "mimetype": "text/x-python",
   "name": "python",
   "nbconvert_exporter": "python",
   "pygments_lexer": "ipython3",
   "version": "3.10.17"
  }
 },
 "nbformat": 4,
 "nbformat_minor": 5
}
