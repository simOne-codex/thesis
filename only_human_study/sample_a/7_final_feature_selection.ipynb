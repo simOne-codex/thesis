{
 "cells": [
  {
   "cell_type": "code",
   "execution_count": null,
   "id": "cdf57a4f",
   "metadata": {},
   "outputs": [],
   "source": [
    "import sys\n",
    "sys.path.append('/nfs/home/genovese/thesis-wildfire-genovese/only_human_study/')\n",
    "import utils\n",
    "from importlib import reload\n",
    "reload(utils)\n",
    "from utils import *"
   ]
  },
  {
   "cell_type": "code",
   "execution_count": null,
   "id": "8715c9b5",
   "metadata": {},
   "outputs": [],
   "source": [
    "scores = pd.read_csv('/nfs/home/genovese/thesis-wildfire-genovese/only_human_study/outputs/sample_a/regression_rf_rfe_tracking.csv',  index_col=0)"
   ]
  },
  {
   "cell_type": "code",
   "execution_count": null,
   "id": "69bd5c4b",
   "metadata": {},
   "outputs": [],
   "source": [
    "X_train_val = pd.read_csv('/nfs/home/genovese/thesis-wildfire-genovese/only_human_study/database/sample_a/X_train_val.csv')\n",
    "X_test = pd.read_csv('/nfs/home/genovese/thesis-wildfire-genovese/only_human_study/database/sample_a/X_test.csv')\n",
    "y_train_val = pd.read_csv('/nfs/home/genovese/thesis-wildfire-genovese/only_human_study/database/sample_a/y_train_val.csv')\n",
    "y_test = pd.read_csv('/nfs/home/genovese/thesis-wildfire-genovese/only_human_study/database/sample_a/y_test.csv')"
   ]
  },
  {
   "cell_type": "code",
   "execution_count": 7,
   "id": "730eb951",
   "metadata": {},
   "outputs": [],
   "source": [
    "final_train = X_train_val.loc[:, scores.index].loc[:, ~scores['iteration_26'].isna()]\n",
    "final_test = X_test.loc[:, scores.index].loc[:, ~scores['iteration_26'].isna()]"
   ]
  },
  {
   "cell_type": "code",
   "execution_count": null,
   "id": "d6f59ff4",
   "metadata": {},
   "outputs": [],
   "source": [
    "final_train.to_csv('/nfs/home/genovese/thesis-wildfire-genovese/only_human_study/database/sample_a/final_X_train_val.csv', index=False)\n",
    "final_test.to_csv('/nfs/home/genovese/thesis-wildfire-genovese/only_human_study/database/sample_a/final_X_test.csv', index=False)"
   ]
  },
  {
   "cell_type": "markdown",
   "id": "7f5ced0f",
   "metadata": {},
   "source": [
    "---"
   ]
  }
 ],
 "metadata": {
  "kernelspec": {
   "display_name": ".venv",
   "language": "python",
   "name": "python3"
  },
  "language_info": {
   "codemirror_mode": {
    "name": "ipython",
    "version": 3
   },
   "file_extension": ".py",
   "mimetype": "text/x-python",
   "name": "python",
   "nbconvert_exporter": "python",
   "pygments_lexer": "ipython3",
   "version": "3.10.17"
  }
 },
 "nbformat": 4,
 "nbformat_minor": 5
}
