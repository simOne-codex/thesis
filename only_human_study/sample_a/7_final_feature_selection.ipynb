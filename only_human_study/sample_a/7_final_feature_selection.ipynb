{
 "cells": [
  {
   "cell_type": "code",
   "execution_count": null,
   "id": "cdf57a4f",
   "metadata": {},
   "outputs": [],
   "source": [
    "import sys\n",
    "sys.path.append('/nfs/home/genovese/thesis-wildfire-genovese/only_human_study/')\n",
    "import utils\n",
    "from importlib import reload\n",
    "reload(utils)\n",
    "from utils import *"
   ]
  },
  {
   "cell_type": "code",
   "execution_count": null,
   "id": "8715c9b5",
   "metadata": {},
   "outputs": [],
   "source": [
    "tracking = pd.read_csv('/nfs/home/genovese/thesis-wildfire-genovese/only_human_study/outputs/sample_a/regression_rf_rfe_tracking.csv',  index_col=0)\n",
    "scores = pd.read_csv('/nfs/home/genovese/thesis-wildfire-genovese/only_human_study/outputs/sample_a/regression_rf_rfe.csv',  index_col=0)"
   ]
  },
  {
   "cell_type": "code",
   "execution_count": null,
   "id": "8221f3ee",
   "metadata": {},
   "outputs": [],
   "source": [
    "import matplotlib.pyplot as plt\n",
    "import numpy as np\n",
    "import pandas as pd\n",
    "from sklearn.preprocessing import StandardScaler, MinMaxScaler\n",
    "\n",
    "def plot_resume_rfe(df, title):\n",
    "    aux=df.copy()\n",
    "    aux.iloc[:, 0] = aux.iloc[:, 0].fillna(0)\n",
    "    aux = aux.ffill(axis=1)\n",
    "    Q3 = np.percentile(aux.iloc[:, -1], 75)\n",
    "    Q1 = np.percentile(aux.iloc[:, -1], 25)\n",
    "    IQR = Q3-Q1\n",
    "    threshold = Q3+IQR*1.5\n",
    "\n",
    "    first_15 = pd.Series(aux.iloc[:, -1].sort_values(ascending=False).index[:15])\n",
    "    first_15_str = '\\n'.join(map(str, first_15.values))\n",
    "    \n",
    "    data = {'x': range(1, df.shape[1]+1)}\n",
    "    for var in df.index:\n",
    "        data[var] = np.array(df.loc[var, :])\n",
    "\n",
    "    data = pd.DataFrame(data)\n",
    "\n",
    "    # Change the style of plot\n",
    "    # plt.style.use('seaborn-darkgrid')\n",
    "    \n",
    "    # Create a color palette\n",
    "    palette = plt.get_cmap('PuRd')\n",
    "    \n",
    "    # Plot multiple lines\n",
    "    for n, column in enumerate(data.drop(columns='x')):\n",
    "        y = data[column].loc[~data[column].isna()]\n",
    "        x = data['x'].loc[:y.shape[0]-1]\n",
    "        plt.plot(x, y, marker='', color=palette(n), linewidth=1, alpha=0.9)\n",
    "        if (not y.empty) and (y.iloc[-1] > threshold):\n",
    "            plt.annotate(f\"{round(y.iloc[-1], 3)}\", \n",
    "                        xy=(x.iloc[-1], y.iloc[-1]), \n",
    "                        xytext=(x.iloc[-1]+1, y.iloc[-1]),\n",
    "                        fontsize=8)\n",
    "\n",
    "    ax = plt.gca()  # Get current axis\n",
    "    ax.spines['top'].set_visible(False)\n",
    "    ax.spines['right'].set_visible(False)\n",
    "    # ax.spines['bottom'].set_visible(False)\n",
    "    # ax.spines['left'].set_visible(False)\n",
    "    plt.figtext(1.8, 0.5, f'First 15 variables: \\n \\n {first_15_str}', ha='right', va='center', fontsize=11)\n",
    "    \n",
    "    # Add titles\n",
    "    plt.title(title, loc='center', fontsize=12, fontweight=0, color='orange')\n",
    "    plt.xlabel(\"Iterations\")\n",
    "    plt.ylabel(\"Score\")\n",
    "\n",
    "    # Show the graph\n",
    "    plt.show()\n",
    "\n",
    "def plot_resume_scores(df, title):\n",
    "    fig, ax = plt.subplots(1, 2, figsize=(10,6))\n",
    "    reg = df.loc[:, [col for col in df.columns if 'adjr2' in col]]\n",
    "    # reg = pd.DataFrame(np.where(reg < -1, np.nan, reg), index=reg.index, columns = reg.columns)\n",
    "    # print(reg)\n",
    "    clas = df.loc[:, [col for col in df.columns if 'accuracy' in col]]\n",
    "    xreg = range(1, reg.shape[1]+1)\n",
    "    xclas = range(1, clas.shape[1]+1)\n",
    "\n",
    "    ax[0].plot(xclas, clas.loc['train', :], color='blue')\n",
    "    ax[0].plot(xclas, clas.loc['validation', :], color='orange')\n",
    "    ax[0].grid(True)\n",
    "    ax[0].set_xticks(xclas)\n",
    "    ax[0].tick_params(axis='x', labelrotation=90, labelsize=6)\n",
    "    ax[0].set_title('accuracy')\n",
    "\n",
    "    ax[1].plot(xreg, reg.loc['train', :], label='train', color='blue')\n",
    "    # ax1 = ax[1].twinx()\n",
    "    ax[1].plot(xreg, [r if r > -1 else None for r in reg.loc['validation', :]], label='validation', color='orange')\n",
    "    ax[1].grid(True)\n",
    "    ax[1].set_xticks(xreg)\n",
    "    ax[1].tick_params(axis='x', labelrotation=90, labelsize=6)\n",
    "    ax[1].set_title('adjusted r2')\n",
    "\n",
    "    fig.legend(loc='lower center', ncol=2)\n",
    "\n",
    "    # Adjust layout to make space for the legend\n",
    "    # fig.tight_layout(rect=[1, 1, 1, 0.9])\n",
    "\n",
    "    plt.subplots_adjust(wspace=0.5)\n",
    "    plt.suptitle(title)\n",
    "    plt.show()\n"
   ]
  },
  {
   "cell_type": "code",
   "execution_count": null,
   "id": "b40442da",
   "metadata": {},
   "outputs": [],
   "source": [
    "plot_resume_rfe(tracking, title='regression')"
   ]
  },
  {
   "cell_type": "code",
   "execution_count": null,
   "id": "fd5de5aa",
   "metadata": {},
   "outputs": [],
   "source": [
    "plot_resume_scores(scores, title='regression rf')"
   ]
  },
  {
   "cell_type": "code",
   "execution_count": null,
   "id": "69bd5c4b",
   "metadata": {},
   "outputs": [],
   "source": [
    "X_train_val = pd.read_csv('/nfs/home/genovese/thesis-wildfire-genovese/only_human_study/database/sample_a/X_train_val.csv')\n",
    "X_test = pd.read_csv('/nfs/home/genovese/thesis-wildfire-genovese/only_human_study/database/sample_a/X_test.csv')\n",
    "y_train_val = pd.read_csv('/nfs/home/genovese/thesis-wildfire-genovese/only_human_study/database/sample_a/y_train_val.csv')\n",
    "y_test = pd.read_csv('/nfs/home/genovese/thesis-wildfire-genovese/only_human_study/database/sample_a/y_test.csv')"
   ]
  },
  {
   "cell_type": "code",
   "execution_count": null,
   "id": "730eb951",
   "metadata": {},
   "outputs": [],
   "source": [
    "final_train = X_train_val.loc[:, tracking.index].loc[:, ~tracking['iteration_22'].isna()]\n",
    "final_test = X_test.loc[:, tracking.index].loc[:, ~tracking['iteration_22'].isna()]"
   ]
  },
  {
   "cell_type": "code",
   "execution_count": null,
   "id": "d6f59ff4",
   "metadata": {},
   "outputs": [],
   "source": [
    "final_train.to_csv('/nfs/home/genovese/thesis-wildfire-genovese/only_human_study/database/sample_a/final_X_train_val.csv', index=False)\n",
    "final_test.to_csv('/nfs/home/genovese/thesis-wildfire-genovese/only_human_study/database/sample_a/final_X_test.csv', index=False)"
   ]
  },
  {
   "cell_type": "markdown",
   "id": "7f5ced0f",
   "metadata": {},
   "source": [
    "---"
   ]
  },
  {
   "cell_type": "code",
   "execution_count": null,
   "id": "d28c978c",
   "metadata": {},
   "outputs": [],
   "source": [
    "tracking = pd.read_csv('/nfs/home/genovese/thesis-wildfire-genovese/only_human_study/outputs/sample_a/classification_rf_rfe_tracking.csv',  index_col=0)\n",
    "scores = pd.read_csv('/nfs/home/genovese/thesis-wildfire-genovese/only_human_study/outputs/sample_a/classification_rf_rfe.csv',  index_col=0)"
   ]
  },
  {
   "cell_type": "code",
   "execution_count": null,
   "id": "c3b5d01b",
   "metadata": {},
   "outputs": [],
   "source": [
    "plot_resume_rfe(tracking, title='classification')"
   ]
  },
  {
   "cell_type": "code",
   "execution_count": null,
   "id": "d7ba204b",
   "metadata": {},
   "outputs": [],
   "source": [
    "plot_resume_scores(scores, title='classification')"
   ]
  }
 ],
 "metadata": {
  "kernelspec": {
   "display_name": ".venv",
   "language": "python",
   "name": "python3"
  },
  "language_info": {
   "codemirror_mode": {
    "name": "ipython",
    "version": 3
   },
   "file_extension": ".py",
   "mimetype": "text/x-python",
   "name": "python",
   "nbconvert_exporter": "python",
   "pygments_lexer": "ipython3",
   "version": "3.10.17"
  }
 },
 "nbformat": 4,
 "nbformat_minor": 5
}
