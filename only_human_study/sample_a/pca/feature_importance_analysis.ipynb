{
 "cells": [
  {
   "cell_type": "code",
   "execution_count": null,
   "id": "28556803",
   "metadata": {},
   "outputs": [],
   "source": [
    "import pickle\n",
    "import pandas as pd\n",
    "import seaborn as sns\n",
    "import matplotlib.pyplot as plt"
   ]
  },
  {
   "cell_type": "code",
   "execution_count": null,
   "id": "8c455419",
   "metadata": {},
   "outputs": [],
   "source": [
    "with open('/nfs/home/genovese/thesis-wildfire-genovese/only_human_study/database/sample_a/trained_models/pca_final_model.pkl', 'rb') as f:\n",
    "    r_model = pickle.load(f)\n",
    "\n",
    "with open('/nfs/home/genovese/thesis-wildfire-genovese/only_human_study/database/sample_a/trained_models/pca_final_classification_model.pkl', 'rb') as f:\n",
    "    c_model = pickle.load(f)\n",
    "\n",
    "with open ('/nfs/home/genovese/thesis-wildfire-genovese/only_human_study/database/sample_a/trained_models/pca.pkl', 'rb') as f:\n",
    "    pca = pickle.load(f)\n",
    "    \n",
    "X_train = pd.read_csv('/nfs/home/genovese/thesis-wildfire-genovese/only_human_study/database/sample_a/pca_X_train_val.csv')\n",
    "old_features = pd.read_csv('/nfs/home/genovese/thesis-wildfire-genovese/only_human_study/database/sample_a/X_train_val.csv').columns"
   ]
  },
  {
   "cell_type": "code",
   "execution_count": null,
   "id": "09554b59",
   "metadata": {},
   "outputs": [],
   "source": [
    "rf = pd.DataFrame(index=X_train.columns)\n",
    "cf = pd.DataFrame(index=X_train.columns)\n",
    "\n",
    "for k, c in zip(list(r_model.keys()), list(c_model.keys())):\n",
    "    rf = pd.concat([rf, pd.Series(r_model[k].feature_importances_, index=X_train.columns, name=k)], axis=1)\n",
    "    cf = pd.concat([cf, pd.Series(c_model[c].feature_importances_, index=X_train.columns, name=c)], axis=1)"
   ]
  },
  {
   "cell_type": "code",
   "execution_count": null,
   "id": "a2a3bcc2",
   "metadata": {},
   "outputs": [],
   "source": [
    "rf.mean(axis=1).sort_values(ascending=False).index"
   ]
  },
  {
   "cell_type": "code",
   "execution_count": null,
   "id": "0fe0b684",
   "metadata": {},
   "outputs": [],
   "source": [
    "cf.mean(axis=1).sort_values(ascending=False).index"
   ]
  },
  {
   "cell_type": "code",
   "execution_count": null,
   "id": "f261ea8f",
   "metadata": {},
   "outputs": [],
   "source": [
    "pca_transform = pd.DataFrame(pca.components_, columns = [f'PC{n}' for n in range(1, len(old_features)+1)], index=old_features)\n",
    "r_loadings = pca_transform.loc[:, ['PC3', 'PC6', 'PC2', 'PC4', 'PC1', 'PC8', 'PC5', 'PC9', 'PC7']]\n",
    "c_loadings = pca_transform.loc[:, ['PC2', 'PC6', 'PC3', 'PC1', 'PC4', 'PC8', 'PC5', 'PC9', 'PC7']]"
   ]
  },
  {
   "cell_type": "code",
   "execution_count": null,
   "id": "592f989d",
   "metadata": {},
   "outputs": [],
   "source": [
    "for col in pd.Series(list(r_loadings.columns)+list(c_loadings.columns)).unique():\n",
    "    print(f\"\\nTop features for {col}:\")\n",
    "    top_features = r_loadings.loc[:, col].abs().sort_values(ascending=False).head(30)\n",
    "    print(top_features)\n",
    "\n",
    "for col in r_loadings.columns:\n",
    "    print(f\"\\nTop features for {col}:\")\n",
    "    top_features = r_loadings.loc[:, col].abs().sort_values(ascending=False).head(30)\n",
    "    print(top_features)"
   ]
  },
  {
   "cell_type": "markdown",
   "id": "352f2d3e",
   "metadata": {},
   "source": [
    "---"
   ]
  }
 ],
 "metadata": {
  "kernelspec": {
   "display_name": ".venv",
   "language": "python",
   "name": "python3"
  },
  "language_info": {
   "codemirror_mode": {
    "name": "ipython",
    "version": 3
   },
   "file_extension": ".py",
   "mimetype": "text/x-python",
   "name": "python",
   "nbconvert_exporter": "python",
   "pygments_lexer": "ipython3",
   "version": "3.10.17"
  }
 },
 "nbformat": 4,
 "nbformat_minor": 5
}
