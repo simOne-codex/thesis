{
 "cells": [
  {
   "cell_type": "code",
   "execution_count": null,
   "id": "dd1ef86e",
   "metadata": {},
   "outputs": [],
   "source": [
    "import pandas as pd\n",
    "from sklearn.metrics import accuracy_score, r2_score\n",
    "from sklearn.ensemble import RandomForestRegressor, RandomForestClassifier\n",
    "import pickle\n",
    "import numpy as np\n",
    "import seaborn as sns\n",
    "import matplotlib.pyplot as plt"
   ]
  },
  {
   "cell_type": "code",
   "execution_count": null,
   "id": "4440b973",
   "metadata": {},
   "outputs": [],
   "source": [
    "results = pd.read_csv('/nfs/home/genovese/thesis-wildfire-genovese/only_human_study/outputs/sample_c/model_fine_tuning.csv')\n",
    "for params, df in results.groupby(['param_max_depth', 'param_min_samples_leaf']):\n",
    "    print(params)\n",
    "    display(df[['mean_test_score', 'std_test_score']].mean())"
   ]
  },
  {
   "cell_type": "markdown",
   "id": "37cf90db",
   "metadata": {},
   "source": [
    "---"
   ]
  },
  {
   "cell_type": "code",
   "execution_count": null,
   "id": "e1e94576",
   "metadata": {},
   "outputs": [],
   "source": [
    "# #### THE FINAL CHOICE IS: max_depth': 50, 'min_samples_leaf': 5\n",
    "\n",
    "rss = [516, 1919, 700]\n",
    "\n",
    "X_train = pd.read_csv('/nfs/home/genovese/thesis-wildfire-genovese/only_human_study/database/sample_c/final_X_train_val.csv')\n",
    "y_train = pd.read_csv('/nfs/home/genovese/thesis-wildfire-genovese/only_human_study/database/sample_c/y_train_val.csv')\n",
    "\n",
    "regression_forest = dict()\n",
    "\n",
    "for rs in rss:\n",
    "    regression_forest[rs] = RandomForestRegressor(max_depth=50,\n",
    "                                          min_samples_leaf=5,\n",
    "                                          n_jobs=-1, \n",
    "                                          random_state=rs\n",
    "                                          )\n",
    "\n",
    "    regression_forest[rs].fit(X_train, y_train.iloc[:, 0])"
   ]
  },
  {
   "cell_type": "code",
   "execution_count": null,
   "id": "a2205b4f",
   "metadata": {},
   "outputs": [],
   "source": [
    "with open('/nfs/home/genovese/thesis-wildfire-genovese/only_human_study/database/sample_c/trained_models/final_model.pkl', 'wb') as f:\n",
    "    pickle.dump(regression_forest, f)\n",
    "\n",
    "with open('/nfs/home/genovese/thesis-wildfire-genovese/only_human_study/database/sample_c/trained_models/final_model.pkl', 'rb') as f:\n",
    "    model = pickle.load(f)"
   ]
  },
  {
   "cell_type": "code",
   "execution_count": null,
   "id": "062eba1a",
   "metadata": {},
   "outputs": [],
   "source": [
    "# transform = {0.0:0,0.1:1,0.2:2,0.3:3,0.4:4,0.5:5,0.6:6,0.7:7,0.8:8,0.9:9,1.0:10}\n",
    "\n",
    "scores = dict()\n",
    "\n",
    "for rs in rss:\n",
    "    y_train_pred = model[rs].predict(X_train).round(0)\n",
    "    scores[rs] = (r2_score(y_train_pred, y_train), \n",
    "                  accuracy_score(pd.Series(y_train_pred), pd.Series(y_train.iloc[:, 0])))\n",
    "\n",
    "print(np.mean([v[0] for v in scores.values()]), np.mean([v[1] for v in scores.values()]))\n",
    "\n",
    "\n",
    "X_test = pd.read_csv('/nfs/home/genovese/thesis-wildfire-genovese/only_human_study/database/sample_c/final_X_test.csv')\n",
    "y_test = pd.read_csv('/nfs/home/genovese/thesis-wildfire-genovese/only_human_study/database/sample_c/y_test.csv')\n",
    "\n",
    "scores = dict()\n",
    "\n",
    "for rs in rss:\n",
    "    y_test_pred = model[rs].predict(X_test).round(0)\n",
    "    scores[rs] = (r2_score(y_test_pred, y_test), \n",
    "                  accuracy_score(pd.Series(y_test_pred), pd.Series(y_test.iloc[:, 0])))\n",
    "\n",
    "print(np.mean([v[0] for v in scores.values()]), np.mean([v[1] for v in scores.values()]))"
   ]
  },
  {
   "cell_type": "code",
   "execution_count": null,
   "id": "0b7b7e30",
   "metadata": {},
   "outputs": [],
   "source": [
    "def predict_dispersion(crosstab):\n",
    "    total = 0\n",
    "    for i, row in enumerate(crosstab.to_numpy()):\n",
    "        for j, val in enumerate(row):\n",
    "            total += val * abs(j - i)\n",
    "    return total/(crosstab.sum().sum())*(crosstab.shape[1])"
   ]
  },
  {
   "cell_type": "code",
   "execution_count": null,
   "id": "5dfde68e",
   "metadata": {},
   "outputs": [],
   "source": [
    "train_mat= pd.crosstab(y_train.iloc[:, 0], y_train_pred)\n",
    "test_mat = pd.crosstab(y_test.iloc[:,0], y_test_pred)"
   ]
  },
  {
   "cell_type": "code",
   "execution_count": null,
   "id": "4635303d",
   "metadata": {},
   "outputs": [],
   "source": [
    "print(train_mat.shape)\n",
    "print(test_mat.shape)\n",
    "\n",
    "print(predict_dispersion(train_mat))\n",
    "print(predict_dispersion(test_mat))"
   ]
  },
  {
   "cell_type": "markdown",
   "id": "9dcab88b",
   "metadata": {},
   "source": [
    "---"
   ]
  },
  {
   "cell_type": "code",
   "execution_count": null,
   "id": "b5e8b3cf",
   "metadata": {},
   "outputs": [],
   "source": [
    "results = pd.read_csv('/nfs/home/genovese/thesis-wildfire-genovese/only_human_study/outputs/sample_c/model_classification_fine_tuning.csv')\n",
    "for params, df in results.groupby(['param_max_depth', 'param_min_samples_leaf']):\n",
    "    print(params)\n",
    "    display(df[['mean_test_score', 'std_test_score']].mean())"
   ]
  },
  {
   "cell_type": "code",
   "execution_count": null,
   "id": "dedf201c",
   "metadata": {},
   "outputs": [],
   "source": [
    "#### THE FINAL CHOICE IS: max_depth': 50, 'min_samples_leaf': 1\n",
    "\n",
    "rss = [516, 1919, 700]\n",
    "\n",
    "X_train = pd.read_csv('/nfs/home/genovese/thesis-wildfire-genovese/only_human_study/database/sample_c/final_X_train_val.csv')\n",
    "y_train = pd.read_csv('/nfs/home/genovese/thesis-wildfire-genovese/only_human_study/database/sample_c/y_train_val.csv')\n",
    "\n",
    "classification_forest = dict()\n",
    "\n",
    "for rs in rss:\n",
    "    classification_forest[rs] = RandomForestClassifier(max_depth=50,\n",
    "                                          min_samples_leaf=1,\n",
    "                                          n_jobs=-1, \n",
    "                                          random_state=rs\n",
    "                                          )\n",
    "\n",
    "    classification_forest[rs].fit(X_train, y_train.iloc[:, 0])\n",
    "\n",
    "with open('/nfs/home/genovese/thesis-wildfire-genovese/only_human_study/database/sample_c/trained_models/final_classification_model.pkl', 'wb') as f:\n",
    "    pickle.dump(classification_forest, f)"
   ]
  },
  {
   "cell_type": "code",
   "execution_count": null,
   "id": "cc29123b",
   "metadata": {},
   "outputs": [],
   "source": [
    "with open('/nfs/home/genovese/thesis-wildfire-genovese/only_human_study/database/sample_c/trained_models/final_classification_model.pkl', 'rb') as f:\n",
    "    model = pickle.load(f)\n",
    "\n",
    "# transform = {0.0:0,0.1:1,0.2:2,0.3:3,0.4:4,0.5:5,0.6:6,0.7:7,0.8:8,0.9:9,1.0:10}\n",
    "\n",
    "scores = dict()\n",
    "\n",
    "for rs in rss:\n",
    "    y_train_pred = model[rs].predict(X_train).round(1)\n",
    "    scores[rs] = (r2_score(y_train_pred, y_train.iloc[:, 0]), \n",
    "                  accuracy_score(pd.Series(y_train_pred), pd.Series(y_train.iloc[:, 0])))\n",
    "\n",
    "print(np.mean([v[0] for v in scores.values()]), np.mean([v[1] for v in scores.values()]))\n",
    "\n",
    "\n",
    "X_test = pd.read_csv('/nfs/home/genovese/thesis-wildfire-genovese/only_human_study/database/sample_c/final_X_test.csv')\n",
    "y_test = pd.read_csv('/nfs/home/genovese/thesis-wildfire-genovese/only_human_study/database/sample_c/y_test.csv')\n",
    "\n",
    "scores = dict()\n",
    "\n",
    "for rs in rss:\n",
    "    y_test_pred = model[rs].predict(X_test).round(1)\n",
    "    scores[rs] = (r2_score(y_test_pred, y_test.iloc[:, 0]), \n",
    "                  accuracy_score(pd.Series(y_test_pred), pd.Series(y_test.iloc[:, 0])))\n",
    "\n",
    "print(np.mean([v[0] for v in scores.values()]), np.mean([v[1] for v in scores.values()]))"
   ]
  },
  {
   "cell_type": "code",
   "execution_count": null,
   "id": "f56fe5f8",
   "metadata": {},
   "outputs": [],
   "source": [
    "train_mat= pd.crosstab(y_train.iloc[:,0], y_train_pred)\n",
    "test_mat = pd.crosstab(y_test.iloc[:,0], y_test_pred)"
   ]
  },
  {
   "cell_type": "code",
   "execution_count": null,
   "id": "a54e9b5d",
   "metadata": {},
   "outputs": [],
   "source": [
    "print(train_mat.shape)\n",
    "print(test_mat.shape)\n",
    "\n",
    "print(predict_dispersion(train_mat))\n",
    "print(predict_dispersion(test_mat))"
   ]
  },
  {
   "cell_type": "markdown",
   "id": "c4a82fc7",
   "metadata": {},
   "source": [
    "---"
   ]
  },
  {
   "cell_type": "code",
   "execution_count": null,
   "id": "c05bfce6",
   "metadata": {},
   "outputs": [],
   "source": [
    "with open('/nfs/home/genovese/thesis-wildfire-genovese/only_human_study/database/sample_c/trained_models/final_classification_model.pkl', 'rb') as f:\n",
    "    classification_forest = pickle.load(f)\n",
    "\n",
    "with open('/nfs/home/genovese/thesis-wildfire-genovese/only_human_study/database/sample_c/trained_models/final_model.pkl', 'rb') as f:\n",
    "    regression_forest = pickle.load(f)"
   ]
  },
  {
   "cell_type": "code",
   "execution_count": null,
   "id": "9c078cc5",
   "metadata": {},
   "outputs": [],
   "source": [
    "y_train = pd.read_csv('/nfs/home/genovese/thesis-wildfire-genovese/only_human_study/database/sample_c/y_train_val.csv')\n",
    "y_test = pd.read_csv('/nfs/home/genovese/thesis-wildfire-genovese/only_human_study/database/sample_c/y_test.csv')"
   ]
  },
  {
   "cell_type": "code",
   "execution_count": null,
   "id": "ce908459",
   "metadata": {},
   "outputs": [],
   "source": [
    "fig, ax = plt.subplots(1,2, figsize=(16, 8))\n",
    "\n",
    "sns.heatmap(pd.crosstab(\n",
    "                        y_train.iloc[:, 0], \n",
    "                        regression_forest[516].predict(X_train).round(0)\n",
    "                        ),\n",
    "                        cmap='Blues',\n",
    "                        annot = True,\n",
    "                        ax=ax[0]\n",
    "                        )\n",
    "\n",
    "sns.heatmap(pd.crosstab(\n",
    "                        y_test.iloc[:, 0], \n",
    "                        regression_forest[516].predict(X_test).round(0)\n",
    "                        ),\n",
    "                        cmap='Blues',\n",
    "                        annot = True,\n",
    "                        ax=ax[1]\n",
    "                        )\n",
    "\n",
    "plt.show()"
   ]
  },
  {
   "cell_type": "code",
   "execution_count": null,
   "id": "2fdd4d87",
   "metadata": {},
   "outputs": [],
   "source": [
    "fig, ax = plt.subplots(1,2, figsize=(16, 8))\n",
    "\n",
    "sns.heatmap(pd.crosstab(\n",
    "                        y_train.iloc[:, 0], \n",
    "                        classification_forest[516].predict(X_train)\n",
    "                        ),\n",
    "                        cmap='Blues',\n",
    "                        annot = True,\n",
    "                        ax=ax[0]\n",
    "                        )\n",
    "\n",
    "sns.heatmap(pd.crosstab(\n",
    "                        y_test.iloc[:, 0], \n",
    "                        classification_forest[516].predict(X_test)\n",
    "                        ),\n",
    "                        cmap='Blues',\n",
    "                        annot = True,\n",
    "                        ax=ax[1]\n",
    "                        )\n",
    "\n",
    "plt.show()"
   ]
  }
 ],
 "metadata": {
  "kernelspec": {
   "display_name": ".venv",
   "language": "python",
   "name": "python3"
  },
  "language_info": {
   "codemirror_mode": {
    "name": "ipython",
    "version": 3
   },
   "file_extension": ".py",
   "mimetype": "text/x-python",
   "name": "python",
   "nbconvert_exporter": "python",
   "pygments_lexer": "ipython3",
   "version": "3.10.17"
  }
 },
 "nbformat": 4,
 "nbformat_minor": 5
}
