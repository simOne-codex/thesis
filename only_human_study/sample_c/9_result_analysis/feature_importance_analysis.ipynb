{
 "cells": [
  {
   "cell_type": "code",
   "execution_count": 1,
   "id": "28556803",
   "metadata": {},
   "outputs": [],
   "source": [
    "import pickle\n",
    "import pandas as pd\n",
    "import seaborn as sns\n",
    "import matplotlib.pyplot as plt"
   ]
  },
  {
   "cell_type": "code",
   "execution_count": 2,
   "id": "8c455419",
   "metadata": {},
   "outputs": [],
   "source": [
    "with open('/nfs/home/genovese/thesis-wildfire-genovese/only_human_study/database/sample_c/trained_models/final_model.pkl', 'rb') as f:\n",
    "    r_model = pickle.load(f)\n",
    "\n",
    "with open('/nfs/home/genovese/thesis-wildfire-genovese/only_human_study/database/sample_c/trained_models/final_classification_model.pkl', 'rb') as f:\n",
    "    c_model = pickle.load(f)\n",
    "\n",
    "    \n",
    "X_train = pd.read_csv('/nfs/home/genovese/thesis-wildfire-genovese/only_human_study/database/sample_c/final_X_train_val.csv')"
   ]
  },
  {
   "cell_type": "code",
   "execution_count": 3,
   "id": "09554b59",
   "metadata": {},
   "outputs": [],
   "source": [
    "rf = pd.DataFrame(index=X_train.columns)\n",
    "cf = pd.DataFrame(index=X_train.columns)\n",
    "\n",
    "for k, c in zip(list(r_model.keys()), list(c_model.keys())):\n",
    "    rf = pd.concat([rf, pd.Series(r_model[k].feature_importances_, index=X_train.columns, name=k)], axis=1)\n",
    "    cf = pd.concat([cf, pd.Series(c_model[c].feature_importances_, index=X_train.columns, name=c)], axis=1)"
   ]
  },
  {
   "cell_type": "code",
   "execution_count": 5,
   "id": "17418e07",
   "metadata": {},
   "outputs": [
    {
     "data": {
      "text/plain": [
       "piante industriali                                                                       0.175728\n",
       "Superficie agricola utilizzata - ettari                                                  0.046912\n",
       "TOTALE_STRADE                                                                            0.042591\n",
       "coltivazioni fruttifere                                                                  0.040866\n",
       "Addizionale comunale dovuta - Frequenza                                                  0.040797\n",
       "AMB_01                                                                                   0.040386\n",
       "SOC_03                                                                                   0.037809\n",
       "TER_03                                                                                   0.036926\n",
       "Reddito complessivo oltre 120000 euro - Ammontare in euro                                0.033764\n",
       "totale ovini                                                                             0.032386\n",
       "terreni a riposo                                                                         0.029984\n",
       "cereali per la produzione di granella                                                    0.028667\n",
       "totale alveari                                                                           0.028488\n",
       "AMB_02                                                                                   0.028238\n",
       "SOC_02                                                                                   0.026930\n",
       "Addizionale comunale dovuta - Ammontare in euro                                          0.024964\n",
       "Bonus spettante - Frequenza                                                              0.024701\n",
       "Superficie a boschi                                                                      0.024093\n",
       "Bonus spettante - Ammontare in euro                                                      0.023803\n",
       "Reddito di spettanza dellimprenditore in contabilita semplificata - Ammontare in euro    0.023766\n",
       "foraggere avvicendate                                                                    0.023703\n",
       "SOC_04                                                                                   0.023257\n",
       "Reddito da partecipazione - Frequenza                                                    0.023159\n",
       "Reddito da lavoro autonomo - Ammontare in euro                                           0.022354\n",
       "SOC_01                                                                                   0.021736\n",
       "GP_RTP_4                                                                                 0.020852\n",
       "Reddito complessivo minore o uguale a zero euro - Ammontare in euro                      0.020742\n",
       "Reddito complessivo da 55000 a 75000 euro - Ammontare in euro                            0.020577\n",
       "seminativi                                                                               0.019921\n",
       "GP_RTP_5                                                                                 0.011900\n",
       "dtype: float64"
      ]
     },
     "execution_count": 5,
     "metadata": {},
     "output_type": "execute_result"
    }
   ],
   "source": [
    "rf.mean(axis=1).sort_values(ascending=False)"
   ]
  },
  {
   "cell_type": "code",
   "execution_count": 6,
   "id": "28c2ca36",
   "metadata": {},
   "outputs": [
    {
     "data": {
      "text/plain": [
       "Index(['TOTALE_STRADE', 'GP_RTP_4', 'GP_RTP_5',\n",
       "       'Bonus spettante - Ammontare in euro',\n",
       "       'Addizionale comunale dovuta - Ammontare in euro',\n",
       "       'Reddito di spettanza dellimprenditore in contabilita semplificata - Ammontare in euro',\n",
       "       'Bonus spettante - Frequenza',\n",
       "       'Addizionale comunale dovuta - Frequenza',\n",
       "       'Reddito da lavoro autonomo - Ammontare in euro',\n",
       "       'Reddito complessivo da 55000 a 75000 euro - Ammontare in euro',\n",
       "       'Reddito da partecipazione - Frequenza',\n",
       "       'Reddito complessivo oltre 120000 euro - Ammontare in euro', 'AMB_01',\n",
       "       'AMB_02', 'SOC_03', 'SOC_01', 'SOC_02', 'SOC_04', 'seminativi',\n",
       "       'TER_03', 'Superficie a boschi',\n",
       "       'Superficie agricola utilizzata - ettari',\n",
       "       'cereali per la produzione di granella',\n",
       "       'Reddito complessivo minore o uguale a zero euro - Ammontare in euro',\n",
       "       'terreni a riposo', 'piante industriali', 'coltivazioni fruttifere',\n",
       "       'foraggere avvicendate', 'totale ovini', 'totale alveari'],\n",
       "      dtype='object')"
      ]
     },
     "execution_count": 6,
     "metadata": {},
     "output_type": "execute_result"
    }
   ],
   "source": [
    "cf.mean(axis=1).sort_values(ascending=False).index"
   ]
  },
  {
   "cell_type": "markdown",
   "id": "8e5fbd5a",
   "metadata": {},
   "source": [
    "---"
   ]
  }
 ],
 "metadata": {
  "kernelspec": {
   "display_name": ".venv",
   "language": "python",
   "name": "python3"
  },
  "language_info": {
   "codemirror_mode": {
    "name": "ipython",
    "version": 3
   },
   "file_extension": ".py",
   "mimetype": "text/x-python",
   "name": "python",
   "nbconvert_exporter": "python",
   "pygments_lexer": "ipython3",
   "version": "3.10.17"
  }
 },
 "nbformat": 4,
 "nbformat_minor": 5
}
