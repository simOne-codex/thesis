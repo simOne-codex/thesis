{
 "cells": [
  {
   "cell_type": "code",
   "execution_count": 1,
   "id": "0b79bcdc",
   "metadata": {},
   "outputs": [
    {
     "name": "stderr",
     "output_type": "stream",
     "text": [
      "/nfs/home/genovese/.venv/lib/python3.10/site-packages/tqdm/auto.py:21: TqdmWarning: IProgress not found. Please update jupyter and ipywidgets. See https://ipywidgets.readthedocs.io/en/stable/user_install.html\n",
      "  from .autonotebook import tqdm as notebook_tqdm\n"
     ]
    }
   ],
   "source": [
    "from dataset import PiedmontDataset"
   ]
  },
  {
   "cell_type": "code",
   "execution_count": null,
   "id": "8d7445e4",
   "metadata": {},
   "outputs": [],
   "source": [
    "df = PiedmontDataset(root_dir='/nfs/home/genovese/thesis-wildfire-genovese/database/piedmont')"
   ]
  },
  {
   "cell_type": "code",
   "execution_count": null,
   "id": "d2b3d097",
   "metadata": {},
   "outputs": [],
   "source": [
    "from PointDataLoader import PointDataLoader\n",
    "import pandas as pd\n",
    "import numpy as np\n",
    "from sklearn.ensemble import RandomForestClassifier\n",
    "from sklearn.model_selection import train_test_split\n",
    "from sklearn.base import BaseEstimator, ClassifierMixin\n",
    "import torch\n",
    "import torch.nn as nn\n",
    "import torchvision.transforms as transforms\n",
    "from torch.utils.data import Dataset, DataLoader\n",
    "from PIL import Image\n",
    "from dataset import PiedmontDataset"
   ]
  },
  {
   "cell_type": "code",
   "execution_count": 97,
   "id": "42665f15",
   "metadata": {},
   "outputs": [],
   "source": [
    "# CNN Feature Extractor\n",
    "class SimpleCNN(nn.Module):\n",
    "\n",
    "    def __final_Linear(self, x, size):\n",
    "        return nn.Linear(size, 1)(x)\n",
    "\n",
    "\n",
    "\n",
    "    def __init__(self, input_dim = 36, img_size=256):\n",
    "        super(SimpleCNN, self).__init__()\n",
    "        \n",
    "        self.encoder = nn.Sequential(\n",
    "            nn.Conv2d(input_dim, 64, kernel_size=3, padding=1),\n",
    "            nn.ReLU(),\n",
    "\n",
    "            nn.Conv2d(64, 128, kernel_size=3, padding=1),\n",
    "            nn.ReLU(),\n",
    "\n",
    "            nn.Conv2d(128, 64, kernel_size=3, padding=1),\n",
    "            nn.ReLU(),\n",
    "\n",
    "            nn.Conv2d(64, 32, kernel_size=3, padding=1),\n",
    "            nn.ReLU(),\n",
    "\n",
    "            nn.Conv2d(32, 16, kernel_size=3, padding=1),\n",
    "            nn.ReLU()\n",
    "        )\n",
    "\n",
    "        self.fc = self.__final_Linear\n",
    "\n",
    "    def forward(self, x):\n",
    "        x = self.encoder(x)\n",
    "        x = x.view(x.size(0), -1)  # Flatten\n",
    "        return self.fc(x=x, size=x.size(1))\n",
    "\n",
    "    "
   ]
  },
  {
   "cell_type": "code",
   "execution_count": 116,
   "id": "b204e7a3",
   "metadata": {},
   "outputs": [],
   "source": [
    "class ReduceToOnePixelNet(nn.Module):\n",
    "    def __init__(self, in_channels=36, img_size=256):\n",
    "        super(ReduceToOnePixelNet, self).__init__()\n",
    "\n",
    "        layers = []\n",
    "\n",
    "        channels = in_channels\n",
    "        while(img_size > 1):  # 256 -> 128 -> ... -> 1\n",
    "            # out_channels = base_channels * min(2**i, 8) \n",
    "            layers.append(nn.Conv2d(channels, channels, kernel_size=3, stride=2, padding=1))\n",
    "            layers.append(nn.ReLU(inplace=True))\n",
    "            img_size /= 2\n",
    "\n",
    "        self.encoder = nn.Sequential(*layers)\n",
    "\n",
    "    def forward(self, x):\n",
    "        r = self.encoder(x)\n",
    "        return r.view(1, -1)"
   ]
  },
  {
   "cell_type": "code",
   "execution_count": 48,
   "id": "e61cb466",
   "metadata": {},
   "outputs": [],
   "source": [
    "a = df[0]"
   ]
  },
  {
   "cell_type": "code",
   "execution_count": null,
   "id": "5bc56473",
   "metadata": {},
   "outputs": [],
   "source": [
    "cnn = SimpleCNN()\n",
    "c = cnn.forward(a[0])"
   ]
  },
  {
   "cell_type": "code",
   "execution_count": 117,
   "id": "0a8fb9ac",
   "metadata": {},
   "outputs": [],
   "source": [
    "rrp = ReduceToOnePixelNet()\n",
    "v = rrp.forward(a[0])"
   ]
  }
 ],
 "metadata": {
  "kernelspec": {
   "display_name": ".venv",
   "language": "python",
   "name": "python3"
  },
  "language_info": {
   "codemirror_mode": {
    "name": "ipython",
    "version": 3
   },
   "file_extension": ".py",
   "mimetype": "text/x-python",
   "name": "python",
   "nbconvert_exporter": "python",
   "pygments_lexer": "ipython3",
   "version": "3.10.17"
  }
 },
 "nbformat": 4,
 "nbformat_minor": 5
}
