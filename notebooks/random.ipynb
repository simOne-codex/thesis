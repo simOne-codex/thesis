{
 "cells": [
  {
   "cell_type": "code",
   "execution_count": 15,
   "id": "5f733d06",
   "metadata": {},
   "outputs": [],
   "source": [
    "import sys \n",
    "sys.path.append(rf\"/nfs/home/genovese/thesis-wildfire-genovese/src\")\n",
    "from importlib import reload\n",
    "import utils\n",
    "reload(utils)\n",
    "from utils import *\n",
    "sys.path.append(rf'/nfs/home/genovese/thesis-wildfire-genovese/src/OnFireForest')\n",
    "import PointDataLoader\n",
    "reload(PointDataLoader)\n",
    "from PointDataLoader import PointDataLoader"
   ]
  },
  {
   "cell_type": "code",
   "execution_count": 2,
   "id": "56e27654",
   "metadata": {},
   "outputs": [],
   "source": [
    "import pickle \n",
    "with open('/nfs/home/genovese/thesis-wildfire-genovese/data/data_loader_for_kriging/data_for_weather_kriging.pkl', 'rb') as f:\n",
    "     loaded_dict = pickle.load(f)\n",
    "\n",
    "ignitions = gpd.read_file('/nfs/home/genovese/thesis-wildfire-genovese/data/data_loader_for_kriging/kriging_negative_weather_grid.geojson')"
   ]
  },
  {
   "cell_type": "code",
   "execution_count": 5,
   "id": "940a19ce",
   "metadata": {},
   "outputs": [],
   "source": [
    "row = ignitions.iloc[641, :]"
   ]
  },
  {
   "cell_type": "code",
   "execution_count": 4,
   "id": "9e00c5fa",
   "metadata": {},
   "outputs": [],
   "source": [
    "meteo = gpd.read_file('/nfs/home/genovese/thesis-wildfire-genovese/database/meteo_2016.geojson')"
   ]
  },
  {
   "cell_type": "code",
   "execution_count": 21,
   "id": "65282740",
   "metadata": {},
   "outputs": [
    {
     "data": {
      "text/plain": [
       "YYYY                                               2016\n",
       "day                                                  91\n",
       "height                                            295.0\n",
       "DD                                                   31\n",
       "MM                                                    2\n",
       "geometry    POINT (825465.2608376435 5599629.410743505)\n",
       "Name: 641, dtype: object"
      ]
     },
     "execution_count": 21,
     "metadata": {},
     "output_type": "execute_result"
    }
   ],
   "source": [
    "row"
   ]
  },
  {
   "cell_type": "code",
   "execution_count": 16,
   "id": "ff743e27",
   "metadata": {},
   "outputs": [],
   "source": [
    "P = PointDataLoader(anno = row.YYYY, mese = row.MM, giorno = row.DD, x = row.geometry.x, y = row.geometry.y)"
   ]
  },
  {
   "cell_type": "code",
   "execution_count": 17,
   "id": "1d87ad2b",
   "metadata": {},
   "outputs": [
    {
     "name": "stdout",
     "output_type": "stream",
     "text": [
      "input day: 62\n",
      "   day  YYYY  height     tmedia       tmax      tmin      ptot    vmedia  \\\n",
      "0   91  2016   295.0  12.278224  15.449219  9.797972  7.925762  1.351686   \n",
      "\n",
      "   vraffica  settore_prevalente  tempo_permanenza  durata_calma     umedia  \\\n",
      "0  5.942648            6.961525        282.067331     39.779309  89.379658   \n",
      "\n",
      "        umin       umax      rtot  hdd_base18  hdd_base20  cdd_base18  \\\n",
      "0  71.013041  98.900396  5.589739    5.354366    7.246529         0.0   \n",
      "\n",
      "                         geometry  \n",
      "0  POINT (825465.261 5599629.411)  \n"
     ]
    },
    {
     "ename": "IndexError",
     "evalue": "index 0 is out of bounds for axis 0 with size 0",
     "output_type": "error",
     "traceback": [
      "\u001b[0;31m---------------------------------------------------------------------------\u001b[0m",
      "\u001b[0;31mIndexError\u001b[0m                                Traceback (most recent call last)",
      "Cell \u001b[0;32mIn[17], line 1\u001b[0m\n\u001b[0;32m----> 1\u001b[0m \u001b[43mP\u001b[49m\u001b[38;5;241;43m.\u001b[39;49m\u001b[43mload\u001b[49m\u001b[43m(\u001b[49m\u001b[43m)\u001b[49m\n",
      "File \u001b[0;32m~/thesis-wildfire-genovese/src/OnFireForest/PointDataLoader.py:169\u001b[0m, in \u001b[0;36mPointDataLoader.load\u001b[0;34m(self, db_path)\u001b[0m\n\u001b[1;32m    166\u001b[0m strade_path \u001b[38;5;241m=\u001b[39m os\u001b[38;5;241m.\u001b[39mpath\u001b[38;5;241m.\u001b[39mjoin(db_path, \u001b[38;5;124mf\u001b[39m\u001b[38;5;124m'\u001b[39m\u001b[38;5;124mstrade.geojson\u001b[39m\u001b[38;5;124m'\u001b[39m)\n\u001b[1;32m    167\u001b[0m meteo_path \u001b[38;5;241m=\u001b[39m os\u001b[38;5;241m.\u001b[39mpath\u001b[38;5;241m.\u001b[39mjoin(db_path, \u001b[38;5;124mf\u001b[39m\u001b[38;5;124m'\u001b[39m\u001b[38;5;124mmeteo_\u001b[39m\u001b[38;5;132;01m{\u001b[39;00m\u001b[38;5;28mself\u001b[39m\u001b[38;5;241m.\u001b[39m__anno\u001b[38;5;132;01m}\u001b[39;00m\u001b[38;5;124m.geojson\u001b[39m\u001b[38;5;124m'\u001b[39m)\n\u001b[0;32m--> 169\u001b[0m \u001b[43mpoint_data\u001b[49m\u001b[38;5;241;43m.\u001b[39;49m\u001b[43mgather_point_data\u001b[49m\u001b[43m(\u001b[49m\u001b[43mgpd\u001b[49m\u001b[38;5;241;43m.\u001b[39;49m\u001b[43mread_file\u001b[49m\u001b[43m(\u001b[49m\u001b[43mper_comune_path\u001b[49m\u001b[43m)\u001b[49m\u001b[38;5;241;43m.\u001b[39;49m\u001b[43mto_crs\u001b[49m\u001b[43m(\u001b[49m\u001b[43mepsg\u001b[49m\u001b[38;5;241;43m=\u001b[39;49m\u001b[38;5;241;43m3857\u001b[39;49m\u001b[43m)\u001b[49m\u001b[43m,\u001b[49m\n\u001b[1;32m    170\u001b[0m \u001b[43m                             \u001b[49m\u001b[43mgpd\u001b[49m\u001b[38;5;241;43m.\u001b[39;49m\u001b[43mread_file\u001b[49m\u001b[43m(\u001b[49m\u001b[43maltimetria_path\u001b[49m\u001b[43m)\u001b[49m\u001b[38;5;241;43m.\u001b[39;49m\u001b[43mto_crs\u001b[49m\u001b[43m(\u001b[49m\u001b[43mepsg\u001b[49m\u001b[38;5;241;43m=\u001b[39;49m\u001b[38;5;241;43m3857\u001b[39;49m\u001b[43m)\u001b[49m\u001b[43m,\u001b[49m\n\u001b[1;32m    171\u001b[0m \u001b[43m                             \u001b[49m\u001b[43mgpd\u001b[49m\u001b[38;5;241;43m.\u001b[39;49m\u001b[43mread_file\u001b[49m\u001b[43m(\u001b[49m\u001b[43mvegetazione_path\u001b[49m\u001b[43m)\u001b[49m\u001b[38;5;241;43m.\u001b[39;49m\u001b[43mto_crs\u001b[49m\u001b[43m(\u001b[49m\u001b[43mepsg\u001b[49m\u001b[38;5;241;43m=\u001b[39;49m\u001b[38;5;241;43m3857\u001b[39;49m\u001b[43m)\u001b[49m\u001b[43m,\u001b[49m\n\u001b[1;32m    172\u001b[0m \u001b[43m                             \u001b[49m\u001b[43mgpd\u001b[49m\u001b[38;5;241;43m.\u001b[39;49m\u001b[43mread_file\u001b[49m\u001b[43m(\u001b[49m\u001b[43mstrade_path\u001b[49m\u001b[43m)\u001b[49m\u001b[38;5;241;43m.\u001b[39;49m\u001b[43mto_crs\u001b[49m\u001b[43m(\u001b[49m\u001b[43mepsg\u001b[49m\u001b[38;5;241;43m=\u001b[39;49m\u001b[38;5;241;43m3857\u001b[39;49m\u001b[43m)\u001b[49m\u001b[43m,\u001b[49m\n\u001b[1;32m    173\u001b[0m \u001b[43m                             \u001b[49m\u001b[43mgpd\u001b[49m\u001b[38;5;241;43m.\u001b[39;49m\u001b[43mread_file\u001b[49m\u001b[43m(\u001b[49m\u001b[43mmeteo_path\u001b[49m\u001b[43m)\u001b[49m\u001b[43m,\u001b[49m\n\u001b[1;32m    174\u001b[0m \u001b[43m                             \u001b[49m\u001b[43mday\u001b[49m\u001b[43m \u001b[49m\u001b[38;5;241;43m=\u001b[39;49m\u001b[43m \u001b[49m\u001b[38;5;28;43mself\u001b[39;49m\u001b[38;5;241;43m.\u001b[39;49m\u001b[43m__month_day_to_day_number\u001b[49m\u001b[43m(\u001b[49m\u001b[38;5;28;43mself\u001b[39;49m\u001b[38;5;241;43m.\u001b[39;49m\u001b[43m__anno\u001b[49m\u001b[43m,\u001b[49m\u001b[43m \u001b[49m\u001b[38;5;28;43mself\u001b[39;49m\u001b[38;5;241;43m.\u001b[39;49m\u001b[43m__mese\u001b[49m\u001b[43m,\u001b[49m\u001b[43m \u001b[49m\u001b[38;5;28;43mself\u001b[39;49m\u001b[38;5;241;43m.\u001b[39;49m\u001b[43m__giorno\u001b[49m\u001b[43m)\u001b[49m\u001b[43m,\u001b[49m\n\u001b[1;32m    175\u001b[0m \u001b[43m                             \u001b[49m\u001b[43mquery_point\u001b[49m\u001b[38;5;241;43m=\u001b[39;49m\u001b[38;5;28;43mself\u001b[39;49m\u001b[38;5;241;43m.\u001b[39;49m\u001b[43m__coordinates\u001b[49m\u001b[43m,\u001b[49m\n\u001b[1;32m    176\u001b[0m \u001b[43m                             \u001b[49m\u001b[43mradius_meters\u001b[49m\u001b[38;5;241;43m=\u001b[39;49m\u001b[38;5;241;43m1000\u001b[39;49m\u001b[43m)\u001b[49m\n\u001b[1;32m    178\u001b[0m table \u001b[38;5;241m=\u001b[39m point_data\u001b[38;5;241m.\u001b[39mget_table()\n\u001b[1;32m    179\u001b[0m table[\u001b[38;5;124m'\u001b[39m\u001b[38;5;124mYYYY\u001b[39m\u001b[38;5;124m'\u001b[39m] \u001b[38;5;241m=\u001b[39m \u001b[38;5;28mself\u001b[39m\u001b[38;5;241m.\u001b[39m__anno\n",
      "File \u001b[0;32m~/thesis-wildfire-genovese/src/OnFireForest/PointDataLoader.py:93\u001b[0m, in \u001b[0;36mPointData.gather_point_data\u001b[0;34m(self, per_comune_gdf, altimetria_gdf, vegetazione_gdf, strade_gdf, meteo_gdf, day, query_point, radius_meters)\u001b[0m\n\u001b[1;32m     91\u001b[0m     \u001b[38;5;28mprint\u001b[39m(\u001b[38;5;124m'\u001b[39m\u001b[38;5;124minput day:\u001b[39m\u001b[38;5;124m'\u001b[39m, day)\n\u001b[1;32m     92\u001b[0m     \u001b[38;5;28mprint\u001b[39m(aux)\n\u001b[0;32m---> 93\u001b[0m     data_meteo \u001b[38;5;241m=\u001b[39m pd\u001b[38;5;241m.\u001b[39mSeries(aux[aux\u001b[38;5;241m.\u001b[39mday \u001b[38;5;241m==\u001b[39m day]\u001b[38;5;241m.\u001b[39mloc[\u001b[43maux\u001b[49m\u001b[43m[\u001b[49m\u001b[43maux\u001b[49m\u001b[38;5;241;43m.\u001b[39;49m\u001b[43mday\u001b[49m\u001b[43m \u001b[49m\u001b[38;5;241;43m==\u001b[39;49m\u001b[43m \u001b[49m\u001b[43mday\u001b[49m\u001b[43m]\u001b[49m\u001b[38;5;241;43m.\u001b[39;49m\u001b[43mindex\u001b[49m\u001b[43m[\u001b[49m\u001b[38;5;241;43m0\u001b[39;49m\u001b[43m]\u001b[49m,[col \u001b[38;5;28;01mfor\u001b[39;00m col \u001b[38;5;129;01min\u001b[39;00m aux\u001b[38;5;241m.\u001b[39mcolumns \u001b[38;5;28;01mif\u001b[39;00m col \u001b[38;5;129;01mnot\u001b[39;00m \u001b[38;5;129;01min\u001b[39;00m [\u001b[38;5;124m'\u001b[39m\u001b[38;5;124mgeometry\u001b[39m\u001b[38;5;124m'\u001b[39m, \u001b[38;5;124m'\u001b[39m\u001b[38;5;124mday\u001b[39m\u001b[38;5;124m'\u001b[39m, \u001b[38;5;124m'\u001b[39m\u001b[38;5;124mYYYY\u001b[39m\u001b[38;5;124m'\u001b[39m, \u001b[38;5;124m'\u001b[39m\u001b[38;5;124mheight\u001b[39m\u001b[38;5;124m'\u001b[39m]]])\n\u001b[1;32m     96\u001b[0m data \u001b[38;5;241m=\u001b[39m pd\u001b[38;5;241m.\u001b[39mconcat([data_per_comune, data_altimetria, data_vegetazione, data_strade, data_meteo], axis\u001b[38;5;241m=\u001b[39m\u001b[38;5;241m0\u001b[39m)\n\u001b[1;32m     98\u001b[0m \u001b[38;5;28mself\u001b[39m\u001b[38;5;241m.\u001b[39m__data \u001b[38;5;241m=\u001b[39m pd\u001b[38;5;241m.\u001b[39mDataFrame(data)\u001b[38;5;241m.\u001b[39mT\u001b[38;5;241m.\u001b[39mastype(\u001b[38;5;124m'\u001b[39m\u001b[38;5;124mfloat64\u001b[39m\u001b[38;5;124m'\u001b[39m)\n",
      "File \u001b[0;32m~/.venv/lib/python3.10/site-packages/pandas/core/indexes/base.py:5389\u001b[0m, in \u001b[0;36mIndex.__getitem__\u001b[0;34m(self, key)\u001b[0m\n\u001b[1;32m   5386\u001b[0m \u001b[38;5;28;01mif\u001b[39;00m is_integer(key) \u001b[38;5;129;01mor\u001b[39;00m is_float(key):\n\u001b[1;32m   5387\u001b[0m     \u001b[38;5;66;03m# GH#44051 exclude bool, which would return a 2d ndarray\u001b[39;00m\n\u001b[1;32m   5388\u001b[0m     key \u001b[38;5;241m=\u001b[39m com\u001b[38;5;241m.\u001b[39mcast_scalar_indexer(key)\n\u001b[0;32m-> 5389\u001b[0m     \u001b[38;5;28;01mreturn\u001b[39;00m \u001b[43mgetitem\u001b[49m\u001b[43m(\u001b[49m\u001b[43mkey\u001b[49m\u001b[43m)\u001b[49m\n\u001b[1;32m   5391\u001b[0m \u001b[38;5;28;01mif\u001b[39;00m \u001b[38;5;28misinstance\u001b[39m(key, \u001b[38;5;28mslice\u001b[39m):\n\u001b[1;32m   5392\u001b[0m     \u001b[38;5;66;03m# This case is separated from the conditional above to avoid\u001b[39;00m\n\u001b[1;32m   5393\u001b[0m     \u001b[38;5;66;03m# pessimization com.is_bool_indexer and ndim checks.\u001b[39;00m\n\u001b[1;32m   5394\u001b[0m     \u001b[38;5;28;01mreturn\u001b[39;00m \u001b[38;5;28mself\u001b[39m\u001b[38;5;241m.\u001b[39m_getitem_slice(key)\n",
      "\u001b[0;31mIndexError\u001b[0m: index 0 is out of bounds for axis 0 with size 0"
     ]
    }
   ],
   "source": [
    "P.load()"
   ]
  },
  {
   "cell_type": "code",
   "execution_count": 10,
   "id": "d31f5670",
   "metadata": {},
   "outputs": [
    {
     "name": "stderr",
     "output_type": "stream",
     "text": [
      " 36%|███▋      | 43/118 [36:47<1:04:09, 51.33s/it]\n"
     ]
    },
    {
     "ename": "IndexError",
     "evalue": "index 0 is out of bounds for axis 0 with size 0",
     "output_type": "error",
     "traceback": [
      "\u001b[0;31m---------------------------------------------------------------------------\u001b[0m",
      "\u001b[0;31mIndexError\u001b[0m                                Traceback (most recent call last)",
      "Cell \u001b[0;32mIn[10], line 3\u001b[0m\n\u001b[1;32m      1\u001b[0m \u001b[38;5;28;01mfor\u001b[39;00m i \u001b[38;5;129;01min\u001b[39;00m tqdm(d\u001b[38;5;241m.\u001b[39mindex):\n\u001b[1;32m      2\u001b[0m     P \u001b[38;5;241m=\u001b[39m PointDataLoader(anno \u001b[38;5;241m=\u001b[39m d\u001b[38;5;241m.\u001b[39mYYYY\u001b[38;5;241m.\u001b[39mloc[i], mese \u001b[38;5;241m=\u001b[39m d\u001b[38;5;241m.\u001b[39mMM\u001b[38;5;241m.\u001b[39mloc[i], giorno \u001b[38;5;241m=\u001b[39m d\u001b[38;5;241m.\u001b[39mDD\u001b[38;5;241m.\u001b[39mloc[i], x \u001b[38;5;241m=\u001b[39m d\u001b[38;5;241m.\u001b[39mgeometry\u001b[38;5;241m.\u001b[39mloc[i]\u001b[38;5;241m.\u001b[39mx, y \u001b[38;5;241m=\u001b[39m d\u001b[38;5;241m.\u001b[39mgeometry\u001b[38;5;241m.\u001b[39mloc[i]\u001b[38;5;241m.\u001b[39my, crs\u001b[38;5;241m=\u001b[39md\u001b[38;5;241m.\u001b[39mcrs)\n\u001b[0;32m----> 3\u001b[0m     \u001b[43mP\u001b[49m\u001b[38;5;241;43m.\u001b[39;49m\u001b[43mload\u001b[49m\u001b[43m(\u001b[49m\u001b[43m)\u001b[49m\n",
      "File \u001b[0;32m~/thesis-wildfire-genovese/src/OnFireForest/PointDataLoader.py:167\u001b[0m, in \u001b[0;36mPointDataLoader.load\u001b[0;34m(self, db_path)\u001b[0m\n\u001b[1;32m    164\u001b[0m strade_path \u001b[38;5;241m=\u001b[39m os\u001b[38;5;241m.\u001b[39mpath\u001b[38;5;241m.\u001b[39mjoin(db_path, \u001b[38;5;124mf\u001b[39m\u001b[38;5;124m'\u001b[39m\u001b[38;5;124mstrade.geojson\u001b[39m\u001b[38;5;124m'\u001b[39m)\n\u001b[1;32m    165\u001b[0m meteo_path \u001b[38;5;241m=\u001b[39m os\u001b[38;5;241m.\u001b[39mpath\u001b[38;5;241m.\u001b[39mjoin(db_path, \u001b[38;5;124mf\u001b[39m\u001b[38;5;124m'\u001b[39m\u001b[38;5;124mmeteo_\u001b[39m\u001b[38;5;132;01m{\u001b[39;00m\u001b[38;5;28mself\u001b[39m\u001b[38;5;241m.\u001b[39m__anno\u001b[38;5;132;01m}\u001b[39;00m\u001b[38;5;124m.geojson\u001b[39m\u001b[38;5;124m'\u001b[39m)\n\u001b[0;32m--> 167\u001b[0m \u001b[43mpoint_data\u001b[49m\u001b[38;5;241;43m.\u001b[39;49m\u001b[43mgather_point_data\u001b[49m\u001b[43m(\u001b[49m\u001b[43mgpd\u001b[49m\u001b[38;5;241;43m.\u001b[39;49m\u001b[43mread_file\u001b[49m\u001b[43m(\u001b[49m\u001b[43mper_comune_path\u001b[49m\u001b[43m)\u001b[49m\u001b[38;5;241;43m.\u001b[39;49m\u001b[43mto_crs\u001b[49m\u001b[43m(\u001b[49m\u001b[43mepsg\u001b[49m\u001b[38;5;241;43m=\u001b[39;49m\u001b[38;5;241;43m3857\u001b[39;49m\u001b[43m)\u001b[49m\u001b[43m,\u001b[49m\n\u001b[1;32m    168\u001b[0m \u001b[43m                             \u001b[49m\u001b[43mgpd\u001b[49m\u001b[38;5;241;43m.\u001b[39;49m\u001b[43mread_file\u001b[49m\u001b[43m(\u001b[49m\u001b[43maltimetria_path\u001b[49m\u001b[43m)\u001b[49m\u001b[38;5;241;43m.\u001b[39;49m\u001b[43mto_crs\u001b[49m\u001b[43m(\u001b[49m\u001b[43mepsg\u001b[49m\u001b[38;5;241;43m=\u001b[39;49m\u001b[38;5;241;43m3857\u001b[39;49m\u001b[43m)\u001b[49m\u001b[43m,\u001b[49m\n\u001b[1;32m    169\u001b[0m \u001b[43m                             \u001b[49m\u001b[43mgpd\u001b[49m\u001b[38;5;241;43m.\u001b[39;49m\u001b[43mread_file\u001b[49m\u001b[43m(\u001b[49m\u001b[43mvegetazione_path\u001b[49m\u001b[43m)\u001b[49m\u001b[38;5;241;43m.\u001b[39;49m\u001b[43mto_crs\u001b[49m\u001b[43m(\u001b[49m\u001b[43mepsg\u001b[49m\u001b[38;5;241;43m=\u001b[39;49m\u001b[38;5;241;43m3857\u001b[39;49m\u001b[43m)\u001b[49m\u001b[43m,\u001b[49m\n\u001b[1;32m    170\u001b[0m \u001b[43m                             \u001b[49m\u001b[43mgpd\u001b[49m\u001b[38;5;241;43m.\u001b[39;49m\u001b[43mread_file\u001b[49m\u001b[43m(\u001b[49m\u001b[43mstrade_path\u001b[49m\u001b[43m)\u001b[49m\u001b[38;5;241;43m.\u001b[39;49m\u001b[43mto_crs\u001b[49m\u001b[43m(\u001b[49m\u001b[43mepsg\u001b[49m\u001b[38;5;241;43m=\u001b[39;49m\u001b[38;5;241;43m3857\u001b[39;49m\u001b[43m)\u001b[49m\u001b[43m,\u001b[49m\n\u001b[1;32m    171\u001b[0m \u001b[43m                             \u001b[49m\u001b[43mgpd\u001b[49m\u001b[38;5;241;43m.\u001b[39;49m\u001b[43mread_file\u001b[49m\u001b[43m(\u001b[49m\u001b[43mmeteo_path\u001b[49m\u001b[43m)\u001b[49m\u001b[43m,\u001b[49m\n\u001b[1;32m    172\u001b[0m \u001b[43m                             \u001b[49m\u001b[43mday\u001b[49m\u001b[43m \u001b[49m\u001b[38;5;241;43m=\u001b[39;49m\u001b[43m \u001b[49m\u001b[38;5;28;43mself\u001b[39;49m\u001b[38;5;241;43m.\u001b[39;49m\u001b[43m__month_day_to_day_number\u001b[49m\u001b[43m(\u001b[49m\u001b[38;5;28;43mself\u001b[39;49m\u001b[38;5;241;43m.\u001b[39;49m\u001b[43m__anno\u001b[49m\u001b[43m,\u001b[49m\u001b[43m \u001b[49m\u001b[38;5;28;43mself\u001b[39;49m\u001b[38;5;241;43m.\u001b[39;49m\u001b[43m__mese\u001b[49m\u001b[43m,\u001b[49m\u001b[43m \u001b[49m\u001b[38;5;28;43mself\u001b[39;49m\u001b[38;5;241;43m.\u001b[39;49m\u001b[43m__giorno\u001b[49m\u001b[43m)\u001b[49m\u001b[43m,\u001b[49m\n\u001b[1;32m    173\u001b[0m \u001b[43m                             \u001b[49m\u001b[43mquery_point\u001b[49m\u001b[38;5;241;43m=\u001b[39;49m\u001b[38;5;28;43mself\u001b[39;49m\u001b[38;5;241;43m.\u001b[39;49m\u001b[43m__coordinates\u001b[49m\u001b[43m,\u001b[49m\n\u001b[1;32m    174\u001b[0m \u001b[43m                             \u001b[49m\u001b[43mradius_meters\u001b[49m\u001b[38;5;241;43m=\u001b[39;49m\u001b[38;5;241;43m1000\u001b[39;49m\u001b[43m)\u001b[49m\n\u001b[1;32m    176\u001b[0m table \u001b[38;5;241m=\u001b[39m point_data\u001b[38;5;241m.\u001b[39mget_table()\n\u001b[1;32m    177\u001b[0m table[\u001b[38;5;124m'\u001b[39m\u001b[38;5;124mYYYY\u001b[39m\u001b[38;5;124m'\u001b[39m] \u001b[38;5;241m=\u001b[39m \u001b[38;5;28mself\u001b[39m\u001b[38;5;241m.\u001b[39m__anno\n",
      "File \u001b[0;32m~/thesis-wildfire-genovese/src/OnFireForest/PointDataLoader.py:91\u001b[0m, in \u001b[0;36mPointData.gather_point_data\u001b[0;34m(self, per_comune_gdf, altimetria_gdf, vegetazione_gdf, strade_gdf, meteo_gdf, day, query_point, radius_meters)\u001b[0m\n\u001b[1;32m     89\u001b[0m     data_meteo \u001b[38;5;241m=\u001b[39m pd\u001b[38;5;241m.\u001b[39mSeries([\u001b[38;5;28;01mNone\u001b[39;00m]\u001b[38;5;241m*\u001b[39m\u001b[38;5;28mlen\u001b[39m(cols), index \u001b[38;5;241m=\u001b[39m cols)\n\u001b[1;32m     90\u001b[0m \u001b[38;5;28;01melse\u001b[39;00m:\n\u001b[0;32m---> 91\u001b[0m     data_meteo \u001b[38;5;241m=\u001b[39m pd\u001b[38;5;241m.\u001b[39mSeries(aux[aux\u001b[38;5;241m.\u001b[39mday \u001b[38;5;241m==\u001b[39m day]\u001b[38;5;241m.\u001b[39mloc[\u001b[43maux\u001b[49m\u001b[43m[\u001b[49m\u001b[43maux\u001b[49m\u001b[38;5;241;43m.\u001b[39;49m\u001b[43mday\u001b[49m\u001b[43m \u001b[49m\u001b[38;5;241;43m==\u001b[39;49m\u001b[43m \u001b[49m\u001b[43mday\u001b[49m\u001b[43m]\u001b[49m\u001b[38;5;241;43m.\u001b[39;49m\u001b[43mindex\u001b[49m\u001b[43m[\u001b[49m\u001b[38;5;241;43m0\u001b[39;49m\u001b[43m]\u001b[49m,[col \u001b[38;5;28;01mfor\u001b[39;00m col \u001b[38;5;129;01min\u001b[39;00m aux\u001b[38;5;241m.\u001b[39mcolumns \u001b[38;5;28;01mif\u001b[39;00m col \u001b[38;5;129;01mnot\u001b[39;00m \u001b[38;5;129;01min\u001b[39;00m [\u001b[38;5;124m'\u001b[39m\u001b[38;5;124mgeometry\u001b[39m\u001b[38;5;124m'\u001b[39m, \u001b[38;5;124m'\u001b[39m\u001b[38;5;124mday\u001b[39m\u001b[38;5;124m'\u001b[39m, \u001b[38;5;124m'\u001b[39m\u001b[38;5;124mYYYY\u001b[39m\u001b[38;5;124m'\u001b[39m, \u001b[38;5;124m'\u001b[39m\u001b[38;5;124mheight\u001b[39m\u001b[38;5;124m'\u001b[39m]]])\n\u001b[1;32m     94\u001b[0m data \u001b[38;5;241m=\u001b[39m pd\u001b[38;5;241m.\u001b[39mconcat([data_per_comune, data_altimetria, data_vegetazione, data_strade, data_meteo], axis\u001b[38;5;241m=\u001b[39m\u001b[38;5;241m0\u001b[39m)\n\u001b[1;32m     96\u001b[0m \u001b[38;5;28mself\u001b[39m\u001b[38;5;241m.\u001b[39m__data \u001b[38;5;241m=\u001b[39m pd\u001b[38;5;241m.\u001b[39mDataFrame(data)\u001b[38;5;241m.\u001b[39mT\u001b[38;5;241m.\u001b[39mastype(\u001b[38;5;124m'\u001b[39m\u001b[38;5;124mfloat64\u001b[39m\u001b[38;5;124m'\u001b[39m)\n",
      "File \u001b[0;32m~/.venv/lib/python3.10/site-packages/pandas/core/indexes/base.py:5389\u001b[0m, in \u001b[0;36mIndex.__getitem__\u001b[0;34m(self, key)\u001b[0m\n\u001b[1;32m   5386\u001b[0m \u001b[38;5;28;01mif\u001b[39;00m is_integer(key) \u001b[38;5;129;01mor\u001b[39;00m is_float(key):\n\u001b[1;32m   5387\u001b[0m     \u001b[38;5;66;03m# GH#44051 exclude bool, which would return a 2d ndarray\u001b[39;00m\n\u001b[1;32m   5388\u001b[0m     key \u001b[38;5;241m=\u001b[39m com\u001b[38;5;241m.\u001b[39mcast_scalar_indexer(key)\n\u001b[0;32m-> 5389\u001b[0m     \u001b[38;5;28;01mreturn\u001b[39;00m \u001b[43mgetitem\u001b[49m\u001b[43m(\u001b[49m\u001b[43mkey\u001b[49m\u001b[43m)\u001b[49m\n\u001b[1;32m   5391\u001b[0m \u001b[38;5;28;01mif\u001b[39;00m \u001b[38;5;28misinstance\u001b[39m(key, \u001b[38;5;28mslice\u001b[39m):\n\u001b[1;32m   5392\u001b[0m     \u001b[38;5;66;03m# This case is separated from the conditional above to avoid\u001b[39;00m\n\u001b[1;32m   5393\u001b[0m     \u001b[38;5;66;03m# pessimization com.is_bool_indexer and ndim checks.\u001b[39;00m\n\u001b[1;32m   5394\u001b[0m     \u001b[38;5;28;01mreturn\u001b[39;00m \u001b[38;5;28mself\u001b[39m\u001b[38;5;241m.\u001b[39m_getitem_slice(key)\n",
      "\u001b[0;31mIndexError\u001b[0m: index 0 is out of bounds for axis 0 with size 0"
     ]
    }
   ],
   "source": [
    "for i in tqdm(d.index):\n",
    "    P = PointDataLoader(anno = d.YYYY.loc[i], mese = d.MM.loc[i], giorno = d.DD.loc[i], x = d.geometry.loc[i].x, y = d.geometry.loc[i].y, crs=d.crs)\n",
    "    P.load()"
   ]
  },
  {
   "cell_type": "markdown",
   "id": "8e2a3754",
   "metadata": {},
   "source": [
    "---"
   ]
  },
  {
   "cell_type": "code",
   "execution_count": null,
   "id": "56ee49fd",
   "metadata": {},
   "outputs": [],
   "source": [
    "dic = {'Pianura': 0,\n",
    "       'Collina': 1,\n",
    "       'Montagna': 2}\n",
    "gdf['zalt'] = gdf['zalt_des'].map(dic)"
   ]
  },
  {
   "cell_type": "code",
   "execution_count": null,
   "id": "10921462",
   "metadata": {},
   "outputs": [],
   "source": [
    "gdf.drop(columns=['cod_istat', 'zalt_des'], inplace=True)\n",
    "gdf.rename(columns={'zalt': 'zona_altimetrica'}, inplace=True)"
   ]
  },
  {
   "cell_type": "code",
   "execution_count": null,
   "id": "3b77029a",
   "metadata": {},
   "outputs": [],
   "source": [
    "dic = dict.fromkeys([col for col in gdf.columns if col not in ['geometry']])\n",
    "for a in dic:\n",
    "    dic[a] = 'ALTIMETRIA_'+a\n",
    "\n",
    "gdf.rename(columns=dic, inplace=True)"
   ]
  },
  {
   "cell_type": "code",
   "execution_count": null,
   "id": "05c0e297",
   "metadata": {},
   "outputs": [],
   "source": [
    "gdf.to_file('/nfs/home/genovese/thesis-wildfire-genovese/database/altimetria.geojson', driver='GeoJSON', index=False)"
   ]
  },
  {
   "cell_type": "markdown",
   "id": "fc344a7a",
   "metadata": {},
   "source": [
    "---"
   ]
  },
  {
   "cell_type": "code",
   "execution_count": null,
   "id": "7b498ce5",
   "metadata": {},
   "outputs": [],
   "source": [
    "mising = df[df.height.isna()]\n",
    "# 45 points"
   ]
  },
  {
   "cell_type": "code",
   "execution_count": null,
   "id": "4ccc31cb",
   "metadata": {},
   "outputs": [],
   "source": [
    "# got from https://twcc.fr/\n",
    "fill = {1: 1580,\n",
    " 125: 569,\n",
    " 131: 1049,\n",
    " 146: 1447,\n",
    " 165: 1345,\n",
    " 217: 1530,\n",
    " 225: 1339,\n",
    " 227: 1361,\n",
    " 230: 1389,\n",
    " 258: 563,\n",
    " 274: 614,\n",
    " 351: 248,\n",
    " 383: 642,\n",
    " 394: 725,\n",
    " 396: 1298,\n",
    " 397: 1536,\n",
    " 404: 766,\n",
    " 438: 1093,\n",
    " 440: 1034,\n",
    " 443: 1356,\n",
    " 448: 1053,\n",
    " 458: 1494,\n",
    " 460: 1298,\n",
    " 461: 1029,\n",
    " 468: 559,\n",
    " 476: 1428,\n",
    " 477: 1769,\n",
    " 482: 1538,\n",
    " 484: 1436,\n",
    " 501: 406,\n",
    " 504: 891,\n",
    " 634: 344,\n",
    " 635: 373,\n",
    " 760: 428,\n",
    " 772: 891,\n",
    " 826: 1039,\n",
    " 866: 533,\n",
    " 996: 1068,\n",
    " 1011: 568,\n",
    " 1012: 568,\n",
    " 1025: 812,\n",
    " 1035: 585,\n",
    " 1148: 742,\n",
    " 1174: 1128,\n",
    " 1206: 923}"
   ]
  },
  {
   "cell_type": "code",
   "execution_count": null,
   "id": "b729d876",
   "metadata": {},
   "outputs": [],
   "source": [
    "df['height'].fillna(fill, inplace=True)"
   ]
  },
  {
   "cell_type": "code",
   "execution_count": null,
   "id": "b17cbf3c",
   "metadata": {},
   "outputs": [],
   "source": [
    "save_clean_data(df, 'kriging_weather_grid', '/nfs/home/genovese/thesis-wildfire-genovese/data/data_loader_for_kriging' )"
   ]
  }
 ],
 "metadata": {
  "kernelspec": {
   "display_name": ".venv",
   "language": "python",
   "name": "python3"
  },
  "language_info": {
   "codemirror_mode": {
    "name": "ipython",
    "version": 3
   },
   "file_extension": ".py",
   "mimetype": "text/x-python",
   "name": "python",
   "nbconvert_exporter": "python",
   "pygments_lexer": "ipython3",
   "version": "3.10.17"
  }
 },
 "nbformat": 4,
 "nbformat_minor": 5
}
