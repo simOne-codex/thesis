{
 "cells": [
  {
   "cell_type": "code",
   "execution_count": 1,
   "id": "5f733d06",
   "metadata": {},
   "outputs": [],
   "source": [
    "import sys \n",
    "sys.path.append(rf\"/nfs/home/genovese/thesis-wildfire-genovese/src\")\n",
    "from importlib import reload\n",
    "import utils\n",
    "reload(utils)\n",
    "from utils import *\n",
    "sys.path.append(rf'/nfs/home/genovese/thesis-wildfire-genovese/src/OnFireForest')\n",
    "from PointDataLoader import PointDataLoader"
   ]
  },
  {
   "cell_type": "code",
   "execution_count": 3,
   "id": "56e27654",
   "metadata": {},
   "outputs": [],
   "source": [
    "import pickle \n",
    "with open('/nfs/home/genovese/thesis-wildfire-genovese/data/data_loader_for_kriging/data_for_weather_kriging.pkl', 'rb') as f:\n",
    "     loaded_dict = pickle.load(f)\n",
    "\n",
    "ignitions = gpd.read_file('/nfs/home/genovese/thesis-wildfire-genovese/data/data_loader_for_kriging/kriging_negative_weather_grid.geojson')"
   ]
  },
  {
   "cell_type": "code",
   "execution_count": null,
   "id": "9e00c5fa",
   "metadata": {},
   "outputs": [],
   "source": [
    "d = ignitions[ignitions.YYYY == 2016]\n",
    "# f = loaded_dict[2016]['rtot']\n",
    "meteo = gpd.read_file('/nfs/home/genovese/thesis-wildfire-genovese/database/meteo_2016.geojson')"
   ]
  },
  {
   "cell_type": "code",
   "execution_count": 10,
   "id": "d31f5670",
   "metadata": {},
   "outputs": [
    {
     "name": "stderr",
     "output_type": "stream",
     "text": [
      " 36%|███▋      | 43/118 [36:47<1:04:09, 51.33s/it]\n"
     ]
    },
    {
     "ename": "IndexError",
     "evalue": "index 0 is out of bounds for axis 0 with size 0",
     "output_type": "error",
     "traceback": [
      "\u001b[0;31m---------------------------------------------------------------------------\u001b[0m",
      "\u001b[0;31mIndexError\u001b[0m                                Traceback (most recent call last)",
      "Cell \u001b[0;32mIn[10], line 3\u001b[0m\n\u001b[1;32m      1\u001b[0m \u001b[38;5;28;01mfor\u001b[39;00m i \u001b[38;5;129;01min\u001b[39;00m tqdm(d\u001b[38;5;241m.\u001b[39mindex):\n\u001b[1;32m      2\u001b[0m     P \u001b[38;5;241m=\u001b[39m PointDataLoader(anno \u001b[38;5;241m=\u001b[39m d\u001b[38;5;241m.\u001b[39mYYYY\u001b[38;5;241m.\u001b[39mloc[i], mese \u001b[38;5;241m=\u001b[39m d\u001b[38;5;241m.\u001b[39mMM\u001b[38;5;241m.\u001b[39mloc[i], giorno \u001b[38;5;241m=\u001b[39m d\u001b[38;5;241m.\u001b[39mDD\u001b[38;5;241m.\u001b[39mloc[i], x \u001b[38;5;241m=\u001b[39m d\u001b[38;5;241m.\u001b[39mgeometry\u001b[38;5;241m.\u001b[39mloc[i]\u001b[38;5;241m.\u001b[39mx, y \u001b[38;5;241m=\u001b[39m d\u001b[38;5;241m.\u001b[39mgeometry\u001b[38;5;241m.\u001b[39mloc[i]\u001b[38;5;241m.\u001b[39my, crs\u001b[38;5;241m=\u001b[39md\u001b[38;5;241m.\u001b[39mcrs)\n\u001b[0;32m----> 3\u001b[0m     \u001b[43mP\u001b[49m\u001b[38;5;241;43m.\u001b[39;49m\u001b[43mload\u001b[49m\u001b[43m(\u001b[49m\u001b[43m)\u001b[49m\n",
      "File \u001b[0;32m~/thesis-wildfire-genovese/src/OnFireForest/PointDataLoader.py:167\u001b[0m, in \u001b[0;36mPointDataLoader.load\u001b[0;34m(self, db_path)\u001b[0m\n\u001b[1;32m    164\u001b[0m strade_path \u001b[38;5;241m=\u001b[39m os\u001b[38;5;241m.\u001b[39mpath\u001b[38;5;241m.\u001b[39mjoin(db_path, \u001b[38;5;124mf\u001b[39m\u001b[38;5;124m'\u001b[39m\u001b[38;5;124mstrade.geojson\u001b[39m\u001b[38;5;124m'\u001b[39m)\n\u001b[1;32m    165\u001b[0m meteo_path \u001b[38;5;241m=\u001b[39m os\u001b[38;5;241m.\u001b[39mpath\u001b[38;5;241m.\u001b[39mjoin(db_path, \u001b[38;5;124mf\u001b[39m\u001b[38;5;124m'\u001b[39m\u001b[38;5;124mmeteo_\u001b[39m\u001b[38;5;132;01m{\u001b[39;00m\u001b[38;5;28mself\u001b[39m\u001b[38;5;241m.\u001b[39m__anno\u001b[38;5;132;01m}\u001b[39;00m\u001b[38;5;124m.geojson\u001b[39m\u001b[38;5;124m'\u001b[39m)\n\u001b[0;32m--> 167\u001b[0m \u001b[43mpoint_data\u001b[49m\u001b[38;5;241;43m.\u001b[39;49m\u001b[43mgather_point_data\u001b[49m\u001b[43m(\u001b[49m\u001b[43mgpd\u001b[49m\u001b[38;5;241;43m.\u001b[39;49m\u001b[43mread_file\u001b[49m\u001b[43m(\u001b[49m\u001b[43mper_comune_path\u001b[49m\u001b[43m)\u001b[49m\u001b[38;5;241;43m.\u001b[39;49m\u001b[43mto_crs\u001b[49m\u001b[43m(\u001b[49m\u001b[43mepsg\u001b[49m\u001b[38;5;241;43m=\u001b[39;49m\u001b[38;5;241;43m3857\u001b[39;49m\u001b[43m)\u001b[49m\u001b[43m,\u001b[49m\n\u001b[1;32m    168\u001b[0m \u001b[43m                             \u001b[49m\u001b[43mgpd\u001b[49m\u001b[38;5;241;43m.\u001b[39;49m\u001b[43mread_file\u001b[49m\u001b[43m(\u001b[49m\u001b[43maltimetria_path\u001b[49m\u001b[43m)\u001b[49m\u001b[38;5;241;43m.\u001b[39;49m\u001b[43mto_crs\u001b[49m\u001b[43m(\u001b[49m\u001b[43mepsg\u001b[49m\u001b[38;5;241;43m=\u001b[39;49m\u001b[38;5;241;43m3857\u001b[39;49m\u001b[43m)\u001b[49m\u001b[43m,\u001b[49m\n\u001b[1;32m    169\u001b[0m \u001b[43m                             \u001b[49m\u001b[43mgpd\u001b[49m\u001b[38;5;241;43m.\u001b[39;49m\u001b[43mread_file\u001b[49m\u001b[43m(\u001b[49m\u001b[43mvegetazione_path\u001b[49m\u001b[43m)\u001b[49m\u001b[38;5;241;43m.\u001b[39;49m\u001b[43mto_crs\u001b[49m\u001b[43m(\u001b[49m\u001b[43mepsg\u001b[49m\u001b[38;5;241;43m=\u001b[39;49m\u001b[38;5;241;43m3857\u001b[39;49m\u001b[43m)\u001b[49m\u001b[43m,\u001b[49m\n\u001b[1;32m    170\u001b[0m \u001b[43m                             \u001b[49m\u001b[43mgpd\u001b[49m\u001b[38;5;241;43m.\u001b[39;49m\u001b[43mread_file\u001b[49m\u001b[43m(\u001b[49m\u001b[43mstrade_path\u001b[49m\u001b[43m)\u001b[49m\u001b[38;5;241;43m.\u001b[39;49m\u001b[43mto_crs\u001b[49m\u001b[43m(\u001b[49m\u001b[43mepsg\u001b[49m\u001b[38;5;241;43m=\u001b[39;49m\u001b[38;5;241;43m3857\u001b[39;49m\u001b[43m)\u001b[49m\u001b[43m,\u001b[49m\n\u001b[1;32m    171\u001b[0m \u001b[43m                             \u001b[49m\u001b[43mgpd\u001b[49m\u001b[38;5;241;43m.\u001b[39;49m\u001b[43mread_file\u001b[49m\u001b[43m(\u001b[49m\u001b[43mmeteo_path\u001b[49m\u001b[43m)\u001b[49m\u001b[43m,\u001b[49m\n\u001b[1;32m    172\u001b[0m \u001b[43m                             \u001b[49m\u001b[43mday\u001b[49m\u001b[43m \u001b[49m\u001b[38;5;241;43m=\u001b[39;49m\u001b[43m \u001b[49m\u001b[38;5;28;43mself\u001b[39;49m\u001b[38;5;241;43m.\u001b[39;49m\u001b[43m__month_day_to_day_number\u001b[49m\u001b[43m(\u001b[49m\u001b[38;5;28;43mself\u001b[39;49m\u001b[38;5;241;43m.\u001b[39;49m\u001b[43m__anno\u001b[49m\u001b[43m,\u001b[49m\u001b[43m \u001b[49m\u001b[38;5;28;43mself\u001b[39;49m\u001b[38;5;241;43m.\u001b[39;49m\u001b[43m__mese\u001b[49m\u001b[43m,\u001b[49m\u001b[43m \u001b[49m\u001b[38;5;28;43mself\u001b[39;49m\u001b[38;5;241;43m.\u001b[39;49m\u001b[43m__giorno\u001b[49m\u001b[43m)\u001b[49m\u001b[43m,\u001b[49m\n\u001b[1;32m    173\u001b[0m \u001b[43m                             \u001b[49m\u001b[43mquery_point\u001b[49m\u001b[38;5;241;43m=\u001b[39;49m\u001b[38;5;28;43mself\u001b[39;49m\u001b[38;5;241;43m.\u001b[39;49m\u001b[43m__coordinates\u001b[49m\u001b[43m,\u001b[49m\n\u001b[1;32m    174\u001b[0m \u001b[43m                             \u001b[49m\u001b[43mradius_meters\u001b[49m\u001b[38;5;241;43m=\u001b[39;49m\u001b[38;5;241;43m1000\u001b[39;49m\u001b[43m)\u001b[49m\n\u001b[1;32m    176\u001b[0m table \u001b[38;5;241m=\u001b[39m point_data\u001b[38;5;241m.\u001b[39mget_table()\n\u001b[1;32m    177\u001b[0m table[\u001b[38;5;124m'\u001b[39m\u001b[38;5;124mYYYY\u001b[39m\u001b[38;5;124m'\u001b[39m] \u001b[38;5;241m=\u001b[39m \u001b[38;5;28mself\u001b[39m\u001b[38;5;241m.\u001b[39m__anno\n",
      "File \u001b[0;32m~/thesis-wildfire-genovese/src/OnFireForest/PointDataLoader.py:91\u001b[0m, in \u001b[0;36mPointData.gather_point_data\u001b[0;34m(self, per_comune_gdf, altimetria_gdf, vegetazione_gdf, strade_gdf, meteo_gdf, day, query_point, radius_meters)\u001b[0m\n\u001b[1;32m     89\u001b[0m     data_meteo \u001b[38;5;241m=\u001b[39m pd\u001b[38;5;241m.\u001b[39mSeries([\u001b[38;5;28;01mNone\u001b[39;00m]\u001b[38;5;241m*\u001b[39m\u001b[38;5;28mlen\u001b[39m(cols), index \u001b[38;5;241m=\u001b[39m cols)\n\u001b[1;32m     90\u001b[0m \u001b[38;5;28;01melse\u001b[39;00m:\n\u001b[0;32m---> 91\u001b[0m     data_meteo \u001b[38;5;241m=\u001b[39m pd\u001b[38;5;241m.\u001b[39mSeries(aux[aux\u001b[38;5;241m.\u001b[39mday \u001b[38;5;241m==\u001b[39m day]\u001b[38;5;241m.\u001b[39mloc[\u001b[43maux\u001b[49m\u001b[43m[\u001b[49m\u001b[43maux\u001b[49m\u001b[38;5;241;43m.\u001b[39;49m\u001b[43mday\u001b[49m\u001b[43m \u001b[49m\u001b[38;5;241;43m==\u001b[39;49m\u001b[43m \u001b[49m\u001b[43mday\u001b[49m\u001b[43m]\u001b[49m\u001b[38;5;241;43m.\u001b[39;49m\u001b[43mindex\u001b[49m\u001b[43m[\u001b[49m\u001b[38;5;241;43m0\u001b[39;49m\u001b[43m]\u001b[49m,[col \u001b[38;5;28;01mfor\u001b[39;00m col \u001b[38;5;129;01min\u001b[39;00m aux\u001b[38;5;241m.\u001b[39mcolumns \u001b[38;5;28;01mif\u001b[39;00m col \u001b[38;5;129;01mnot\u001b[39;00m \u001b[38;5;129;01min\u001b[39;00m [\u001b[38;5;124m'\u001b[39m\u001b[38;5;124mgeometry\u001b[39m\u001b[38;5;124m'\u001b[39m, \u001b[38;5;124m'\u001b[39m\u001b[38;5;124mday\u001b[39m\u001b[38;5;124m'\u001b[39m, \u001b[38;5;124m'\u001b[39m\u001b[38;5;124mYYYY\u001b[39m\u001b[38;5;124m'\u001b[39m, \u001b[38;5;124m'\u001b[39m\u001b[38;5;124mheight\u001b[39m\u001b[38;5;124m'\u001b[39m]]])\n\u001b[1;32m     94\u001b[0m data \u001b[38;5;241m=\u001b[39m pd\u001b[38;5;241m.\u001b[39mconcat([data_per_comune, data_altimetria, data_vegetazione, data_strade, data_meteo], axis\u001b[38;5;241m=\u001b[39m\u001b[38;5;241m0\u001b[39m)\n\u001b[1;32m     96\u001b[0m \u001b[38;5;28mself\u001b[39m\u001b[38;5;241m.\u001b[39m__data \u001b[38;5;241m=\u001b[39m pd\u001b[38;5;241m.\u001b[39mDataFrame(data)\u001b[38;5;241m.\u001b[39mT\u001b[38;5;241m.\u001b[39mastype(\u001b[38;5;124m'\u001b[39m\u001b[38;5;124mfloat64\u001b[39m\u001b[38;5;124m'\u001b[39m)\n",
      "File \u001b[0;32m~/.venv/lib/python3.10/site-packages/pandas/core/indexes/base.py:5389\u001b[0m, in \u001b[0;36mIndex.__getitem__\u001b[0;34m(self, key)\u001b[0m\n\u001b[1;32m   5386\u001b[0m \u001b[38;5;28;01mif\u001b[39;00m is_integer(key) \u001b[38;5;129;01mor\u001b[39;00m is_float(key):\n\u001b[1;32m   5387\u001b[0m     \u001b[38;5;66;03m# GH#44051 exclude bool, which would return a 2d ndarray\u001b[39;00m\n\u001b[1;32m   5388\u001b[0m     key \u001b[38;5;241m=\u001b[39m com\u001b[38;5;241m.\u001b[39mcast_scalar_indexer(key)\n\u001b[0;32m-> 5389\u001b[0m     \u001b[38;5;28;01mreturn\u001b[39;00m \u001b[43mgetitem\u001b[49m\u001b[43m(\u001b[49m\u001b[43mkey\u001b[49m\u001b[43m)\u001b[49m\n\u001b[1;32m   5391\u001b[0m \u001b[38;5;28;01mif\u001b[39;00m \u001b[38;5;28misinstance\u001b[39m(key, \u001b[38;5;28mslice\u001b[39m):\n\u001b[1;32m   5392\u001b[0m     \u001b[38;5;66;03m# This case is separated from the conditional above to avoid\u001b[39;00m\n\u001b[1;32m   5393\u001b[0m     \u001b[38;5;66;03m# pessimization com.is_bool_indexer and ndim checks.\u001b[39;00m\n\u001b[1;32m   5394\u001b[0m     \u001b[38;5;28;01mreturn\u001b[39;00m \u001b[38;5;28mself\u001b[39m\u001b[38;5;241m.\u001b[39m_getitem_slice(key)\n",
      "\u001b[0;31mIndexError\u001b[0m: index 0 is out of bounds for axis 0 with size 0"
     ]
    }
   ],
   "source": [
    "for i in tqdm(d.index):\n",
    "    P = PointDataLoader(anno = d.YYYY.loc[i], mese = d.MM.loc[i], giorno = d.DD.loc[i], x = d.geometry.loc[i].x, y = d.geometry.loc[i].y, crs=d.crs)\n",
    "    P.load()"
   ]
  },
  {
   "cell_type": "code",
   "execution_count": 26,
   "id": "93b77a21",
   "metadata": {},
   "outputs": [],
   "source": [
    "row = d.iloc[43]"
   ]
  },
  {
   "cell_type": "code",
   "execution_count": 27,
   "id": "9ee39fa3",
   "metadata": {},
   "outputs": [
    {
     "data": {
      "text/plain": [
       "YYYY                                              2016\n",
       "day                                                335\n",
       "height                                          2201.0\n",
       "DD                                                  30\n",
       "MM                                                  10\n",
       "geometry    POINT (773225.306140101 5620903.479513713)\n",
       "Name: 371, dtype: object"
      ]
     },
     "execution_count": 27,
     "metadata": {},
     "output_type": "execute_result"
    }
   ],
   "source": [
    "row"
   ]
  },
  {
   "cell_type": "code",
   "execution_count": 28,
   "id": "855aa7b7",
   "metadata": {},
   "outputs": [
    {
     "data": {
      "text/plain": [
       "tmedia                  0.038915\n",
       "tmax                    6.543246\n",
       "tmin                   -6.230928\n",
       "ptot                    0.052354\n",
       "vmedia                  2.062415\n",
       "vraffica                6.572014\n",
       "settore_prevalente     11.013124\n",
       "tempo_permanenza      754.384098\n",
       "durata_calma           23.416963\n",
       "umedia                 19.698237\n",
       "umin                   11.693637\n",
       "umax                   34.120215\n",
       "rtot                    7.486227\n",
       "hdd_base18             16.857544\n",
       "hdd_base20             18.857544\n",
       "cdd_base18                   0.0\n",
       "Name: 66, dtype: object"
      ]
     },
     "execution_count": 28,
     "metadata": {},
     "output_type": "execute_result"
    }
   ],
   "source": [
    "aux=meteo\n",
    "pd.Series(aux[aux.day == row.day].loc[aux[aux.day == row.day].index[0],[col for col in aux.columns if col not in ['geometry', 'day', 'YYYY', 'height']]])"
   ]
  },
  {
   "cell_type": "markdown",
   "id": "80a69dc5",
   "metadata": {},
   "source": [
    "---"
   ]
  },
  {
   "cell_type": "code",
   "execution_count": null,
   "id": "87bc93fb",
   "metadata": {},
   "outputs": [],
   "source": [
    "target = gpd.read_file('/nfs/home/genovese/thesis-wildfire-genovese/data/data_loader_for_kriging/kriging_negative_weather_grid.geojson')"
   ]
  },
  {
   "cell_type": "code",
   "execution_count": 28,
   "id": "ccb0b37d",
   "metadata": {},
   "outputs": [],
   "source": [
    "def reverse_day(year, day):\n",
    "    feb = 28\n",
    "    if year in list(range(2000, 2025, 4)):\n",
    "        feb += 1\n",
    "            \n",
    "    days_per_month = [31, feb, 31, 30, 31, 30, 31, 31, 30, 31, 30, 31]\n",
    "\n",
    "    for index, month in enumerate(days_per_month):\n",
    "        if (day - month) == 0:\n",
    "            return (month, index)\n",
    "        elif (day - month) > 0:\n",
    "            day -= month\n",
    "        else:\n",
    "            return (day, index+1)\n"
   ]
  },
  {
   "cell_type": "code",
   "execution_count": 32,
   "id": "e0a2b31f",
   "metadata": {},
   "outputs": [],
   "source": [
    "target['DD'] = target.apply(lambda x: reverse_day(x['YYYY'], x['day'])[0], axis=1)\n",
    "target['MM'] = target.apply(lambda x: reverse_day(x['YYYY'], x['day'])[1], axis=1)"
   ]
  },
  {
   "cell_type": "code",
   "execution_count": 34,
   "id": "90b76fee",
   "metadata": {},
   "outputs": [],
   "source": [
    "target.to_file('/nfs/home/genovese/thesis-wildfire-genovese/data/data_loader_for_kriging/kriging_negative_weather_grid.geojson', index=False)"
   ]
  },
  {
   "cell_type": "markdown",
   "id": "8e2a3754",
   "metadata": {},
   "source": [
    "---"
   ]
  },
  {
   "cell_type": "code",
   "execution_count": null,
   "id": "56ee49fd",
   "metadata": {},
   "outputs": [],
   "source": [
    "dic = {'Pianura': 0,\n",
    "       'Collina': 1,\n",
    "       'Montagna': 2}\n",
    "gdf['zalt'] = gdf['zalt_des'].map(dic)"
   ]
  },
  {
   "cell_type": "code",
   "execution_count": null,
   "id": "10921462",
   "metadata": {},
   "outputs": [],
   "source": [
    "gdf.drop(columns=['cod_istat', 'zalt_des'], inplace=True)\n",
    "gdf.rename(columns={'zalt': 'zona_altimetrica'}, inplace=True)"
   ]
  },
  {
   "cell_type": "code",
   "execution_count": null,
   "id": "3b77029a",
   "metadata": {},
   "outputs": [],
   "source": [
    "dic = dict.fromkeys([col for col in gdf.columns if col not in ['geometry']])\n",
    "for a in dic:\n",
    "    dic[a] = 'ALTIMETRIA_'+a\n",
    "\n",
    "gdf.rename(columns=dic, inplace=True)"
   ]
  },
  {
   "cell_type": "code",
   "execution_count": null,
   "id": "05c0e297",
   "metadata": {},
   "outputs": [],
   "source": [
    "gdf.to_file('/nfs/home/genovese/thesis-wildfire-genovese/database/altimetria.geojson', driver='GeoJSON', index=False)"
   ]
  },
  {
   "cell_type": "markdown",
   "id": "fc344a7a",
   "metadata": {},
   "source": [
    "---"
   ]
  },
  {
   "cell_type": "code",
   "execution_count": null,
   "id": "7b498ce5",
   "metadata": {},
   "outputs": [],
   "source": [
    "mising = df[df.height.isna()]\n",
    "# 45 points"
   ]
  },
  {
   "cell_type": "code",
   "execution_count": null,
   "id": "4ccc31cb",
   "metadata": {},
   "outputs": [],
   "source": [
    "# got from https://twcc.fr/\n",
    "fill = {1: 1580,\n",
    " 125: 569,\n",
    " 131: 1049,\n",
    " 146: 1447,\n",
    " 165: 1345,\n",
    " 217: 1530,\n",
    " 225: 1339,\n",
    " 227: 1361,\n",
    " 230: 1389,\n",
    " 258: 563,\n",
    " 274: 614,\n",
    " 351: 248,\n",
    " 383: 642,\n",
    " 394: 725,\n",
    " 396: 1298,\n",
    " 397: 1536,\n",
    " 404: 766,\n",
    " 438: 1093,\n",
    " 440: 1034,\n",
    " 443: 1356,\n",
    " 448: 1053,\n",
    " 458: 1494,\n",
    " 460: 1298,\n",
    " 461: 1029,\n",
    " 468: 559,\n",
    " 476: 1428,\n",
    " 477: 1769,\n",
    " 482: 1538,\n",
    " 484: 1436,\n",
    " 501: 406,\n",
    " 504: 891,\n",
    " 634: 344,\n",
    " 635: 373,\n",
    " 760: 428,\n",
    " 772: 891,\n",
    " 826: 1039,\n",
    " 866: 533,\n",
    " 996: 1068,\n",
    " 1011: 568,\n",
    " 1012: 568,\n",
    " 1025: 812,\n",
    " 1035: 585,\n",
    " 1148: 742,\n",
    " 1174: 1128,\n",
    " 1206: 923}"
   ]
  },
  {
   "cell_type": "code",
   "execution_count": null,
   "id": "b729d876",
   "metadata": {},
   "outputs": [],
   "source": [
    "df['height'].fillna(fill, inplace=True)"
   ]
  },
  {
   "cell_type": "code",
   "execution_count": null,
   "id": "b17cbf3c",
   "metadata": {},
   "outputs": [],
   "source": [
    "save_clean_data(df, 'kriging_weather_grid', '/nfs/home/genovese/thesis-wildfire-genovese/data/data_loader_for_kriging' )"
   ]
  }
 ],
 "metadata": {
  "kernelspec": {
   "display_name": ".venv",
   "language": "python",
   "name": "python3"
  },
  "language_info": {
   "codemirror_mode": {
    "name": "ipython",
    "version": 3
   },
   "file_extension": ".py",
   "mimetype": "text/x-python",
   "name": "python",
   "nbconvert_exporter": "python",
   "pygments_lexer": "ipython3",
   "version": "3.10.17"
  }
 },
 "nbformat": 4,
 "nbformat_minor": 5
}
