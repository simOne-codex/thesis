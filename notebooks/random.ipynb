{
 "cells": [
  {
   "cell_type": "code",
   "execution_count": 1,
   "id": "5f733d06",
   "metadata": {},
   "outputs": [],
   "source": [
    "import sys \n",
    "sys.path.append(rf\"/nfs/home/genovese/thesis-wildfire-genovese/src\")\n",
    "from importlib import reload\n",
    "import utils\n",
    "reload(utils)\n",
    "from utils import *"
   ]
  },
  {
   "cell_type": "code",
   "execution_count": 7,
   "id": "7ea69cd1",
   "metadata": {},
   "outputs": [],
   "source": [
    "import pickle\n",
    "with open('/nfs/home/genovese/thesis-wildfire-genovese/outputs/random_forest/classification_non_kriged/classification_non_kriged_scores.pkl', 'rb') as f:\n",
    "    results = pickle.load(f)"
   ]
  },
  {
   "cell_type": "code",
   "execution_count": 8,
   "id": "306c6e69",
   "metadata": {},
   "outputs": [
    {
     "data": {
      "text/plain": [
       "{'train': {'recall': [1.0, 1.0, 1.0, 1.0, 1.0, 1.0, 1.0, 1.0, 1.0, 1.0],\n",
       "  'f1': [1.0, 1.0, 1.0, 1.0, 1.0, 1.0, 1.0, 1.0, 1.0, 1.0]},\n",
       " 'validation': {'recall': [0.4292099618415408,\n",
       "   0.44002279834847835,\n",
       "   0.4434911554374642,\n",
       "   0.482816810836945,\n",
       "   0.4666404585867673,\n",
       "   0.45483254661107014,\n",
       "   0.4874051959622429,\n",
       "   0.4621255372933225,\n",
       "   0.4689966886275611,\n",
       "   0.4710511879974968],\n",
       "  'f1': [0.4158874867481758,\n",
       "   0.4322116811478514,\n",
       "   0.4411455827201185,\n",
       "   0.4934543655053811,\n",
       "   0.4777432551345594,\n",
       "   0.44847129210500025,\n",
       "   0.5058721783376752,\n",
       "   0.4653079949507989,\n",
       "   0.46958542550083954,\n",
       "   0.48056175681903124]}}"
      ]
     },
     "execution_count": 8,
     "metadata": {},
     "output_type": "execute_result"
    }
   ],
   "source": [
    "results"
   ]
  },
  {
   "cell_type": "markdown",
   "id": "8e2a3754",
   "metadata": {},
   "source": [
    "---"
   ]
  },
  {
   "cell_type": "code",
   "execution_count": null,
   "id": "56ee49fd",
   "metadata": {},
   "outputs": [],
   "source": [
    "dic = {'Pianura': 0,\n",
    "       'Collina': 1,\n",
    "       'Montagna': 2}\n",
    "gdf['zalt'] = gdf['zalt_des'].map(dic)"
   ]
  },
  {
   "cell_type": "code",
   "execution_count": null,
   "id": "10921462",
   "metadata": {},
   "outputs": [],
   "source": [
    "gdf.drop(columns=['cod_istat', 'zalt_des'], inplace=True)\n",
    "gdf.rename(columns={'zalt': 'zona_altimetrica'}, inplace=True)"
   ]
  },
  {
   "cell_type": "code",
   "execution_count": null,
   "id": "3b77029a",
   "metadata": {},
   "outputs": [],
   "source": [
    "dic = dict.fromkeys([col for col in gdf.columns if col not in ['geometry']])\n",
    "for a in dic:\n",
    "    dic[a] = 'ALTIMETRIA_'+a\n",
    "\n",
    "gdf.rename(columns=dic, inplace=True)"
   ]
  },
  {
   "cell_type": "code",
   "execution_count": null,
   "id": "05c0e297",
   "metadata": {},
   "outputs": [],
   "source": [
    "gdf.to_file('/nfs/home/genovese/thesis-wildfire-genovese/database/altimetria.geojson', driver='GeoJSON', index=False)"
   ]
  },
  {
   "cell_type": "markdown",
   "id": "fc344a7a",
   "metadata": {},
   "source": [
    "---"
   ]
  },
  {
   "cell_type": "code",
   "execution_count": null,
   "id": "7b498ce5",
   "metadata": {},
   "outputs": [],
   "source": [
    "mising = df[df.height.isna()]\n",
    "# 45 points"
   ]
  },
  {
   "cell_type": "code",
   "execution_count": null,
   "id": "4ccc31cb",
   "metadata": {},
   "outputs": [],
   "source": [
    "# got from https://twcc.fr/\n",
    "fill = {1: 1580,\n",
    " 125: 569,\n",
    " 131: 1049,\n",
    " 146: 1447,\n",
    " 165: 1345,\n",
    " 217: 1530,\n",
    " 225: 1339,\n",
    " 227: 1361,\n",
    " 230: 1389,\n",
    " 258: 563,\n",
    " 274: 614,\n",
    " 351: 248,\n",
    " 383: 642,\n",
    " 394: 725,\n",
    " 396: 1298,\n",
    " 397: 1536,\n",
    " 404: 766,\n",
    " 438: 1093,\n",
    " 440: 1034,\n",
    " 443: 1356,\n",
    " 448: 1053,\n",
    " 458: 1494,\n",
    " 460: 1298,\n",
    " 461: 1029,\n",
    " 468: 559,\n",
    " 476: 1428,\n",
    " 477: 1769,\n",
    " 482: 1538,\n",
    " 484: 1436,\n",
    " 501: 406,\n",
    " 504: 891,\n",
    " 634: 344,\n",
    " 635: 373,\n",
    " 760: 428,\n",
    " 772: 891,\n",
    " 826: 1039,\n",
    " 866: 533,\n",
    " 996: 1068,\n",
    " 1011: 568,\n",
    " 1012: 568,\n",
    " 1025: 812,\n",
    " 1035: 585,\n",
    " 1148: 742,\n",
    " 1174: 1128,\n",
    " 1206: 923}"
   ]
  },
  {
   "cell_type": "code",
   "execution_count": null,
   "id": "b729d876",
   "metadata": {},
   "outputs": [],
   "source": [
    "df['height'].fillna(fill, inplace=True)"
   ]
  },
  {
   "cell_type": "code",
   "execution_count": null,
   "id": "b17cbf3c",
   "metadata": {},
   "outputs": [],
   "source": [
    "save_clean_data(df, 'kriging_weather_grid', '/nfs/home/genovese/thesis-wildfire-genovese/data/data_loader_for_kriging' )"
   ]
  }
 ],
 "metadata": {
  "kernelspec": {
   "display_name": ".venv",
   "language": "python",
   "name": "python3"
  },
  "language_info": {
   "codemirror_mode": {
    "name": "ipython",
    "version": 3
   },
   "file_extension": ".py",
   "mimetype": "text/x-python",
   "name": "python",
   "nbconvert_exporter": "python",
   "pygments_lexer": "ipython3",
   "version": "3.10.17"
  }
 },
 "nbformat": 4,
 "nbformat_minor": 5
}
