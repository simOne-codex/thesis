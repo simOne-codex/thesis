{
 "cells": [
  {
   "cell_type": "code",
   "execution_count": 2,
   "id": "5f733d06",
   "metadata": {},
   "outputs": [],
   "source": [
    "import sys \n",
    "sys.path.append(rf\"/nfs/home/genovese/thesis-wildfire-genovese/src\")\n",
    "from importlib import reload\n",
    "import utils\n",
    "reload(utils)\n",
    "from utils import *\n",
    "data_folder = \"/nfs/home/genovese/thesis-wildfire-genovese/data/\""
   ]
  },
  {
   "cell_type": "code",
   "execution_count": 4,
   "id": "c37355f5",
   "metadata": {},
   "outputs": [],
   "source": [
    "df = gpd.read_file('/nfs/home/genovese/thesis-wildfire-genovese/data/data_loader_for_kriging/kriging_weather_grid.geojson')"
   ]
  },
  {
   "cell_type": "code",
   "execution_count": 13,
   "id": "7b498ce5",
   "metadata": {},
   "outputs": [],
   "source": [
    "mising = df[df.height.isna()]\n",
    "# 45 points"
   ]
  },
  {
   "cell_type": "code",
   "execution_count": 30,
   "id": "4ccc31cb",
   "metadata": {},
   "outputs": [],
   "source": [
    "# got from https://twcc.fr/\n",
    "fill = {1: 1580,\n",
    " 125: 569,\n",
    " 131: 1049,\n",
    " 146: 1447,\n",
    " 165: 1345,\n",
    " 217: 1530,\n",
    " 225: 1339,\n",
    " 227: 1361,\n",
    " 230: 1389,\n",
    " 258: 563,\n",
    " 274: 614,\n",
    " 351: 248,\n",
    " 383: 642,\n",
    " 394: 725,\n",
    " 396: 1298,\n",
    " 397: 1536,\n",
    " 404: 766,\n",
    " 438: 1093,\n",
    " 440: 1034,\n",
    " 443: 1356,\n",
    " 448: 1053,\n",
    " 458: 1494,\n",
    " 460: 1298,\n",
    " 461: 1029,\n",
    " 468: 559,\n",
    " 476: 1428,\n",
    " 477: 1769,\n",
    " 482: 1538,\n",
    " 484: 1436,\n",
    " 501: 406,\n",
    " 504: 891,\n",
    " 634: 344,\n",
    " 635: 373,\n",
    " 760: 428,\n",
    " 772: 891,\n",
    " 826: 1039,\n",
    " 866: 533,\n",
    " 996: 1068,\n",
    " 1011: 568,\n",
    " 1012: 568,\n",
    " 1025: 812,\n",
    " 1035: 585,\n",
    " 1148: 742,\n",
    " 1174: 1128,\n",
    " 1206: 923}"
   ]
  },
  {
   "cell_type": "code",
   "execution_count": 32,
   "id": "b729d876",
   "metadata": {},
   "outputs": [
    {
     "name": "stderr",
     "output_type": "stream",
     "text": [
      "/tmp/ipykernel_3531646/3726365985.py:1: FutureWarning: A value is trying to be set on a copy of a DataFrame or Series through chained assignment using an inplace method.\n",
      "The behavior will change in pandas 3.0. This inplace method will never work because the intermediate object on which we are setting values always behaves as a copy.\n",
      "\n",
      "For example, when doing 'df[col].method(value, inplace=True)', try using 'df.method({col: value}, inplace=True)' or df[col] = df[col].method(value) instead, to perform the operation inplace on the original object.\n",
      "\n",
      "\n",
      "  df['height'].fillna(fill, inplace=True)\n"
     ]
    }
   ],
   "source": [
    "df['height'].fillna(fill, inplace=True)"
   ]
  },
  {
   "cell_type": "code",
   "execution_count": 35,
   "id": "b17cbf3c",
   "metadata": {},
   "outputs": [
    {
     "name": "stdout",
     "output_type": "stream",
     "text": [
      "File kriging_weather_grid already saved\n",
      "File has been overwritten\n"
     ]
    }
   ],
   "source": [
    "save_clean_data(df, 'kriging_weather_grid', '/nfs/home/genovese/thesis-wildfire-genovese/data/data_loader_for_kriging' )"
   ]
  }
 ],
 "metadata": {
  "kernelspec": {
   "display_name": ".venv",
   "language": "python",
   "name": "python3"
  },
  "language_info": {
   "codemirror_mode": {
    "name": "ipython",
    "version": 3
   },
   "file_extension": ".py",
   "mimetype": "text/x-python",
   "name": "python",
   "nbconvert_exporter": "python",
   "pygments_lexer": "ipython3",
   "version": "3.10.17"
  }
 },
 "nbformat": 4,
 "nbformat_minor": 5
}
