{
 "cells": [
  {
   "cell_type": "code",
   "execution_count": null,
   "id": "b385da49",
   "metadata": {},
   "outputs": [],
   "source": [
    "import sys\n",
    "import utils\n",
    "reload(utils)\n",
    "from utils import *\n",
    "sys.path.append(rf'/nfs/home/genovese/thesis-wildfire-genovese/src/Nicola_model')\n",
    "from dataset_with_post import PiedmontDataset"
   ]
  },
  {
   "cell_type": "code",
   "execution_count": null,
   "id": "b2112317",
   "metadata": {},
   "outputs": [],
   "source": [
    "import gzip\n",
    "import shutil\n",
    "\n",
    "# Define the input gzipped file and the output file\n",
    "input_gz_file = '/nfs/home/genovese/thesis-wildfire-genovese/data/nicola/piedmont.tar.gz'\n",
    "output_file = '/nfs/home/genovese/thesis-wildfire-genovese/data/nicola/piedmont.tar'\n",
    "\n",
    "# Open the gzipped file and decompress it\n",
    "with gzip.open(input_gz_file, 'rb') as f_in:\n",
    "    with open(output_file, 'wb') as f_out:\n",
    "        shutil.copyfileobj(f_in, f_out)\n",
    "\n",
    "print(f\"File decompressed to {output_file}\")\n"
   ]
  },
  {
   "cell_type": "code",
   "execution_count": null,
   "id": "87b33491",
   "metadata": {},
   "outputs": [],
   "source": [
    "import tarfile\n",
    "\n",
    "input_tar_file = '/nfs/home/genovese/thesis-wildfire-genovese/data/nicola/piedmont.tar'\n",
    "output_directory = '/nfs/home/genovese/thesis-wildfire-genovese/data/nicola/piedmont/'\n",
    "\n",
    "# Open the .tar file and extract its contents\n",
    "with tarfile.open(input_tar_file, 'r') as tar:\n",
    "    tar.extractall(path=output_directory)\n",
    "\n",
    "print(f\"Files extracted to {output_directory}\")\n"
   ]
  },
  {
   "cell_type": "code",
   "execution_count": null,
   "id": "7b3560ac",
   "metadata": {},
   "outputs": [],
   "source": [
    "fires = gpd.read_file('/nfs/home/genovese/thesis-wildfire-genovese/data/nicola/piedmont_2012_2024_fa.geojson')\n",
    "fires = separate_date(fires, 'initialdate')\n",
    "\n",
    "for f in fires[fires.YYYY < 2016].id:\n",
    "    d = f'/nfs/home/genovese/thesis-wildfire-genovese/database/piedmont/fire_{f}/'\n",
    "    if os.path.exists(d):\n",
    "        shutil.rmtree(d)\n",
    "\n",
    "fires[fires.YYYY >= 2016].to_file('/nfs/home/genovese/thesis-wildfire-genovese/database/piedmont_2016_2024_fa.geojson', index=False, driver='GeoJSON')\n",
    "\n",
    "gdf = gpd.read_file('/nfs/home/genovese/thesis-wildfire-genovese/database/piedmont_2016_2024_fa.geojson')\n",
    "test = PiedmontDataset(root_dir='/nfs/home/genovese/thesis-wildfire-genovese/database/piedmont/',\n",
    "                       geojson_path = '/nfs/home/genovese/thesis-wildfire-genovese/database/piedmont_2016_2024_fa.geojson')"
   ]
  },
  {
   "cell_type": "markdown",
   "id": "c647dce9",
   "metadata": {},
   "source": [
    "---"
   ]
  },
  {
   "cell_type": "markdown",
   "id": "dff8f5ea",
   "metadata": {},
   "source": [
    "Download images for negative fires"
   ]
  },
  {
   "cell_type": "code",
   "execution_count": null,
   "id": "9204843d",
   "metadata": {},
   "outputs": [],
   "source": [
    "non_fires = gpd.read_file('/nfs/home/genovese/thesis-wildfire-genovese/data/gathering_geojson/negative_fires_grid.geojson')"
   ]
  },
  {
   "cell_type": "code",
   "execution_count": null,
   "id": "027c0e6d",
   "metadata": {},
   "outputs": [],
   "source": [
    "def reverse_day(year, day):\n",
    "    feb = 28\n",
    "    if year in list(range(2000, 2025, 4)):\n",
    "        feb += 1\n",
    "            \n",
    "    days_per_month = [31, feb, 31, 30, 31, 30, 31, 31, 30, 31, 30, 31]\n",
    "\n",
    "    for index, month in enumerate(days_per_month):\n",
    "        if (day - month) == 0:\n",
    "            return (month, index+1)\n",
    "        elif (day - month) > 0:\n",
    "            day -= month\n",
    "        else:\n",
    "            return (day, index+1)"
   ]
  },
  {
   "cell_type": "code",
   "execution_count": null,
   "id": "83064d38",
   "metadata": {},
   "outputs": [],
   "source": [
    "non_fires['DD'] = non_fires.apply(lambda x: reverse_day(x['YYYY'], x['day'])[0], axis=1)\n",
    "non_fires['MM'] = non_fires.apply(lambda x: reverse_day(x['YYYY'], x['day'])[1], axis=1)\n",
    "\n",
    "from pandas._libs.tslibs.timestamps import Timestamp\n",
    "non_fires['initialdate'] = non_fires.apply(lambda x: Timestamp(year = x.YYYY, month=x.MM, day=x.DD), axis=1)\n",
    "non_fires['id'] = [-(idx+10) for idx in non_fires.index]\n",
    "\n",
    "non_fires['polygon'] = non_fires.buffer(1000)\n",
    "fires = non_fires.set_geometry(col='polygon')\n",
    "fires.drop(columns='geometry', inplace=True)\n",
    "fires.rename(columns={'polygon': 'geometry'}, inplace=True)\n",
    "fires = fires.to_crs('32632')\n",
    "\n",
    "fires.to_file('/nfs/home/genovese/thesis-wildfire-genovese/src/OnFireForest/sentinel_negative_fires/negatives.geojson',driver='GeoJSON', index=False)"
   ]
  },
  {
   "cell_type": "markdown",
   "id": "d36e99ba",
   "metadata": {},
   "source": [
    "---"
   ]
  },
  {
   "cell_type": "code",
   "execution_count": null,
   "id": "664506ec",
   "metadata": {},
   "outputs": [],
   "source": [
    "config_path = \"/nfs/home/genovese/thesis-wildfire-genovese/src/OnFireForest/sentinel_negative_fires/congif.yaml\" # Definisci il percorso del config\n",
    "\n",
    "config_example = {\n",
    "        \"geojson_path\": \"/nfs/home/genovese/thesis-wildfire-genovese/src/OnFireForest/sentinel_negative_fires/negatives.geojson\",\n",
    "        \"interval_pre_fire_days\": 7, # AGGIORNATO\n",
    "        \"satellite\": \"sentinel-2\",  # AGGIORNATO\n",
    "        \"patch_size_pixels\": 256,\n",
    "        \"target_crs\": \"EPSG:32632\", # NUOVO\n",
    "        \"min_fire_area_sq_m\": 200,  # NUOVO\n",
    "        \"image_similarity_tolerance\": 0.005 # NUOVO\n",
    "    }\n",
    "\n",
    "with open(config_path, \"w\") as f:\n",
    "    yaml.dump(config_example, f)\n",
    "    \n",
    "print(f\"Generato o aggiornato il file di configurazione: {config_path}\")\n",
    "\n",
    "\n",
    "config_data = load_config(config_path) # Carica il config dal percorso specificato\n",
    "\n",
    "print(\"\\n--- Inizio Processo Batch per TUTTI gli incendi ---\")\n",
    "\n",
    "gdf_all_fires_filtered = gpd.read_file(config_data[\"geojson_path\"])\n",
    "min_date_for_sentinel2 = datetime(2015, 6, 23) \n",
    "    \n",
    "# # Filtra gli incendi per data (solo quelli dopo l'inizio di Sentinel-2)\n",
    "# gdf_all_fires_filtered = gdf_all_fires[pd.to_datetime(gdf_all_fires[\"initialdate\"]) >= min_date_for_sentinel2]\n",
    "    \n",
    "print(f\"Trovati {len(gdf_all_fires_filtered)} incendi nel GeoJSON. Filtrati {len(gdf_all_fires_filtered)} incendi dopo il {min_date_for_sentinel2.strftime('%Y-%m-%d')}.\")\n",
    "\n",
    "for idx, fire_row in tqdm(gdf_all_fires_filtered.iterrows()):\n",
    "    try:\n",
    "        process_single_fire(fire_row[\"id\"], config_data, '/nfs/home/genovese/thesis-wildfire-genovese/database/negative_piedmont')\n",
    "    except Exception as e:\n",
    "        print(f\"🚨 ERRORE GRAVE durante il processo dell'incendio ID {fire_row['id']}: {e}\")\n",
    "            # Puoi aggiungere qui della logica per registrare gli errori o riprovare\n",
    "\n",
    "print(\"\\n--- Processo Batch Completato ---\")"
   ]
  },
  {
   "cell_type": "code",
   "execution_count": null,
   "id": "13d9f0bc",
   "metadata": {},
   "outputs": [],
   "source": [
    "from PIL import Image\n",
    "\n",
    "parent = '/nfs/home/genovese/thesis-wildfire-genovese/database/negative_piedmont'\n",
    "directories = os.listdir(parent)\n",
    "\n",
    "black_image = Image.new(\"RGB\", (256, 256), (0, 0, 0))\n",
    "\n",
    "for fire in directories:\n",
    "    dir_path = os.path.join(parent, fire)\n",
    "    if os.path.isdir(dir_path):\n",
    "        image_path = os.path.join(parent, dir_path, f\"{fire}_GTSentinel.png\")\n",
    "        black_image.save(image_path)\n",
    "        print(f\"Saved black image to: {image_path}\")\n",
    "    else:\n",
    "        print(f\"Directory does not exist: {dir_path}\")"
   ]
  },
  {
   "cell_type": "markdown",
   "id": "453ed132",
   "metadata": {},
   "source": [
    "---"
   ]
  }
 ],
 "metadata": {
  "kernelspec": {
   "display_name": ".venv",
   "language": "python",
   "name": "python3"
  },
  "language_info": {
   "codemirror_mode": {
    "name": "ipython",
    "version": 3
   },
   "file_extension": ".py",
   "mimetype": "text/x-python",
   "name": "python",
   "nbconvert_exporter": "python",
   "pygments_lexer": "ipython3",
   "version": "3.10.17"
  }
 },
 "nbformat": 4,
 "nbformat_minor": 5
}
