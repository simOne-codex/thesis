{
 "cells": [
  {
   "cell_type": "code",
   "execution_count": 3,
   "id": "b385da49",
   "metadata": {},
   "outputs": [
    {
     "name": "stderr",
     "output_type": "stream",
     "text": [
      "/nfs/home/genovese/.venv/lib/python3.10/site-packages/tqdm/auto.py:21: TqdmWarning: IProgress not found. Please update jupyter and ipywidgets. See https://ipywidgets.readthedocs.io/en/stable/user_install.html\n",
      "  from .autonotebook import tqdm as notebook_tqdm\n"
     ]
    }
   ],
   "source": [
    "import sys \n",
    "sys.path.append(rf\"/nfs/home/genovese/thesis-wildfire-genovese/src\")\n",
    "from importlib import reload\n",
    "import utils\n",
    "reload(utils)\n",
    "from utils import *\n",
    "sys.path.append(rf'/nfs/home/genovese/thesis-wildfire-genovese/src/Nicola_model')\n",
    "from dataset_with_post import PiedmontDataset"
   ]
  },
  {
   "cell_type": "code",
   "execution_count": null,
   "id": "b2112317",
   "metadata": {},
   "outputs": [],
   "source": [
    "import gzip\n",
    "import shutil\n",
    "\n",
    "# Define the input gzipped file and the output file\n",
    "input_gz_file = '/nfs/home/genovese/thesis-wildfire-genovese/data/nicola/piedmont.tar.gz'\n",
    "output_file = '/nfs/home/genovese/thesis-wildfire-genovese/data/nicola/piedmont.tar'\n",
    "\n",
    "# Open the gzipped file and decompress it\n",
    "with gzip.open(input_gz_file, 'rb') as f_in:\n",
    "    with open(output_file, 'wb') as f_out:\n",
    "        shutil.copyfileobj(f_in, f_out)\n",
    "\n",
    "print(f\"File decompressed to {output_file}\")\n"
   ]
  },
  {
   "cell_type": "code",
   "execution_count": null,
   "id": "87b33491",
   "metadata": {},
   "outputs": [],
   "source": [
    "import tarfile\n",
    "\n",
    "# Define the input .tar file and the output directory\n",
    "input_tar_file = '/nfs/home/genovese/thesis-wildfire-genovese/data/nicola/piedmont.tar'\n",
    "output_directory = '/nfs/home/genovese/thesis-wildfire-genovese/data/nicola/piedmont/'\n",
    "\n",
    "# Open the .tar file and extract its contents\n",
    "with tarfile.open(input_tar_file, 'r') as tar:\n",
    "    tar.extractall(path=output_directory)\n",
    "\n",
    "print(f\"Files extracted to {output_directory}\")\n"
   ]
  },
  {
   "cell_type": "code",
   "execution_count": null,
   "id": "7b3560ac",
   "metadata": {},
   "outputs": [],
   "source": [
    "fires = gpd.read_file('/nfs/home/genovese/thesis-wildfire-genovese/data/nicola/piedmont_2012_2024_fa.geojson')\n",
    "fires = separate_date(fires, 'initialdate')"
   ]
  },
  {
   "cell_type": "code",
   "execution_count": null,
   "id": "9220308c",
   "metadata": {},
   "outputs": [],
   "source": [
    "for f in fires[fires.YYYY < 2016].id:\n",
    "    d = f'/nfs/home/genovese/thesis-wildfire-genovese/database/piedmont/fire_{f}/'\n",
    "    if os.path.exists(d):\n",
    "        shutil.rmtree(d)\n",
    "\n",
    "fires[fires.YYYY >= 2016].to_file('/nfs/home/genovese/thesis-wildfire-genovese/database/piedmont_2016_2024_fa.geojson', index=False, driver='GeoJSON')\n"
   ]
  },
  {
   "cell_type": "code",
   "execution_count": 43,
   "id": "b691cc86",
   "metadata": {},
   "outputs": [],
   "source": [
    "gdf = gpd.read_file('/nfs/home/genovese/thesis-wildfire-genovese/database/piedmont_2016_2024_fa.geojson')"
   ]
  },
  {
   "cell_type": "code",
   "execution_count": null,
   "id": "390b32af",
   "metadata": {},
   "outputs": [],
   "source": [
    "test = PiedmontDataset(root_dir='/nfs/home/genovese/thesis-wildfire-genovese/database/piedmont/',\n",
    "                       geojson_path = '/nfs/home/genovese/thesis-wildfire-genovese/database/piedmont_2016_2024_fa.geojson')"
   ]
  },
  {
   "cell_type": "markdown",
   "id": "c647dce9",
   "metadata": {},
   "source": [
    "---"
   ]
  },
  {
   "cell_type": "markdown",
   "id": "dff8f5ea",
   "metadata": {},
   "source": [
    "Now it's time to download images for negative fires"
   ]
  },
  {
   "cell_type": "code",
   "execution_count": 52,
   "id": "3b43b819",
   "metadata": {},
   "outputs": [
    {
     "data": {
      "text/plain": [
       "0      2016-12-29\n",
       "1      2016-11-13\n",
       "2      2016-04-27\n",
       "3      2017-03-11\n",
       "4      2017-03-13\n",
       "          ...    \n",
       "1161   2023-04-20\n",
       "1162   2023-04-12\n",
       "1163   2023-04-17\n",
       "1164   2023-03-22\n",
       "1165   2023-03-28\n",
       "Name: initialdate, Length: 1166, dtype: datetime64[ms]"
      ]
     },
     "execution_count": 52,
     "metadata": {},
     "output_type": "execute_result"
    }
   ],
   "source": [
    "gdf.initialdate"
   ]
  },
  {
   "cell_type": "code",
   "execution_count": 79,
   "id": "9204843d",
   "metadata": {},
   "outputs": [],
   "source": [
    "non_fires = gpd.read_file('/nfs/home/genovese/thesis-wildfire-genovese/data/gathering_geojson/negative_fires_grid.geojson')"
   ]
  },
  {
   "cell_type": "code",
   "execution_count": 80,
   "id": "027c0e6d",
   "metadata": {},
   "outputs": [],
   "source": [
    "def reverse_day(year, day):\n",
    "    feb = 28\n",
    "    if year in list(range(2000, 2025, 4)):\n",
    "        feb += 1\n",
    "            \n",
    "    days_per_month = [31, feb, 31, 30, 31, 30, 31, 31, 30, 31, 30, 31]\n",
    "\n",
    "    for index, month in enumerate(days_per_month):\n",
    "        if (day - month) == 0:\n",
    "            return (month, index+1)\n",
    "        elif (day - month) > 0:\n",
    "            day -= month\n",
    "        else:\n",
    "            return (day, index+1)"
   ]
  },
  {
   "cell_type": "code",
   "execution_count": 81,
   "id": "83064d38",
   "metadata": {},
   "outputs": [],
   "source": [
    "non_fires['DD'] = non_fires.apply(lambda x: reverse_day(x['YYYY'], x['day'])[0], axis=1)\n",
    "non_fires['MM'] = non_fires.apply(lambda x: reverse_day(x['YYYY'], x['day'])[1], axis=1)"
   ]
  },
  {
   "cell_type": "code",
   "execution_count": 82,
   "id": "33147fa8",
   "metadata": {},
   "outputs": [],
   "source": [
    "from pandas._libs.tslibs.timestamps import Timestamp\n",
    "non_fires['initialdate'] = non_fires.apply(lambda x: Timestamp(year = x.YYYY, month=x.MM, day=x.DD), axis=1)\n",
    "non_fires['id'] = [-(idx+10) for idx in non_fires.index]"
   ]
  },
  {
   "cell_type": "code",
   "execution_count": 83,
   "id": "440473bd",
   "metadata": {},
   "outputs": [],
   "source": [
    "non_fires['polygon'] = non_fires.buffer(1000)"
   ]
  },
  {
   "cell_type": "code",
   "execution_count": 84,
   "id": "4cec7f89",
   "metadata": {},
   "outputs": [],
   "source": [
    "fires = non_fires.set_geometry(col='polygon')"
   ]
  },
  {
   "cell_type": "code",
   "execution_count": 87,
   "id": "1edc264f",
   "metadata": {},
   "outputs": [],
   "source": [
    "fires.drop(columns='geometry', inplace=True)"
   ]
  },
  {
   "cell_type": "code",
   "execution_count": 90,
   "id": "47abe809",
   "metadata": {},
   "outputs": [],
   "source": [
    "fires.rename(columns={'polygon': 'geometry'}, inplace=True)"
   ]
  },
  {
   "cell_type": "code",
   "execution_count": 91,
   "id": "98a56b52",
   "metadata": {},
   "outputs": [],
   "source": [
    "fires.to_file('/nfs/home/genovese/thesis-wildfire-genovese/src/OnFireForest/sentinel_negative_fires/negatives.geojson',driver='GeoJSON', index=False)"
   ]
  },
  {
   "cell_type": "markdown",
   "id": "d36e99ba",
   "metadata": {},
   "source": [
    "---"
   ]
  },
  {
   "cell_type": "code",
   "execution_count": 107,
   "id": "7b226c7a",
   "metadata": {},
   "outputs": [],
   "source": [
    "f = gpd.read_file('/nfs/home/genovese/thesis-wildfire-genovese/src/OnFireForest/sentinel_negative_fires/negatives.geojson').to_crs('32632')"
   ]
  },
  {
   "cell_type": "code",
   "execution_count": 109,
   "id": "b56dd485",
   "metadata": {},
   "outputs": [],
   "source": [
    "f.to_file('/nfs/home/genovese/thesis-wildfire-genovese/src/OnFireForest/sentinel_negative_fires/negatives.geojson',driver='GeoJSON', index=False)"
   ]
  },
  {
   "cell_type": "code",
   "execution_count": 110,
   "id": "95aba760",
   "metadata": {},
   "outputs": [],
   "source": [
    "sys.path.append(rf'/nfs/home/genovese/thesis-wildfire-genovese/src/Nicola_model')\n",
    "import generate_sentinel_new\n",
    "reload(generate_sentinel_new)\n",
    "from generate_sentinel_new import *"
   ]
  },
  {
   "cell_type": "code",
   "execution_count": null,
   "id": "664506ec",
   "metadata": {},
   "outputs": [
    {
     "name": "stdout",
     "output_type": "stream",
     "text": [
      "Generato o aggiornato il file di configurazione: /nfs/home/genovese/thesis-wildfire-genovese/src/OnFireForest/sentinel_negative_fires/congif.yaml\n",
      "\n",
      "--- Inizio Processo Batch per TUTTI gli incendi ---\n",
      "Trovati 1086 incendi nel GeoJSON. Filtrati 1086 incendi dopo il 2015-06-23.\n"
     ]
    },
    {
     "name": "stderr",
     "output_type": "stream",
     "text": [
      "0it [00:00, ?it/s]"
     ]
    },
    {
     "name": "stdout",
     "output_type": "stream",
     "text": [
      "Caricamento GeoJSON da: /nfs/home/genovese/thesis-wildfire-genovese/src/OnFireForest/sentinel_negative_fires/negatives.geojson\n",
      "\n",
      "--- Processando Incendio ID: -10 ---\n",
      "Data dell'incendio: 2020-05-03\n",
      "Intervallo di ricerca STAC (PRE-incendio): 2020-04-26/2020-05-03\n",
      "Dimensione patch target (finale): 256x256 pixel (2.56 km per lato).\n",
      "Cartella di output: /nfs/home/genovese/thesis-wildfire-genovese/database/negative_piedmont/fire_-10\n",
      "Tolleranza di somiglianza immagini: 0.500%\n",
      "Ricerca STAC con bbox (WGS84): (8.136865294187722, 44.74111651473986, 8.187136638935385, 44.77689102879712)\n",
      "✅ Trovate 3 immagini SENTINEL-2 nell'intervallo PRE-incendio.\n",
      "  Immagine 1 del 2020-05-01 interseca la GT. Aggiunta alla lista.\n",
      "  Immagine 2 del 2020-04-29 interseca la GT. Aggiunta alla lista.\n",
      "  Immagine 3 del 2020-04-26 interseca la GT. Aggiunta alla lista.\n",
      "\n",
      "✅ Iniziamo l'elaborazione di 3 immagini valide.\n",
      "\n",
      "📸 Elaborazione immagine 1/3: S2A_MSIL2A_20200501T102031_R065_T32TMQ_20200920T011538 del 2020-05-01.\n",
      "💾 Salvato immagine Sentinel (TIFF multi-banda): /nfs/home/genovese/thesis-wildfire-genovese/database/negative_piedmont/fire_-10/fire_-10_2020-05-01_pre_sentinel_1.tif\n",
      "💾 Salvato maschera GT (TIFF) unica per incendio: /nfs/home/genovese/thesis-wildfire-genovese/database/negative_piedmont/fire_-10/fire_-10_GTSentinel.tif\n",
      "💾 Salvato PNG colorato per GT unica: /nfs/home/genovese/thesis-wildfire-genovese/database/negative_piedmont/fire_-10/fire_-10_GTSentinel.png\n",
      "\n",
      "📸 Elaborazione immagine 2/3: S2B_MSIL2A_20200429T102559_R108_T32TMQ_20200922T152056 del 2020-04-29.\n",
      "💾 Salvato immagine Sentinel (TIFF multi-banda): /nfs/home/genovese/thesis-wildfire-genovese/database/negative_piedmont/fire_-10/fire_-10_2020-04-29_pre_sentinel_2.tif\n",
      "\n",
      "📸 Elaborazione immagine 3/3: S2B_MSIL2A_20200426T101549_R065_T32TMQ_20200922T053612 del 2020-04-26.\n"
     ]
    },
    {
     "name": "stderr",
     "output_type": "stream",
     "text": [
      "1it [00:06,  6.86s/it]"
     ]
    },
    {
     "name": "stdout",
     "output_type": "stream",
     "text": [
      "💾 Salvato immagine Sentinel (TIFF multi-banda): /nfs/home/genovese/thesis-wildfire-genovese/database/negative_piedmont/fire_-10/fire_-10_2020-04-26_pre_sentinel_3.tif\n",
      "\n",
      "--- FINE Processo per incendio ID: -10 ---\n",
      "Caricamento GeoJSON da: /nfs/home/genovese/thesis-wildfire-genovese/src/OnFireForest/sentinel_negative_fires/negatives.geojson\n",
      "\n",
      "--- Processando Incendio ID: -11 ---\n",
      "Data dell'incendio: 2022-12-31\n",
      "Intervallo di ricerca STAC (PRE-incendio): 2022-12-24/2022-12-31\n",
      "Dimensione patch target (finale): 256x256 pixel (2.56 km per lato).\n",
      "Cartella di output: /nfs/home/genovese/thesis-wildfire-genovese/database/negative_piedmont/fire_-11\n",
      "Tolleranza di somiglianza immagini: 0.500%\n",
      "Ricerca STAC con bbox (WGS84): (8.015538909497485, 45.14478764974714, 8.066037047011811, 45.18047073070988)\n",
      "✅ Trovate 6 immagini SENTINEL-2 nell'intervallo PRE-incendio.\n",
      "  Immagine 1 del 2022-12-30 interseca la GT. Aggiunta alla lista.\n",
      "  ❌ Immagine 2 del 2022-12-30 - Non interseca la geometria GT.\n",
      "  Immagine 3 del 2022-12-27 interseca la GT. Aggiunta alla lista.\n",
      "  ❌ Immagine 4 del 2022-12-27 - Non interseca la geometria GT.\n",
      "  Immagine 5 del 2022-12-25 interseca la GT. Aggiunta alla lista.\n",
      "  ❌ Immagine 6 del 2022-12-25 - Non interseca la geometria GT.\n",
      "\n",
      "✅ Iniziamo l'elaborazione di 3 immagini valide.\n",
      "\n",
      "📸 Elaborazione immagine 1/3: S2A_MSIL2A_20221230T103431_R108_T32TMR_20221231T120256 del 2022-12-30.\n",
      "💾 Salvato immagine Sentinel (TIFF multi-banda): /nfs/home/genovese/thesis-wildfire-genovese/database/negative_piedmont/fire_-11/fire_-11_2022-12-30_pre_sentinel_1.tif\n",
      "💾 Salvato maschera GT (TIFF) unica per incendio: /nfs/home/genovese/thesis-wildfire-genovese/database/negative_piedmont/fire_-11/fire_-11_GTSentinel.tif\n",
      "💾 Salvato PNG colorato per GT unica: /nfs/home/genovese/thesis-wildfire-genovese/database/negative_piedmont/fire_-11/fire_-11_GTSentinel.png\n",
      "\n",
      "📸 Elaborazione immagine 2/3: S2A_MSIL2A_20221227T102431_R065_T32TMR_20221227T211911 del 2022-12-27.\n",
      "💾 Salvato immagine Sentinel (TIFF multi-banda): /nfs/home/genovese/thesis-wildfire-genovese/database/negative_piedmont/fire_-11/fire_-11_2022-12-27_pre_sentinel_2.tif\n",
      "\n",
      "📸 Elaborazione immagine 3/3: S2B_MSIL2A_20221225T103349_R108_T32TMR_20221226T052508 del 2022-12-25.\n"
     ]
    },
    {
     "name": "stderr",
     "output_type": "stream",
     "text": [
      "2it [00:15,  7.86s/it]"
     ]
    },
    {
     "name": "stdout",
     "output_type": "stream",
     "text": [
      "💾 Salvato immagine Sentinel (TIFF multi-banda): /nfs/home/genovese/thesis-wildfire-genovese/database/negative_piedmont/fire_-11/fire_-11_2022-12-25_pre_sentinel_3.tif\n",
      "\n",
      "--- FINE Processo per incendio ID: -11 ---\n",
      "Caricamento GeoJSON da: /nfs/home/genovese/thesis-wildfire-genovese/src/OnFireForest/sentinel_negative_fires/negatives.geojson\n",
      "\n",
      "--- Processando Incendio ID: -12 ---\n",
      "Data dell'incendio: 2020-12-22\n",
      "Intervallo di ricerca STAC (PRE-incendio): 2020-12-15/2020-12-22\n",
      "Dimensione patch target (finale): 256x256 pixel (2.56 km per lato).\n",
      "Cartella di output: /nfs/home/genovese/thesis-wildfire-genovese/database/negative_piedmont/fire_-12\n",
      "Tolleranza di somiglianza immagini: 0.500%\n",
      "Ricerca STAC con bbox (WGS84): (8.32637672970031, 45.9659590997027, 8.377353711039211, 46.00145588083301)\n",
      "✅ Trovate 8 immagini SENTINEL-2 nell'intervallo PRE-incendio.\n",
      "  Immagine 1 del 2020-12-22 interseca la GT. Aggiunta alla lista.\n",
      "  Immagine 2 del 2020-12-22 interseca la GT. Aggiunta alla lista.\n",
      "  Immagine 3 del 2020-12-20 interseca la GT. Aggiunta alla lista.\n",
      "  Immagine 4 del 2020-12-20 interseca la GT. Aggiunta alla lista.\n",
      "  Immagine 5 del 2020-12-17 interseca la GT. Aggiunta alla lista.\n",
      "  Immagine 6 del 2020-12-17 interseca la GT. Aggiunta alla lista.\n",
      "  Immagine 7 del 2020-12-15 interseca la GT. Aggiunta alla lista.\n",
      "  Immagine 8 del 2020-12-15 interseca la GT. Aggiunta alla lista.\n",
      "\n",
      "✅ Iniziamo l'elaborazione di 8 immagini valide.\n",
      "\n",
      "📸 Elaborazione immagine 1/8: S2B_MSIL2A_20201222T102339_R065_T32TMS_20210104T075522 del 2020-12-22.\n",
      "💾 Salvato immagine Sentinel (TIFF multi-banda): /nfs/home/genovese/thesis-wildfire-genovese/database/negative_piedmont/fire_-12/fire_-12_2020-12-22_pre_sentinel_1.tif\n",
      "💾 Salvato maschera GT (TIFF) unica per incendio: /nfs/home/genovese/thesis-wildfire-genovese/database/negative_piedmont/fire_-12/fire_-12_GTSentinel.tif\n",
      "💾 Salvato PNG colorato per GT unica: /nfs/home/genovese/thesis-wildfire-genovese/database/negative_piedmont/fire_-12/fire_-12_GTSentinel.png\n",
      "\n",
      "📸 Elaborazione immagine 2/8: S2B_MSIL2A_20201222T102339_R065_T32TMR_20201224T211315 del 2020-12-22.\n",
      "💾 Salvato immagine Sentinel (TIFF multi-banda): /nfs/home/genovese/thesis-wildfire-genovese/database/negative_piedmont/fire_-12/fire_-12_2020-12-22_pre_sentinel_2.tif\n",
      "\n",
      "📸 Elaborazione immagine 3/8: S2A_MSIL2A_20201220T103441_R108_T32TMS_20201220T225237 del 2020-12-20.\n"
     ]
    }
   ],
   "source": [
    "config_path = \"/nfs/home/genovese/thesis-wildfire-genovese/src/OnFireForest/sentinel_negative_fires/congif.yaml\" # Definisci il percorso del config\n",
    "\n",
    "config_example = {\n",
    "        \"geojson_path\": \"/nfs/home/genovese/thesis-wildfire-genovese/src/OnFireForest/sentinel_negative_fires/negatives.geojson\",\n",
    "        \"interval_pre_fire_days\": 7, # AGGIORNATO\n",
    "        \"satellite\": \"sentinel-2\",  # AGGIORNATO\n",
    "        \"patch_size_pixels\": 256,\n",
    "        \"target_crs\": \"EPSG:32632\", # NUOVO\n",
    "        \"min_fire_area_sq_m\": 200,  # NUOVO\n",
    "        \"image_similarity_tolerance\": 0.005 # NUOVO\n",
    "    }\n",
    "\n",
    "with open(config_path, \"w\") as f:\n",
    "    yaml.dump(config_example, f)\n",
    "    \n",
    "print(f\"Generato o aggiornato il file di configurazione: {config_path}\")\n",
    "\n",
    "\n",
    "config_data = load_config(config_path) # Carica il config dal percorso specificato\n",
    "\n",
    "print(\"\\n--- Inizio Processo Batch per TUTTI gli incendi ---\")\n",
    "\n",
    "gdf_all_fires_filtered = gpd.read_file(config_data[\"geojson_path\"])\n",
    "min_date_for_sentinel2 = datetime(2015, 6, 23) \n",
    "    \n",
    "# # Filtra gli incendi per data (solo quelli dopo l'inizio di Sentinel-2)\n",
    "# gdf_all_fires_filtered = gdf_all_fires[pd.to_datetime(gdf_all_fires[\"initialdate\"]) >= min_date_for_sentinel2]\n",
    "    \n",
    "print(f\"Trovati {len(gdf_all_fires_filtered)} incendi nel GeoJSON. Filtrati {len(gdf_all_fires_filtered)} incendi dopo il {min_date_for_sentinel2.strftime('%Y-%m-%d')}.\")\n",
    "\n",
    "for idx, fire_row in tqdm(gdf_all_fires_filtered.iterrows()):\n",
    "    try:\n",
    "        process_single_fire(fire_row[\"id\"], config_data, '/nfs/home/genovese/thesis-wildfire-genovese/database/negative_piedmont')\n",
    "    except Exception as e:\n",
    "        print(f\"🚨 ERRORE GRAVE durante il processo dell'incendio ID {fire_row['id']}: {e}\")\n",
    "            # Puoi aggiungere qui della logica per registrare gli errori o riprovare\n",
    "\n",
    "print(\"\\n--- Processo Batch Completato ---\")"
   ]
  }
 ],
 "metadata": {
  "kernelspec": {
   "display_name": ".venv",
   "language": "python",
   "name": "python3"
  },
  "language_info": {
   "codemirror_mode": {
    "name": "ipython",
    "version": 3
   },
   "file_extension": ".py",
   "mimetype": "text/x-python",
   "name": "python",
   "nbconvert_exporter": "python",
   "pygments_lexer": "ipython3",
   "version": "3.10.17"
  }
 },
 "nbformat": 4,
 "nbformat_minor": 5
}
