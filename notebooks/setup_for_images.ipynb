{
 "cells": [
  {
   "cell_type": "code",
   "execution_count": null,
   "id": "b385da49",
   "metadata": {},
   "outputs": [],
   "source": [
    "import sys \n",
    "sys.path.append(rf\"/nfs/home/genovese/thesis-wildfire-genovese/src\")\n",
    "from importlib import reload\n",
    "import utils\n",
    "reload(utils)\n",
    "from utils import *\n",
    "sys.path.append(rf'/nfs/home/genovese/thesis-wildfire-genovese/src/Nicola_model')\n",
    "from dataset_with_post import PiedmontDataset"
   ]
  },
  {
   "cell_type": "code",
   "execution_count": null,
   "id": "b2112317",
   "metadata": {},
   "outputs": [],
   "source": [
    "import gzip\n",
    "import shutil\n",
    "\n",
    "# Define the input gzipped file and the output file\n",
    "input_gz_file = '/nfs/home/genovese/thesis-wildfire-genovese/data/nicola/piedmont.tar.gz'\n",
    "output_file = '/nfs/home/genovese/thesis-wildfire-genovese/data/nicola/piedmont.tar'\n",
    "\n",
    "# Open the gzipped file and decompress it\n",
    "with gzip.open(input_gz_file, 'rb') as f_in:\n",
    "    with open(output_file, 'wb') as f_out:\n",
    "        shutil.copyfileobj(f_in, f_out)\n",
    "\n",
    "print(f\"File decompressed to {output_file}\")\n"
   ]
  },
  {
   "cell_type": "code",
   "execution_count": null,
   "id": "87b33491",
   "metadata": {},
   "outputs": [],
   "source": [
    "import tarfile\n",
    "\n",
    "# Define the input .tar file and the output directory\n",
    "input_tar_file = '/nfs/home/genovese/thesis-wildfire-genovese/data/nicola/piedmont.tar'\n",
    "output_directory = '/nfs/home/genovese/thesis-wildfire-genovese/data/nicola/piedmont/'\n",
    "\n",
    "# Open the .tar file and extract its contents\n",
    "with tarfile.open(input_tar_file, 'r') as tar:\n",
    "    tar.extractall(path=output_directory)\n",
    "\n",
    "print(f\"Files extracted to {output_directory}\")\n"
   ]
  },
  {
   "cell_type": "code",
   "execution_count": null,
   "id": "7b3560ac",
   "metadata": {},
   "outputs": [],
   "source": [
    "fires = gpd.read_file('/nfs/home/genovese/thesis-wildfire-genovese/data/nicola/piedmont_2012_2024_fa.geojson')\n",
    "fires = separate_date(fires, 'initialdate')"
   ]
  },
  {
   "cell_type": "code",
   "execution_count": null,
   "id": "9220308c",
   "metadata": {},
   "outputs": [],
   "source": [
    "for f in fires[fires.YYYY < 2016].id:\n",
    "    d = f'/nfs/home/genovese/thesis-wildfire-genovese/database/piedmont/fire_{f}/'\n",
    "    if os.path.exists(d):\n",
    "        shutil.rmtree(d)\n",
    "\n",
    "fires[fires.YYYY >= 2016].to_file('/nfs/home/genovese/thesis-wildfire-genovese/database/piedmont_2016_2024_fa.geojson', index=False, driver='GeoJSON')\n"
   ]
  },
  {
   "cell_type": "code",
   "execution_count": null,
   "id": "b691cc86",
   "metadata": {},
   "outputs": [],
   "source": [
    "gdf = gpd.read_file('/nfs/home/genovese/thesis-wildfire-genovese/database/piedmont_2016_2024_fa.geojson')"
   ]
  },
  {
   "cell_type": "code",
   "execution_count": null,
   "id": "390b32af",
   "metadata": {},
   "outputs": [],
   "source": [
    "test = PiedmontDataset(root_dir='/nfs/home/genovese/thesis-wildfire-genovese/database/piedmont/',\n",
    "                       geojson_path = '/nfs/home/genovese/thesis-wildfire-genovese/database/piedmont_2016_2024_fa.geojson')"
   ]
  },
  {
   "cell_type": "markdown",
   "id": "c647dce9",
   "metadata": {},
   "source": [
    "---"
   ]
  }
 ],
 "metadata": {
  "kernelspec": {
   "display_name": ".venv",
   "language": "python",
   "name": "python3"
  },
  "language_info": {
   "codemirror_mode": {
    "name": "ipython",
    "version": 3
   },
   "file_extension": ".py",
   "mimetype": "text/x-python",
   "name": "python",
   "nbconvert_exporter": "python",
   "pygments_lexer": "ipython3",
   "version": "3.10.17"
  }
 },
 "nbformat": 4,
 "nbformat_minor": 5
}
