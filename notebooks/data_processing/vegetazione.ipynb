{
 "cells": [
  {
   "cell_type": "code",
   "execution_count": null,
   "id": "e1a27f06",
   "metadata": {},
   "outputs": [],
   "source": [
    "import sys \n",
    "sys.path.append(rf\"/nfs/home/genovese/thesis-wildfire-genovese/notebooks/\")\n",
    "from importlib import reload\n",
    "import utils\n",
    "reload(utils)\n",
    "from utils import *\n",
    "data_folder = \"/nfs/home/genovese/thesis-wildfire-genovese/data/\""
   ]
  },
  {
   "cell_type": "code",
   "execution_count": null,
   "id": "3a71c409",
   "metadata": {},
   "outputs": [],
   "source": [
    "gdf = gpd.read_file('/nfs/home/genovese/thesis-wildfire-genovese/data/gathering_geojson/vegetazione.geojson')\n",
    "sns.heatmap(pd.crosstab(gdf['TIPO'], gdf['CATEGORIA']), cmap='Blues')\n",
    "# injective map CATEGORIA -> TIPO, remove TIPO"
   ]
  },
  {
   "cell_type": "code",
   "execution_count": null,
   "id": "63048df8",
   "metadata": {},
   "outputs": [],
   "source": [
    "# gdf.drop(columns=['TIPO'], inplace=True)"
   ]
  },
  {
   "cell_type": "code",
   "execution_count": null,
   "id": "c605bfc2",
   "metadata": {},
   "outputs": [],
   "source": [
    "onehot_encoded_df = pd.get_dummies(gdf, columns=['CATEGORIA', 'INTERVENTO', 'PRIORITA', 'DESTINAZ', 'ASSETTO'], prefix=['CATEGORIA', 'INTERVENTO', 'PRIORITA', 'DESTINAZ', 'ASSETTO'])\n",
    "onehot_encoded_df.iloc[:, 2:] = onehot_encoded_df.iloc[:, 2:].astype('int') \n",
    "save_clean_data(onehot_encoded_df, 'ohe_vegetazione', '/nfs/home/genovese/thesis-wildfire-genovese/data/gathering_geojson/')"
   ]
  },
  {
   "cell_type": "code",
   "execution_count": null,
   "id": "46f70ef0",
   "metadata": {},
   "outputs": [],
   "source": [
    "import missingno as msno\n",
    "aux = onehot_encoded_df.iloc[:, 2:].replace(1, None)\n",
    "msno.heatmap(aux, figsize=(60,36))"
   ]
  },
  {
   "cell_type": "code",
   "execution_count": null,
   "id": "de83d383",
   "metadata": {},
   "outputs": [],
   "source": [
    "gdf = gpd.read_file('/nfs/home/genovese/thesis-wildfire-genovese/data/gathering_geojson/vegetazione.geojson').to_crs(epsg=3857)\n",
    "gdf.drop(columns='ESTENSIONE', inplace=True)\n",
    "\n",
    "rename_columns = dict.fromkeys([col for col in gdf.columns if col not in ['geometry']])\n",
    "for a in rename_columns.keys():\n",
    "    rename_columns[a] = 'VEGETAZIONE_'+a\n",
    "\n",
    "gdf.rename(columns=rename_columns, inplace=True)\n",
    "gdf.to_file('/nfs/home/genovese/thesis-wildfire-genovese/database/vegetazione.geojson', index=False, driver='GeoJSON')"
   ]
  },
  {
   "cell_type": "markdown",
   "id": "1411d3b0",
   "metadata": {},
   "source": [
    "---"
   ]
  }
 ],
 "metadata": {
  "kernelspec": {
   "display_name": ".venv",
   "language": "python",
   "name": "python3"
  },
  "language_info": {
   "codemirror_mode": {
    "name": "ipython",
    "version": 3
   },
   "file_extension": ".py",
   "mimetype": "text/x-python",
   "name": "python",
   "nbconvert_exporter": "python",
   "pygments_lexer": "ipython3",
   "version": "3.10.17"
  }
 },
 "nbformat": 4,
 "nbformat_minor": 5
}
