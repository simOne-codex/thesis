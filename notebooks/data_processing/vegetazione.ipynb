{
 "cells": [
  {
   "cell_type": "code",
   "execution_count": 1,
   "id": "e1a27f06",
   "metadata": {},
   "outputs": [],
   "source": [
    "import sys \n",
    "sys.path.append(rf\"/nfs/home/genovese/thesis-wildfire-genovese/src\")\n",
    "from importlib import reload\n",
    "import utils\n",
    "reload(utils)\n",
    "from utils import *\n",
    "data_folder = \"/nfs/home/genovese/thesis-wildfire-genovese/data/\""
   ]
  },
  {
   "cell_type": "code",
   "execution_count": null,
   "id": "3a71c409",
   "metadata": {},
   "outputs": [],
   "source": [
    "gdf = gpd.read_file('/nfs/home/genovese/thesis-wildfire-genovese/data/gathering_geojson/vegetazione.geojson')"
   ]
  },
  {
   "cell_type": "code",
   "execution_count": null,
   "id": "4d010a3c",
   "metadata": {},
   "outputs": [],
   "source": [
    "sns.heatmap(pd.crosstab(gdf['TIPO'], gdf['CATEGORIA']), cmap='Blues')\n",
    "# injective map CATEGORIA -> TIPO, remove TIPO"
   ]
  },
  {
   "cell_type": "code",
   "execution_count": null,
   "id": "63048df8",
   "metadata": {},
   "outputs": [],
   "source": [
    "# gdf.drop(columns=['TIPO'], inplace=True)"
   ]
  },
  {
   "cell_type": "code",
   "execution_count": null,
   "id": "c605bfc2",
   "metadata": {},
   "outputs": [],
   "source": [
    "onehot_encoded_df = pd.get_dummies(gdf, columns=['CATEGORIA', 'INTERVENTO', 'PRIORITA', 'DESTINAZ', 'ASSETTO'], prefix=['CATEGORIA', 'INTERVENTO', 'PRIORITA', 'DESTINAZ', 'ASSETTO'])"
   ]
  },
  {
   "cell_type": "code",
   "execution_count": null,
   "id": "85b10177",
   "metadata": {},
   "outputs": [],
   "source": [
    "onehot_encoded_df.iloc[:, 2:] = onehot_encoded_df.iloc[:, 2:].astype('int') "
   ]
  },
  {
   "cell_type": "code",
   "execution_count": null,
   "id": "33ee783d",
   "metadata": {},
   "outputs": [],
   "source": [
    "save_clean_data(onehot_encoded_df, 'ohe_vegetazione', '/nfs/home/genovese/thesis-wildfire-genovese/data/gathering_geojson/')"
   ]
  },
  {
   "cell_type": "code",
   "execution_count": null,
   "id": "bee399c3",
   "metadata": {},
   "outputs": [],
   "source": [
    "import missingno as msno"
   ]
  },
  {
   "cell_type": "code",
   "execution_count": null,
   "id": "46f70ef0",
   "metadata": {},
   "outputs": [],
   "source": [
    "aux = onehot_encoded_df.iloc[:, 2:].replace(1, None)\n",
    "msno.heatmap(aux, figsize=(60,36))"
   ]
  },
  {
   "cell_type": "markdown",
   "id": "5f9b8011",
   "metadata": {},
   "source": [
    "---"
   ]
  },
  {
   "cell_type": "code",
   "execution_count": 4,
   "id": "de83d383",
   "metadata": {},
   "outputs": [],
   "source": [
    "gdf = gpd.read_file('/nfs/home/genovese/thesis-wildfire-genovese/data/gathering_geojson/vegetazione.geojson').to_crs(epsg=3857)"
   ]
  },
  {
   "cell_type": "code",
   "execution_count": 7,
   "id": "8e6853f0",
   "metadata": {},
   "outputs": [],
   "source": [
    "gdf.drop(columns='ESTENSIONE', inplace=True)"
   ]
  },
  {
   "cell_type": "code",
   "execution_count": 9,
   "id": "dd2b428e",
   "metadata": {},
   "outputs": [],
   "source": [
    "rename_columns = dict.fromkeys([col for col in gdf.columns if col not in ['geometry']])\n",
    "for a in rename_columns.keys():\n",
    "    rename_columns[a] = 'VEGETAZIONE_'+a\n",
    "\n",
    "gdf.rename(columns=rename_columns, inplace=True)"
   ]
  },
  {
   "cell_type": "code",
   "execution_count": 11,
   "id": "32abbc9b",
   "metadata": {},
   "outputs": [],
   "source": [
    "gdf.to_file('/nfs/home/genovese/thesis-wildfire-genovese/database/vegetazione.geojson', index=False, driver='GeoJSON')"
   ]
  }
 ],
 "metadata": {
  "kernelspec": {
   "display_name": ".venv",
   "language": "python",
   "name": "python3"
  },
  "language_info": {
   "codemirror_mode": {
    "name": "ipython",
    "version": 3
   },
   "file_extension": ".py",
   "mimetype": "text/x-python",
   "name": "python",
   "nbconvert_exporter": "python",
   "pygments_lexer": "ipython3",
   "version": "3.10.17"
  }
 },
 "nbformat": 4,
 "nbformat_minor": 5
}
