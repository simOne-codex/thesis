{
 "cells": [
  {
   "cell_type": "code",
   "execution_count": null,
   "id": "e1a27f06",
   "metadata": {},
   "outputs": [],
   "source": [
    "import sys \n",
    "sys.path.append(rf\"/nfs/home/genovese/thesis-wildfire-genovese/src\")\n",
    "from importlib import reload\n",
    "import utils\n",
    "reload(utils)\n",
    "from utils import *\n",
    "data_folder = \"/nfs/home/genovese/thesis-wildfire-genovese/data/\""
   ]
  },
  {
   "cell_type": "code",
   "execution_count": null,
   "id": "3a71c409",
   "metadata": {},
   "outputs": [],
   "source": [
    "gdf = gpd.read_file('/nfs/home/genovese/thesis-wildfire-genovese/data/gathering_geojson/vegetazione.geojson')"
   ]
  },
  {
   "cell_type": "code",
   "execution_count": null,
   "id": "4d010a3c",
   "metadata": {},
   "outputs": [],
   "source": [
    "sns.heatmap(pd.crosstab(gdf['TIPO'], gdf['CATEGORIA']), cmap='Blues')\n",
    "# injective map CATEGORIA -> TIPO, remove TIPO"
   ]
  },
  {
   "cell_type": "code",
   "execution_count": null,
   "id": "63048df8",
   "metadata": {},
   "outputs": [],
   "source": [
    "# gdf.drop(columns=['TIPO'], inplace=True)"
   ]
  },
  {
   "cell_type": "code",
   "execution_count": null,
   "id": "c605bfc2",
   "metadata": {},
   "outputs": [],
   "source": [
    "onehot_encoded_df = pd.get_dummies(gdf, columns=['CATEGORIA', 'INTERVENTO', 'PRIORITA', 'DESTINAZ', 'ASSETTO'], prefix=['CATEGORIA', 'INTERVENTO', 'PRIORITA', 'DESTINAZ', 'ASSETTO'])"
   ]
  },
  {
   "cell_type": "code",
   "execution_count": null,
   "id": "85b10177",
   "metadata": {},
   "outputs": [],
   "source": [
    "onehot_encoded_df.iloc[:, 2:] = onehot_encoded_df.iloc[:, 2:].astype('int') "
   ]
  },
  {
   "cell_type": "code",
   "execution_count": null,
   "id": "33ee783d",
   "metadata": {},
   "outputs": [],
   "source": [
    "save_clean_data(onehot_encoded_df, 'ohe_vegetazione', '/nfs/home/genovese/thesis-wildfire-genovese/data/gathering_geojson/')"
   ]
  },
  {
   "cell_type": "code",
   "execution_count": null,
   "id": "bee399c3",
   "metadata": {},
   "outputs": [],
   "source": [
    "import missingno as msno"
   ]
  },
  {
   "cell_type": "code",
   "execution_count": null,
   "id": "46f70ef0",
   "metadata": {},
   "outputs": [],
   "source": [
    "aux = onehot_encoded_df.iloc[:, 2:].replace(1, None)\n",
    "msno.heatmap(aux, figsize=(60,36))"
   ]
  }
 ],
 "metadata": {
  "kernelspec": {
   "display_name": ".venv",
   "language": "python",
   "name": "python3"
  },
  "language_info": {
   "codemirror_mode": {
    "name": "ipython",
    "version": 3
   },
   "file_extension": ".py",
   "mimetype": "text/x-python",
   "name": "python",
   "nbconvert_exporter": "python",
   "pygments_lexer": "ipython3",
   "version": "3.10.17"
  }
 },
 "nbformat": 4,
 "nbformat_minor": 5
}
