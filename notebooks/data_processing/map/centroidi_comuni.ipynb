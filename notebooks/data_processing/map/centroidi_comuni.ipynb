{
 "cells": [
  {
   "cell_type": "code",
   "execution_count": null,
   "id": "81b276ba",
   "metadata": {},
   "outputs": [],
   "source": [
    "import sys \n",
    "sys.path.append(rf'C:\\Users\\simof\\Documents\\GitHub\\thesis\\data_processing')\n",
    "from importlib import reload\n",
    "import utils\n",
    "reload(utils)\n",
    "from utils import *"
   ]
  },
  {
   "cell_type": "code",
   "execution_count": null,
   "id": "905c917a",
   "metadata": {},
   "outputs": [],
   "source": [
    "centroidi = gpd.read_file('data/clean_data/centroidi_comunali/centroidi_comunali.shp')\n",
    "centroidi.info()"
   ]
  },
  {
   "cell_type": "code",
   "execution_count": null,
   "id": "c0b59fe9",
   "metadata": {},
   "outputs": [],
   "source": [
    "print(centroidi.duplicated('comune').sum())\n",
    "print(centroidi.duplicated(['comune', 'geometry']).sum())"
   ]
  },
  {
   "cell_type": "code",
   "execution_count": null,
   "id": "40e8bc08",
   "metadata": {},
   "outputs": [],
   "source": [
    "centroidi.drop_duplicates(inplace=True)"
   ]
  },
  {
   "cell_type": "code",
   "execution_count": null,
   "id": "7b36859b",
   "metadata": {},
   "outputs": [],
   "source": [
    "centroidi.rename({'comune': 'Codice Comune'}, axis=1, inplace=True)"
   ]
  },
  {
   "cell_type": "code",
   "execution_count": null,
   "id": "ae51a48e",
   "metadata": {},
   "outputs": [],
   "source": [
    "save_clean_data(centroidi, 'centroidi_piemonte')"
   ]
  },
  {
   "cell_type": "markdown",
   "id": "51ed1085",
   "metadata": {},
   "source": [
    "---"
   ]
  }
 ],
 "metadata": {
  "kernelspec": {
   "display_name": "Thesis_Wilfire_Ignition",
   "language": "python",
   "name": "python3"
  },
  "language_info": {
   "codemirror_mode": {
    "name": "ipython",
    "version": 3
   },
   "file_extension": ".py",
   "mimetype": "text/x-python",
   "name": "python",
   "nbconvert_exporter": "python",
   "pygments_lexer": "ipython3",
   "version": "3.13.2"
  }
 },
 "nbformat": 4,
 "nbformat_minor": 5
}
