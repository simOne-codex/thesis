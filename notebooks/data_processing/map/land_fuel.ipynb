{
 "cells": [
  {
   "cell_type": "code",
   "execution_count": 1,
   "id": "f744995a",
   "metadata": {},
   "outputs": [],
   "source": [
    "import sys \n",
    "sys.path.append(rf\"/nfs/home/genovese/thesis-wildfire-genovese/src\")\n",
    "from importlib import reload\n",
    "import utils\n",
    "reload(utils)\n",
    "from utils import *\n",
    "data_folder = \"/nfs/home/genovese/thesis-wildfire-genovese/data/\""
   ]
  },
  {
   "cell_type": "code",
   "execution_count": null,
   "id": "7f93a527",
   "metadata": {},
   "outputs": [],
   "source": [
    "extract_zipfile(data_folder+'FuelMap_LAEA.zip', data_folder+\"raw/fuelmap/\")"
   ]
  },
  {
   "cell_type": "code",
   "execution_count": null,
   "id": "25e0a4bf",
   "metadata": {},
   "outputs": [],
   "source": [
    "import rasterio\n",
    "\n",
    "# Open the TIFF file\n",
    "with rasterio.open(data_folder+'raw/fuelmap/FuelMap2000_NFFL_LAEA.tif') as dataset:\n",
    "    image_data = dataset.read(1)  # Read the first band (if multi-band)\n",
    "\n",
    "    # Print basic info\n",
    "    print(f\"Width: {dataset.width}\")\n",
    "    print(f\"Height: {dataset.height}\")\n",
    "    print(f\"Count of bands: {dataset.count}\")\n",
    "    print(f\"CRS (Coordinate Reference System): {dataset.crs}\")\n",
    "\n",
    "# Example of accessing metadata:\n",
    "with rasterio.open(data_folder+'raw/fuelmap/FuelMap2000_NFFL_LAEA.tif') as dataset:\n",
    "    metadata = dataset.meta\n",
    "    print(metadata)\n"
   ]
  },
  {
   "cell_type": "code",
   "execution_count": null,
   "id": "dce0114e",
   "metadata": {},
   "outputs": [],
   "source": [
    "from PIL import Image\n",
    "\n",
    "Image.MAX_IMAGE_PIXELS = None\n",
    "\n",
    "# Open the TIFF file using Pillow\n",
    "tif_image = Image.open(data_folder+'raw/fuelmap/FuelMap2000_NFFL_LAEA.tif')\n",
    "\n",
    "# Convert to numpy array (if you need to process it further)\n",
    "image_array = np.array(tif_image)\n",
    "\n",
    "# Display the image using matplotlib\n",
    "plt.imshow(image_array)\n",
    "plt.axis('off')  # Hide axis\n",
    "plt.show()\n"
   ]
  },
  {
   "cell_type": "markdown",
   "id": "afcc1e3e",
   "metadata": {},
   "source": [
    "---"
   ]
  },
  {
   "cell_type": "code",
   "execution_count": 2,
   "id": "cb39f451",
   "metadata": {},
   "outputs": [
    {
     "data": {
      "text/plain": [
       "['zona_altimetrica',\n",
       " 'clean_data',\n",
       " 'from_qgis',\n",
       " 'carta_forestale_agg2016.zip',\n",
       " '00000001',\n",
       " '.gitignore',\n",
       " 'socioeconomic',\n",
       " 'IFC',\n",
       " 'raw']"
      ]
     },
     "execution_count": 2,
     "metadata": {},
     "output_type": "execute_result"
    }
   ],
   "source": [
    "os.listdir(data_folder)"
   ]
  },
  {
   "cell_type": "code",
   "execution_count": 3,
   "id": "3bf1f6d5",
   "metadata": {},
   "outputs": [
    {
     "name": "stdout",
     "output_type": "stream",
     "text": [
      "Inner file extracted  ['carta_forestale_agg2016']\n"
     ]
    }
   ],
   "source": [
    "extract_zipfile(data_folder+\"carta_forestale_agg2016.zip\", data_folder+\"raw/carta_forestale_agg2016/\")"
   ]
  },
  {
   "cell_type": "code",
   "execution_count": 18,
   "id": "97832836",
   "metadata": {},
   "outputs": [],
   "source": [
    "province = ['AL', 'AT', 'BI', 'CN','NO', 'TO', 'VB', 'VC']\n",
    "foreste = gpd.GeoDataFrame()\n",
    "for p in province:\n",
    "    nuovo = gpd.read_file(data_folder+f\"raw/carta_forestale_agg2016/carta_forestale_agg2016/carta_forestale_agg2016_{p}.shp\")\n",
    "    foreste = pd.concat([foreste, nuovo]).reset_index(drop=True)\n",
    "foreste = gpd.GeoDataFrame(foreste)"
   ]
  },
  {
   "cell_type": "code",
   "execution_count": 23,
   "id": "ec33456f",
   "metadata": {},
   "outputs": [
    {
     "name": "stdout",
     "output_type": "stream",
     "text": [
      "File saved to: /nfs/home/genovese/thesis-wildfire-genovese/data/clean_data/mappa_forestale\n"
     ]
    }
   ],
   "source": [
    "save_clean_data(foreste, \"mappa_forestale\")"
   ]
  },
  {
   "cell_type": "markdown",
   "id": "4e4a7b5c",
   "metadata": {},
   "source": [
    "---"
   ]
  }
 ],
 "metadata": {
  "kernelspec": {
   "display_name": ".venv",
   "language": "python",
   "name": "python3"
  },
  "language_info": {
   "codemirror_mode": {
    "name": "ipython",
    "version": 3
   },
   "file_extension": ".py",
   "mimetype": "text/x-python",
   "name": "python",
   "nbconvert_exporter": "python",
   "pygments_lexer": "ipython3",
   "version": "3.10.17"
  }
 },
 "nbformat": 4,
 "nbformat_minor": 5
}
