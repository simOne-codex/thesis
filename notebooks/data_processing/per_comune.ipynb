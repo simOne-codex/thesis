{
 "cells": [
  {
   "cell_type": "code",
   "execution_count": null,
   "id": "50d02414",
   "metadata": {},
   "outputs": [],
   "source": [
    "import sys \n",
    "sys.path.append(rf\"/nfs/home/genovese/thesis-wildfire-genovese/src\")\n",
    "from importlib import reload\n",
    "import utils\n",
    "reload(utils)\n",
    "from utils import *\n",
    "data_folder = \"/nfs/home/genovese/thesis-wildfire-genovese/data/\""
   ]
  },
  {
   "cell_type": "code",
   "execution_count": null,
   "id": "242097a1",
   "metadata": {},
   "outputs": [],
   "source": [
    "# fixed per year\n",
    "agricensus = gpd.read_file('/nfs/home/genovese/thesis-wildfire-genovese/data/gathering_geojson/per_comune/agricensus/2020.geojson')"
   ]
  },
  {
   "cell_type": "code",
   "execution_count": null,
   "id": "42e101f5",
   "metadata": {},
   "outputs": [],
   "source": [
    "def loader(a, b, c, d, e):\n",
    "    istruzione = gpd.read_file(f'/nfs/home/genovese/thesis-wildfire-genovese/data/gathering_geojson/per_comune/ISTRUZIONE/{a}.geojson')\n",
    "    occupazione = gpd.read_file(f'/nfs/home/genovese/thesis-wildfire-genovese/data/gathering_geojson/per_comune/OCCUPAZIONE/{b}.geojson')\n",
    "    ifc= gpd.read_file(f'/nfs/home/genovese/thesis-wildfire-genovese/data/gathering_geojson/per_comune/IFC/{c}.geojson')\n",
    "    popolazione = gpd.read_file(f'/nfs/home/genovese/thesis-wildfire-genovese/data/gathering_geojson/per_comune/popolazione/{d}.geojson')\n",
    "    redditi = gpd.read_file(f'/nfs/home/genovese/thesis-wildfire-genovese/data/gathering_geojson/per_comune/redditi/{e}.geojson')\n",
    "\n",
    "    return istruzione, occupazione, ifc, popolazione, redditi"
   ]
  },
  {
   "cell_type": "code",
   "execution_count": null,
   "id": "e170a342",
   "metadata": {},
   "outputs": [],
   "source": [
    "i18, o18, ifc18, p16, r16 = loader(2018, 2018, 2018, 2016, 2016)"
   ]
  },
  {
   "cell_type": "code",
   "execution_count": null,
   "id": "4381ea3d",
   "metadata": {},
   "outputs": [],
   "source": [
    "tot16 = i18.merge(o18, how='outer', on='geometry'\n",
    "                  ).merge(ifc18, how='outer', on='geometry'\n",
    "                          ).merge(p16, how='outer', on='geometry'\n",
    "                                  ).merge(r16, how='outer', on='geometry')"
   ]
  },
  {
   "cell_type": "code",
   "execution_count": null,
   "id": "d03d8807",
   "metadata": {},
   "outputs": [],
   "source": [
    "import missingno as msno\n",
    "msno.bar(tot16)"
   ]
  },
  {
   "cell_type": "code",
   "execution_count": null,
   "id": "b32eb1b9",
   "metadata": {},
   "outputs": [],
   "source": [
    "def find_neighbors(gdf, row):\n",
    "    neighbors = []\n",
    "    for idx, row2 in gdf.iterrows():\n",
    "        if (row2['geometry'].touches(row['geometry'])):\n",
    "            neighbors.append(idx)\n",
    "    return neighbors\n",
    "\n",
    "\n",
    "def fill_missing_value(gdf, row, var):\n",
    "    if pd.isna(row[var]):  # If it is missing...\n",
    "        neighbors = find_neighbors(gdf, row)\n",
    "        if neighbors:\n",
    "            neighbor_val = gdf.loc[neighbors, var]\n",
    "            # Calculate the average of neighbors (ignoring NaN values)\n",
    "            if str(gdf[var].dtype) in ['float64']:\n",
    "                return neighbor_val.mean()\n",
    "            else:\n",
    "                m = neighbor_val.mode()\n",
    "                if m.shape[0] >= 1:\n",
    "                    return m[0]\n",
    "                else:\n",
    "                    print('ERROR: ', m.shape)\n",
    "    return row[var]"
   ]
  },
  {
   "cell_type": "code",
   "execution_count": null,
   "id": "b7d0efad",
   "metadata": {},
   "outputs": [],
   "source": [
    "# tot16.drop(columns=['65_studente/ssa'], inplace=True)"
   ]
  },
  {
   "cell_type": "code",
   "execution_count": null,
   "id": "b0b6ce92",
   "metadata": {},
   "outputs": [],
   "source": [
    "def fix(row, var):\n",
    "    if type(row[var]) == pd.core.series.Series:\n",
    "        return pd.Series(row[var]).iloc[0][0]\n",
    "    else:\n",
    "        return row[var]"
   ]
  },
  {
   "cell_type": "code",
   "execution_count": null,
   "id": "61d436ea",
   "metadata": {},
   "outputs": [],
   "source": [
    "for col in tot16.columns:\n",
    "    tot16.loc[:,col] = tot16[[col]].apply(lambda x: fix(x, col), axis=1)"
   ]
  },
  {
   "cell_type": "code",
   "execution_count": null,
   "id": "975043d9",
   "metadata": {},
   "outputs": [],
   "source": [
    "for col in tqdm(tot16.columns[tot16.isna().any()]):\n",
    "    tot16.loc[:,col] = tot16[[col, 'geometry']].apply(lambda x: fill_missing_value(tot16, x, col), axis=1)"
   ]
  },
  {
   "cell_type": "code",
   "execution_count": null,
   "id": "ea726b2b",
   "metadata": {},
   "outputs": [],
   "source": [
    "save_clean_data(tot16, 'per_comune_2016_provvisorio', '/nfs/home/genovese/thesis-wildfire-genovese/data/gathering_geojson/per_comune')"
   ]
  },
  {
   "cell_type": "code",
   "execution_count": null,
   "id": "4f61293f",
   "metadata": {},
   "outputs": [],
   "source": [
    "msno.bar(tot16)"
   ]
  },
  {
   "cell_type": "code",
   "execution_count": null,
   "id": "2e3e6276",
   "metadata": {},
   "outputs": [],
   "source": [
    "msno.heatmap(tot16)"
   ]
  },
  {
   "cell_type": "markdown",
   "id": "659bfb7f",
   "metadata": {},
   "source": [
    "---"
   ]
  }
 ],
 "metadata": {
  "kernelspec": {
   "display_name": ".venv",
   "language": "python",
   "name": "python3"
  },
  "language_info": {
   "codemirror_mode": {
    "name": "ipython",
    "version": 3
   },
   "file_extension": ".py",
   "mimetype": "text/x-python",
   "name": "python",
   "nbconvert_exporter": "python",
   "pygments_lexer": "ipython3",
   "version": "3.10.17"
  }
 },
 "nbformat": 4,
 "nbformat_minor": 5
}
