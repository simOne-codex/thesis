{
 "cells": [
  {
   "cell_type": "code",
   "execution_count": null,
   "id": "50d02414",
   "metadata": {},
   "outputs": [],
   "source": [
    "import sys \n",
    "sys.path.append(rf\"/nfs/home/genovese/thesis-wildfire-genovese/src\")\n",
    "from importlib import reload\n",
    "import utils\n",
    "reload(utils)\n",
    "from utils import *\n",
    "data_folder = \"/nfs/home/genovese/thesis-wildfire-genovese/data/\""
   ]
  },
  {
   "cell_type": "code",
   "execution_count": null,
   "id": "d03d8807",
   "metadata": {},
   "outputs": [],
   "source": [
    "import missingno as msno\n",
    "msno.bar(tot16)\n",
    "msno.heatmap(tot16)"
   ]
  },
  {
   "cell_type": "markdown",
   "id": "659bfb7f",
   "metadata": {},
   "source": [
    "---"
   ]
  },
  {
   "cell_type": "markdown",
   "id": "5a797f0b",
   "metadata": {},
   "source": [
    "### ignore"
   ]
  },
  {
   "cell_type": "code",
   "execution_count": null,
   "id": "242097a1",
   "metadata": {},
   "outputs": [],
   "source": [
    "# fixed per year\n",
    "agricensus = gpd.read_file('/nfs/home/genovese/thesis-wildfire-genovese/data/gathering_geojson/per_comune/agricensus/2020.geojson')"
   ]
  },
  {
   "cell_type": "code",
   "execution_count": null,
   "id": "b32eb1b9",
   "metadata": {},
   "outputs": [],
   "source": [
    "def loader(a, b, c, d, e):\n",
    "    istruzione = gpd.read_file(f'/nfs/home/genovese/thesis-wildfire-genovese/data/gathering_geojson/per_comune/ISTRUZIONE/{a}.geojson')\n",
    "    occupazione = gpd.read_file(f'/nfs/home/genovese/thesis-wildfire-genovese/data/gathering_geojson/per_comune/OCCUPAZIONE/{b}.geojson')\n",
    "    ifc= gpd.read_file(f'/nfs/home/genovese/thesis-wildfire-genovese/data/gathering_geojson/per_comune/IFC/{c}.geojson')\n",
    "    popolazione = gpd.read_file(f'/nfs/home/genovese/thesis-wildfire-genovese/data/gathering_geojson/per_comune/popolazione/{d}.geojson')\n",
    "    redditi = gpd.read_file(f'/nfs/home/genovese/thesis-wildfire-genovese/data/gathering_geojson/per_comune/redditi/{e}.geojson')\n",
    "\n",
    "    return istruzione, occupazione, ifc, popolazione, redditi\n",
    "\n",
    "\n",
    "def find_neighbors(gdf, row):\n",
    "    neighbors = []\n",
    "    for idx, row2 in gdf.iterrows():\n",
    "        if (row2['geometry'].touches(row['geometry'])):\n",
    "            neighbors.append(idx)\n",
    "    return neighbors\n",
    "\n",
    "\n",
    "def fill_missing_value(gdf, row, var):\n",
    "    if pd.isna(row[var]):  # If it is missing...\n",
    "        neighbors = find_neighbors(gdf, row)\n",
    "        if neighbors:\n",
    "            neighbor_val = gdf.loc[neighbors, var]\n",
    "            # Calculate the average of neighbors (ignoring NaN values)\n",
    "            if str(gdf[var].dtype) in ['float64']:\n",
    "                return neighbor_val.mean()\n",
    "            else:\n",
    "                m = neighbor_val.mode()\n",
    "                if m.shape[0] >= 1:\n",
    "                    return m[0]\n",
    "    return row[var]\n",
    "\n",
    "def fix_series_values(row, var):\n",
    "    if type(row[var]) == pd.core.series.Series:\n",
    "        return pd.Series(row[var]).iloc[0][0]\n",
    "    else:\n",
    "        return row[var]\n",
    "    \n",
    "def yearly_data_processing(year, a, b, c, d, e):\n",
    "    i18, o18, ifc18, p16, r16 = loader(a, b, c, d, e)\n",
    "    tot16 = i18.merge(o18, how='outer', on='geometry'\n",
    "                  ).merge(ifc18, how='outer', on='geometry'\n",
    "                          ).merge(p16, how='outer', on='geometry'\n",
    "                                  ).merge(r16, how='outer', on='geometry')\n",
    "    \n",
    "    tot16.drop(columns=tot16.columns[tot16.isna().all()], inplace=True)\n",
    "    \n",
    "    for col in tqdm(tot16.columns, desc='Fixing series values...'):\n",
    "        tot16.loc[:,col] = tot16[[col]].apply(lambda x: fix_series_values(x, col), axis=1)\n",
    "\n",
    "    track = 0\n",
    "    while(tot16.isna().sum().any() & track < 15):\n",
    "        for col in tqdm(tot16.columns[tot16.isna().any()], desc=f'Fixing missing values time {track}...'):\n",
    "            tot16.loc[:,col] = tot16[[col, 'geometry']].apply(lambda x: fill_missing_value(tot16, x, col), axis=1)\n",
    "        track += 1\n",
    "    \n",
    "    save_clean_data(tot16, f'per_comune_{year}_provvisorio', '/nfs/home/genovese/thesis-wildfire-genovese/data/gathering_geojson/per_comune')"
   ]
  },
  {
   "cell_type": "code",
   "execution_count": null,
   "id": "9fb7a96f",
   "metadata": {},
   "outputs": [],
   "source": [
    "for year, lst in param_grid.items():\n",
    "    yearly_data_processing(year, lst[0], lst[1], lst[2], lst[3], lst[4])"
   ]
  },
  {
   "cell_type": "markdown",
   "id": "65cd250b",
   "metadata": {},
   "source": [
    "---"
   ]
  },
  {
   "cell_type": "markdown",
   "id": "14844d00",
   "metadata": {},
   "source": [
    "### further processing"
   ]
  },
  {
   "cell_type": "code",
   "execution_count": null,
   "id": "b3282313",
   "metadata": {},
   "outputs": [],
   "source": [
    "years = dict()\n",
    "for y in range(2016, 2023):\n",
    "    years[y] = gpd.read_file(f'/nfs/home/genovese/thesis-wildfire-genovese/data/gathering_geojson/per_comune/per_comune_{y}_provvisorio.geojson')\n",
    "\n",
    "years[20232024] = gpd.read_file(f'/nfs/home/genovese/thesis-wildfire-genovese/data/gathering_geojson/per_comune/per_comune_20232024_provvisorio.geojson')"
   ]
  },
  {
   "cell_type": "code",
   "execution_count": null,
   "id": "0411e79e",
   "metadata": {},
   "outputs": [],
   "source": [
    "columns_list = list(years[2016].columns)\n",
    "for y, df in years.items():\n",
    "    for c in df.columns:\n",
    "        if c not in columns_list:\n",
    "            print(f'Column {c} appears in year {y} and not in 2016')"
   ]
  },
  {
   "cell_type": "code",
   "execution_count": null,
   "id": "389a3b3d",
   "metadata": {},
   "outputs": [],
   "source": [
    "for gdf in years.values():\n",
    "    for col in ['IFC (decile)','AMB_01', 'AMB_02','AMB_03', 'ECO_01', 'ECO_02','SOC_01','SOC_02','SOC_03','SOC_04','TER_01','TER_02','TER_03']:\n",
    "        for j in gdf[col].index:\n",
    "            c = gdf.loc[j, col]\n",
    "            if isinstance(c, str):\n",
    "                gdf.loc[j, col] = float(c.replace('.', '').replace(',', '.'))\n",
    "        gdf[col] = gdf[col].astype('float64')"
   ]
  },
  {
   "cell_type": "code",
   "execution_count": null,
   "id": "37f7ab16",
   "metadata": {},
   "outputs": [],
   "source": [
    "def find_neighbors(gdf, row):\n",
    "    neighbors = []\n",
    "    for idx, row2 in gdf.iterrows():\n",
    "        if (row2['geometry'].touches(row['geometry'])):\n",
    "            neighbors.append(idx)\n",
    "    return neighbors\n",
    "\n",
    "\n",
    "def fill_missing_value(gdf, row, var):\n",
    "    if pd.isna(row[var]):  # If it is missing...\n",
    "        neighbors = find_neighbors(gdf, row)\n",
    "        if neighbors:\n",
    "            neighbor_val = gdf.loc[neighbors, var]\n",
    "            # Calculate the average of neighbors (ignoring NaN values)\n",
    "            if str(gdf[var].dtype) in ['float64']:\n",
    "                return neighbor_val.mean()\n",
    "            else:\n",
    "                m = neighbor_val.mode()\n",
    "                if m.shape[0] >= 1:\n",
    "                    return m[0]\n",
    "    return row[var]"
   ]
  },
  {
   "cell_type": "code",
   "execution_count": null,
   "id": "63ff4725",
   "metadata": {},
   "outputs": [],
   "source": [
    "for gdf in years.values():\n",
    "    gdf.loc[:,'Fascia demografica'] = gdf[['Fascia demografica', 'geometry']].apply(lambda x: fill_missing_value(gdf, x, 'Fascia demografica'), axis=1)"
   ]
  },
  {
   "cell_type": "code",
   "execution_count": null,
   "id": "c3faa30a",
   "metadata": {},
   "outputs": [],
   "source": [
    "columns_list = list(years[2016].columns)\n",
    "for y, df in years.items():\n",
    "    for c in df.columns:\n",
    "        if c not in columns_list:\n",
    "            print(f'Column {c} appears in year {y} and not in 2016')"
   ]
  },
  {
   "cell_type": "code",
   "execution_count": null,
   "id": "f43e06fb",
   "metadata": {},
   "outputs": [],
   "source": [
    "for gdf in years.values():\n",
    "    if '65_studente/ssa' in gdf.columns:\n",
    "        gdf.drop(columns='65_studente/ssa', inplace=True)"
   ]
  },
  {
   "cell_type": "code",
   "execution_count": null,
   "id": "39a3cf0c",
   "metadata": {},
   "outputs": [],
   "source": [
    "for y, gdf in years.items():\n",
    "    gdf.to_file(f'/nfs/home/genovese/thesis-wildfire-genovese/data/gathering_geojson/per_comune/per_comune_{y}_provvisorio.geojson', index=False, driver='GeoJSON')"
   ]
  },
  {
   "cell_type": "code",
   "execution_count": null,
   "id": "ae98d848",
   "metadata": {},
   "outputs": [],
   "source": [
    "from shapely.geometry import Point"
   ]
  }
 ],
 "metadata": {
  "kernelspec": {
   "display_name": ".venv",
   "language": "python",
   "name": "python3"
  },
  "language_info": {
   "codemirror_mode": {
    "name": "ipython",
    "version": 3
   },
   "file_extension": ".py",
   "mimetype": "text/x-python",
   "name": "python",
   "nbconvert_exporter": "python",
   "pygments_lexer": "ipython3",
   "version": "3.10.17"
  }
 },
 "nbformat": 4,
 "nbformat_minor": 5
}
