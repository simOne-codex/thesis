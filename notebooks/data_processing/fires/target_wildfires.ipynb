{
 "cells": [
  {
   "cell_type": "code",
   "execution_count": null,
   "id": "24991fc2",
   "metadata": {},
   "outputs": [],
   "source": [
    "import sys \n",
    "sys.path.append(rf\"/nfs/home/genovese/thesis-wildfire-genovese/src\")\n",
    "from importlib import reload\n",
    "import utils\n",
    "reload(utils)\n",
    "from utils import *\n",
    "data_folder = \"/nfs/home/genovese/thesis-wildfire-genovese/data/\""
   ]
  },
  {
   "cell_type": "markdown",
   "id": "802ad25e",
   "metadata": {},
   "source": [
    "# Ignition points xls"
   ]
  },
  {
   "cell_type": "code",
   "execution_count": null,
   "id": "d95b3e22",
   "metadata": {},
   "outputs": [],
   "source": [
    "ignition_points = pd.read_excel(\"data/raw/INCENDI_T_INCENDIO.xls\")\n",
    "ignition_points"
   ]
  },
  {
   "cell_type": "code",
   "execution_count": null,
   "id": "cc61cb90",
   "metadata": {},
   "outputs": [],
   "source": [
    "# convert coordinates format to lat/lon\n",
    "# transformer = Transformer.from_crs(\"EPSG:32632\", \"EPSG:4326\", always_xy=True)\n",
    "# ignition_points['WGS84EST'], ignition_points['WGS84NORD'] = transformer.transform(ignition_points['WGS84EST'], ignition_points['WGS84NORD'])\n",
    "\n",
    "# Convert DataFrame to GeoDataFrame\n",
    "ignition_points = gpd.GeoDataFrame(ignition_points, \n",
    "                              geometry=gpd.points_from_xy(ignition_points['WGS84EST'], ignition_points['WGS84NORD'])\n",
    "                              )"
   ]
  },
  {
   "cell_type": "code",
   "execution_count": null,
   "id": "c0a5dc93",
   "metadata": {},
   "outputs": [],
   "source": [
    "file = ignition_points\n",
    "filename = 'ignition_points'\n",
    "\n",
    "save_clean_data(file, filename)"
   ]
  },
  {
   "cell_type": "markdown",
   "id": "29f315d6",
   "metadata": {},
   "source": [
    "---"
   ]
  },
  {
   "cell_type": "markdown",
   "id": "119d6206",
   "metadata": {},
   "source": [
    "# Vectorial files"
   ]
  },
  {
   "cell_type": "code",
   "execution_count": null,
   "id": "1dacf767",
   "metadata": {},
   "outputs": [],
   "source": [
    "# import all the files of fire spread\n",
    "fire_surfaces = {} \n",
    "with zipfile.ZipFile(zip_file, 'r') as z:\n",
    "    for file in z.namelist():\n",
    "        try:\n",
    "            fire_surfaces[file] = gpd.read_file(f\"zip://{zip_file}!{file}\")\n",
    "        finally:\n",
    "            continue"
   ]
  },
  {
   "cell_type": "code",
   "execution_count": null,
   "id": "cd11807c",
   "metadata": {},
   "outputs": [],
   "source": [
    "fire_surfaces.keys()"
   ]
  },
  {
   "cell_type": "code",
   "execution_count": null,
   "id": "ba4965de",
   "metadata": {},
   "outputs": [],
   "source": [
    "# check whether all these files have equal data\n",
    "print([fire_surfaces[i].shape == fire_surfaces[j].shape for i,j in list(zip(list(fire_surfaces.keys())[:-1], list(fire_surfaces.keys())[1:]))])\n",
    "print([string.split('.')[-1] for string in list(fire_surfaces.keys())])"
   ]
  },
  {
   "cell_type": "markdown",
   "id": "78d1d0bd",
   "metadata": {},
   "source": [
    "There are two different files: *INC_SDO_PL_INCENDI* and *INC_SDO_PT_INCENDIO*"
   ]
  },
  {
   "cell_type": "code",
   "execution_count": null,
   "id": "32c35294",
   "metadata": {},
   "outputs": [],
   "source": [
    "file_type_1 = fire_surfaces['shp_scarico_geoportale/INC_SDO_PL_INCENDI.shp']\n",
    "display(file_type_1)\n",
    "file_type_2 = fire_surfaces['shp_scarico_geoportale/INC_SDO_PT_INCENDIO.shp']\n",
    "display(file_type_2)"
   ]
  },
  {
   "cell_type": "markdown",
   "id": "31eb7cc3",
   "metadata": {},
   "source": [
    "---"
   ]
  },
  {
   "cell_type": "markdown",
   "id": "93995c05",
   "metadata": {},
   "source": [
    "## Vectorial Ignition Points"
   ]
  },
  {
   "cell_type": "code",
   "execution_count": null,
   "id": "fcae9eaf",
   "metadata": {},
   "outputs": [],
   "source": [
    "~file_type_2['geometry'].isin(ignition_points['geometry'])"
   ]
  },
  {
   "cell_type": "code",
   "execution_count": null,
   "id": "2eb10bb2",
   "metadata": {},
   "outputs": [],
   "source": [
    "# remove all spaces to have uniform data\n",
    "shp = file_type_2['id_incendi']\n",
    "xls = ignition_points['ID_INCENDI']\n",
    "\n",
    "print('Ignitions in the shp not in the xls: ', shp[~shp.isin(xls)], '\\n')\n",
    "print('Ignitions in the xls not in the shp: ', xls[~xls.isin(shp)])"
   ]
  },
  {
   "cell_type": "code",
   "execution_count": null,
   "id": "faf87d28",
   "metadata": {},
   "outputs": [],
   "source": [
    "ignition_points[ignition_points['ID_INCENDI'].isin(xls[~xls.isin(shp)])]"
   ]
  },
  {
   "cell_type": "code",
   "execution_count": null,
   "id": "c730acda",
   "metadata": {},
   "outputs": [],
   "source": [
    "print(file_type_2.info())"
   ]
  },
  {
   "cell_type": "code",
   "execution_count": null,
   "id": "5a001b63",
   "metadata": {},
   "outputs": [],
   "source": [
    "ignition_points.info()"
   ]
  },
  {
   "cell_type": "markdown",
   "id": "4f569c69",
   "metadata": {},
   "source": [
    "There is some missing data in the xls, none in the shp"
   ]
  },
  {
   "cell_type": "code",
   "execution_count": null,
   "id": "cc152ce4",
   "metadata": {},
   "outputs": [],
   "source": [
    "print(\"xls' NA wildfires inside the shp's wildfires\")\n",
    "file_type_2[file_type_2['id_incendi'].isin(ignition_points[ignition_points['WGS84EST'].isna()]['ID_INCENDI'])]"
   ]
  },
  {
   "cell_type": "code",
   "execution_count": null,
   "id": "6778822b",
   "metadata": {},
   "outputs": [],
   "source": [
    "display(file_type_2.sort_values('id_incendi').iloc[0, :])\n",
    "display(ignition_points.sort_values('ID_INCENDI').iloc[0, :])\n",
    "print(file_type_2.sort_values('id_incendi').iloc[0, -1] == ignition_points.sort_values('ID_INCENDI').iloc[0, -1])"
   ]
  },
  {
   "cell_type": "markdown",
   "id": "8fef270c",
   "metadata": {},
   "source": [
    "The two file geometries have different accuracies. I can merge the two dataframe to the same accuracy"
   ]
  },
  {
   "cell_type": "code",
   "execution_count": null,
   "id": "e2c9aa20",
   "metadata": {},
   "outputs": [],
   "source": [
    "merged_ignitions = ignition_points.merge(file_type_2.rename({'id_incendi': 'ID_INCENDI'}, axis=1),\n",
    "                      on='ID_INCENDI', \n",
    "                      how='left')\n",
    "merged_ignitions.info()"
   ]
  },
  {
   "cell_type": "code",
   "execution_count": null,
   "id": "de6b5ab9",
   "metadata": {},
   "outputs": [],
   "source": [
    "merged_ignitions[~merged_ignitions['cod_ince'].isin(merged_ignitions['COD_FASCIC'])]"
   ]
  },
  {
   "cell_type": "markdown",
   "id": "d745d57b",
   "metadata": {},
   "source": [
    "Cod_ince and COD_FASCIC are the same thing\n",
    "<br>I want to keep the more precise geometry which is geometry_y, and fill the previous NAs"
   ]
  },
  {
   "cell_type": "code",
   "execution_count": null,
   "id": "cba1ef62",
   "metadata": {},
   "outputs": [],
   "source": [
    "mask = merged_ignitions['geometry_y'].isna()\n",
    "merged_ignitions['geometry_y'][mask] = gpd.points_from_xy(\n",
    "    merged_ignitions['WGS84EST'][mask], merged_ignitions['WGS84NORD'][mask])\n",
    "\n",
    "merged_ignitions = merged_ignitions.drop('geometry_x', axis=1\n",
    "    ).replace(to_replace=merged_ignitions['cod_ince'], value = merged_ignitions['COD_FASCIC']\n",
    "        ).drop('cod_ince', axis=1\n",
    "               ).rename({'geometry_y': 'geometry'}, axis=1\n",
    "                        )\n",
    "\n",
    "mask = merged_ignitions['WGS84EST'].isna()\n",
    "merged_ignitions['WGS84EST'][mask] = merged_ignitions['WGS84EST'][mask].fillna(merged_ignitions[mask]['geometry'].x)\n",
    "mask = merged_ignitions['WGS84NORD'].isna()\n",
    "merged_ignitions['WGS84NORD'][mask] = merged_ignitions['WGS84NORD'][mask].fillna(merged_ignitions[mask]['geometry'].y)\n",
    "\n",
    "merged_ignitions.info()"
   ]
  },
  {
   "cell_type": "markdown",
   "id": "2f0e0d5b",
   "metadata": {},
   "source": [
    "2 wildfires left with no geographical data. I won't drop them since if I can identify the respective burnt area I can take the centroid as ignition point "
   ]
  },
  {
   "cell_type": "code",
   "execution_count": null,
   "id": "a1349890",
   "metadata": {},
   "outputs": [],
   "source": [
    "file = merged_ignitions\n",
    "filename = 'ignition_points'\n",
    "\n",
    "save_clean_data(file, filename)"
   ]
  },
  {
   "cell_type": "markdown",
   "id": "7eb77826",
   "metadata": {},
   "source": [
    "---"
   ]
  },
  {
   "cell_type": "markdown",
   "id": "18c93667",
   "metadata": {},
   "source": [
    "## Vectorial burnt areas"
   ]
  },
  {
   "cell_type": "code",
   "execution_count": null,
   "id": "93985587",
   "metadata": {},
   "outputs": [],
   "source": [
    "burnt_areas = file_type_1\n",
    "burnt_areas.info()\n",
    "display(burnt_areas)"
   ]
  },
  {
   "cell_type": "markdown",
   "id": "30e133f6",
   "metadata": {},
   "source": [
    "Everything looks fine here in terms of formats and values"
   ]
  },
  {
   "cell_type": "code",
   "execution_count": null,
   "id": "59e6ca8a",
   "metadata": {},
   "outputs": [],
   "source": [
    "file = burnt_areas\n",
    "filename = 'burnt_areas'\n",
    "\n",
    "save_clean_data(file, filename)"
   ]
  },
  {
   "cell_type": "markdown",
   "id": "bcc1f732",
   "metadata": {},
   "source": [
    "---"
   ]
  },
  {
   "cell_type": "markdown",
   "id": "5e2ecde7",
   "metadata": {},
   "source": [
    "# Ignition - Surface overlay"
   ]
  },
  {
   "cell_type": "code",
   "execution_count": null,
   "id": "7a8449b9",
   "metadata": {},
   "outputs": [],
   "source": [
    "ignition_points = gpd.read_file('/nfs/home/genovese/thesis-wildfire-genovese/data/clean_data/ignition_points/ignition_points.shp')\n",
    "burnt_areas = gpd.read_file('/nfs/home/genovese/thesis-wildfire-genovese/data/clean_data/burnt_areas/burnt_areas.shp')\n",
    "\n",
    "ignition_points.info()\n",
    "print('\\n')\n",
    "burnt_areas.info()"
   ]
  },
  {
   "cell_type": "code",
   "execution_count": null,
   "id": "b9f38b5d",
   "metadata": {},
   "outputs": [],
   "source": [
    "# some preliminary checks\n",
    "print('The two coordinate systems are equal: ', ignition_points.crs == burnt_areas.crs)\n",
    "print('There are duplicated rows: ')\n",
    "print('Ignitions: ', ignition_points.duplicated().any())\n",
    "print('Fires: ', burnt_areas.duplicated().any())"
   ]
  },
  {
   "cell_type": "markdown",
   "id": "7fa99b4b",
   "metadata": {},
   "source": [
    "There are evidently many ignition points with no fire spreaded. Check whether each fire has an ignition point"
   ]
  },
  {
   "cell_type": "code",
   "execution_count": null,
   "id": "cdd7395f",
   "metadata": {},
   "outputs": [],
   "source": [
    "mask = burnt_areas['id_incendi'].isin(ignition_points['ID_INCENDI'])\n",
    "burnt_areas[~mask]"
   ]
  },
  {
   "cell_type": "markdown",
   "id": "b41c87a7",
   "metadata": {},
   "source": [
    "Check whether all the ignitions lie in the respective burnt area"
   ]
  },
  {
   "cell_type": "code",
   "execution_count": null,
   "id": "7d341b82",
   "metadata": {},
   "outputs": [],
   "source": [
    "merged_fires = burnt_areas.merge(ignition_points.rename({'ID_INCENDI': 'id_incendi'}, axis=1), on=\"id_incendi\", how=\"inner\")\n",
    "merged_fires[~merged_fires.geometry_x.contains(merged_fires.geometry_y)]"
   ]
  },
  {
   "cell_type": "markdown",
   "id": "078068e5",
   "metadata": {},
   "source": [
    "There seem to be 500 fires where ignition is not inside burnt area. Let's check the distance between point and area"
   ]
  },
  {
   "cell_type": "code",
   "execution_count": null,
   "id": "bd329abf",
   "metadata": {},
   "outputs": [],
   "source": [
    "def get_outliers(series):\n",
    "    Q1 = series.quantile(0.25)\n",
    "    Q3 = series.quantile(0.75)\n",
    "    IQR = Q3 - Q1\n",
    "\n",
    "    outliers = series[(series < Q1 - 1.5 * IQR) | (series > Q3 + 1.5 * IQR)]\n",
    "    return outliers"
   ]
  },
  {
   "cell_type": "code",
   "execution_count": null,
   "id": "0795a58d",
   "metadata": {},
   "outputs": [],
   "source": [
    "oop_ignitions = merged_fires[~merged_fires.geometry_x.contains(merged_fires.geometry_y)\n",
    "                             ].rename({'geometry_x': 'polygons', 'geometry_y': 'points'}, axis=1)\n",
    "oop_distances = oop_ignitions['points'].distance(oop_ignitions['polygons'])\n",
    "\n",
    "histbox(oop_distances, xlabel='Distance between ignition and fire (m)', title='Distribution of distance between ignition and fire')"
   ]
  },
  {
   "cell_type": "code",
   "execution_count": null,
   "id": "6d9a6ae0",
   "metadata": {},
   "outputs": [],
   "source": [
    "main_oop_distances = oop_distances[~oop_distances.isin(get_outliers(oop_distances))]\n",
    "histbox(main_oop_distances)\n",
    "oop_distances.describe()"
   ]
  },
  {
   "cell_type": "code",
   "execution_count": null,
   "id": "95f5ba1b",
   "metadata": {},
   "outputs": [],
   "source": [
    "display(merged_fires.describe())\n",
    "display(merged_fires.describe(include='geometry'))\n",
    "display(merged_fires.describe(include= 'object'))"
   ]
  },
  {
   "cell_type": "markdown",
   "id": "aa03cb21",
   "metadata": {},
   "source": [
    "There seem to be some duplicated ignition points. Let's verify that they are actually two different fires"
   ]
  },
  {
   "cell_type": "markdown",
   "id": "2c6a0c37",
   "metadata": {},
   "source": [
    "## Overlapping ignitions"
   ]
  },
  {
   "cell_type": "code",
   "execution_count": null,
   "id": "721e4b72",
   "metadata": {},
   "outputs": [],
   "source": [
    "overlapping_ignitions = merged_fires[merged_fires['geometry_y'].duplicated(keep=False)]\n",
    "for id, group in overlapping_ignitions.groupby('geometry_y'):\n",
    "    print(id)\n",
    "    display(group)"
   ]
  },
  {
   "cell_type": "code",
   "execution_count": null,
   "id": "b1fb54dd",
   "metadata": {},
   "outputs": [],
   "source": [
    "def print_map(gdfs, ax, total_bounds=None, msize=2): # Plot both layers together\n",
    "    for i, gdf in enumerate(gdfs):\n",
    "        if gdf.geom_type.iloc[0] == 'Point':\n",
    "            gdf.plot(ax=ax, color= plt.cm.rainbow(i), markersize=msize, aspect=1) # aspect=1 means ratio between y-axis and x-axis unit of measure = 1\n",
    "        if gdf.geom_type.iloc[0] == 'Polygon':\n",
    "            gdf.plot(ax=ax, color= plt.cm.rainbow(i+10), edgecolor=\"black\", aspect=1, alpha=.5)\n",
    "        \n",
    "    if total_bounds == None:\n",
    "        ax.set_xlim(min([g.total_bounds[0] for g in gdfs]), max([g.total_bounds[2] for g in gdfs]))\n",
    "        ax.set_ylim(min([g.total_bounds[1] for g in gdfs]), max([g.total_bounds[3] for g in gdfs]))\n",
    "    else:\n",
    "        ax.set_xlim(total_bounds[0], total_bounds[2])\n",
    "        ax.set_ylim(total_bounds[1], total_bounds[3])"
   ]
  },
  {
   "cell_type": "code",
   "execution_count": null,
   "id": "aa069881",
   "metadata": {},
   "outputs": [],
   "source": [
    "for id, group in overlapping_ignitions.groupby('geometry_y'):\n",
    "    print(id)\n",
    "    print(group['geometry_x'].distance(group['geometry_y']), '\\n')\n",
    "\n",
    "    fig, ax = plt.subplots(1,2, figsize=(10,6))\n",
    "    print_map([group.rename({'geometry_x': 'geometry'}, axis=1).iloc[[0],:], group.rename({'geometry_y': 'geometry'}, axis=1).iloc[[0],:]], ax=ax[0], msize=100)\n",
    "    print_map([group.rename({'geometry_x': 'geometry'}, axis=1).iloc[[1],:], group.rename({'geometry_y': 'geometry'}, axis=1).iloc[[1],:]], ax=ax[1], msize=100)\n",
    "    plt.show()"
   ]
  },
  {
   "cell_type": "markdown",
   "id": "475a20c3",
   "metadata": {},
   "source": [
    "---"
   ]
  },
  {
   "cell_type": "code",
   "execution_count": null,
   "id": "051d21a2",
   "metadata": {},
   "outputs": [],
   "source": [
    "extract_zipfile(data_folder+\"EFFIS_IT_EL_FR_PT_2021_2024.zip\", data_folder+\"raw/effis_2/\")"
   ]
  },
  {
   "cell_type": "code",
   "execution_count": null,
   "id": "ba789113",
   "metadata": {},
   "outputs": [],
   "source": [
    "gdf = gpd.read_file(data_folder+\"raw/effis_2/997560879a274791b45c8e0aea2ac2d1.json\")\n",
    "gdf.info()"
   ]
  },
  {
   "cell_type": "code",
   "execution_count": null,
   "id": "7e25d5e6",
   "metadata": {},
   "outputs": [],
   "source": [
    "piemonte = gdf[gdf['admlvl2'] == 'Piemonte']\n",
    "piemonte.drop(columns=['iso2', 'iso3', 'country', 'admlvl1', 'admlvl2', 'admlvl3', 'area_code', 'eu_area', 'noneu'], inplace = True)\n",
    "piemonte.info()"
   ]
  },
  {
   "cell_type": "code",
   "execution_count": null,
   "id": "8256ec5a",
   "metadata": {},
   "outputs": [],
   "source": [
    "piemonte.drop(columns=['sclerophillous_vegetation_percent', 'other_percent'], inplace = True)\n",
    "piemonte.describe()"
   ]
  },
  {
   "cell_type": "markdown",
   "id": "19e3428c",
   "metadata": {},
   "source": [
    "Same thing as before"
   ]
  },
  {
   "cell_type": "markdown",
   "id": "756220b4",
   "metadata": {},
   "source": [
    "---"
   ]
  }
 ],
 "metadata": {
  "kernelspec": {
   "display_name": ".venv",
   "language": "python",
   "name": "python3"
  },
  "language_info": {
   "codemirror_mode": {
    "name": "ipython",
    "version": 3
   },
   "file_extension": ".py",
   "mimetype": "text/x-python",
   "name": "python",
   "nbconvert_exporter": "python",
   "pygments_lexer": "ipython3",
   "version": "3.10.17"
  }
 },
 "nbformat": 4,
 "nbformat_minor": 5
}
