{
 "cells": [
  {
   "cell_type": "code",
   "execution_count": 1,
   "id": "94b47794",
   "metadata": {},
   "outputs": [],
   "source": [
    "import sys \n",
    "sys.path.append(rf\"/nfs/home/genovese/thesis-wildfire-genovese/src\")\n",
    "from importlib import reload\n",
    "import utils\n",
    "reload(utils)\n",
    "from utils import *\n",
    "data_folder = \"/nfs/home/genovese/thesis-wildfire-genovese/data/\""
   ]
  },
  {
   "cell_type": "code",
   "execution_count": 6,
   "id": "1ba67aee",
   "metadata": {},
   "outputs": [],
   "source": [
    "strade_principali = gpd.read_file('/nfs/home/genovese/thesis-wildfire-genovese/data/clean_data/strade_principali_piemonte/strade_principali_piemonte.shp').to_crs(epsg=3857)\n",
    "rete_stradale = gpd.read_file('/nfs/home/genovese/thesis-wildfire-genovese/data/gathering_geojson/strade.geojson').to_crs(epsg=3857)"
   ]
  },
  {
   "cell_type": "code",
   "execution_count": 17,
   "id": "cb9d5742",
   "metadata": {},
   "outputs": [
    {
     "data": {
      "text/html": [
       "<div>\n",
       "<style scoped>\n",
       "    .dataframe tbody tr th:only-of-type {\n",
       "        vertical-align: middle;\n",
       "    }\n",
       "\n",
       "    .dataframe tbody tr th {\n",
       "        vertical-align: top;\n",
       "    }\n",
       "\n",
       "    .dataframe thead th {\n",
       "        text-align: right;\n",
       "    }\n",
       "</style>\n",
       "<table border=\"1\" class=\"dataframe\">\n",
       "  <thead>\n",
       "    <tr style=\"text-align: right;\">\n",
       "      <th></th>\n",
       "      <th>GP_RTP</th>\n",
       "      <th>GP_RCY</th>\n",
       "      <th>Shape_Leng</th>\n",
       "      <th>geometry</th>\n",
       "    </tr>\n",
       "  </thead>\n",
       "  <tbody>\n",
       "    <tr>\n",
       "      <th>0</th>\n",
       "      <td>4</td>\n",
       "      <td>380</td>\n",
       "      <td>0.016881</td>\n",
       "      <td>LINESTRING (901127.078 5593675.513, 901150.619...</td>\n",
       "    </tr>\n",
       "    <tr>\n",
       "      <th>1</th>\n",
       "      <td>4</td>\n",
       "      <td>380</td>\n",
       "      <td>0.054220</td>\n",
       "      <td>LINESTRING (903436.099 5596337.345, 903453.34 ...</td>\n",
       "    </tr>\n",
       "    <tr>\n",
       "      <th>2</th>\n",
       "      <td>3</td>\n",
       "      <td>380</td>\n",
       "      <td>0.027438</td>\n",
       "      <td>LINESTRING (900836.851 5590749.088, 900740.071...</td>\n",
       "    </tr>\n",
       "    <tr>\n",
       "      <th>3</th>\n",
       "      <td>3</td>\n",
       "      <td>380</td>\n",
       "      <td>0.020449</td>\n",
       "      <td>LINESTRING (900973.823 5590811.431, 900999.534...</td>\n",
       "    </tr>\n",
       "    <tr>\n",
       "      <th>4</th>\n",
       "      <td>3</td>\n",
       "      <td>380</td>\n",
       "      <td>0.036795</td>\n",
       "      <td>LINESTRING (901192.359 5593502.832, 901159.09 ...</td>\n",
       "    </tr>\n",
       "    <tr>\n",
       "      <th>...</th>\n",
       "      <td>...</td>\n",
       "      <td>...</td>\n",
       "      <td>...</td>\n",
       "      <td>...</td>\n",
       "    </tr>\n",
       "    <tr>\n",
       "      <th>34041</th>\n",
       "      <td>3</td>\n",
       "      <td>380</td>\n",
       "      <td>0.000068</td>\n",
       "      <td>LINESTRING (911489.897 5725219.027, 911490.821...</td>\n",
       "    </tr>\n",
       "    <tr>\n",
       "      <th>34042</th>\n",
       "      <td>3</td>\n",
       "      <td>380</td>\n",
       "      <td>0.000240</td>\n",
       "      <td>LINESTRING (911517.422 5725226.846, 911490.821...</td>\n",
       "    </tr>\n",
       "    <tr>\n",
       "      <th>34043</th>\n",
       "      <td>3</td>\n",
       "      <td>380</td>\n",
       "      <td>0.000622</td>\n",
       "      <td>LINESTRING (911490.821 5725229.729, 911486.391...</td>\n",
       "    </tr>\n",
       "    <tr>\n",
       "      <th>34044</th>\n",
       "      <td>1</td>\n",
       "      <td>380</td>\n",
       "      <td>0.007936</td>\n",
       "      <td>LINESTRING (949038.507 5735534.089, 949207.126...</td>\n",
       "    </tr>\n",
       "    <tr>\n",
       "      <th>34045</th>\n",
       "      <td>5</td>\n",
       "      <td>380</td>\n",
       "      <td>0.002806</td>\n",
       "      <td>LINESTRING (890826.04 5761813.497, 890849.559 ...</td>\n",
       "    </tr>\n",
       "  </tbody>\n",
       "</table>\n",
       "<p>34046 rows × 4 columns</p>\n",
       "</div>"
      ],
      "text/plain": [
       "       GP_RTP  GP_RCY  Shape_Leng  \\\n",
       "0           4     380    0.016881   \n",
       "1           4     380    0.054220   \n",
       "2           3     380    0.027438   \n",
       "3           3     380    0.020449   \n",
       "4           3     380    0.036795   \n",
       "...       ...     ...         ...   \n",
       "34041       3     380    0.000068   \n",
       "34042       3     380    0.000240   \n",
       "34043       3     380    0.000622   \n",
       "34044       1     380    0.007936   \n",
       "34045       5     380    0.002806   \n",
       "\n",
       "                                                geometry  \n",
       "0      LINESTRING (901127.078 5593675.513, 901150.619...  \n",
       "1      LINESTRING (903436.099 5596337.345, 903453.34 ...  \n",
       "2      LINESTRING (900836.851 5590749.088, 900740.071...  \n",
       "3      LINESTRING (900973.823 5590811.431, 900999.534...  \n",
       "4      LINESTRING (901192.359 5593502.832, 901159.09 ...  \n",
       "...                                                  ...  \n",
       "34041  LINESTRING (911489.897 5725219.027, 911490.821...  \n",
       "34042  LINESTRING (911517.422 5725226.846, 911490.821...  \n",
       "34043  LINESTRING (911490.821 5725229.729, 911486.391...  \n",
       "34044  LINESTRING (949038.507 5735534.089, 949207.126...  \n",
       "34045  LINESTRING (890826.04 5761813.497, 890849.559 ...  \n",
       "\n",
       "[34046 rows x 4 columns]"
      ]
     },
     "execution_count": 17,
     "metadata": {},
     "output_type": "execute_result"
    }
   ],
   "source": [
    "strade_principali"
   ]
  },
  {
   "cell_type": "code",
   "execution_count": 13,
   "id": "8096a093",
   "metadata": {},
   "outputs": [],
   "source": [
    "strade_principali.drop(columns=['GP_REX', 'GP_RAV', 'GP_RRG', 'GP_RSE', 'GP_RSI', 'GP_RSY', 'gp_gripreg'], inplace=True)"
   ]
  },
  {
   "cell_type": "markdown",
   "id": "88b0bbce",
   "metadata": {},
   "source": [
    "GP_RTP\n",
    "\n",
    "0.\tUnspecified\n",
    "1.\tHighways\n",
    "2.\tPrimary roads\n",
    "3.\tSecondary roads\n",
    "4.\tTertiary roads\n",
    "5.\tLocal roads"
   ]
  },
  {
   "cell_type": "code",
   "execution_count": 19,
   "id": "e4c72c53",
   "metadata": {},
   "outputs": [
    {
     "data": {
      "text/plain": [
       "array(['Polygon', 'MultiPolygon'], dtype=object)"
      ]
     },
     "execution_count": 19,
     "metadata": {},
     "output_type": "execute_result"
    }
   ],
   "source": [
    "from shapely.geometry import MultiPolygon\n",
    "\n",
    "road_width = {1: 14,\n",
    "              2: 7,\n",
    "              3: 5,\n",
    "              4: 3,\n",
    "              5: 2.5,\n",
    "              0: 2.5}\n",
    "\n",
    "def buffer_linestring(x, width):\n",
    "    if x.geometry.geom_type == 'LineString':\n",
    "        return x.geometry.buffer(width)\n",
    "    elif x.geometry.geom_type == 'MultiLineString':\n",
    "        buffers = [line.buffer(width) for line in x.geometry.geoms]\n",
    "        return MultiPolygon(buffers)\n",
    "\n",
    "strade_principali['geometry'] = strade_principali.apply(lambda x: buffer_linestring(x, road_width[x.loc['GP_RTP']]), axis=1)\n",
    "\n",
    "strade_principali.geom_type.unique()"
   ]
  },
  {
   "cell_type": "code",
   "execution_count": 28,
   "id": "2e18b21b",
   "metadata": {},
   "outputs": [],
   "source": [
    "strade_principali.drop(columns=['GP_RCY', 'Shape_Leng'], inplace=True)"
   ]
  },
  {
   "cell_type": "code",
   "execution_count": 30,
   "id": "aa090767",
   "metadata": {},
   "outputs": [],
   "source": [
    "strade_principali.to_file('/nfs/home/genovese/thesis-wildfire-genovese/database/strade.geojson', index=False, driver='GeoJSON')"
   ]
  },
  {
   "cell_type": "markdown",
   "id": "d1f762f4",
   "metadata": {},
   "source": [
    "---"
   ]
  }
 ],
 "metadata": {
  "kernelspec": {
   "display_name": ".venv",
   "language": "python",
   "name": "python3"
  },
  "language_info": {
   "codemirror_mode": {
    "name": "ipython",
    "version": 3
   },
   "file_extension": ".py",
   "mimetype": "text/x-python",
   "name": "python",
   "nbconvert_exporter": "python",
   "pygments_lexer": "ipython3",
   "version": "3.10.17"
  }
 },
 "nbformat": 4,
 "nbformat_minor": 5
}
