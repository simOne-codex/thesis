{
 "cells": [
  {
   "cell_type": "code",
   "execution_count": null,
   "id": "94b47794",
   "metadata": {},
   "outputs": [],
   "source": [
    "import sys \n",
    "sys.path.append(rf\"/nfs/home/genovese/thesis-wildfire-genovese/src\")\n",
    "from importlib import reload\n",
    "import utils\n",
    "reload(utils)\n",
    "from utils import *\n",
    "data_folder = \"/nfs/home/genovese/thesis-wildfire-genovese/data/\""
   ]
  },
  {
   "cell_type": "code",
   "execution_count": null,
   "id": "1ba67aee",
   "metadata": {},
   "outputs": [],
   "source": [
    "strade_principali = gpd.read_file('/nfs/home/genovese/thesis-wildfire-genovese/data/clean_data/strade_principali_piemonte/strade_principali_piemonte.shp').to_crs(epsg=3857)\n",
    "rete_stradale = gpd.read_file('/nfs/home/genovese/thesis-wildfire-genovese/data/gathering_geojson/strade.geojson').to_crs(epsg=3857)"
   ]
  },
  {
   "cell_type": "code",
   "execution_count": null,
   "id": "cb9d5742",
   "metadata": {},
   "outputs": [],
   "source": [
    "strade_principali"
   ]
  },
  {
   "cell_type": "code",
   "execution_count": null,
   "id": "8096a093",
   "metadata": {},
   "outputs": [],
   "source": [
    "strade_principali.drop(columns=['GP_REX', 'GP_RAV', 'GP_RRG', 'GP_RSE', 'GP_RSI', 'GP_RSY', 'gp_gripreg'], inplace=True)"
   ]
  },
  {
   "cell_type": "markdown",
   "id": "88b0bbce",
   "metadata": {},
   "source": [
    "GP_RTP\n",
    "\n",
    "0.\tUnspecified\n",
    "1.\tHighways\n",
    "2.\tPrimary roads\n",
    "3.\tSecondary roads\n",
    "4.\tTertiary roads\n",
    "5.\tLocal roads"
   ]
  },
  {
   "cell_type": "code",
   "execution_count": null,
   "id": "e4c72c53",
   "metadata": {},
   "outputs": [],
   "source": [
    "from shapely.geometry import MultiPolygon\n",
    "\n",
    "road_width = {1: 14,\n",
    "              2: 7,\n",
    "              3: 5,\n",
    "              4: 3,\n",
    "              5: 2.5,\n",
    "              0: 2.5}\n",
    "\n",
    "def buffer_linestring(x, width):\n",
    "    if x.geometry.geom_type == 'LineString':\n",
    "        return x.geometry.buffer(width)\n",
    "    elif x.geometry.geom_type == 'MultiLineString':\n",
    "        buffers = [line.buffer(width) for line in x.geometry.geoms]\n",
    "        return MultiPolygon(buffers)\n",
    "\n",
    "strade_principali['geometry'] = strade_principali.apply(lambda x: buffer_linestring(x, road_width[x.loc['GP_RTP']]), axis=1)\n",
    "\n",
    "strade_principali.geom_type.unique()"
   ]
  },
  {
   "cell_type": "code",
   "execution_count": null,
   "id": "2e18b21b",
   "metadata": {},
   "outputs": [],
   "source": [
    "strade_principali.drop(columns=['GP_RCY', 'Shape_Leng'], inplace=True)"
   ]
  },
  {
   "cell_type": "code",
   "execution_count": null,
   "id": "aa090767",
   "metadata": {},
   "outputs": [],
   "source": [
    "strade_principali.to_file('/nfs/home/genovese/thesis-wildfire-genovese/database/strade.geojson', index=False, driver='GeoJSON')"
   ]
  },
  {
   "cell_type": "markdown",
   "id": "d1f762f4",
   "metadata": {},
   "source": [
    "---"
   ]
  }
 ],
 "metadata": {
  "kernelspec": {
   "display_name": ".venv",
   "language": "python",
   "name": "python3"
  },
  "language_info": {
   "codemirror_mode": {
    "name": "ipython",
    "version": 3
   },
   "file_extension": ".py",
   "mimetype": "text/x-python",
   "name": "python",
   "nbconvert_exporter": "python",
   "pygments_lexer": "ipython3",
   "version": "3.10.17"
  }
 },
 "nbformat": 4,
 "nbformat_minor": 5
}
