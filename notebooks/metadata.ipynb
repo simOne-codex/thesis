{
 "cells": [
  {
   "cell_type": "code",
   "execution_count": null,
   "id": "5f733d06",
   "metadata": {},
   "outputs": [],
   "source": [
    "import sys \n",
    "sys.path.append(rf\"/nfs/home/genovese/thesis-wildfire-genovese/notebooks/\")\n",
    "from importlib import reload\n",
    "import utils\n",
    "reload(utils)\n",
    "from utils import *"
   ]
  },
  {
   "cell_type": "markdown",
   "id": "036a392d",
   "metadata": {},
   "source": [
    "---"
   ]
  },
  {
   "cell_type": "code",
   "execution_count": null,
   "id": "eafedf82",
   "metadata": {},
   "outputs": [],
   "source": [
    "import pandas as pd\n",
    "import yaml\n",
    "\n",
    "# Load the Excel file\n",
    "excel_file = '/nfs/home/genovese/thesis-wildfire-genovese/docs/metadata.xlsx'  # Replace with your file path\n",
    "\n",
    "# Read all sheets into a dictionary\n",
    "sheets_dict = pd.read_excel(excel_file, sheet_name=None)\n",
    "\n",
    "# Convert each sheet to a YAML format\n",
    "yaml_data = {}\n",
    "for sheet_name, sheet_data in sheets_dict.items():\n",
    "    yaml_data[sheet_name] = sheet_data.to_dict()\n"
   ]
  },
  {
   "cell_type": "code",
   "execution_count": 14,
   "id": "45ba2170",
   "metadata": {},
   "outputs": [
    {
     "name": "stdout",
     "output_type": "stream",
     "text": [
      "Conversion complete! YAML file saved as output.yaml\n"
     ]
    }
   ],
   "source": [
    "# Output the data as a YAML file\n",
    "with open('/nfs/home/genovese/thesis-wildfire-genovese/docs/metadata.yaml', 'w') as yaml_file:\n",
    "    yaml.dump(yaml_data, yaml_file, default_flow_style=False, allow_unicode=True)\n",
    "\n",
    "print(\"Conversion complete! YAML file saved as output.yaml\")"
   ]
  },
  {
   "cell_type": "markdown",
   "id": "8e2a3754",
   "metadata": {},
   "source": [
    "---"
   ]
  }
 ],
 "metadata": {
  "kernelspec": {
   "display_name": ".venv",
   "language": "python",
   "name": "python3"
  },
  "language_info": {
   "codemirror_mode": {
    "name": "ipython",
    "version": 3
   },
   "file_extension": ".py",
   "mimetype": "text/x-python",
   "name": "python",
   "nbconvert_exporter": "python",
   "pygments_lexer": "ipython3",
   "version": "3.10.17"
  }
 },
 "nbformat": 4,
 "nbformat_minor": 5
}
