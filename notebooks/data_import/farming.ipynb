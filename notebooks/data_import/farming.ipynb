{
 "cells": [
  {
   "cell_type": "code",
   "execution_count": null,
   "id": "8db1af40",
   "metadata": {},
   "outputs": [],
   "source": [
    "import sys \n",
    "sys.path.append(rf\"/nfs/home/genovese/thesis-wildfire-genovese/notebooks/\")\n",
    "from importlib import reload\n",
    "import utils\n",
    "reload(utils)\n",
    "from utils import *"
   ]
  },
  {
   "cell_type": "code",
   "execution_count": null,
   "id": "78be491b",
   "metadata": {},
   "outputs": [],
   "source": [
    "agricensus = pd.read_csv('data/raw/Unità agricole con superficie agricola utilizzata per tipo di coltivazione e zona altimetrica (IT1,DF_DCAT_CENSAGRIC2020_UA_CROPS_2,1.0).csv')\n",
    "comuni_piemonte = pd.read_csv('data/clean_data/elenco_comuni_piemonte.csv')\n",
    "agricensus.describe(include='all')"
   ]
  },
  {
   "cell_type": "code",
   "execution_count": null,
   "id": "09fdf3a4",
   "metadata": {},
   "outputs": [],
   "source": [
    "agricensus.loc[:, 'REF_AREA'] = 'A' + pd.Series([str(code) for code in agricensus.loc[:, 'REF_AREA']]).str.zfill(6)\n",
    "mask = agricensus['REF_AREA'].isin(comuni_piemonte['Codice Comune'])\n",
    "agricensus[mask].info()"
   ]
  },
  {
   "cell_type": "code",
   "execution_count": null,
   "id": "f68e248c",
   "metadata": {},
   "outputs": [],
   "source": [
    "farming_census = agricensus[mask].drop(agricensus.columns[8:], axis=1\n",
    "                ).drop(['DATAFLOW', 'FREQ', 'TIME_PERIOD'], axis=1)\n",
    "save_clean_data(farming_census, 'data/clean_data/agricoltura/farming_census_2020')"
   ]
  },
  {
   "cell_type": "markdown",
   "id": "5e1f8367",
   "metadata": {},
   "source": [
    "---"
   ]
  },
  {
   "cell_type": "markdown",
   "id": "8d4724e3",
   "metadata": {},
   "source": [
    "2010"
   ]
  },
  {
   "cell_type": "code",
   "execution_count": null,
   "id": "10ecff5b",
   "metadata": {},
   "outputs": [],
   "source": [
    "agricensus = pd.read_csv('data/raw/agricensus_piantagioni_superficie_2010.csv', header=0, encoding='ISO-8859-1', sep=';')\n",
    "agricensus.describe()"
   ]
  },
  {
   "cell_type": "code",
   "execution_count": null,
   "id": "3c11f340",
   "metadata": {},
   "outputs": [],
   "source": [
    "agricensus.loc[agricensus[agricensus['Territorio'].isna()].index, 'Territorio'] = 'None Torinese'\n",
    "agricensus = agricensus.apply(lambda x: uniform_strings(x, 'Territorio'), axis=1)\n",
    "\n",
    "# remove gathered data of provinces\n",
    "agricensus.drop_duplicates(subset='Territorio', keep='last', inplace=True)\n",
    "\n",
    "check_strange_letters(agricensus, 'Territorio')"
   ]
  },
  {
   "cell_type": "code",
   "execution_count": null,
   "id": "7ac8eefe",
   "metadata": {},
   "outputs": [],
   "source": [
    "land_usage_farming_piemonte = agricensus.merge(comuni_piemonte[['Comune', 'Codice Comune']].rename({'Comune':'Territorio'}, axis=1), how='inner', on='Territorio')\n",
    "check_strange_letters(land_usage_farming_piemonte, 'Territorio')"
   ]
  },
  {
   "cell_type": "code",
   "execution_count": null,
   "id": "804b406a",
   "metadata": {},
   "outputs": [],
   "source": [
    "land_usage_farming_piemonte.drop('Territorio', axis=1, inplace=True)\n",
    "save_clean_data(land_usage_farming_piemonte, 'data/clean_data/agricoltura/farming_land_usage_census_2010')"
   ]
  },
  {
   "cell_type": "markdown",
   "id": "3cad4ad8",
   "metadata": {},
   "source": [
    "---"
   ]
  }
 ],
 "metadata": {
  "kernelspec": {
   "display_name": "Thesis_Wilfire_Ignition",
   "language": "python",
   "name": "python3"
  },
  "language_info": {
   "codemirror_mode": {
    "name": "ipython",
    "version": 3
   },
   "file_extension": ".py",
   "mimetype": "text/x-python",
   "name": "python",
   "nbconvert_exporter": "python",
   "pygments_lexer": "ipython3",
   "version": "3.13.2"
  }
 },
 "nbformat": 4,
 "nbformat_minor": 5
}
