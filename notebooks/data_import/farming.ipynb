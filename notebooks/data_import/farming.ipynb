{
 "cells": [
  {
   "cell_type": "code",
   "execution_count": null,
   "id": "8db1af40",
   "metadata": {},
   "outputs": [],
   "source": [
    "import sys \n",
    "sys.path.append(rf'C:\\Users\\simof\\Documents\\GitHub\\thesis\\data_processing')\n",
    "from importlib import reload\n",
    "import utils\n",
    "reload(utils)\n",
    "from utils import *"
   ]
  },
  {
   "cell_type": "code",
   "execution_count": null,
   "id": "bb10965d",
   "metadata": {},
   "outputs": [],
   "source": [
    "os.listdir('data/raw')"
   ]
  },
  {
   "cell_type": "code",
   "execution_count": null,
   "id": "78be491b",
   "metadata": {},
   "outputs": [],
   "source": [
    "agricensus = pd.read_csv('data/raw/Unità agricole con superficie agricola utilizzata per tipo di coltivazione e zona altimetrica (IT1,DF_DCAT_CENSAGRIC2020_UA_CROPS_2,1.0).csv')\n",
    "comuni_piemonte = pd.read_csv('data/clean_data/elenco_comuni_piemonte.csv')\n",
    "agricensus.info()"
   ]
  },
  {
   "cell_type": "code",
   "execution_count": null,
   "id": "92b3defa",
   "metadata": {},
   "outputs": [],
   "source": [
    "agricensus"
   ]
  },
  {
   "cell_type": "code",
   "execution_count": null,
   "id": "d7589bbc",
   "metadata": {},
   "outputs": [],
   "source": [
    "agricensus.describe(include='all')"
   ]
  },
  {
   "cell_type": "code",
   "execution_count": null,
   "id": "09fdf3a4",
   "metadata": {},
   "outputs": [],
   "source": [
    "agricensus.loc[:, 'REF_AREA'] = 'A' + pd.Series([str(code) for code in agricensus.loc[:, 'REF_AREA']]).str.zfill(6)\n",
    "mask = agricensus['REF_AREA'].isin(comuni_piemonte['Codice Comune'])\n",
    "agricensus[mask].info()"
   ]
  },
  {
   "cell_type": "code",
   "execution_count": null,
   "id": "f68e248c",
   "metadata": {},
   "outputs": [],
   "source": [
    "farming_census = agricensus[mask].drop(agricensus.columns[8:], axis=1\n",
    "                ).drop(['DATAFLOW', 'FREQ', 'TIME_PERIOD'], axis=1)\n",
    "save_clean_data(farming_census, 'data/clean_data/agricoltura/farming_census_2020')"
   ]
  },
  {
   "cell_type": "markdown",
   "id": "5e1f8367",
   "metadata": {},
   "source": [
    "---"
   ]
  },
  {
   "cell_type": "markdown",
   "id": "8d4724e3",
   "metadata": {},
   "source": [
    "2010"
   ]
  },
  {
   "cell_type": "code",
   "execution_count": null,
   "id": "50577283",
   "metadata": {},
   "outputs": [],
   "source": [
    "import sys \n",
    "sys.path.append(rf'C:\\Users\\simof\\Documents\\GitHub\\thesis\\data_processing')\n",
    "from importlib import reload\n",
    "import utils\n",
    "reload(utils)\n",
    "from utils import *"
   ]
  },
  {
   "cell_type": "code",
   "execution_count": null,
   "id": "db0da3f2",
   "metadata": {},
   "outputs": [],
   "source": [
    "# # check the encoding of the file\n",
    "# import chardet\n",
    "# with open('data/agricensus_piantagioni_superficie_2010.csv', 'rb') as f:\n",
    "#     print(chardet.detect(f.read()))"
   ]
  },
  {
   "cell_type": "code",
   "execution_count": null,
   "id": "10ecff5b",
   "metadata": {},
   "outputs": [],
   "source": [
    "agricensus = pd.read_csv('data/raw/agricensus_piantagioni_superficie_2010.csv', header=0, encoding='ISO-8859-1', sep=';')\n",
    "agricensus.info()"
   ]
  },
  {
   "cell_type": "code",
   "execution_count": null,
   "id": "f666dc64",
   "metadata": {},
   "outputs": [],
   "source": [
    "agricensus.describe()"
   ]
  },
  {
   "cell_type": "code",
   "execution_count": null,
   "id": "3c11f340",
   "metadata": {},
   "outputs": [],
   "source": [
    "agricensus.loc[agricensus[agricensus['Territorio'].isna()].index, 'Territorio'] = 'None Torinese'\n",
    "agricensus = agricensus.apply(lambda x: uniform_strings(x, 'Territorio'), axis=1)"
   ]
  },
  {
   "cell_type": "code",
   "execution_count": null,
   "id": "e24dffe2",
   "metadata": {},
   "outputs": [],
   "source": [
    "# remove gathered data of provinces\n",
    "agricensus.drop_duplicates(subset='Territorio', keep='last', inplace=True)"
   ]
  },
  {
   "cell_type": "code",
   "execution_count": null,
   "id": "4ffdc97b",
   "metadata": {},
   "outputs": [],
   "source": [
    "check_strange_letters(agricensus, 'Territorio')"
   ]
  },
  {
   "cell_type": "code",
   "execution_count": null,
   "id": "7ac8eefe",
   "metadata": {},
   "outputs": [],
   "source": [
    "land_usage_farming_piemonte = agricensus.merge(comuni_piemonte[['Comune', 'Codice Comune']].rename({'Comune':'Territorio'}, axis=1), how='inner', on='Territorio')\n",
    "land_usage_farming_piemonte.info()"
   ]
  },
  {
   "cell_type": "code",
   "execution_count": null,
   "id": "10f9ed7b",
   "metadata": {},
   "outputs": [],
   "source": [
    "check_strange_letters(land_usage_farming_piemonte, 'Territorio')"
   ]
  },
  {
   "cell_type": "code",
   "execution_count": null,
   "id": "804b406a",
   "metadata": {},
   "outputs": [],
   "source": [
    "land_usage_farming_piemonte.drop('Territorio', axis=1, inplace=True)\n",
    "save_clean_data(land_usage_farming_piemonte, 'data/clean_data/agricoltura/farming_land_usage_census_2010')"
   ]
  },
  {
   "cell_type": "markdown",
   "id": "3cad4ad8",
   "metadata": {},
   "source": [
    "---"
   ]
  }
 ],
 "metadata": {
  "kernelspec": {
   "display_name": "Thesis_Wilfire_Ignition",
   "language": "python",
   "name": "python3"
  },
  "language_info": {
   "codemirror_mode": {
    "name": "ipython",
    "version": 3
   },
   "file_extension": ".py",
   "mimetype": "text/x-python",
   "name": "python",
   "nbconvert_exporter": "python",
   "pygments_lexer": "ipython3",
   "version": "3.13.2"
  }
 },
 "nbformat": 4,
 "nbformat_minor": 5
}
