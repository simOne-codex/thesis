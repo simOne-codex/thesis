{
 "cells": [
  {
   "cell_type": "code",
   "execution_count": null,
   "id": "fa7ead5c",
   "metadata": {},
   "outputs": [],
   "source": [
    "import sys \n",
    "sys.path.append(rf\"/nfs/home/genovese/thesis-wildfire-genovese/notebooks/\")\n",
    "from importlib import reload\n",
    "import utils\n",
    "reload(utils)\n",
    "from utils import *\n",
    "data_folder = \"/nfs/home/genovese/thesis-wildfire-genovese/data/\""
   ]
  },
  {
   "cell_type": "code",
   "execution_count": null,
   "id": "cbff3383",
   "metadata": {},
   "outputs": [],
   "source": [
    "extract_zipfile(os.path.join(data_folder, \"Altitudini_comuni_DEM.zip\"), os.path.join(data_folder, \"raw/Altitudini_comuni_DEM/\"))"
   ]
  },
  {
   "cell_type": "code",
   "execution_count": null,
   "id": "6b340c4a",
   "metadata": {},
   "outputs": [],
   "source": [
    "df = pd.read_csv(os.path.join(data_folder, \"raw/Altitudini_comuni_DEM/Elab_Altimetrie_DEM.csv\"), sep=';', encoding='latin1')\n",
    "piemonte = df[df['COD_REG'] == 1].apply(lambda x: set_city_code(x, 'PRO_COM'), axis=1\n",
    "                                        ).reset_index(drop=True\n",
    "                                                      ).drop(['COD_REG', 'COD_PRO', 'NOME'], axis=1)\n",
    "piemonte[['SUPERFICIE (in KMQ)', 'MEDIA', 'STD']] = piemonte[['SUPERFICIE (in KMQ)', 'MEDIA', 'STD']\n",
    "                                                             ].apply(lambda x: x.str.replace(',', '.').astype(float))\n",
    "\n",
    "gdf = gpd.read_file(os.path.join(data_folder, \"clean_data/zone_altimetriche_piemonte/zone_altimetriche_piemonte.shp\"))\n",
    "result = pd.merge(gdf, piemonte.rename({'PRO_COM':'cod_istat'}, axis=1), on='cod_istat', how='inner'\n",
    "         ).drop(['sezione', 'nome_sez', 'zalt_cod', 'nome_com'], axis=1)\n",
    "save_clean_data(result, \"zone_altimetriche_piemonte\")"
   ]
  },
  {
   "cell_type": "markdown",
   "id": "763629c6",
   "metadata": {},
   "source": [
    "---"
   ]
  },
  {
   "cell_type": "code",
   "execution_count": null,
   "id": "99703359",
   "metadata": {},
   "outputs": [],
   "source": [
    "dic = {'Pianura': 0,\n",
    "       'Collina': 1,\n",
    "       'Montagna': 2}\n",
    "result['zalt'] = result['zalt_des'].map(dic)\n",
    "result.drop(columns=['cod_istat', 'zalt_des'], inplace=True)\n",
    "result.rename(columns={'zalt': 'zona_altimetrica'}, inplace=True)\n",
    "\n",
    "dic = dict.fromkeys([col for col in result.columns if col not in ['geometry']])\n",
    "for a in dic:\n",
    "    dic[a] = 'ALTIMETRIA_'+a\n",
    "\n",
    "result.rename(columns=dic, inplace=True)\n",
    "result.to_file('/nfs/home/genovese/thesis-wildfire-genovese/database/altimetria.geojson', driver='GeoJSON', index=False)"
   ]
  },
  {
   "cell_type": "markdown",
   "id": "881a53de",
   "metadata": {},
   "source": [
    "---"
   ]
  }
 ],
 "metadata": {
  "kernelspec": {
   "display_name": ".venv",
   "language": "python",
   "name": "python3"
  },
  "language_info": {
   "codemirror_mode": {
    "name": "ipython",
    "version": 3
   },
   "file_extension": ".py",
   "mimetype": "text/x-python",
   "name": "python",
   "nbconvert_exporter": "python",
   "pygments_lexer": "ipython3",
   "version": "3.10.17"
  }
 },
 "nbformat": 4,
 "nbformat_minor": 5
}
