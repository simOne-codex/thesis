{
 "cells": [
  {
   "cell_type": "code",
   "execution_count": null,
   "id": "1c83e3b8",
   "metadata": {},
   "outputs": [],
   "source": [
    "import sys \n",
    "sys.path.append(rf\"/nfs/home/genovese/thesis-wildfire-genovese/notebooks/\")\n",
    "from importlib import reload\n",
    "import utils\n",
    "reload(utils)\n",
    "from utils import *\n",
    "data_folder = \"/nfs/home/genovese/thesis-wildfire-genovese/data/\""
   ]
  },
  {
   "cell_type": "code",
   "execution_count": null,
   "id": "6309948d",
   "metadata": {},
   "outputs": [],
   "source": [
    "directory = data_folder+\"clean_data/agricoltura/\"\n",
    "for file in os.listdir(directory):\n",
    "    print(file)\n",
    "    display(pd.read_csv(directory+file).head())"
   ]
  },
  {
   "cell_type": "markdown",
   "id": "02b08770",
   "metadata": {},
   "source": [
    "---"
   ]
  },
  {
   "cell_type": "markdown",
   "id": "af7d329e",
   "metadata": {},
   "source": [
    "# Small fix "
   ]
  },
  {
   "cell_type": "code",
   "execution_count": null,
   "id": "63f02f06",
   "metadata": {},
   "outputs": [],
   "source": [
    "result = pd.read_csv(directory+\"grazing_census_2020.csv\").pivot_table(index='REF_AREA', columns='TYPE_OF_HERD', values='OBS_VALUE')\n",
    "(result == 0).sum(axis=1).sum() # hence all the NaN are 0s"
   ]
  },
  {
   "cell_type": "code",
   "execution_count": null,
   "id": "6fb84d4b",
   "metadata": {},
   "outputs": [],
   "source": [
    "save_clean_data(result.fillna(0), \"grazing_census_2020\", directory)"
   ]
  },
  {
   "cell_type": "markdown",
   "id": "d01d5189",
   "metadata": {},
   "source": [
    "---"
   ]
  },
  {
   "cell_type": "code",
   "execution_count": null,
   "id": "614a894b",
   "metadata": {},
   "outputs": [],
   "source": [
    "result2 = pd.read_csv(directory+\"agricultural_land_usage_census_2020.csv\").pivot_table(index='REF_AREA', columns='DATA_TYPE', values='OBS_VALUE')\n",
    "(result2 == 0).sum(axis=1).sum() # some 0s are not NaN"
   ]
  },
  {
   "cell_type": "code",
   "execution_count": null,
   "id": "d9da1e28",
   "metadata": {},
   "outputs": [],
   "source": [
    "save_clean_data(result2.fillna(0), \"agricultural_land_usage_census_2020\", directory)"
   ]
  },
  {
   "cell_type": "markdown",
   "id": "556580ee",
   "metadata": {},
   "source": [
    "---"
   ]
  },
  {
   "cell_type": "code",
   "execution_count": null,
   "id": "b40618d3",
   "metadata": {},
   "outputs": [],
   "source": [
    "pd.read_csv(directory+\"farming_census_2020.csv\")\n",
    "result3 = pd.read_csv(directory+\"farming_census_2020.csv\").pivot_table(index='REF_AREA', columns='TYPE_OF_CROP', values='OBS_VALUE')\n",
    "(result3 == 0).sum(axis=1).sum() # all NaN are 0s"
   ]
  },
  {
   "cell_type": "code",
   "execution_count": null,
   "id": "0c4b7f4e",
   "metadata": {},
   "outputs": [],
   "source": [
    "save_clean_data(result3.fillna(0), \"farming_census_2020\", directory)"
   ]
  },
  {
   "cell_type": "markdown",
   "id": "2aa5b822",
   "metadata": {},
   "source": [
    "---"
   ]
  },
  {
   "cell_type": "markdown",
   "id": "c8f70cd5",
   "metadata": {},
   "source": [
    "# Geomerge"
   ]
  },
  {
   "cell_type": "code",
   "execution_count": null,
   "id": "00b81fa9",
   "metadata": {},
   "outputs": [],
   "source": [
    "confini = gpd.read_file(data_folder+\"clean_data/confini_piemonte/confini_piemonte.shp\")\n",
    "for file in ['farming_census_2020.csv', 'agricultural_land_usage_census_2020.csv', 'grazing_census_2020.csv']:\n",
    "    print(file)\n",
    "    save_clean_data(gpd.GeoDataFrame(\n",
    "        pd.read_csv(directory+file).merge(confini[['Codice Com', 'geometry']].rename(columns={'Codice Com': 'REF_AREA'}), on = 'REF_AREA', how='inner')\n",
    "        ).reset_index(drop=True), file[:-4])\n",
    "    \n",
    "for file in ['grazing_census_2010.csv', 'farming_land_usage_census_2010.csv']:\n",
    "    print(file)\n",
    "    save_clean_data(gpd.GeoDataFrame(\n",
    "        pd.read_csv(directory+file).merge(confini[['Codice Com', 'geometry']].rename(columns={'Codice Com': 'Codice Comune'}), on = 'Codice Comune', how='inner')\n",
    "        ).reset_index(drop=True), file[:-4])"
   ]
  },
  {
   "cell_type": "code",
   "execution_count": null,
   "id": "7d959e16",
   "metadata": {},
   "outputs": [],
   "source": [
    "save_clean_data(gpd.GeoDataFrame(\n",
    "        pd.read_csv(directory+'agricultural_land_usage_census_2020.csv').merge(confini[['Codice Com', 'geometry']].rename(columns={'Codice Com': 'REF_AREA'}), on = 'REF_AREA', how='inner')\n",
    "        ).reset_index(drop=True), 'agricultural_land_usage_census_2020')"
   ]
  },
  {
   "cell_type": "markdown",
   "id": "2f3e9f28",
   "metadata": {},
   "source": [
    "---"
   ]
  }
 ],
 "metadata": {
  "kernelspec": {
   "display_name": ".venv",
   "language": "python",
   "name": "python3"
  },
  "language_info": {
   "codemirror_mode": {
    "name": "ipython",
    "version": 3
   },
   "file_extension": ".py",
   "mimetype": "text/x-python",
   "name": "python",
   "nbconvert_exporter": "python",
   "pygments_lexer": "ipython3",
   "version": "3.10.17"
  }
 },
 "nbformat": 4,
 "nbformat_minor": 5
}
