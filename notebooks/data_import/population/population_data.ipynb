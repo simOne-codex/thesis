{
 "cells": [
  {
   "cell_type": "code",
   "execution_count": null,
   "id": "7556f7fa",
   "metadata": {},
   "outputs": [],
   "source": [
    "import sys \n",
    "sys.path.append(rf'C:\\Users\\simof\\Documents\\GitHub\\thesis\\data_processing')\n",
    "from importlib import reload\n",
    "import utils\n",
    "reload(utils)\n",
    "from utils import *"
   ]
  },
  {
   "cell_type": "code",
   "execution_count": null,
   "id": "4eb18d20",
   "metadata": {},
   "outputs": [],
   "source": [
    "os.listdir('data/popolazione')"
   ]
  },
  {
   "cell_type": "code",
   "execution_count": null,
   "id": "894e9399",
   "metadata": {},
   "outputs": [],
   "source": [
    "import pyodbc\n",
    "\n",
    "mdb_file_path = \"data/raw/population_data/Pop_comune_eta.mdb\"\n",
    "connection_string = (\n",
    "    r\"DRIVER={Microsoft Access Driver (*.mdb, *.accdb)};\"\n",
    "    f\"DBQ={mdb_file_path};\"\n",
    ")\n",
    "\n",
    "connection = pyodbc.connect(connection_string)\n",
    "cursor = connection.cursor()\n",
    "\n",
    "tables = cursor.tables(tableType='TABLE')\n",
    "for table in tables:\n",
    "    print(f\"Table Name: {table.table_name}\")\n"
   ]
  },
  {
   "cell_type": "code",
   "execution_count": null,
   "id": "7779220b",
   "metadata": {},
   "outputs": [],
   "source": [
    "# Load data into a DataFrame\n",
    "query = \"SELECT * FROM ISTAT_pop_comuni_fasce5\" \n",
    "df = pd.read_sql(query, connection)\n",
    "\n",
    "# Close connection\n",
    "connection.close()"
   ]
  },
  {
   "cell_type": "code",
   "execution_count": null,
   "id": "4520d8b3",
   "metadata": {},
   "outputs": [],
   "source": [
    "df.info()"
   ]
  },
  {
   "cell_type": "code",
   "execution_count": null,
   "id": "e979bc19",
   "metadata": {},
   "outputs": [],
   "source": [
    "df['Anno'].unique()"
   ]
  },
  {
   "cell_type": "markdown",
   "id": "de776fb2",
   "metadata": {},
   "source": [
    "2002 - 2011"
   ]
  },
  {
   "cell_type": "code",
   "execution_count": null,
   "id": "76184b81",
   "metadata": {},
   "outputs": [],
   "source": [
    "df"
   ]
  },
  {
   "cell_type": "code",
   "execution_count": null,
   "id": "7ea48761",
   "metadata": {},
   "outputs": [],
   "source": []
  },
  {
   "cell_type": "code",
   "execution_count": null,
   "id": "4f644bcf",
   "metadata": {},
   "outputs": [],
   "source": [
    "df2 = df.copy()\n",
    "df2.loc[:,'Comune'] = ['A' + str(df2.loc[i, 'Comune']).zfill(6) for i in df2.index]"
   ]
  },
  {
   "cell_type": "code",
   "execution_count": null,
   "id": "1006d0e5",
   "metadata": {},
   "outputs": [],
   "source": [
    "comuni = pd.read_csv('data/clean_data/elenco_comuni_piemonte.csv')\n",
    "comuni.head()"
   ]
  },
  {
   "cell_type": "code",
   "execution_count": null,
   "id": "e8e626f0",
   "metadata": {},
   "outputs": [],
   "source": [
    "pop_2002_2011 = df2[df2['Comune'].isin(comuni['Codice Comune'])]\n",
    "pop_2002_2011.info()"
   ]
  },
  {
   "cell_type": "code",
   "execution_count": null,
   "id": "faede707",
   "metadata": {},
   "outputs": [],
   "source": [
    "save_clean_data(pop_2002_2011, 'popolazione/population_2002_2011_per_age')"
   ]
  },
  {
   "cell_type": "code",
   "execution_count": null,
   "id": "b9189607",
   "metadata": {},
   "outputs": [],
   "source": [
    "pop_2002_2011.loc[:, 'Totale Eta'] = pop_2002_2011['Totale maschi'] + pop_2002_2011['Totale Femmine']"
   ]
  },
  {
   "cell_type": "code",
   "execution_count": null,
   "id": "cdbebde8",
   "metadata": {},
   "outputs": [],
   "source": [
    "for i, (id, g) in enumerate(pop_2002_2011.groupby(['Anno', 'Comune'])):\n",
    "    if i > 0:\n",
    "        break\n",
    "    display(g)\n",
    "    display(g.sum())"
   ]
  },
  {
   "cell_type": "code",
   "execution_count": null,
   "id": "13e33c19",
   "metadata": {},
   "outputs": [],
   "source": [
    "for id, group in pop_2002_2011.groupby(['Anno', 'Comune']):\n",
    "    pop_2002_2011.loc[group.index, 'Totale Comune Anno'] = group.sum()['Totale Eta']"
   ]
  },
  {
   "cell_type": "code",
   "execution_count": null,
   "id": "6e8ea928",
   "metadata": {},
   "outputs": [],
   "source": [
    "file = pop_2002_2011.drop(['Codice ISTAT Comune', 'Regione'], axis=1)\n",
    "save_clean_data(file, 'popolazione/population_2002_2011_per_age')"
   ]
  },
  {
   "cell_type": "markdown",
   "id": "7d1af85f",
   "metadata": {},
   "source": [
    "---"
   ]
  },
  {
   "cell_type": "markdown",
   "id": "c8b94bcd",
   "metadata": {},
   "source": [
    "2002-2019"
   ]
  },
  {
   "cell_type": "code",
   "execution_count": null,
   "id": "2788312b",
   "metadata": {},
   "outputs": [],
   "source": [
    "zip_path = 'data/raw/population_data'\n",
    "extract_dir = 'data'\n",
    "\n",
    "extract_zipfiles(zip_path, extract_dir)"
   ]
  },
  {
   "cell_type": "code",
   "execution_count": null,
   "id": "ac05208a",
   "metadata": {},
   "outputs": [],
   "source": [
    "os.listdir('data/PopolazioneEta-SingolaArea-Comuni')[:4]"
   ]
  },
  {
   "cell_type": "code",
   "execution_count": null,
   "id": "e60c9a48",
   "metadata": {},
   "outputs": [],
   "source": [
    "pop_dict = {}\n",
    "for code in comuni['Codice Comune'].str[1:]:\n",
    "    file = [f for f in os.listdir('data/PopolazioneEta-SingolaArea-Comuni') if code in f]\n",
    "    if len(file) > 0:\n",
    "        pop_dict['A' + code] = pd.read_csv(f'data/PopolazioneEta-SingolaArea-Comuni/{file[0]}', skiprows=6, header=None, nrows=103, sep=';')"
   ]
  },
  {
   "cell_type": "code",
   "execution_count": null,
   "id": "86c3b0cf",
   "metadata": {},
   "outputs": [],
   "source": [
    "comuni['Codice Comune'][~comuni['Codice Comune'].isin(list(pop_dict.keys()))]\n",
    "# Moransengo-Tonengo missing\n",
    "# È stato istituito il 1º gennaio 2023 dalla fusione di Moransengo e Tonengo."
   ]
  },
  {
   "cell_type": "code",
   "execution_count": null,
   "id": "1828c621",
   "metadata": {},
   "outputs": [],
   "source": [
    "## RUN ONLY ONCE\n",
    "for key, df in pop_dict.items():\n",
    "    df.set_index(df.columns[0], drop=True, inplace=True)\n",
    "    df.columns = df.iloc[-1,:]\n",
    "    df.drop(df.index[-1], axis=0, inplace=True)\n",
    "    df['Eta'] = df.index\n",
    "    df['Comune'] = key\n",
    "    "
   ]
  },
  {
   "cell_type": "code",
   "execution_count": null,
   "id": "cdfe80fc",
   "metadata": {},
   "outputs": [],
   "source": [
    "pop_dict['A001001']"
   ]
  },
  {
   "cell_type": "code",
   "execution_count": null,
   "id": "427509d1",
   "metadata": {},
   "outputs": [],
   "source": [
    "result = pd.concat(pop_dict.values(), ignore_index=True)\n",
    "result"
   ]
  },
  {
   "cell_type": "code",
   "execution_count": null,
   "id": "3eea40be",
   "metadata": {},
   "outputs": [],
   "source": [
    "save_clean_data(result, 'popolazione/population_2002_2019_per_age')"
   ]
  },
  {
   "cell_type": "markdown",
   "id": "4fad41fa",
   "metadata": {},
   "source": [
    "---"
   ]
  },
  {
   "cell_type": "markdown",
   "id": "2e1c67d0",
   "metadata": {},
   "source": [
    "1997-2001"
   ]
  },
  {
   "cell_type": "code",
   "execution_count": null,
   "id": "54412a1f",
   "metadata": {},
   "outputs": [],
   "source": [
    "province = ['alessandria', 'asti', 'biella', 'cuneo', 'novara', 'torino', 'verbano', 'vercelli']\n",
    "anni = ['97', '98', '99', '00', '01']\n",
    "pop_dict = {}\n",
    "\n",
    "for a in anni:\n",
    "    pop_dict[a] = {}\n",
    "    for p in province:\n",
    "        pop_dict[a][p] = pd.read_csv(f'data/popolazione_1997_2001/popolazione_1997_2001/{p}_{a}.csv', header=0)"
   ]
  },
  {
   "cell_type": "code",
   "execution_count": null,
   "id": "69adcb38",
   "metadata": {},
   "outputs": [],
   "source": [
    "## RUN ONLY ONCE\n",
    "for a, pdf in pop_dict.items():\n",
    "    for p, df in pdf.items():\n",
    "        df.loc[:, 'Codice comune'] = ['A' + str(df.loc[i, 'Codice comune']).zfill(6) for i in df.index]\n",
    "        df['Anno'] = f\"19{a}\" if a in ['97', '98', '99'] else f'20{a}'"
   ]
  },
  {
   "cell_type": "code",
   "execution_count": null,
   "id": "8304ba01",
   "metadata": {},
   "outputs": [],
   "source": [
    "for a, pdf in pop_dict.items():\n",
    "    pop_dict[a] = pd.concat(pdf.values(), ignore_index=True)"
   ]
  },
  {
   "cell_type": "code",
   "execution_count": null,
   "id": "50ba2f58",
   "metadata": {},
   "outputs": [],
   "source": [
    "result = pd.concat(pop_dict.values(), ignore_index=True)\n",
    "result"
   ]
  },
  {
   "cell_type": "code",
   "execution_count": null,
   "id": "3fac602c",
   "metadata": {},
   "outputs": [],
   "source": [
    "save_clean_data(result, 'popolazione/population_1997_2001_per_sex')"
   ]
  },
  {
   "cell_type": "markdown",
   "id": "935a21ef",
   "metadata": {},
   "source": [
    "---"
   ]
  },
  {
   "cell_type": "markdown",
   "id": "a731f3a0",
   "metadata": {},
   "source": [
    "2019-2024"
   ]
  },
  {
   "cell_type": "code",
   "execution_count": null,
   "id": "1a74ffe3",
   "metadata": {},
   "outputs": [],
   "source": [
    "anni = ['2019', '2020', '2021', '2022', '2023', '2024']\n",
    "pop_dict = {}\n",
    "for a in anni:\n",
    "    pop_dict[a] = pd.read_csv(f'data/P2_{a}_it_Comuni/P2_{a}_it_Comuni.csv', header=1, sep=';')"
   ]
  },
  {
   "cell_type": "code",
   "execution_count": null,
   "id": "b8607231",
   "metadata": {},
   "outputs": [],
   "source": [
    "for a, df in pop_dict.items():\n",
    "    df.loc[:, 'Codice comune'] = ['A' + str(df.loc[i, 'Codice comune']).zfill(6) for i in df.index]\n",
    "    df.drop(df.columns[-1], inplace=True, axis=1)\n",
    "    df['Anno'] = a"
   ]
  },
  {
   "cell_type": "code",
   "execution_count": null,
   "id": "080ddda5",
   "metadata": {},
   "outputs": [],
   "source": [
    "result = pd.concat(pop_dict.values(), ignore_index=True)\n",
    "result"
   ]
  },
  {
   "cell_type": "code",
   "execution_count": null,
   "id": "222af869",
   "metadata": {},
   "outputs": [],
   "source": [
    "save_clean_data(result.drop(result.index[-1], axis=0), 'popolazione/population_2019_2024_per_sex')"
   ]
  },
  {
   "cell_type": "markdown",
   "id": "eb4684a0",
   "metadata": {},
   "source": [
    "---"
   ]
  },
  {
   "cell_type": "markdown",
   "id": "b32d6cd7",
   "metadata": {},
   "source": [
    "Select only cities of Piemonte"
   ]
  },
  {
   "cell_type": "code",
   "execution_count": null,
   "id": "dcc760a6",
   "metadata": {},
   "outputs": [],
   "source": [
    "elenco = pd.read_csv('data/clean_data/elenco_comuni_piemonte.csv')\n",
    "elenco.head()"
   ]
  },
  {
   "cell_type": "code",
   "execution_count": null,
   "id": "b3dd2018",
   "metadata": {},
   "outputs": [],
   "source": [
    "os.listdir('data/clean_data/popolazione')"
   ]
  },
  {
   "cell_type": "code",
   "execution_count": null,
   "id": "99585ef1",
   "metadata": {},
   "outputs": [],
   "source": [
    "df1 = pd.read_csv('data/clean_data/popolazione/population_1997_2001_per_sex.csv')\n",
    "df2 = pd.read_csv('data/clean_data/popolazione/population_2002_2011_per_age.csv')\n",
    "df3 = pd.read_csv('data/clean_data/popolazione/population_2002_2019_per_age.csv')\n",
    "df4 = pd.read_csv('data/clean_data/popolazione/population_2019_2024_per_sex.csv')"
   ]
  },
  {
   "cell_type": "code",
   "execution_count": null,
   "id": "fdaf3eee",
   "metadata": {},
   "outputs": [],
   "source": [
    "pop1 = df1[df1['Codice comune'].isin(elenco['Codice Comune'])]\n",
    "pop2 = df2[df2['Comune'].isin(elenco['Codice Comune'])]\n",
    "pop3 = df3[df3['Comune'].isin(elenco['Codice Comune'])]\n",
    "pop4 = df4[df4['Codice comune'].isin(elenco['Codice Comune'])]"
   ]
  },
  {
   "cell_type": "code",
   "execution_count": null,
   "id": "2b757971",
   "metadata": {},
   "outputs": [],
   "source": [
    "save_clean_data(pop2, 'popolazione_piemonte/population_2002_2011_per_age.csv')\n",
    "save_clean_data(pop3, 'popolazione_piemonte/population_2002_2019_per_age.csv')\n",
    "save_clean_data(pop4, 'popolazione_piemonte/population_2019_2024_per_sex.csv')"
   ]
  },
  {
   "cell_type": "code",
   "execution_count": null,
   "id": "523fa06c",
   "metadata": {},
   "outputs": [],
   "source": [
    "pop1[pop1['Comune'].isna()]"
   ]
  },
  {
   "cell_type": "code",
   "execution_count": null,
   "id": "48704367",
   "metadata": {},
   "outputs": [],
   "source": [
    "save_clean_data(pop1, 'popolazione_piemonte/population_1997_2001_per_sex.csv')"
   ]
  },
  {
   "cell_type": "markdown",
   "id": "edf97d85",
   "metadata": {},
   "source": [
    "---"
   ]
  }
 ],
 "metadata": {
  "kernelspec": {
   "display_name": "Thesis_Wilfire_Ignition",
   "language": "python",
   "name": "python3"
  },
  "language_info": {
   "codemirror_mode": {
    "name": "ipython",
    "version": 3
   },
   "file_extension": ".py",
   "mimetype": "text/x-python",
   "name": "python",
   "nbconvert_exporter": "python",
   "pygments_lexer": "ipython3",
   "version": "3.13.2"
  }
 },
 "nbformat": 4,
 "nbformat_minor": 5
}
