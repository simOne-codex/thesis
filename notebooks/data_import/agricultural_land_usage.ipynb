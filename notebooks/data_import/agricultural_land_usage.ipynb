{
 "cells": [
  {
   "cell_type": "code",
   "execution_count": null,
   "id": "6ef0bd39",
   "metadata": {},
   "outputs": [],
   "source": [
    "import sys \n",
    "sys.path.append(rf\"/nfs/home/genovese/thesis-wildfire-genovese/notebooks/\")\n",
    "from importlib import reload\n",
    "import utils\n",
    "reload(utils)\n",
    "from utils import *"
   ]
  },
  {
   "cell_type": "code",
   "execution_count": null,
   "id": "1e5d8de4",
   "metadata": {},
   "outputs": [],
   "source": [
    "comuni_piemonte = pd.read_csv('data/clean_data/elenco_comuni_piemonte.csv')\n",
    "agricensus = pd.read_csv('data/raw/Unità agricole e superfici per zona altimentrica (IT1,DF_DCAT_CENSAGRIC2020_UA_CROPS_1,1.0).csv')\n",
    "agricensus.info()"
   ]
  },
  {
   "cell_type": "code",
   "execution_count": null,
   "id": "1735ac83",
   "metadata": {},
   "outputs": [],
   "source": [
    "agricensus.describe(include='all')"
   ]
  },
  {
   "cell_type": "code",
   "execution_count": null,
   "id": "9d2dbfde",
   "metadata": {},
   "outputs": [],
   "source": [
    "# number of rows there should be\n",
    "comuni_piemonte.shape[0]*len(agricensus['TYPE_OF_CROP'].unique())"
   ]
  },
  {
   "cell_type": "code",
   "execution_count": null,
   "id": "0a9fc233",
   "metadata": {},
   "outputs": [],
   "source": [
    "agricensus = agricensus.apply(lambda x: set_city_code(x, 'REF_AREA'), axis=1)\n",
    "mask = agricensus['REF_AREA'].isin(comuni_piemonte['Codice Comune'])\n",
    "agricensus[mask].info()"
   ]
  },
  {
   "cell_type": "code",
   "execution_count": null,
   "id": "a5c784b1",
   "metadata": {},
   "outputs": [],
   "source": [
    "# why that many?\n",
    "agricensus_piemonte = agricensus[mask]\n",
    "groups = agricensus_piemonte.groupby('REF_AREA')\n",
    "count_istances = pd.Series([group.shape[0] for id, group in groups])\n",
    "count_istances.value_counts()"
   ]
  },
  {
   "cell_type": "code",
   "execution_count": null,
   "id": "2b400103",
   "metadata": {},
   "outputs": [],
   "source": [
    "count_duplicates = pd.Series([group['TYPE_OF_CROP'].duplicated(keep='first').sum() for id, group in groups])\n",
    "count_duplicates"
   ]
  },
  {
   "cell_type": "markdown",
   "id": "0825d62b",
   "metadata": {},
   "source": [
    "What do they differ about?"
   ]
  },
  {
   "cell_type": "code",
   "execution_count": null,
   "id": "02ae3054",
   "metadata": {},
   "outputs": [],
   "source": [
    "print(agricensus_piemonte['TIME_PERIOD'].value_counts())\n",
    "print(agricensus_piemonte['DATAFLOW'].value_counts())\n",
    "print(agricensus_piemonte['DATA_TYPE'].value_counts())\n",
    "print(agricensus_piemonte['ALTIMETRIC_ZONE'].value_counts())"
   ]
  },
  {
   "cell_type": "markdown",
   "id": "83a0275c",
   "metadata": {},
   "source": [
    "It is the altimetric zone and the data type(surface analysed). For each zone, I have all the type of crop. Let's verify it"
   ]
  },
  {
   "cell_type": "code",
   "execution_count": null,
   "id": "6c388cdc",
   "metadata": {},
   "outputs": [],
   "source": [
    "agricensus_piemonte['TYPE_OF_CROP'].unique()"
   ]
  },
  {
   "cell_type": "code",
   "execution_count": null,
   "id": "07e4b2ce",
   "metadata": {},
   "outputs": [],
   "source": [
    "agricensus_piemonte['DATA_TYPE']"
   ]
  },
  {
   "cell_type": "code",
   "execution_count": null,
   "id": "23f7224f",
   "metadata": {},
   "outputs": [],
   "source": [
    "actual_no = np.sum([len(group['DATA_TYPE'].unique())*len(group['TYPE_OF_CROP'].unique())*len(group['ALTIMETRIC_ZONE'].unique()) for id, group in groups])\n",
    "print(actual_no)\n",
    "print(agricensus_piemonte.shape[0])"
   ]
  },
  {
   "cell_type": "markdown",
   "id": "e2a288f9",
   "metadata": {},
   "source": [
    "Evidently the three variables are not independent (cannot combine woodlands with extensive agriculture)"
   ]
  },
  {
   "cell_type": "code",
   "execution_count": null,
   "id": "5b8b53bf",
   "metadata": {},
   "outputs": [],
   "source": [
    "agricultural_land_usage_census = agricensus_piemonte.drop(agricensus.columns[8:], axis=1\n",
    "                ).drop(['DATAFLOW', 'FREQ', 'TIME_PERIOD'], axis=1)\n",
    "save_clean_data(agricultural_land_usage_census, 'agricultural_land_usage_census_2020')"
   ]
  },
  {
   "cell_type": "markdown",
   "id": "9de1aa52",
   "metadata": {},
   "source": [
    "---"
   ]
  }
 ],
 "metadata": {
  "kernelspec": {
   "display_name": "Thesis_Wilfire_Ignition",
   "language": "python",
   "name": "python3"
  },
  "language_info": {
   "codemirror_mode": {
    "name": "ipython",
    "version": 3
   },
   "file_extension": ".py",
   "mimetype": "text/x-python",
   "name": "python",
   "nbconvert_exporter": "python",
   "pygments_lexer": "ipython3",
   "version": "3.13.2"
  }
 },
 "nbformat": 4,
 "nbformat_minor": 5
}
