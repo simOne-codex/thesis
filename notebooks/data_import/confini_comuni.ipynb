{
 "cells": [
  {
   "cell_type": "code",
   "execution_count": null,
   "id": "06b6b555",
   "metadata": {},
   "outputs": [],
   "source": [
    "import sys \n",
    "sys.path.append(rf'C:\\Users\\simof\\Documents\\GitHub\\thesis\\data_processing')\n",
    "from importlib import reload\n",
    "import utils\n",
    "reload(utils)\n",
    "from utils import *"
   ]
  },
  {
   "cell_type": "code",
   "execution_count": null,
   "id": "144f1e6a",
   "metadata": {},
   "outputs": [],
   "source": [
    "confini = gpd.read_file('data/clean_data/confini_comunali/confini_comunali.shp')\n",
    "centroidi = gpd.read_file('data/clean_data/centroidi_comunali/centroidi_comunali.shp')\n",
    "comuni_piemontesi = pd.read_csv('data/clean_data/elenco_comuni_piemonte.csv')\n",
    "confini.info()"
   ]
  },
  {
   "cell_type": "code",
   "execution_count": null,
   "id": "64946af6",
   "metadata": {},
   "outputs": [],
   "source": [
    "confini[confini['comune'] == 'none']\n",
    "confini.loc[confini[confini['comune'] == 'none'].index, 'comune'] = 'nonetorinese'\n",
    "# cities with letters with stresses and other signs\n",
    "check_strange_letters(confini, 'comune')"
   ]
  },
  {
   "cell_type": "markdown",
   "id": "32b5c13f",
   "metadata": {},
   "source": [
    "Two municipalities from Val d'Aosta, they don't matter"
   ]
  },
  {
   "cell_type": "code",
   "execution_count": null,
   "id": "279b3050",
   "metadata": {},
   "outputs": [],
   "source": [
    "confini_piemonte = confini[confini['comune'].isin(comuni_piemontesi['Comune'])]\n",
    "confini_piemonte.info()"
   ]
  },
  {
   "cell_type": "code",
   "execution_count": null,
   "id": "9cd0111e",
   "metadata": {},
   "outputs": [],
   "source": [
    "print(confini_piemonte['comune'].duplicated().sum())\n",
    "print(confini_piemonte['geometry'].duplicated().sum())\n",
    "print(confini_piemonte[['comune', 'geometry']].duplicated().sum())"
   ]
  },
  {
   "cell_type": "code",
   "execution_count": null,
   "id": "3fefc6a7",
   "metadata": {},
   "outputs": [],
   "source": [
    "i = confini_piemonte.index\n",
    "i1 = confini_piemonte[confini_piemonte['comune'].duplicated()].index\n",
    "i2 = confini_piemonte[confini_piemonte[['comune', 'geometry']].duplicated()].index\n",
    "groups = confini_piemonte[confini_piemonte['comune'].isin(confini_piemonte.loc[i[i.isin(i1) & (~i.isin(i2))], :]['comune'])].groupby('comune')\n",
    "\n",
    "for id, group in groups:\n",
    "    print(id)\n",
    "    group.plot()\n",
    "    plt.show()"
   ]
  },
  {
   "cell_type": "code",
   "execution_count": null,
   "id": "8245f62c",
   "metadata": {},
   "outputs": [],
   "source": [
    "# first fix the other \"regular\" duplicates\n",
    "no_dup_confini_piemonte = confini_piemonte.drop_duplicates(['comune', 'geometry'])\n",
    "no_dup_confini_piemonte['comune'].duplicated().sum()"
   ]
  },
  {
   "cell_type": "markdown",
   "id": "fa11be0e",
   "metadata": {},
   "source": [
    "There's another city in Trentino Alto Adige named Samone, I can delete this one"
   ]
  },
  {
   "cell_type": "code",
   "execution_count": null,
   "id": "65d000ae",
   "metadata": {},
   "outputs": [],
   "source": [
    "mask = no_dup_confini_piemonte['comune'] == 'samone'\n",
    "no_dup_confini_piemonte[mask].centroid"
   ]
  },
  {
   "cell_type": "code",
   "execution_count": null,
   "id": "691f0c04",
   "metadata": {},
   "outputs": [],
   "source": [
    "no_dup_confini_piemonte.drop(3719, axis=0, inplace=True)\n",
    "no_dup_confini_piemonte.plot();"
   ]
  },
  {
   "cell_type": "markdown",
   "id": "f15263a6",
   "metadata": {},
   "source": [
    "Almost there"
   ]
  },
  {
   "cell_type": "code",
   "execution_count": null,
   "id": "6de92eab",
   "metadata": {},
   "outputs": [],
   "source": [
    "confini_piemonte2 = no_dup_confini_piemonte[no_dup_confini_piemonte['comune'].isin(comuni_piemontesi['Comune'])]\n",
    "confini_piemonte2.info()"
   ]
  },
  {
   "cell_type": "code",
   "execution_count": null,
   "id": "ded91377",
   "metadata": {},
   "outputs": [],
   "source": [
    "confini_piemonte2.plot();"
   ]
  },
  {
   "cell_type": "markdown",
   "id": "c6333da7",
   "metadata": {},
   "source": [
    "Only 20 municipalities left"
   ]
  },
  {
   "cell_type": "code",
   "execution_count": null,
   "id": "6ab39d16",
   "metadata": {},
   "outputs": [],
   "source": [
    "save_clean_data(confini_piemonte2, 'confini_piemonte')"
   ]
  },
  {
   "cell_type": "markdown",
   "id": "021fc86b",
   "metadata": {},
   "source": [
    "---"
   ]
  },
  {
   "cell_type": "code",
   "execution_count": null,
   "id": "c4e40ca3",
   "metadata": {},
   "outputs": [],
   "source": [
    "confini = gpd.read_file('data/clean_data/confini_piemonte/confini_piemonte.shp')\n",
    "comuni = pd.read_csv('data/clean_data/elenco_comuni_piemonte.csv')\n",
    "save_clean_data(confini.merge(comuni.rename({'Comune': 'comune'}, axis=1), on='comune', how='inner'\n",
    "                              ).loc[:, ['cartodb_id', 'comune', 'Codice Comune', 'geometry']], 'confini_piemonte')"
   ]
  },
  {
   "cell_type": "markdown",
   "id": "e06ed5d1",
   "metadata": {},
   "source": [
    "---"
   ]
  },
  {
   "cell_type": "markdown",
   "id": "15c30bb5",
   "metadata": {},
   "source": [
    "Input missing cities manually"
   ]
  },
  {
   "cell_type": "code",
   "execution_count": null,
   "id": "7c1069d3",
   "metadata": {},
   "outputs": [],
   "source": [
    "comuni = gpd.read_file('data/clean_data/confini_comunali/confini_comunali.shp')\n",
    "piemonte = gpd.read_file('data/clean_data/confini_piemonte/confini_piemonte.shp')\n",
    "display(comuni.head())\n",
    "display(piemonte.head())"
   ]
  },
  {
   "cell_type": "code",
   "execution_count": null,
   "id": "622b276c",
   "metadata": {},
   "outputs": [],
   "source": [
    "comuni.loc[[840, 8900], 'comune'] = 'nonetorinese'\n",
    "mask1 = comuni['comune'].isin(piemonte['comune'])\n",
    "mask2 = (comuni.bounds.iloc[:, 0] >= piemonte.total_bounds[0]) & (comuni.bounds.iloc[:, 1] >= piemonte.total_bounds[1]) & (comuni.bounds.iloc[:, 2] <= piemonte.total_bounds[2]) &(comuni.bounds.iloc[:, 3] <= piemonte.total_bounds[3])\n",
    "difference = comuni[~mask1 & mask2]\n",
    "print(difference)"
   ]
  },
  {
   "cell_type": "code",
   "execution_count": null,
   "id": "105e263f",
   "metadata": {},
   "outputs": [],
   "source": [
    "print(difference['comune'].duplicated().sum())\n",
    "print(difference[['comune', 'geometry']].duplicated().sum())"
   ]
  },
  {
   "cell_type": "code",
   "execution_count": null,
   "id": "165ca873",
   "metadata": {},
   "outputs": [],
   "source": [
    "comuni_quasi_mancanti = difference.drop_duplicates()\n",
    "\n",
    "fig, ax = plt.subplots(1,2)\n",
    "\n",
    "comuni_quasi_mancanti.plot(ax=ax[0])\n",
    "piemonte.plot(ax=ax[1])\n",
    "\n",
    "plt.show()"
   ]
  },
  {
   "cell_type": "code",
   "execution_count": null,
   "id": "665a2898",
   "metadata": {},
   "outputs": [],
   "source": [
    "import networkx as nx\n",
    "\n",
    "graph = nx.Graph()\n",
    "for idx, poly in zip(difference.index, difference.geometry):\n",
    "    graph.add_node(idx)\n",
    "    for other_idx, other_poly in zip(difference.index, difference.geometry):\n",
    "        if idx != other_idx and poly.touches(other_poly):\n",
    "            graph.add_edge(idx, other_idx)\n",
    "\n",
    "components = list(nx.connected_components(graph))"
   ]
  },
  {
   "cell_type": "code",
   "execution_count": null,
   "id": "86d128cb",
   "metadata": {},
   "outputs": [],
   "source": [
    "sorted_components = sorted(components, key=len, reverse=True)\n",
    "lombardia = graph.subgraph(sorted_components[0])\n",
    "liguria = graph.subgraph(sorted_components[1])\n",
    "aosta = graph.subgraph(sorted_components[2])\n",
    "\n",
    "regions = list(sorted_components[0])\n",
    "regions.extend(list(sorted_components[1]))\n",
    "regions.extend(list(sorted_components[2]))\n",
    "\n",
    "no_regions_difference = difference.drop(regions, axis=0)\n",
    "print(no_regions_difference)"
   ]
  },
  {
   "cell_type": "code",
   "execution_count": null,
   "id": "69ebd4ce",
   "metadata": {},
   "outputs": [],
   "source": [
    "fig, ax = plt.subplots(1,1, figsize=(10,6))\n",
    "\n",
    "piemonte.plot(ax=ax, color='blue', alpha=0.5)\n",
    "comuni_quasi_mancanti.plot(ax=ax, color='red', alpha=0.5)\n",
    "no_regions_difference.plot(ax=ax, color='green', alpha=0.5)\n",
    "\n",
    "plt.tight_layout()\n",
    "plt.show()"
   ]
  },
  {
   "cell_type": "code",
   "execution_count": null,
   "id": "faa43635",
   "metadata": {},
   "outputs": [],
   "source": [
    "pezzo_nord = comuni_quasi_mancanti[comuni_quasi_mancanti['comune'].isin(['rivavaldobbia', 'rimasangiuseppe', 'rimasco'])]\n",
    "pezzo_ovest = comuni_quasi_mancanti[comuni_quasi_mancanti['comune'].isin(['vicocanavese', 'trausella', 'meugliano', 'lugnacco', 'alicesuperiore', 'pecco'])]\n",
    "pezzo_fuori = comuni_quasi_mancanti[comuni_quasi_mancanti['comune'].isin([\"campioned'italia\", 'armo'])]\n",
    "\n",
    "piemonte_completo = pd.concat([piemonte, no_regions_difference, pezzo_nord, pezzo_ovest], ignore_index=True)\n",
    "piemonte_completo.drop(piemonte_completo[piemonte_completo['comune'].isin([\"campioned'italia\", 'armo'])].index, axis=0, inplace=True)\n",
    "piemonte_completo.plot();"
   ]
  },
  {
   "cell_type": "code",
   "execution_count": null,
   "id": "426592e1",
   "metadata": {},
   "outputs": [],
   "source": [
    "graph2 = nx.Graph()\n",
    "for idx, poly in zip(piemonte_completo.index, piemonte_completo.geometry):\n",
    "    graph2.add_node(idx)\n",
    "    for other_idx, other_poly in zip(piemonte_completo.index, piemonte_completo.geometry):\n",
    "        if idx != other_idx and poly.touches(other_poly):\n",
    "            graph2.add_edge(idx, other_idx)\n",
    "\n",
    "components2 = list(nx.connected_components(graph2))\n",
    "\n",
    "print(piemonte_completo.duplicated('comune').sum())\n",
    "print(piemonte_completo.duplicated('geometry').sum())\n",
    "print(piemonte_completo.duplicated(['comune', 'geometry']).sum())"
   ]
  },
  {
   "cell_type": "code",
   "execution_count": null,
   "id": "c2c49ae6",
   "metadata": {},
   "outputs": [],
   "source": [
    "piemonte2 = piemonte_completo.drop_duplicates(['geometry', 'comune'])\n",
    "piemonte2[piemonte2.duplicated('geometry', keep=False)]\n",
    "\n",
    "piemonte2[piemonte2['comune'] == 'calliano']\n",
    "piemonte2.loc[1183, 'comune'] = 'callianomonferrato'\n",
    "\n",
    "elenco = pd.read_csv('data/clean_data/elenco_comuni.csv')\n",
    "li = piemonte2[piemonte2['Codice Com'].isna()]['comune']\n",
    "print(elenco[elenco['Comune'].isin(li)])\n",
    "print(piemonte2[piemonte2['Codice Com'].isna()]['comune'])"
   ]
  },
  {
   "cell_type": "code",
   "execution_count": null,
   "id": "47111ff2",
   "metadata": {},
   "outputs": [],
   "source": [
    "di = {}\n",
    "di['soprana'] = 'A096062'\n",
    "di['gavazzana'] = 'A006080'\n",
    "di['cursolo-orasso'] = 'A103027'\n",
    "di['moransengo'] = 'A005079'\n",
    "di['piovamassaia'] = 'A005086'\n",
    "di['pont-canavese'] = 'A001199'\n",
    "di['fubine'] = 'A006076'\n",
    "di['montemagno'] = 'A005077'\n",
    "di['crosa'] = 'A096022'\n",
    "di['sabbia'] = 'A002123'\n",
    "di['cellio'] = 'A002038'\n",
    "di['cavaglio-spoccia'] = 'A103020'\n",
    "di['quaregna'] = 'A096051'\n",
    "di['alluvionicambio'] = 'A006006'\n",
    "di['veruno'] = 'A003157'\n",
    "di['castellania'] = 'A006045'\n",
    "di['casorzo'] = 'A005020'\n",
    "di['selvemarcone'] = 'A096061'\n",
    "di['grana'] = 'A005056'\n",
    "di['lu'] = 'A006089'\n",
    "di['viganella'] = 'A103073'\n",
    "di['falmenta'] = 'A103030'\n",
    "di['callianomonferrato'] = 'A005014'\n",
    "di['mosso'] = 'A096084'\n",
    "di['trivero'] = 'A096070'\n",
    "di['camo'] = 'A004036'\n",
    "di['vallemosso'] = 'A096073'\n",
    "di['quittengo'] = 'A096052'\n",
    "di['valmala'] = 'A004236'\n",
    "di['sanpaolocervo'] = 'A096060'\n",
    "di['piovera'] = 'A006130'\n",
    "di['breia'] = 'A002019'\n",
    "di['castellar'] = 'A004048'\n",
    "di['cerretocastello'] = 'A096017'\n",
    "di['gattico'] = 'A003166'\n",
    "di['seppiana'] = 'A103063'\n",
    "di['tonengo'] = 'A005110'\n",
    "di['cuccaromonferrato'] = 'A006064'\n",
    "di['rimasco'] = 'A002112'\n",
    "di['rimasangiuseppe'] = 'A002111'\n",
    "di['rivavaldobbia'] = 'A002114'\n",
    "di['pecco'] = 'A001182'\n",
    "di['meugliano'] = 'A001151'\n",
    "di['alicesuperiore'] = 'A001005'\n",
    "di['vicocanavese'] = 'A001297'\n",
    "di['lugnacco'] = 'A001138'\n",
    "di['trausella'] = 'A001277'\n",
    "\n",
    "print(pd.Series(di.keys())[~pd.Series(di.keys()).isin(piemonte2[piemonte2['Codice Com'].isna()]['comune'])])"
   ]
  },
  {
   "cell_type": "code",
   "execution_count": null,
   "id": "4180c69e",
   "metadata": {},
   "outputs": [],
   "source": [
    "def impose_code(row, dic):\n",
    "    if row['comune'] in dic.keys():\n",
    "        row['Codice Com'] = di[row['comune']]\n",
    "    return row\n",
    "\n",
    "piemonte3 = piemonte2.apply(lambda x: impose_code(x, di), axis=1)\n",
    "piemonte3.info()"
   ]
  },
  {
   "cell_type": "code",
   "execution_count": null,
   "id": "7da5fb00",
   "metadata": {},
   "outputs": [],
   "source": [
    "print(piemonte3.comune.duplicated().sum())\n",
    "print(piemonte3['Codice Com'].duplicated().sum())\n",
    "print(piemonte3[['comune', 'Codice Com']].duplicated().sum())\n",
    "print(piemonte3.geometry.duplicated().sum())"
   ]
  },
  {
   "cell_type": "code",
   "execution_count": null,
   "id": "8f86cca5",
   "metadata": {},
   "outputs": [],
   "source": [
    "save_clean_data(piemonte3, 'confini_piemonte')"
   ]
  },
  {
   "cell_type": "markdown",
   "id": "e02c9428",
   "metadata": {},
   "source": [
    "---"
   ]
  }
 ],
 "metadata": {
  "kernelspec": {
   "display_name": "Thesis_Wilfire_Ignition",
   "language": "python",
   "name": "python3"
  },
  "language_info": {
   "codemirror_mode": {
    "name": "ipython",
    "version": 3
   },
   "file_extension": ".py",
   "mimetype": "text/x-python",
   "name": "python",
   "nbconvert_exporter": "python",
   "pygments_lexer": "ipython3",
   "version": "3.13.2"
  }
 },
 "nbformat": 4,
 "nbformat_minor": 5
}
