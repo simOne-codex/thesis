{
 "cells": [
  {
   "cell_type": "code",
   "execution_count": null,
   "id": "d46da92b",
   "metadata": {},
   "outputs": [],
   "source": [
    "import sys \n",
    "from importlib import reload\n",
    "import utils\n",
    "reload(utils)\n",
    "from utils import *"
   ]
  },
  {
   "cell_type": "code",
   "execution_count": null,
   "id": "18051b97",
   "metadata": {},
   "outputs": [],
   "source": [
    "agricensus = pd.read_csv('data/raw/Unità agricole e numero di capi per tipo di allevamento e zona altimetrica (IT1,DF_DCAT_CENSAGRIC2020_AU_CATTLE_1,1.0).csv')\n",
    "comuni_piemonte = pd.read_csv('data/clean_data/elenco_comuni_piemonte.csv')\n",
    "print(agricensus['DATAFLOW'].value_counts(), '\\n')\n",
    "print(agricensus['HEADS_NUMBER'].value_counts(), '\\n')\n",
    "print(agricensus['FREQ'].value_counts(), '\\n')\n",
    "print(agricensus['TIME_PERIOD'].value_counts(), '\\n')"
   ]
  },
  {
   "cell_type": "markdown",
   "id": "e84fcc24",
   "metadata": {},
   "source": [
    "**METADATA**\n",
    "- *DATAFLOW:* colonna invariante\n",
    "- *FREQ:* frequenza raccolta dati (A = annuale, colonna invariante)\n",
    "- *REF_AREA:* codice della granularità del dato (solo numerico = comune. Numero a 6 cifre, anticipato da zeri in caso di difetto)\n",
    "- *DATA_TYPE:* non pervenuto\n",
    "- *TYPE_OF_HERD:* tipo di risorsa (alveare, bovina, suina...)\n",
    "- *HEADS_NUMBER:* categoria altometrica a cui fa capo (colonna invariante TOT)\n",
    "- *ALTIMETRIC_ZONE:* categoria altimetrica (pianura, collina, alta montagna...) NOTA: l'altometrai è registrata a livello comunale, ergo 1 solo tipo per comune (TOT coincide con il tipo)\n",
    "- *TIME_PERIOD:* periodo di registrazione del dato in relazione a FREQ (in questo caso, anno 2020 invariante)\n",
    "- *OBS_VALUE:* quantità della risorsa (numero intero)\n",
    "- tutte le altre variabili in NAN "
   ]
  },
  {
   "cell_type": "code",
   "execution_count": null,
   "id": "1b2d3bb3",
   "metadata": {},
   "outputs": [],
   "source": [
    "agricensus.loc[:, 'REF_AREA'] = 'A' + pd.Series([str(code) for code in agricensus.loc[:, 'REF_AREA']]).str.zfill(6)\n",
    "mask = agricensus['REF_AREA'].isin(comuni_piemonte['Codice Comune'])\n",
    "print(agricensus[mask].info())"
   ]
  },
  {
   "cell_type": "code",
   "execution_count": null,
   "id": "66aae55e",
   "metadata": {},
   "outputs": [],
   "source": [
    "grazing_census = agricensus[mask].drop(agricensus.columns[9:], axis=1\n",
    "                ).drop(['DATAFLOW', 'HEADS_NUMBER', 'FREQ', 'TIME_PERIOD'], axis=1)\n",
    "save_clean_data(grazing_census, 'agricoltura/grazing_census_2020')"
   ]
  },
  {
   "cell_type": "markdown",
   "id": "d182c224",
   "metadata": {},
   "source": [
    "---"
   ]
  },
  {
   "cell_type": "markdown",
   "id": "0544439a",
   "metadata": {},
   "source": [
    "2010"
   ]
  },
  {
   "cell_type": "code",
   "execution_count": null,
   "id": "71af0c04",
   "metadata": {},
   "outputs": [],
   "source": [
    "agricensus = pd.read_csv('data/raw/agricensus_allevamenti_2010.csv', header=1, encoding='ISO-8859-1', sep=';')\n",
    "agricensus.info()"
   ]
  },
  {
   "cell_type": "code",
   "execution_count": null,
   "id": "477e9637",
   "metadata": {},
   "outputs": [],
   "source": [
    "agricensus[agricensus['Territorio'].isna()]"
   ]
  },
  {
   "cell_type": "code",
   "execution_count": null,
   "id": "2a099147",
   "metadata": {},
   "outputs": [],
   "source": [
    "agricensus.loc[163, 'Territorio'] = 'None Torinese'\n",
    "agricensus = agricensus.apply(lambda x: uniform_strings(x, 'Territorio'), axis=1)"
   ]
  },
  {
   "cell_type": "code",
   "execution_count": null,
   "id": "30df00c5",
   "metadata": {},
   "outputs": [],
   "source": [
    "agricensus[agricensus['Territorio'] == 'nonetorinese']"
   ]
  },
  {
   "cell_type": "code",
   "execution_count": null,
   "id": "82ee9ad6",
   "metadata": {},
   "outputs": [],
   "source": [
    "agricensus.describe()"
   ]
  },
  {
   "cell_type": "code",
   "execution_count": null,
   "id": "66fe6e7f",
   "metadata": {},
   "outputs": [],
   "source": [
    "# remove gathered data of provinces\n",
    "grazing = agricensus.drop_duplicates(subset='Territorio', keep='last')"
   ]
  },
  {
   "cell_type": "code",
   "execution_count": null,
   "id": "1cca7a10",
   "metadata": {},
   "outputs": [],
   "source": [
    "grazing.info()"
   ]
  },
  {
   "cell_type": "code",
   "execution_count": null,
   "id": "b0e0c890",
   "metadata": {},
   "outputs": [],
   "source": [
    "check_strange_letters(grazing, 'Territorio')"
   ]
  },
  {
   "cell_type": "code",
   "execution_count": null,
   "id": "d47297ef",
   "metadata": {},
   "outputs": [],
   "source": [
    "grazing_piemonte = grazing.merge(comuni_piemonte[['Comune', 'Codice Comune']].rename({'Comune':'Territorio'}, axis=1), how='inner', on='Territorio')\n",
    "grazing_piemonte.info()"
   ]
  },
  {
   "cell_type": "code",
   "execution_count": null,
   "id": "8c322ae1",
   "metadata": {},
   "outputs": [],
   "source": [
    "check_strange_letters(grazing_piemonte, 'Territorio')"
   ]
  },
  {
   "cell_type": "code",
   "execution_count": null,
   "id": "591b7646",
   "metadata": {},
   "outputs": [],
   "source": [
    "grazing_piemonte.drop('Territorio', axis=1, inplace=True)\n",
    "save_clean_data(grazing_piemonte, 'agricoltura/grazing_census_2010')"
   ]
  }
 ],
 "metadata": {
  "kernelspec": {
   "display_name": "Thesis_Wilfire_Ignition",
   "language": "python",
   "name": "python3"
  },
  "language_info": {
   "codemirror_mode": {
    "name": "ipython",
    "version": 3
   },
   "file_extension": ".py",
   "mimetype": "text/x-python",
   "name": "python",
   "nbconvert_exporter": "python",
   "pygments_lexer": "ipython3",
   "version": "3.13.2"
  }
 },
 "nbformat": 4,
 "nbformat_minor": 5
}
