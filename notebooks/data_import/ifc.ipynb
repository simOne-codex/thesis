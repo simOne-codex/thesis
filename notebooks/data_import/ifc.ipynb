{
 "cells": [
  {
   "cell_type": "code",
   "execution_count": null,
   "id": "9fb97ca7",
   "metadata": {},
   "outputs": [],
   "source": [
    "import sys \n",
    "sys.path.append(rf\"/nfs/home/genovese/thesis-wildfire-genovese/notebooks/\")\n",
    "from importlib import reload\n",
    "import utils\n",
    "reload(utils)\n",
    "from utils import *\n",
    "data_folder = \"/nfs/home/genovese/thesis-wildfire-genovese/data/\""
   ]
  },
  {
   "cell_type": "code",
   "execution_count": null,
   "id": "4c8b446c",
   "metadata": {},
   "outputs": [],
   "source": [
    "confini = gpd.read_file(data_folder+'clean_data/confini_piemonte/confini_piemonte.shp')\n",
    "df = pd.read_csv(rf'/nfs/home/genovese/thesis-wildfire-genovese/data/IFC/Mappa_ifc_2018.csv', encoding='utf-16', sep='\\t')"
   ]
  },
  {
   "cell_type": "code",
   "execution_count": null,
   "id": "9c31702a",
   "metadata": {},
   "outputs": [],
   "source": [
    "from shapely.geometry import Point\n",
    "df['geometry'] = [Point(x, y) for x,y in zip(df['Longitudine (generata)'].apply(lambda x: x.replace(',','.')).astype('float64'), df['Latitudine (generata)'].apply(lambda x: x.replace(',','.')).astype('float64'))]\n",
    "gdf = gpd.GeoDataFrame(df)\n",
    "\n",
    "gdf = gdf.set_crs(confini.crs)\n",
    "\n",
    "def search_polygon(confini, point):\n",
    "    if len(confini[point.within(confini)]) > 0:\n",
    "        return confini[point.within(confini)].iloc[0]\n",
    "    else:\n",
    "        return None\n",
    "\n",
    "ifc_2018 = gdf.copy()\n",
    "ifc_2018['geometry'] = gdf['geometry'].apply(lambda x: search_polygon(confini.geometry, x))\n",
    "ifc_2018.head()"
   ]
  },
  {
   "cell_type": "code",
   "execution_count": null,
   "id": "a63e4447",
   "metadata": {},
   "outputs": [],
   "source": [
    "df = pd.read_csv(rf'/nfs/home/genovese/thesis-wildfire-genovese/data/IFC/Mappa_ifc_2019.csv', encoding='utf-16', sep='\\t')\n",
    "df['geometry'] = [Point(x, y) for x,y in zip(df['Longitudine (generata)'].apply(lambda x: x.replace(',','.')).astype('float64'), df['Latitudine (generata)'].apply(lambda x: x.replace(',','.')).astype('float64'))]\n",
    "gdf = gpd.GeoDataFrame(df)\n",
    "gdf = gdf.set_crs(confini.crs)\n",
    "\n",
    "ifc_2019 = gdf.copy()\n",
    "ifc_2019['geometry'] = gdf['geometry'].apply(lambda x: search_polygon(confini.geometry, x))\n",
    "\n",
    "df = pd.read_csv(rf'/nfs/home/genovese/thesis-wildfire-genovese/data/IFC/Mappa_ifc_2021.csv', encoding='utf-16', sep='\\t')\n",
    "df['geometry'] = [Point(x, y) for x,y in zip(df['Longitudine (generata)'].apply(lambda x: x.replace(',','.')).astype('float64'), df['Latitudine (generata)'].apply(lambda x: x.replace(',','.')).astype('float64'))]\n",
    "gdf = gpd.GeoDataFrame(df)\n",
    "gdf = gdf.set_crs(confini.crs)\n",
    "\n",
    "ifc_2021 = gdf.copy()\n",
    "ifc_2021['geometry'] = gdf['geometry'].apply(lambda x: search_polygon(confini.geometry, x))\n"
   ]
  },
  {
   "cell_type": "code",
   "execution_count": null,
   "id": "97db0b63",
   "metadata": {},
   "outputs": [],
   "source": [
    "lst = [ifc_2018, ifc_2019, ifc_2021]\n",
    "df = pd.read_csv(rf'/nfs/home/genovese/thesis-wildfire-genovese/data/IFC/tavole_comuni_2018_valore.csv', encoding='utf-16', sep='\\t')\n",
    "lst[0].loc[688, 'Comune'] = 'None Torinese'\n",
    "df2018 = df.merge(lst[0], on='Comune', how='inner')"
   ]
  },
  {
   "cell_type": "code",
   "execution_count": null,
   "id": "be6d0047",
   "metadata": {},
   "outputs": [],
   "source": [
    "df = pd.read_csv(rf'/nfs/home/genovese/thesis-wildfire-genovese/data/IFC/tavole_comuni_2019_valore.csv', encoding='utf-16', sep='\\t')\n",
    "df2019 = df.merge(lst[1], on='Comune', how='inner')\n",
    "\n",
    "df = pd.read_csv(rf'/nfs/home/genovese/thesis-wildfire-genovese/data/IFC/tavole_comuni_2021_valore.csv', encoding='utf-16', sep='\\t')\n",
    "df[df.Comune.isna()]['Comune'] = 'None Torinese'\n",
    "df2021 = df.merge(lst[2], on='Comune', how='inner')"
   ]
  },
  {
   "cell_type": "code",
   "execution_count": null,
   "id": "55c6db33",
   "metadata": {},
   "outputs": [],
   "source": [
    "lstdf = [df2018, df2019, df2021]\n",
    "\n",
    "# for df in lstdf:\n",
    "#     df.drop(columns = df.columns[[1, 2, 3, 4, 5, 6, 20, 21, 22, 23, 28, 29, 30, 31, 32, 33]], inplace=True)\n",
    "#     df = gpd.GeoDataFrame(df)"
   ]
  },
  {
   "cell_type": "code",
   "execution_count": null,
   "id": "4d79bc66",
   "metadata": {},
   "outputs": [],
   "source": [
    "lstdf[0].loc[164, lstdf[0].columns[-5:]]\n",
    "\n",
    "# for df in lstdf:\n",
    "#     df.loc[164, df.columns[-5:-1]] = [2.1, 'Medio-bassa', '5.001-10.000', 'Piccole città e sobborghi']\n",
    "#     df.loc[164, 'geometry'] = confini[confini['Codice Com'] == 'A001168'].geometry.iloc[0]"
   ]
  },
  {
   "cell_type": "code",
   "execution_count": null,
   "id": "50072b68",
   "metadata": {},
   "outputs": [],
   "source": [
    "for n, df in zip([2018, 2019, 2021], lstdf):\n",
    "    gpd.GeoDataFrame(df).to_file(f'/nfs/home/genovese/thesis-wildfire-genovese/data/gathering/per_comune/IFC/{n}')"
   ]
  },
  {
   "cell_type": "markdown",
   "id": "67e472f6",
   "metadata": {},
   "source": [
    "---"
   ]
  }
 ],
 "metadata": {
  "kernelspec": {
   "display_name": ".venv",
   "language": "python",
   "name": "python3"
  },
  "language_info": {
   "codemirror_mode": {
    "name": "ipython",
    "version": 3
   },
   "file_extension": ".py",
   "mimetype": "text/x-python",
   "name": "python",
   "nbconvert_exporter": "python",
   "pygments_lexer": "ipython3",
   "version": "3.10.17"
  }
 },
 "nbformat": 4,
 "nbformat_minor": 5
}
