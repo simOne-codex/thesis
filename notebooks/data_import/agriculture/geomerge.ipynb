{
 "cells": [
  {
   "cell_type": "code",
   "execution_count": 61,
   "id": "1c83e3b8",
   "metadata": {},
   "outputs": [],
   "source": [
    "import sys \n",
    "sys.path.append(rf\"/nfs/home/genovese/thesis-wildfire-genovese/src\")\n",
    "from importlib import reload\n",
    "import utils\n",
    "reload(utils)\n",
    "from utils import *\n",
    "data_folder = \"/nfs/home/genovese/thesis-wildfire-genovese/data/\""
   ]
  },
  {
   "cell_type": "code",
   "execution_count": null,
   "id": "470d6df3",
   "metadata": {},
   "outputs": [],
   "source": [
    "os.listdir(data_folder+\"clean_data/agricoltura/\")"
   ]
  },
  {
   "cell_type": "code",
   "execution_count": null,
   "id": "6309948d",
   "metadata": {},
   "outputs": [],
   "source": [
    "directory = data_folder+\"clean_data/agricoltura/\"\n",
    "for file in os.listdir(directory):\n",
    "    print(file)\n",
    "    display(pd.read_csv(directory+file).head())"
   ]
  },
  {
   "cell_type": "markdown",
   "id": "02b08770",
   "metadata": {},
   "source": [
    "---"
   ]
  },
  {
   "cell_type": "markdown",
   "id": "af7d329e",
   "metadata": {},
   "source": [
    "# Small fix "
   ]
  },
  {
   "cell_type": "code",
   "execution_count": null,
   "id": "63f02f06",
   "metadata": {},
   "outputs": [],
   "source": [
    "result = pd.read_csv(directory+\"grazing_census_2020.csv\").pivot_table(index='REF_AREA', columns='TYPE_OF_HERD', values='OBS_VALUE')\n",
    "result"
   ]
  },
  {
   "cell_type": "code",
   "execution_count": null,
   "id": "adcfab4f",
   "metadata": {},
   "outputs": [],
   "source": [
    "(result == 0).sum(axis=1).sum() # hence all the NaN are 0s"
   ]
  },
  {
   "cell_type": "code",
   "execution_count": null,
   "id": "6fb84d4b",
   "metadata": {},
   "outputs": [],
   "source": [
    "save_clean_data(result.fillna(0), \"grazing_census_2020\", directory)"
   ]
  },
  {
   "cell_type": "markdown",
   "id": "d01d5189",
   "metadata": {},
   "source": [
    "---"
   ]
  },
  {
   "cell_type": "code",
   "execution_count": null,
   "id": "614a894b",
   "metadata": {},
   "outputs": [],
   "source": [
    "result2 = pd.read_csv(directory+\"agricultural_land_usage_census_2020.csv\").pivot_table(index='REF_AREA', columns='DATA_TYPE', values='OBS_VALUE')\n",
    "result2\n"
   ]
  },
  {
   "cell_type": "code",
   "execution_count": null,
   "id": "946bda12",
   "metadata": {},
   "outputs": [],
   "source": [
    "(result2 == 0).sum(axis=1).sum() # some 0s are not NaN"
   ]
  },
  {
   "cell_type": "code",
   "execution_count": null,
   "id": "d9da1e28",
   "metadata": {},
   "outputs": [],
   "source": [
    "save_clean_data(result2.fillna(0), \"agricultural_land_usage_census_2020\", directory)"
   ]
  },
  {
   "cell_type": "markdown",
   "id": "556580ee",
   "metadata": {},
   "source": [
    "---"
   ]
  },
  {
   "cell_type": "code",
   "execution_count": null,
   "id": "e7707a90",
   "metadata": {},
   "outputs": [],
   "source": [
    "pd.read_csv(directory+\"farming_census_2020.csv\")"
   ]
  },
  {
   "cell_type": "code",
   "execution_count": null,
   "id": "b40618d3",
   "metadata": {},
   "outputs": [],
   "source": [
    "result3 = pd.read_csv(directory+\"farming_census_2020.csv\").pivot_table(index='REF_AREA', columns='TYPE_OF_CROP', values='OBS_VALUE')\n",
    "result3"
   ]
  },
  {
   "cell_type": "code",
   "execution_count": null,
   "id": "86356093",
   "metadata": {},
   "outputs": [],
   "source": [
    "(result3 == 0).sum(axis=1).sum() # all NaN are 0s"
   ]
  },
  {
   "cell_type": "code",
   "execution_count": null,
   "id": "0c4b7f4e",
   "metadata": {},
   "outputs": [],
   "source": [
    "save_clean_data(result3.fillna(0), \"farming_census_2020\", directory)"
   ]
  },
  {
   "cell_type": "markdown",
   "id": "2aa5b822",
   "metadata": {},
   "source": [
    "---"
   ]
  },
  {
   "cell_type": "markdown",
   "id": "c8f70cd5",
   "metadata": {},
   "source": [
    "# Geomerge"
   ]
  },
  {
   "cell_type": "code",
   "execution_count": 65,
   "id": "00b81fa9",
   "metadata": {},
   "outputs": [
    {
     "data": {
      "text/html": [
       "<div>\n",
       "<style scoped>\n",
       "    .dataframe tbody tr th:only-of-type {\n",
       "        vertical-align: middle;\n",
       "    }\n",
       "\n",
       "    .dataframe tbody tr th {\n",
       "        vertical-align: top;\n",
       "    }\n",
       "\n",
       "    .dataframe thead th {\n",
       "        text-align: right;\n",
       "    }\n",
       "</style>\n",
       "<table border=\"1\" class=\"dataframe\">\n",
       "  <thead>\n",
       "    <tr style=\"text-align: right;\">\n",
       "      <th></th>\n",
       "      <th>cartodb_id</th>\n",
       "      <th>comune</th>\n",
       "      <th>Codice Com</th>\n",
       "      <th>geometry</th>\n",
       "    </tr>\n",
       "  </thead>\n",
       "  <tbody>\n",
       "    <tr>\n",
       "      <th>0</th>\n",
       "      <td>838</td>\n",
       "      <td>sanmartinoalfieri</td>\n",
       "      <td>A005099</td>\n",
       "      <td>POLYGON ((8.10299 44.83612, 8.10399 44.83548, ...</td>\n",
       "    </tr>\n",
       "    <tr>\n",
       "      <th>1</th>\n",
       "      <td>964</td>\n",
       "      <td>montecastello</td>\n",
       "      <td>A006105</td>\n",
       "      <td>POLYGON ((8.68521 44.9705, 8.68913 44.97299, 8...</td>\n",
       "    </tr>\n",
       "    <tr>\n",
       "      <th>2</th>\n",
       "      <td>667</td>\n",
       "      <td>priola</td>\n",
       "      <td>A004177</td>\n",
       "      <td>POLYGON ((8.01499 44.279, 8.01754 44.27937, 8....</td>\n",
       "    </tr>\n",
       "    <tr>\n",
       "      <th>3</th>\n",
       "      <td>341</td>\n",
       "      <td>civiasco</td>\n",
       "      <td>A002043</td>\n",
       "      <td>POLYGON ((8.32285 45.83257, 8.32924 45.82994, ...</td>\n",
       "    </tr>\n",
       "    <tr>\n",
       "      <th>4</th>\n",
       "      <td>7475</td>\n",
       "      <td>occhieppoinferiore</td>\n",
       "      <td>A096040</td>\n",
       "      <td>POLYGON ((8.0254 45.55869, 8.02695 45.55694, 8...</td>\n",
       "    </tr>\n",
       "    <tr>\n",
       "      <th>...</th>\n",
       "      <td>...</td>\n",
       "      <td>...</td>\n",
       "      <td>...</td>\n",
       "      <td>...</td>\n",
       "    </tr>\n",
       "    <tr>\n",
       "      <th>1201</th>\n",
       "      <td>151</td>\n",
       "      <td>meugliano</td>\n",
       "      <td>A001151</td>\n",
       "      <td>MULTIPOLYGON (((7.70386 45.49981, 7.70237 45.4...</td>\n",
       "    </tr>\n",
       "    <tr>\n",
       "      <th>1202</th>\n",
       "      <td>5</td>\n",
       "      <td>alicesuperiore</td>\n",
       "      <td>A001005</td>\n",
       "      <td>MULTIPOLYGON (((7.80111 45.47364, 7.80056 45.4...</td>\n",
       "    </tr>\n",
       "    <tr>\n",
       "      <th>1203</th>\n",
       "      <td>298</td>\n",
       "      <td>vicocanavese</td>\n",
       "      <td>A001297</td>\n",
       "      <td>MULTIPOLYGON (((7.63404 45.57079, 7.64033 45.5...</td>\n",
       "    </tr>\n",
       "    <tr>\n",
       "      <th>1204</th>\n",
       "      <td>138</td>\n",
       "      <td>lugnacco</td>\n",
       "      <td>A001138</td>\n",
       "      <td>MULTIPOLYGON (((7.80456 45.4514, 7.80115 45.45...</td>\n",
       "    </tr>\n",
       "    <tr>\n",
       "      <th>1205</th>\n",
       "      <td>278</td>\n",
       "      <td>trausella</td>\n",
       "      <td>A001277</td>\n",
       "      <td>MULTIPOLYGON (((7.69134 45.52206, 7.69318 45.5...</td>\n",
       "    </tr>\n",
       "  </tbody>\n",
       "</table>\n",
       "<p>1206 rows × 4 columns</p>\n",
       "</div>"
      ],
      "text/plain": [
       "      cartodb_id              comune Codice Com  \\\n",
       "0            838   sanmartinoalfieri    A005099   \n",
       "1            964       montecastello    A006105   \n",
       "2            667              priola    A004177   \n",
       "3            341            civiasco    A002043   \n",
       "4           7475  occhieppoinferiore    A096040   \n",
       "...          ...                 ...        ...   \n",
       "1201         151           meugliano    A001151   \n",
       "1202           5      alicesuperiore    A001005   \n",
       "1203         298        vicocanavese    A001297   \n",
       "1204         138            lugnacco    A001138   \n",
       "1205         278           trausella    A001277   \n",
       "\n",
       "                                               geometry  \n",
       "0     POLYGON ((8.10299 44.83612, 8.10399 44.83548, ...  \n",
       "1     POLYGON ((8.68521 44.9705, 8.68913 44.97299, 8...  \n",
       "2     POLYGON ((8.01499 44.279, 8.01754 44.27937, 8....  \n",
       "3     POLYGON ((8.32285 45.83257, 8.32924 45.82994, ...  \n",
       "4     POLYGON ((8.0254 45.55869, 8.02695 45.55694, 8...  \n",
       "...                                                 ...  \n",
       "1201  MULTIPOLYGON (((7.70386 45.49981, 7.70237 45.4...  \n",
       "1202  MULTIPOLYGON (((7.80111 45.47364, 7.80056 45.4...  \n",
       "1203  MULTIPOLYGON (((7.63404 45.57079, 7.64033 45.5...  \n",
       "1204  MULTIPOLYGON (((7.80456 45.4514, 7.80115 45.45...  \n",
       "1205  MULTIPOLYGON (((7.69134 45.52206, 7.69318 45.5...  \n",
       "\n",
       "[1206 rows x 4 columns]"
      ]
     },
     "execution_count": 65,
     "metadata": {},
     "output_type": "execute_result"
    }
   ],
   "source": [
    "confini = gpd.read_file(data_folder+\"clean_data/confini_piemonte/confini_piemonte.shp\")\n",
    "confini"
   ]
  },
  {
   "cell_type": "code",
   "execution_count": 67,
   "id": "f72ea5f2",
   "metadata": {},
   "outputs": [
    {
     "data": {
      "text/plain": [
       "['farming_census_2020.csv',\n",
       " 'grazing_census_2010.csv',\n",
       " 'agricultural_land_usage_census_2020.csv',\n",
       " 'farming_land_usage_census_2010.csv',\n",
       " 'grazing_census_2020.csv']"
      ]
     },
     "execution_count": 67,
     "metadata": {},
     "output_type": "execute_result"
    }
   ],
   "source": [
    "os.listdir(directory)"
   ]
  },
  {
   "cell_type": "code",
   "execution_count": 68,
   "id": "09f4bc95",
   "metadata": {},
   "outputs": [
    {
     "name": "stdout",
     "output_type": "stream",
     "text": [
      "farming_census_2020.csv\n",
      "File farming_census_2020 already saved\n"
     ]
    },
    {
     "name": "stderr",
     "output_type": "stream",
     "text": [
      "/nfs/home/genovese/thesis-wildfire-genovese/src/utils.py:29: UserWarning: Column names longer than 10 characters will be truncated when saved to ESRI Shapefile.\n",
      "  file.to_file(complete_filename)\n",
      "/nfs/home/genovese/.venv/lib/python3.10/site-packages/pyogrio/raw.py:723: RuntimeWarning: Normalized/laundered field name: 'ETABROTOTHCROPS' to 'ETABROTOTH'\n",
      "  ogr_write(\n",
      "/nfs/home/genovese/.venv/lib/python3.10/site-packages/pyogrio/raw.py:723: RuntimeWarning: Normalized/laundered field name: 'ETABROTOTHETAB' to 'ETABROTO_1'\n",
      "  ogr_write(\n",
      "/nfs/home/genovese/.venv/lib/python3.10/site-packages/pyogrio/raw.py:723: RuntimeWarning: Normalized/laundered field name: 'FIPEABEASWELUP' to 'FIPEABEASW'\n",
      "  ogr_write(\n",
      "/nfs/home/genovese/.venv/lib/python3.10/site-packages/pyogrio/raw.py:723: RuntimeWarning: Normalized/laundered field name: 'GRELEGUMINOUS' to 'GRELEGUMIN'\n",
      "  ogr_write(\n",
      "/nfs/home/genovese/.venv/lib/python3.10/site-packages/pyogrio/raw.py:723: RuntimeWarning: Normalized/laundered field name: 'MANDTOTHSMAGR' to 'MANDTOTHSM'\n",
      "  ogr_write(\n",
      "/nfs/home/genovese/.venv/lib/python3.10/site-packages/pyogrio/raw.py:723: RuntimeWarning: Normalized/laundered field name: 'OTHARLANDGRE' to 'OTHARLANDG'\n",
      "  ogr_write(\n",
      "/nfs/home/genovese/.venv/lib/python3.10/site-packages/pyogrio/raw.py:723: RuntimeWarning: Normalized/laundered field name: 'OTHGRECEREAL' to 'OTHGRECERE'\n",
      "  ogr_write(\n",
      "/nfs/home/genovese/.venv/lib/python3.10/site-packages/pyogrio/raw.py:723: RuntimeWarning: Normalized/laundered field name: 'OTHGREPLARLAND' to 'OTHGREPLAR'\n",
      "  ogr_write(\n",
      "/nfs/home/genovese/.venv/lib/python3.10/site-packages/pyogrio/raw.py:723: RuntimeWarning: Normalized/laundered field name: 'OTHPOMEFRUIT' to 'OTHPOMEFRU'\n",
      "  ogr_write(\n",
      "/nfs/home/genovese/.venv/lib/python3.10/site-packages/pyogrio/raw.py:723: RuntimeWarning: Normalized/laundered field name: 'OTHSTONEFRUIT' to 'OTHSTONEFR'\n",
      "  ogr_write(\n",
      "/nfs/home/genovese/.venv/lib/python3.10/site-packages/pyogrio/raw.py:723: RuntimeWarning: Normalized/laundered field name: 'SEEDL_SEEDS' to 'SEEDL_SEED'\n",
      "  ogr_write(\n"
     ]
    },
    {
     "name": "stdout",
     "output_type": "stream",
     "text": [
      "File has been overwritten\n",
      "agricultural_land_usage_census_2020.csv\n",
      "File agricultural_land_usage_census_2020 already saved\n",
      "File not overwritten\n",
      "grazing_census_2020.csv\n",
      "File grazing_census_2020 already saved\n",
      "File has been overwritten\n"
     ]
    }
   ],
   "source": [
    "for file in ['farming_census_2020.csv', 'agricultural_land_usage_census_2020.csv', 'grazing_census_2020.csv']:\n",
    "    print(file)\n",
    "    save_clean_data(gpd.GeoDataFrame(\n",
    "        pd.read_csv(directory+file).merge(confini[['Codice Com', 'geometry']].rename(columns={'Codice Com': 'REF_AREA'}), on = 'REF_AREA', how='inner')\n",
    "        ).reset_index(drop=True), file[:-4])"
   ]
  },
  {
   "cell_type": "code",
   "execution_count": 69,
   "id": "a6c86c6e",
   "metadata": {},
   "outputs": [
    {
     "name": "stdout",
     "output_type": "stream",
     "text": [
      "grazing_census_2010.csv\n",
      "File grazing_census_2010 already saved\n"
     ]
    },
    {
     "name": "stderr",
     "output_type": "stream",
     "text": [
      "/nfs/home/genovese/thesis-wildfire-genovese/src/utils.py:29: UserWarning: Column names longer than 10 characters will be truncated when saved to ESRI Shapefile.\n",
      "  file.to_file(complete_filename)\n",
      "/nfs/home/genovese/.venv/lib/python3.10/site-packages/pyogrio/raw.py:723: RuntimeWarning: Normalized/laundered field name: 'Unnamed: 0' to 'Unnamed_ 0'\n",
      "  ogr_write(\n",
      "/nfs/home/genovese/.venv/lib/python3.10/site-packages/pyogrio/raw.py:723: RuntimeWarning: Normalized/laundered field name: 'totale bovini e bufalini' to 'totale bov'\n",
      "  ogr_write(\n",
      "/nfs/home/genovese/.venv/lib/python3.10/site-packages/pyogrio/raw.py:723: RuntimeWarning: Normalized/laundered field name: 'totale suini' to 'totale sui'\n",
      "  ogr_write(\n",
      "/nfs/home/genovese/.venv/lib/python3.10/site-packages/pyogrio/raw.py:723: RuntimeWarning: Normalized/laundered field name: 'totale ovini e caprini' to 'totale ovi'\n",
      "  ogr_write(\n",
      "/nfs/home/genovese/.venv/lib/python3.10/site-packages/pyogrio/raw.py:723: RuntimeWarning: Normalized/laundered field name: 'totale avicoli' to 'totale avi'\n",
      "  ogr_write(\n",
      "/nfs/home/genovese/.venv/lib/python3.10/site-packages/pyogrio/raw.py:723: RuntimeWarning: Normalized/laundered field name: 'Codice Comune' to 'Codice Com'\n",
      "  ogr_write(\n"
     ]
    },
    {
     "name": "stdout",
     "output_type": "stream",
     "text": [
      "File has been overwritten\n",
      "farming_land_usage_census_2010.csv\n",
      "File farming_land_usage_census_2010 already saved\n",
      "File has been overwritten\n"
     ]
    },
    {
     "name": "stderr",
     "output_type": "stream",
     "text": [
      "/nfs/home/genovese/thesis-wildfire-genovese/src/utils.py:29: UserWarning: Column names longer than 10 characters will be truncated when saved to ESRI Shapefile.\n",
      "  file.to_file(complete_filename)\n",
      "/nfs/home/genovese/.venv/lib/python3.10/site-packages/pyogrio/raw.py:723: RuntimeWarning: Normalized/laundered field name: 'Unnamed: 0' to 'Unnamed_ 0'\n",
      "  ogr_write(\n",
      "/nfs/home/genovese/.venv/lib/python3.10/site-packages/pyogrio/raw.py:723: RuntimeWarning: Normalized/laundered field name: 'superficie totale (sat)' to 'superficie'\n",
      "  ogr_write(\n",
      "/nfs/home/genovese/.venv/lib/python3.10/site-packages/pyogrio/raw.py:723: RuntimeWarning: Normalized/laundered field name: 'superficie agricola utilizzata (sau)' to 'superfic_1'\n",
      "  ogr_write(\n",
      "/nfs/home/genovese/.venv/lib/python3.10/site-packages/pyogrio/raw.py:723: RuntimeWarning: Normalized/laundered field name: 'cereali per la produzione di granella' to 'cereali pe'\n",
      "  ogr_write(\n",
      "/nfs/home/genovese/.venv/lib/python3.10/site-packages/pyogrio/raw.py:723: RuntimeWarning: Normalized/laundered field name: 'legumi secchi' to 'legumi sec'\n",
      "  ogr_write(\n",
      "/nfs/home/genovese/.venv/lib/python3.10/site-packages/pyogrio/raw.py:723: RuntimeWarning: Normalized/laundered field name: 'barbabietola da zucchero' to 'barbabieto'\n",
      "  ogr_write(\n",
      "/nfs/home/genovese/.venv/lib/python3.10/site-packages/pyogrio/raw.py:723: RuntimeWarning: Normalized/laundered field name: 'piante sarchiate da foraggio' to 'piante sar'\n",
      "  ogr_write(\n",
      "/nfs/home/genovese/.venv/lib/python3.10/site-packages/pyogrio/raw.py:723: RuntimeWarning: Normalized/laundered field name: 'piante industriali' to 'piante ind'\n",
      "  ogr_write(\n",
      "/nfs/home/genovese/.venv/lib/python3.10/site-packages/pyogrio/raw.py:723: RuntimeWarning: Normalized/laundered field name: 'fiori e piante ornamentali' to 'fiori e pi'\n",
      "  ogr_write(\n",
      "/nfs/home/genovese/.venv/lib/python3.10/site-packages/pyogrio/raw.py:723: RuntimeWarning: Normalized/laundered field name: 'foraggere avvicendate' to 'foraggere'\n",
      "  ogr_write(\n",
      "/nfs/home/genovese/.venv/lib/python3.10/site-packages/pyogrio/raw.py:723: RuntimeWarning: Normalized/laundered field name: 'terreni a riposo' to 'terreni a'\n",
      "  ogr_write(\n",
      "/nfs/home/genovese/.venv/lib/python3.10/site-packages/pyogrio/raw.py:723: RuntimeWarning: Normalized/laundered field name: 'coltivazioni legnose agrarie' to 'coltivazio'\n",
      "  ogr_write(\n",
      "/nfs/home/genovese/.venv/lib/python3.10/site-packages/pyogrio/raw.py:723: RuntimeWarning: Normalized/laundered field name: 'olivo per la produzione di olive da tavola e da olio' to 'olivo per'\n",
      "  ogr_write(\n",
      "/nfs/home/genovese/.venv/lib/python3.10/site-packages/pyogrio/raw.py:723: RuntimeWarning: Normalized/laundered field name: 'altre coltivazioni legnose agrarie' to 'altre colt'\n",
      "  ogr_write(\n",
      "/nfs/home/genovese/.venv/lib/python3.10/site-packages/pyogrio/raw.py:723: RuntimeWarning: Normalized/laundered field name: 'coltivazioni legnose agrarie in serra' to 'coltivaz_1'\n",
      "  ogr_write(\n",
      "/nfs/home/genovese/.venv/lib/python3.10/site-packages/pyogrio/raw.py:723: RuntimeWarning: Normalized/laundered field name: 'orti familiari' to 'orti famil'\n",
      "  ogr_write(\n",
      "/nfs/home/genovese/.venv/lib/python3.10/site-packages/pyogrio/raw.py:723: RuntimeWarning: Normalized/laundered field name: 'prati permanenti e pascoli' to 'prati perm'\n",
      "  ogr_write(\n",
      "/nfs/home/genovese/.venv/lib/python3.10/site-packages/pyogrio/raw.py:723: RuntimeWarning: Normalized/laundered field name: 'arboricoltura da legno annessa ad aziende agricole' to 'arboricolt'\n",
      "  ogr_write(\n",
      "/nfs/home/genovese/.venv/lib/python3.10/site-packages/pyogrio/raw.py:723: RuntimeWarning: Normalized/laundered field name: 'boschi annessi ad aziende agricole' to 'boschi ann'\n",
      "  ogr_write(\n",
      "/nfs/home/genovese/.venv/lib/python3.10/site-packages/pyogrio/raw.py:723: RuntimeWarning: Normalized/laundered field name: 'superficie agricola non utilizzata' to 'superfic_2'\n",
      "  ogr_write(\n",
      "/nfs/home/genovese/.venv/lib/python3.10/site-packages/pyogrio/raw.py:723: RuntimeWarning: Normalized/laundered field name: 'altra superficie' to 'altra supe'\n",
      "  ogr_write(\n",
      "/nfs/home/genovese/.venv/lib/python3.10/site-packages/pyogrio/raw.py:723: RuntimeWarning: Normalized/laundered field name: 'funghi in grotte. sotterranei o in appositi edifici' to 'funghi in'\n",
      "  ogr_write(\n",
      "/nfs/home/genovese/.venv/lib/python3.10/site-packages/pyogrio/raw.py:723: RuntimeWarning: Normalized/laundered field name: 'coltivazioni energetiche' to 'coltivaz_2'\n",
      "  ogr_write(\n",
      "/nfs/home/genovese/.venv/lib/python3.10/site-packages/pyogrio/raw.py:723: RuntimeWarning: Normalized/laundered field name: 'Codice Comune' to 'Codice Com'\n",
      "  ogr_write(\n"
     ]
    }
   ],
   "source": [
    "for file in ['grazing_census_2010.csv', 'farming_land_usage_census_2010.csv']:\n",
    "    print(file)\n",
    "    save_clean_data(gpd.GeoDataFrame(\n",
    "        pd.read_csv(directory+file).merge(confini[['Codice Com', 'geometry']].rename(columns={'Codice Com': 'Codice Comune'}), on = 'Codice Comune', how='inner')\n",
    "        ).reset_index(drop=True), file[:-4])"
   ]
  },
  {
   "cell_type": "markdown",
   "id": "2f3e9f28",
   "metadata": {},
   "source": [
    "---"
   ]
  },
  {
   "cell_type": "code",
   "execution_count": 70,
   "id": "1b8440eb",
   "metadata": {},
   "outputs": [
    {
     "name": "stdout",
     "output_type": "stream",
     "text": [
      "File agricultural_land_usage_census_2020 already saved\n",
      "File has been overwritten\n"
     ]
    },
    {
     "name": "stderr",
     "output_type": "stream",
     "text": [
      "/nfs/home/genovese/thesis-wildfire-genovese/src/utils.py:29: UserWarning: Column names longer than 10 characters will be truncated when saved to ESRI Shapefile.\n",
      "  file.to_file(complete_filename)\n",
      "/nfs/home/genovese/.venv/lib/python3.10/site-packages/pyogrio/raw.py:723: RuntimeWarning: Normalized/laundered field name: 'AU_AA_UNUT_FARM' to 'AU_AA_UNUT'\n",
      "  ogr_write(\n",
      "/nfs/home/genovese/.venv/lib/python3.10/site-packages/pyogrio/raw.py:723: RuntimeWarning: Normalized/laundered field name: 'AU_MUSHRO_FARM' to 'AU_MUSHRO_'\n",
      "  ogr_write(\n",
      "/nfs/home/genovese/.venv/lib/python3.10/site-packages/pyogrio/raw.py:723: RuntimeWarning: Normalized/laundered field name: 'AU_OTH_FARM_WUN' to 'AU_OTH_FAR'\n",
      "  ogr_write(\n",
      "/nfs/home/genovese/.venv/lib/python3.10/site-packages/pyogrio/raw.py:723: RuntimeWarning: Normalized/laundered field name: 'AU_WOODLA_FARM' to 'AU_WOODLA_'\n",
      "  ogr_write(\n",
      "/nfs/home/genovese/.venv/lib/python3.10/site-packages/pyogrio/raw.py:723: RuntimeWarning: Normalized/laundered field name: 'AU_WOODTR_FARM' to 'AU_WOODTR_'\n",
      "  ogr_write(\n",
      "/nfs/home/genovese/.venv/lib/python3.10/site-packages/pyogrio/raw.py:723: RuntimeWarning: Normalized/laundered field name: 'MUSHRO_AREA' to 'MUSHRO_ARE'\n",
      "  ogr_write(\n",
      "/nfs/home/genovese/.venv/lib/python3.10/site-packages/pyogrio/raw.py:723: RuntimeWarning: Normalized/laundered field name: 'OHT_AREA_WUN' to 'OHT_AREA_W'\n",
      "  ogr_write(\n",
      "/nfs/home/genovese/.venv/lib/python3.10/site-packages/pyogrio/raw.py:723: RuntimeWarning: Normalized/laundered field name: 'WOODLA_AREA' to 'WOODLA_ARE'\n",
      "  ogr_write(\n",
      "/nfs/home/genovese/.venv/lib/python3.10/site-packages/pyogrio/raw.py:723: RuntimeWarning: Normalized/laundered field name: 'WOODTR_AREA' to 'WOODTR_ARE'\n",
      "  ogr_write(\n"
     ]
    }
   ],
   "source": [
    "save_clean_data(gpd.GeoDataFrame(\n",
    "        pd.read_csv(directory+'agricultural_land_usage_census_2020.csv').merge(confini[['Codice Com', 'geometry']].rename(columns={'Codice Com': 'REF_AREA'}), on = 'REF_AREA', how='inner')\n",
    "        ).reset_index(drop=True), 'agricultural_land_usage_census_2020')"
   ]
  }
 ],
 "metadata": {
  "kernelspec": {
   "display_name": ".venv",
   "language": "python",
   "name": "python3"
  },
  "language_info": {
   "codemirror_mode": {
    "name": "ipython",
    "version": 3
   },
   "file_extension": ".py",
   "mimetype": "text/x-python",
   "name": "python",
   "nbconvert_exporter": "python",
   "pygments_lexer": "ipython3",
   "version": "3.10.17"
  }
 },
 "nbformat": 4,
 "nbformat_minor": 5
}
