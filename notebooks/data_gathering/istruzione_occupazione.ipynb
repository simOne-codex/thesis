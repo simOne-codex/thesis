{
 "cells": [
  {
   "cell_type": "code",
   "execution_count": null,
   "id": "cdd48f94",
   "metadata": {},
   "outputs": [],
   "source": [
    "import sys \n",
    "sys.path.append(rf\"/nfs/home/genovese/thesis-wildfire-genovese/src\")\n",
    "from importlib import reload\n",
    "import utils\n",
    "reload(utils)\n",
    "from utils import *\n",
    "data_folder = \"/nfs/home/genovese/thesis-wildfire-genovese/data/\"\n",
    "output_folder = \"/nfs/home/genovese/thesis-wildfire-genovese/data/gathering/per_comune/\""
   ]
  },
  {
   "cell_type": "code",
   "execution_count": null,
   "id": "90cdf6db",
   "metadata": {},
   "outputs": [],
   "source": [
    "ist = pd.read_excel('/nfs/home/genovese/thesis-wildfire-genovese/data/raw/istruzione_occupazione/istruzione_2018-2022.xlsx')\n",
    "occ = pd.read_excel('/nfs/home/genovese/thesis-wildfire-genovese/data/raw/istruzione_occupazione/occupazione_2018_2022.xlsx')"
   ]
  },
  {
   "cell_type": "code",
   "execution_count": null,
   "id": "b2beb411",
   "metadata": {},
   "outputs": [],
   "source": [
    "confini = gpd.read_file('/nfs/home/genovese/thesis-wildfire-genovese/data/clean_data/confini_piemonte/confini_piemonte.shp')"
   ]
  },
  {
   "cell_type": "markdown",
   "id": "9a7bfb40",
   "metadata": {},
   "source": [
    "---"
   ]
  },
  {
   "cell_type": "code",
   "execution_count": null,
   "id": "e5baf7b7",
   "metadata": {},
   "outputs": [],
   "source": [
    "istruzione = dict.fromkeys([2018, 2019, 2020, 2021, 2022])\n",
    "for i, a in enumerate(istruzione.keys()):\n",
    "    istruzione[a] = ist.iloc[:-1, [0]+list(range(1+(11*i), 12+(11*i)))]"
   ]
  },
  {
   "cell_type": "code",
   "execution_count": null,
   "id": "dd464c88",
   "metadata": {},
   "outputs": [],
   "source": [
    "for a, df in istruzione.items():\n",
    "    df.columns = df.iloc[0, :]\n",
    "    df.drop(index=df.index[:2], inplace=True)"
   ]
  },
  {
   "cell_type": "markdown",
   "id": "92f36137",
   "metadata": {},
   "source": [
    "Remove data gathered at region/province level"
   ]
  },
  {
   "cell_type": "code",
   "execution_count": null,
   "id": "31b06336",
   "metadata": {},
   "outputs": [],
   "source": [
    "for a, df in istruzione.items():\n",
    "    to_drop = list(df[df['Grado di istruzione'].str.strip().duplicated(keep='last')].index) + list(df[df['Grado di istruzione'].str.strip() == 'Piemonte'].index)\n",
    "    istruzione[a] = df.drop(index = to_drop).reset_index(drop=True)"
   ]
  },
  {
   "cell_type": "code",
   "execution_count": null,
   "id": "11d6a2a9",
   "metadata": {},
   "outputs": [],
   "source": [
    "for a,df in istruzione.items():\n",
    "    aux = df.apply(lambda x: uniform_strings(x, 'Grado di istruzione'), axis=1).replace('..', -1000).fillna(-1000)\n",
    "    for c in aux.columns[1:]:\n",
    "        aux.loc[:, c] = aux[c].astype('int64')\n",
    "        aux.loc[:, c] = aux[c].replace(-1000, None)\n",
    "    istruzione[a] = aux"
   ]
  },
  {
   "cell_type": "code",
   "execution_count": null,
   "id": "d3553109",
   "metadata": {},
   "outputs": [],
   "source": [
    "for a, df in istruzione.items():\n",
    "    istruzione[a] = confini[['comune', 'geometry']].merge(df.rename(columns={'Grado di istruzione': 'comune'}), on='comune', how='inner')"
   ]
  },
  {
   "cell_type": "code",
   "execution_count": null,
   "id": "bc9e1a38",
   "metadata": {},
   "outputs": [],
   "source": [
    "for a, df in istruzione.items():    \n",
    "    save_clean_data(df.drop(columns='comune'), str(a), '/nfs/home/genovese/thesis-wildfire-genovese/data/gathering/per_comune/istruzione')"
   ]
  },
  {
   "cell_type": "markdown",
   "id": "e6e40464",
   "metadata": {},
   "source": [
    "---"
   ]
  },
  {
   "cell_type": "code",
   "execution_count": null,
   "id": "44a48d4f",
   "metadata": {},
   "outputs": [],
   "source": [
    "occupazione = dict.fromkeys([2018, 2019, 2020, 2021, 2022])\n",
    "for i, a in enumerate(occupazione.keys()):\n",
    "    occupazione[a] = occ.iloc[1:-1, [0]+list(range(1+(9*i), 10+(9*i)))]"
   ]
  },
  {
   "cell_type": "code",
   "execution_count": null,
   "id": "d76e6601",
   "metadata": {},
   "outputs": [],
   "source": [
    "for a, df in occupazione.items():\n",
    "    df.columns = df.iloc[0, :]\n",
    "    df.drop(index=df.index[:2], inplace=True)"
   ]
  },
  {
   "cell_type": "code",
   "execution_count": null,
   "id": "12f8f288",
   "metadata": {},
   "outputs": [],
   "source": [
    "for a, df in occupazione.items():\n",
    "    to_drop = list(df[df['Condizione professionale'].str.strip().duplicated(keep='last')].index) + list(df[df['Condizione professionale'].str.strip() == 'Piemonte'].index)\n",
    "    occupazione[a] = df.drop(index = to_drop).reset_index(drop=True)"
   ]
  },
  {
   "cell_type": "code",
   "execution_count": null,
   "id": "320071fc",
   "metadata": {},
   "outputs": [],
   "source": [
    "for a,df in occupazione.items():\n",
    "    aux = df.apply(lambda x: uniform_strings(x, 'Condizione professionale'), axis=1).replace('..', -1000).fillna(-1000)\n",
    "    for c in aux.columns[1:]:\n",
    "        aux.loc[:, c] = aux[c].astype('int64')\n",
    "        aux.loc[:, c] = aux[c].replace(-1000, None)\n",
    "    occupazione[a] = aux"
   ]
  },
  {
   "cell_type": "code",
   "execution_count": null,
   "id": "30f5da8d",
   "metadata": {},
   "outputs": [],
   "source": [
    "for a, df in occupazione.items():\n",
    "    occupazione[a] = confini[['comune', 'geometry']].merge(df.rename(columns={'Condizione professionale': 'comune'}), on='comune', how='inner')"
   ]
  },
  {
   "cell_type": "code",
   "execution_count": null,
   "id": "dfed904e",
   "metadata": {},
   "outputs": [],
   "source": [
    "for a, df in occupazione.items():    \n",
    "    save_clean_data(df.drop(columns='comune'), str(a), '/nfs/home/genovese/thesis-wildfire-genovese/data/gathering/per_comune/occupazione')"
   ]
  }
 ],
 "metadata": {
  "kernelspec": {
   "display_name": ".venv",
   "language": "python",
   "name": "python3"
  },
  "language_info": {
   "codemirror_mode": {
    "name": "ipython",
    "version": 3
   },
   "file_extension": ".py",
   "mimetype": "text/x-python",
   "name": "python",
   "nbconvert_exporter": "python",
   "pygments_lexer": "ipython3",
   "version": "3.10.17"
  }
 },
 "nbformat": 4,
 "nbformat_minor": 5
}
