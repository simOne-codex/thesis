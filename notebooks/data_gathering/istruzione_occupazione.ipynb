{
 "cells": [
  {
   "cell_type": "code",
   "execution_count": 1,
   "id": "cdd48f94",
   "metadata": {},
   "outputs": [],
   "source": [
    "import sys \n",
    "sys.path.append(rf\"/nfs/home/genovese/thesis-wildfire-genovese/src\")\n",
    "from importlib import reload\n",
    "import utils\n",
    "reload(utils)\n",
    "from utils import *\n",
    "data_folder = \"/nfs/home/genovese/thesis-wildfire-genovese/data/\"\n",
    "output_folder = \"/nfs/home/genovese/thesis-wildfire-genovese/data/gathering/per_comune/\""
   ]
  },
  {
   "cell_type": "code",
   "execution_count": null,
   "id": "90cdf6db",
   "metadata": {},
   "outputs": [],
   "source": [
    "ist = pd.read_excel('/nfs/home/genovese/thesis-wildfire-genovese/data/raw/istruzione_occupazione/istruzione_2018-2022.xlsx')\n",
    "occ = pd.read_excel('/nfs/home/genovese/thesis-wildfire-genovese/data/raw/istruzione_occupazione/occupazione_2018_2022.xlsx')"
   ]
  },
  {
   "cell_type": "code",
   "execution_count": 2,
   "id": "b2beb411",
   "metadata": {},
   "outputs": [],
   "source": [
    "confini = gpd.read_file('/nfs/home/genovese/thesis-wildfire-genovese/data/clean_data/confini_piemonte/confini_piemonte.shp')"
   ]
  },
  {
   "cell_type": "markdown",
   "id": "9a7bfb40",
   "metadata": {},
   "source": [
    "---"
   ]
  },
  {
   "cell_type": "code",
   "execution_count": null,
   "id": "e5baf7b7",
   "metadata": {},
   "outputs": [],
   "source": [
    "istruzione = dict.fromkeys([2018, 2019, 2020, 2021, 2022])\n",
    "for i, a in enumerate(istruzione.keys()):\n",
    "    istruzione[a] = ist.iloc[:-1, [0]+list(range(1+(11*i), 12+(11*i)))]"
   ]
  },
  {
   "cell_type": "code",
   "execution_count": null,
   "id": "dd464c88",
   "metadata": {},
   "outputs": [],
   "source": [
    "for a, df in istruzione.items():\n",
    "    df.columns = df.iloc[0, :]\n",
    "    df.drop(index=df.index[:2], inplace=True)"
   ]
  },
  {
   "cell_type": "markdown",
   "id": "92f36137",
   "metadata": {},
   "source": [
    "Remove data gathered at region/province level"
   ]
  },
  {
   "cell_type": "code",
   "execution_count": null,
   "id": "31b06336",
   "metadata": {},
   "outputs": [],
   "source": [
    "for a, df in istruzione.items():\n",
    "    to_drop = list(df[df['Grado di istruzione'].str.strip().duplicated(keep='last')].index) + list(df[df['Grado di istruzione'].str.strip() == 'Piemonte'].index)\n",
    "    istruzione[a] = df.drop(index = to_drop).reset_index(drop=True)"
   ]
  },
  {
   "cell_type": "code",
   "execution_count": null,
   "id": "11d6a2a9",
   "metadata": {},
   "outputs": [],
   "source": [
    "for a,df in istruzione.items():\n",
    "    aux = df.apply(lambda x: uniform_strings(x, 'Grado di istruzione'), axis=1).replace('..', -1000).fillna(-1000)\n",
    "    for c in aux.columns[1:]:\n",
    "        aux.loc[:, c] = aux[c].astype('int64')\n",
    "        aux.loc[:, c] = aux[c].replace(-1000, None)\n",
    "    istruzione[a] = aux"
   ]
  },
  {
   "cell_type": "code",
   "execution_count": null,
   "id": "d3553109",
   "metadata": {},
   "outputs": [],
   "source": [
    "for a, df in istruzione.items():\n",
    "    istruzione[a] = confini[['comune', 'geometry']].merge(df.rename(columns={'Grado di istruzione': 'comune'}), on='comune', how='inner')"
   ]
  },
  {
   "cell_type": "code",
   "execution_count": null,
   "id": "bc9e1a38",
   "metadata": {},
   "outputs": [],
   "source": [
    "for a, df in istruzione.items():    \n",
    "    save_clean_data(df.drop(columns='comune'), str(a), '/nfs/home/genovese/thesis-wildfire-genovese/data/gathering/per_comune/istruzione')"
   ]
  },
  {
   "cell_type": "markdown",
   "id": "e6e40464",
   "metadata": {},
   "source": [
    "---"
   ]
  },
  {
   "cell_type": "code",
   "execution_count": null,
   "id": "44a48d4f",
   "metadata": {},
   "outputs": [],
   "source": [
    "occupazione = dict.fromkeys([2018, 2019, 2020, 2021, 2022])\n",
    "for i, a in enumerate(occupazione.keys()):\n",
    "    occupazione[a] = occ.iloc[1:-1, [0]+list(range(1+(9*i), 10+(9*i)))]"
   ]
  },
  {
   "cell_type": "code",
   "execution_count": null,
   "id": "d76e6601",
   "metadata": {},
   "outputs": [],
   "source": [
    "for a, df in occupazione.items():\n",
    "    df.columns = df.iloc[0, :]\n",
    "    df.drop(index=df.index[:2], inplace=True)"
   ]
  },
  {
   "cell_type": "code",
   "execution_count": null,
   "id": "12f8f288",
   "metadata": {},
   "outputs": [],
   "source": [
    "for a, df in occupazione.items():\n",
    "    to_drop = list(df[df['Condizione professionale'].str.strip().duplicated(keep='last')].index) + list(df[df['Condizione professionale'].str.strip() == 'Piemonte'].index)\n",
    "    occupazione[a] = df.drop(index = to_drop).reset_index(drop=True)"
   ]
  },
  {
   "cell_type": "code",
   "execution_count": null,
   "id": "320071fc",
   "metadata": {},
   "outputs": [],
   "source": [
    "for a,df in occupazione.items():\n",
    "    aux = df.apply(lambda x: uniform_strings(x, 'Condizione professionale'), axis=1).replace('..', -1000).fillna(-1000)\n",
    "    for c in aux.columns[1:]:\n",
    "        aux.loc[:, c] = aux[c].astype('int64')\n",
    "        aux.loc[:, c] = aux[c].replace(-1000, None)\n",
    "    occupazione[a] = aux"
   ]
  },
  {
   "cell_type": "code",
   "execution_count": null,
   "id": "30f5da8d",
   "metadata": {},
   "outputs": [],
   "source": [
    "for a, df in occupazione.items():\n",
    "    occupazione[a] = confini[['comune', 'geometry']].merge(df.rename(columns={'Condizione professionale': 'comune'}), on='comune', how='inner')"
   ]
  },
  {
   "cell_type": "code",
   "execution_count": null,
   "id": "dfed904e",
   "metadata": {},
   "outputs": [],
   "source": [
    "for a, df in occupazione.items():    \n",
    "    save_clean_data(df.drop(columns='comune'), str(a), '/nfs/home/genovese/thesis-wildfire-genovese/data/gathering/per_comune/occupazione')"
   ]
  },
  {
   "cell_type": "markdown",
   "id": "570ca756",
   "metadata": {},
   "source": [
    "---"
   ]
  },
  {
   "cell_type": "code",
   "execution_count": 124,
   "id": "9a6e332e",
   "metadata": {},
   "outputs": [],
   "source": [
    "def istruzione_dfs(ist):\n",
    "    istruzione = dict.fromkeys([2018, 2019, 2020, 2021, 2022])\n",
    "    while(str(ist.iloc[0, 0]).strip() != 'Grado di istruzione'):\n",
    "        ist.drop(index=ist.index[0], inplace=True)\n",
    "    row = ist.iloc[0, :]\n",
    "    pos = list(row.index).index(row.index[row.eq('totale')][0])\n",
    "    for i, a in enumerate(istruzione.keys()):\n",
    "        istruzione[a] = ist.iloc[:-1, [0]+list(range(1+(pos*i), (pos+1)+(pos*i)))]\n",
    "    \n",
    "    for a, df in istruzione.items():\n",
    "        while(pd.isna(df.iloc[0, 0])):\n",
    "            df.drop(index=df.index[0], inplace=True)\n",
    "        df.columns = df.iloc[0, :]\n",
    "        df.drop(index=df.index[0], inplace=True)\n",
    "        while(pd.isna(df.iloc[0, 0])):\n",
    "            df.drop(index=df.index[0], inplace=True)\n",
    "        to_drop = list(df[df['Grado di istruzione'].str.strip().duplicated(keep='last')].index) + list(df[df['Grado di istruzione'].str.strip() == 'Piemonte'].index)\n",
    "        aux = df.drop(index = to_drop).reset_index(drop=True)\n",
    "        aux = df.apply(lambda x: uniform_strings(x, 'Grado di istruzione'), axis=1).replace('..', -1000).fillna(-1000)\n",
    "        for c in aux.columns[1:]:\n",
    "            aux.loc[:, c] = aux[c].astype('int64')\n",
    "            aux.loc[:, c] = aux[c].replace(-1000, None)\n",
    "        \n",
    "        istruzione[a] = confini[['comune', 'geometry']].merge(aux.rename(columns={'Grado di istruzione': 'comune'}), on='comune', how='inner')\n",
    "    return istruzione"
   ]
  },
  {
   "cell_type": "code",
   "execution_count": 125,
   "id": "8ac7e1e8",
   "metadata": {},
   "outputs": [],
   "source": [
    "def occupazione_dfs(occ):\n",
    "    occupazione = dict.fromkeys([2018, 2019, 2020, 2021, 2022])\n",
    "    while(str(occ.iloc[0, 0]).strip() != 'Condizione professionale'):\n",
    "        occ.drop(index=occ.index[0], inplace=True)\n",
    "    row = occ.iloc[0, :]\n",
    "    pos = list(row.index).index(row.index[row.eq('totale')][0])\n",
    "    for i, a in enumerate(occupazione.keys()):\n",
    "        occupazione[a] = occ.iloc[:-1, [0]+list(range(1+(pos*i), (pos+1)+(pos*i)))]\n",
    "\n",
    "    for a, df in occupazione.items():\n",
    "        while(pd.isna(df.iloc[0, 0])):\n",
    "            df.drop(index=df.index[0], inplace=True)\n",
    "        df.columns = df.iloc[0, :]\n",
    "        df.drop(index=df.index[0], inplace=True)\n",
    "        while(pd.isna(df.iloc[0, 0])):\n",
    "            df.drop(index=df.index[0], inplace=True)\n",
    "        to_drop = list(df[df['Condizione professionale'].str.strip().duplicated(keep='last')].index) + list(df[df['Condizione professionale'].str.strip() == 'Piemonte'].index)\n",
    "        aux = df.drop(index = to_drop).reset_index(drop=True)\n",
    "        aux = df.apply(lambda x: uniform_strings(x, 'Condizione professionale'), axis=1).replace('..', -1000).fillna(-1000)\n",
    "        for c in aux.columns[1:]:\n",
    "            aux.loc[:, c] = aux[c].astype('int64')\n",
    "            aux.loc[:, c] = aux[c].replace(-1000, None)\n",
    "        \n",
    "        occupazione[a] = confini[['comune', 'geometry']].merge(aux.rename(columns={'Condizione professionale': 'comune'}), on='comune', how='inner')\n",
    "    return occupazione"
   ]
  },
  {
   "cell_type": "markdown",
   "id": "a26e5228",
   "metadata": {},
   "source": [
    "---"
   ]
  },
  {
   "cell_type": "code",
   "execution_count": null,
   "id": "4297439a",
   "metadata": {},
   "outputs": [],
   "source": [
    "occ_15_24 = occupazione_dfs(pd.read_excel('/nfs/home/genovese/thesis-wildfire-genovese/data/raw/istruzione_occupazione/occupazione_15_24.xlsx'))\n",
    "occ_25_49 = occupazione_dfs(pd.read_excel('/nfs/home/genovese/thesis-wildfire-genovese/data/raw/istruzione_occupazione/occupazione_25_49.xlsx').drop(columns=pd.read_excel('/nfs/home/genovese/thesis-wildfire-genovese/data/raw/istruzione_occupazione/occupazione_25_49.xlsx').columns[1]))\n",
    "occ_50_64 = occupazione_dfs(pd.read_excel('/nfs/home/genovese/thesis-wildfire-genovese/data/raw/istruzione_occupazione/occupazione_50_64.xlsx'))\n",
    "occ_65 = occupazione_dfs(pd.read_excel('/nfs/home/genovese/thesis-wildfire-genovese/data/raw/istruzione_occupazione/occupazione_65.xlsx').drop(columns=pd.read_excel('/nfs/home/genovese/thesis-wildfire-genovese/data/raw/istruzione_occupazione/occupazione_65.xlsx').columns[1]))"
   ]
  },
  {
   "cell_type": "code",
   "execution_count": null,
   "id": "5936cf24",
   "metadata": {},
   "outputs": [],
   "source": [
    "ist_9_24 = istruzione_dfs(pd.read_excel('/nfs/home/genovese/thesis-wildfire-genovese/data/raw/istruzione_occupazione/istruzione_9_24.xlsx'))\n",
    "ist_25_49 = istruzione_dfs(pd.read_excel('/nfs/home/genovese/thesis-wildfire-genovese/data/raw/istruzione_occupazione/istruzione_25_49.xlsx'))\n",
    "ist_50_64 = istruzione_dfs(pd.read_excel('/nfs/home/genovese/thesis-wildfire-genovese/data/raw/istruzione_occupazione/istruzione_50_64.xlsx'))\n",
    "ist_65 = istruzione_dfs(pd.read_excel('/nfs/home/genovese/thesis-wildfire-genovese/data/raw/istruzione_occupazione/istruzione_65.xlsx'))"
   ]
  },
  {
   "cell_type": "code",
   "execution_count": 165,
   "id": "66beb342",
   "metadata": {},
   "outputs": [],
   "source": [
    "occupazione = dict.fromkeys([2018, 2019, 2020, 2021, 2022])\n",
    "istruzione = dict.fromkeys([2018, 2019, 2020, 2021, 2022])\n",
    "\n",
    "for a in occupazione.keys():\n",
    "    occupazione[a] = gpd.read_file(f'/nfs/home/genovese/thesis-wildfire-genovese/data/gathering/per_comune/occupazione/{a}/{a}.shp').drop(columns=gpd.read_file(f'/nfs/home/genovese/thesis-wildfire-genovese/data/gathering/per_comune/occupazione/{a}/{a}.shp').columns[0])\n",
    "\n",
    "\n",
    "for a in istruzione.keys():\n",
    "    istruzione[a] = gpd.read_file(f'/nfs/home/genovese/thesis-wildfire-genovese/data/gathering/per_comune/istruzione/{a}/{a}.shp').drop(columns=gpd.read_file(f'/nfs/home/genovese/thesis-wildfire-genovese/data/gathering/per_comune/istruzione/{a}/{a}.shp').columns[0])"
   ]
  },
  {
   "cell_type": "code",
   "execution_count": 166,
   "id": "f8bcbe3c",
   "metadata": {},
   "outputs": [],
   "source": [
    "for a in [2018, 2019, 2020, 2021, 2022]:\n",
    "    occ_15_24[a].columns = ['comune', 'geometry'] + ['15_24_' + s for s in list(occ_15_24[a].columns[2:])]\n",
    "    occ_25_49[a].columns = ['comune', 'geometry'] + ['25_49_' + s for s in list(occ_25_49[a].columns[2:])]\n",
    "    occ_50_64[a].columns = ['comune', 'geometry'] + ['50_64_' + s for s in list(occ_50_64[a].columns[2:])]\n",
    "    occ_65[a].columns = ['comune', 'geometry'] + ['65_' + s for s in list(occ_65[a].columns[2:])]\n",
    "\n",
    "    ist_9_24[a].columns = ['comune', 'geometry'] + ['9_24_' + s for s in list(ist_9_24[a].columns[2:])]\n",
    "    ist_25_49[a].columns = ['comune', 'geometry'] + ['25_49_' + s for s in list(ist_25_49[a].columns[2:])]\n",
    "    ist_50_64[a].columns = ['comune', 'geometry'] + ['50_64_' + s for s in list(ist_50_64[a].columns[2:])]\n",
    "    ist_65[a].columns = ['comune', 'geometry'] + ['65_' + s for s in list(ist_65[a].columns[2:])]"
   ]
  },
  {
   "cell_type": "code",
   "execution_count": 167,
   "id": "b4452563",
   "metadata": {},
   "outputs": [],
   "source": [
    "ISTRUZIONE = dict()\n",
    "OCCUPAZIONE = dict()\n",
    "\n",
    "for a in [2018, 2019, 2020, 2021, 2022]:\n",
    "    ISTRUZIONE[a] = istruzione[a].merge(ist_9_24[a], on='geometry', how='inner').drop(columns='comune')\n",
    "    ISTRUZIONE[a] = ISTRUZIONE[a].merge(ist_25_49[a], on='geometry', how='inner').drop(columns='comune')\n",
    "    ISTRUZIONE[a] = ISTRUZIONE[a].merge(ist_50_64[a], on='geometry', how='inner').drop(columns='comune')\n",
    "    ISTRUZIONE[a] = ISTRUZIONE[a].merge(ist_65[a], on='geometry', how='inner').drop(columns='comune')\n",
    "    \n",
    "    OCCUPAZIONE[a] = occupazione[a].merge(occ_15_24[a], on='geometry', how='inner').drop(columns='comune')\n",
    "    OCCUPAZIONE[a] = OCCUPAZIONE[a].merge(occ_25_49[a], on='geometry', how='inner').drop(columns='comune')\n",
    "    OCCUPAZIONE[a] = OCCUPAZIONE[a].merge(occ_50_64[a], on='geometry', how='inner').drop(columns='comune')\n",
    "    OCCUPAZIONE[a] = OCCUPAZIONE[a].merge(occ_65[a], on='geometry', how='inner').drop(columns='comune')"
   ]
  },
  {
   "cell_type": "code",
   "execution_count": null,
   "id": "c53ae48c",
   "metadata": {},
   "outputs": [],
   "source": [
    "for a, df in OCCUPAZIONE.items():\n",
    "    save_clean_data(df, str(a), '/nfs/home/genovese/thesis-wildfire-genovese/data/gathering/per_comune/OCCUPAZIONE')\n",
    "\n",
    "for a, df in ISTRUZIONE.items():\n",
    "    save_clean_data(df, str(a), '/nfs/home/genovese/thesis-wildfire-genovese/data/gathering/per_comune/ISTRUZIONE')"
   ]
  },
  {
   "cell_type": "markdown",
   "id": "68a85224",
   "metadata": {},
   "source": [
    "---"
   ]
  }
 ],
 "metadata": {
  "kernelspec": {
   "display_name": ".venv",
   "language": "python",
   "name": "python3"
  },
  "language_info": {
   "codemirror_mode": {
    "name": "ipython",
    "version": 3
   },
   "file_extension": ".py",
   "mimetype": "text/x-python",
   "name": "python",
   "nbconvert_exporter": "python",
   "pygments_lexer": "ipython3",
   "version": "3.10.17"
  }
 },
 "nbformat": 4,
 "nbformat_minor": 5
}
