{
 "cells": [
  {
   "cell_type": "code",
   "execution_count": null,
   "id": "cfb07144",
   "metadata": {},
   "outputs": [],
   "source": [
    "import sys \n",
    "sys.path.append(rf\"/nfs/home/genovese/thesis-wildfire-genovese/src\")\n",
    "from importlib import reload\n",
    "import utils\n",
    "reload(utils)\n",
    "from utils import *\n",
    "data_folder = \"/nfs/home/genovese/thesis-wildfire-genovese/data/\"\n",
    "output_folder = \"/nfs/home/genovese/thesis-wildfire-genovese/data/gathering/per_comune/\""
   ]
  },
  {
   "cell_type": "code",
   "execution_count": null,
   "id": "d829039f",
   "metadata": {},
   "outputs": [],
   "source": [
    "for f in os.listdir(data_folder+'clean_data/ministero_finanze'):\n",
    "    extract_zipfile(data_folder+f'raw/ministero_finanze/{f}', data_folder+f'raw/socioeconomic/redditi/{f[-8:-4]}')"
   ]
  },
  {
   "cell_type": "markdown",
   "id": "c6e34bc0",
   "metadata": {},
   "source": [
    "---"
   ]
  },
  {
   "cell_type": "code",
   "execution_count": null,
   "id": "2cf876bc",
   "metadata": {},
   "outputs": [],
   "source": [
    "redditi = dict()\n",
    "for a in list(range(2000, 2019)) + [2022, 2023]:\n",
    "    if (a > 2007) and (a < 2012):\n",
    "        col = 'Codice Istat'\n",
    "    else:\n",
    "        col = 'Codice Istat Comune'\n",
    "    redditi[a] = pd.read_csv(\n",
    "        data_folder+f'raw/socioeconomic/redditi/{a}/Redditi_e_principali_variabili_IRPEF_su_base_comunale_CSV_{a}.csv', \n",
    "        encoding='latin-1', \n",
    "        sep=';'\n",
    "        ).apply(lambda x: set_city_code(x, col), axis=1)"
   ]
  },
  {
   "cell_type": "code",
   "execution_count": null,
   "id": "fd457986",
   "metadata": {},
   "outputs": [],
   "source": [
    "for aa in [2019, 2020, 2021]: \n",
    "        a = pd.read_csv(\n",
    "                        data_folder+f'raw/socioeconomic/redditi/{aa}/Redditi_e_principali_variabili_IRPEF_su_base_comunale_CSV_{aa}.csv', \n",
    "                encoding='latin-1', \n",
    "                sep=';',\n",
    "                index_col=None).reset_index()\n",
    "        df = pd.DataFrame()\n",
    "        for n, c in enumerate(a.columns[1:-1]):\n",
    "                df[c] = a.iloc[:, n]\n",
    "        redditi[aa] = df.apply(lambda x: set_city_code(x, 'Codice Istat Comune'), axis=1)"
   ]
  },
  {
   "cell_type": "code",
   "execution_count": null,
   "id": "21e57801",
   "metadata": {},
   "outputs": [],
   "source": [
    "for a, df in redditi.items():\n",
    "    save_clean_data(df, f'{a}', output_folder=data_folder+'clean_data/redditi/')"
   ]
  },
  {
   "cell_type": "markdown",
   "id": "d4f78dd6",
   "metadata": {},
   "source": [
    "---"
   ]
  },
  {
   "cell_type": "code",
   "execution_count": null,
   "id": "235f93b7",
   "metadata": {},
   "outputs": [],
   "source": [
    "redditi=dict()\n",
    "for a in list(range(2000, 2024)):\n",
    "    redditi[a] = pd.read_csv(f'/nfs/home/genovese/thesis-wildfire-genovese/data/clean_data/redditi/{a}.csv')"
   ]
  },
  {
   "cell_type": "code",
   "execution_count": null,
   "id": "5de3a71b",
   "metadata": {},
   "outputs": [],
   "source": [
    "from functools import reduce\n",
    "\n",
    "data = [list(df.columns) for df in redditi.values()]\n",
    "\n",
    "# Step 1: Find the intersection of all the lists\n",
    "intersection = reduce(lambda a, b: set(a) & set(b), data)\n",
    "\n",
    "# Step 2: Remove the intersection from each list\n",
    "result = [[item for item in sublist if item not in intersection] for sublist in data]\n",
    "\n",
    "for r in result:\n",
    "    print(r)\n"
   ]
  },
  {
   "cell_type": "code",
   "execution_count": null,
   "id": "cc0aa367",
   "metadata": {},
   "outputs": [],
   "source": [
    "import re\n",
    "\n",
    "for a, df in redditi.items():\n",
    "    if df.columns[-1] == ' ':\n",
    "        df.drop(columns=[' '], inplace=True)\n",
    "    if \"Codice Istat Regione\" in df.columns:\n",
    "        df.drop(columns=[\"Codice Istat Regione\"], inplace=True)\n",
    "    if \"Codice Istat\" in df.columns:\n",
    "        df.rename(columns={'Codice Istat': 'Codice Istat Comune'}, inplace=True)\n",
    "\n",
    "    df.columns = df.columns.str.replace(\"'\", '', regex=True)\n",
    "    df.columns = df.columns.str.replace(\"minore di zero euro\", 'minore o uguale a zero euro', regex=True)\n",
    "    cols = list(df.columns)\n",
    "    renaming = dict.fromkeys(cols)\n",
    "    for c in cols:\n",
    "        if '-' in c:            \n",
    "            split = c.split(' - ')\n",
    "            split[0] = split[0].rstrip()\n",
    "            split[1] = split[1].rstrip()\n",
    "            pre = split[0]\n",
    "            if'(' in pre:\n",
    "                split[0] = re.sub(r\"\\([^)]*\\)\", \"\", pre).strip().rstrip()\n",
    "            word = split[1]\n",
    "            if 'Ammontare' in word:\n",
    "                split[1] ='Ammontare in euro'\n",
    "            \n",
    "            new_col = split[0] + ' - ' + split[1]\n",
    "            if 'contabilità' in new_col:\n",
    "                new_col = new_col.replace('contabilità', 'contabilita')\n",
    "            if 'IRPEF' in new_col:\n",
    "                new_col = new_col.replace('IRPEF', '')\n",
    "                split2 = new_col.split(' - ')\n",
    "                split2[0] = split2[0].rstrip()\n",
    "                split2[1] = split2[1].rstrip()\n",
    "                new_col = split2[0] + ' - ' + split2[1]\n",
    "            if ('dipendente' in new_col) and ('assimilati' not in new_col):\n",
    "                split3 = new_col.split(' - ')\n",
    "                split3[0] = split3[0].rstrip() + ' e assimilati'\n",
    "                split3[0] = split3[0].rstrip()\n",
    "                split3[1] = split3[1].rstrip()\n",
    "                new_col = split3[0] + ' - ' + split3[1]\n",
    "        else:\n",
    "            new_col = c\n",
    "        cols[cols.index(c)] = new_col\n",
    "\n",
    "    df.columns = cols\n",
    "        \n",
    "\n"
   ]
  },
  {
   "cell_type": "code",
   "execution_count": null,
   "id": "9c49e57d",
   "metadata": {},
   "outputs": [],
   "source": [
    "redditi[2012].rename(columns={'Reddito spettanza imprenditore ordinaria - Frequenza': 'Reddito di spettanza dellimprenditore in contabilita ordinaria - Frequenza',\n",
    "                              'Reddito spettanza imprenditore semplificata - Frequenza': 'Reddito di spettanza dellimprenditore in contabilita semplificata - Frequenza',\n",
    "                              'Reddito spettanza imprenditore ordinaria - Ammontare in euro': 'Reddito di spettanza dellimprenditore in contabilita semplificata - Ammontare in euro',\n",
    "                              'Reddito spettanza imprenditore semplificata - Ammontare in euro': 'Reddito di spettanza dellimprenditore in contabilita ordinaria - Ammontare in euro'}, inplace=True)"
   ]
  },
  {
   "cell_type": "code",
   "execution_count": null,
   "id": "a7219a8c",
   "metadata": {},
   "outputs": [],
   "source": [
    "for a, df in redditi.items():\n",
    "    df.columns = df.columns.str.replace('\\xa0', ' ')"
   ]
  },
  {
   "cell_type": "code",
   "execution_count": null,
   "id": "699f68fd",
   "metadata": {},
   "outputs": [],
   "source": [
    "data = [list(df.columns) for df in redditi.values()]\n",
    "\n",
    "# Step 1: Find the intersection of all the lists\n",
    "intersection = reduce(lambda a, b: set(a) & set(b), data)\n",
    "\n",
    "# Step 2: Remove the intersection from each list\n",
    "result = enumerate([[item for item in sublist if item not in intersection] for sublist in data])\n",
    "\n",
    "for n, r in result:\n",
    "    print(n+2000, r)"
   ]
  },
  {
   "cell_type": "code",
   "execution_count": null,
   "id": "7d3a3cf5",
   "metadata": {},
   "outputs": [],
   "source": [
    "for a, df in redditi.items():\n",
    "    save_clean_data(df.drop(columns=df.columns[0]), f'{a}', output_folder=data_folder+'clean_data/redditi/')"
   ]
  },
  {
   "cell_type": "markdown",
   "id": "ae403d16",
   "metadata": {},
   "source": [
    "---"
   ]
  },
  {
   "cell_type": "code",
   "execution_count": null,
   "id": "c295d192",
   "metadata": {},
   "outputs": [],
   "source": [
    "proporzioni_pensione = pd.DataFrame(\n",
    "        {\n",
    "        'Codice Istat Comune': redditi[2002]['Codice Istat Comune'], \n",
    "        'Reddito da pensione - Ammontare in euro': redditi[2002]['Reddito da pensione - Ammontare in euro']/redditi[2002]['Reddito da lavoro dipendente e assimilati - Ammontare in euro'],\n",
    "        'Reddito da pensione - Frequenza': redditi[2002]['Reddito da pensione - Frequenza']/redditi[2002]['Reddito da lavoro dipendente e assimilati - Frequenza']\n",
    "    })\n",
    "proporzioni_pensione"
   ]
  }
 ],
 "metadata": {
  "kernelspec": {
   "display_name": ".venv",
   "language": "python",
   "name": "python3"
  },
  "language_info": {
   "codemirror_mode": {
    "name": "ipython",
    "version": 3
   },
   "file_extension": ".py",
   "mimetype": "text/x-python",
   "name": "python",
   "nbconvert_exporter": "python",
   "pygments_lexer": "ipython3",
   "version": "3.10.17"
  }
 },
 "nbformat": 4,
 "nbformat_minor": 5
}
