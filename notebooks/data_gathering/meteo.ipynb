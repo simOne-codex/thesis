{
 "cells": [
  {
   "cell_type": "code",
   "execution_count": null,
   "id": "3428640f",
   "metadata": {},
   "outputs": [],
   "source": [
    "import sys \n",
    "sys.path.append(rf\"/nfs/home/genovese/thesis-wildfire-genovese/notebooks/\")\n",
    "from importlib import reload\n",
    "import utils\n",
    "reload(utils)\n",
    "from utils import *\n",
    "data_folder = \"/nfs/home/genovese/thesis-wildfire-genovese/data/\""
   ]
  },
  {
   "cell_type": "code",
   "execution_count": null,
   "id": "47a8a9d0",
   "metadata": {},
   "outputs": [],
   "source": [
    "from shapely import wkt\n",
    "\n",
    "for a in list(range(2000, 2025)):\n",
    "    df = pd.read_csv(f'/nfs/home/genovese/thesis-wildfire-genovese/data/clean_data/weather_forecast/{a}.csv')\n",
    "    df['geometry'] = wkt.loads(df['geometry'])\n",
    "    gdf = gpd.GeoDataFrame(df, geometry='geometry')\n",
    "    save_clean_data(gdf,\n",
    "                    str(a),\n",
    "                    f'/nfs/home/genovese/thesis-wildfire-genovese/data/gathering_geojson/weather_forecast')"
   ]
  },
  {
   "cell_type": "markdown",
   "id": "e398d51b",
   "metadata": {},
   "source": [
    "---"
   ]
  },
  {
   "cell_type": "markdown",
   "id": "cbe91d6e",
   "metadata": {},
   "source": [
    "USELESS"
   ]
  },
  {
   "cell_type": "code",
   "execution_count": null,
   "id": "638fa719",
   "metadata": {},
   "outputs": [],
   "source": [
    "from sklearn.preprocessing import OneHotEncoder\n",
    "\n",
    "gdf = gpd.read_file('/nfs/home/genovese/thesis-wildfire-genovese/data/gathering_geojson/vegetazione.geojson')\n",
    "\n",
    "encoder = OneHotEncoder()  # define order\n",
    "encoded = encoder.fit_transform(gdf[['CATEGORIA']]).toarray()\n",
    "pd.DataFrame(encoded).describe()"
   ]
  },
  {
   "cell_type": "code",
   "execution_count": null,
   "id": "e68e56fc",
   "metadata": {},
   "outputs": [],
   "source": [
    "import rasterio\n",
    "from rasterio.features import rasterize\n",
    "from rasterio.transform import from_origin\n",
    "\n",
    "\n",
    "def rasterise_shp(shapefile_path, output_raster, resolution = 100, attributes = None):\n",
    "\n",
    "    # === Load shapefile ===\n",
    "    gdf = gpd.read_file(shapefile_path)\n",
    "    bounds = gdf.total_bounds  # (minx, miny, maxx, maxy)\n",
    "\n",
    "    # === Define raster resolution and size ===\n",
    "    minx, miny, maxx, maxy = bounds\n",
    "    width = int((maxx - minx) / resolution)\n",
    "    height = int((maxy - miny) / resolution)\n",
    "    transform = from_origin(minx, maxy, resolution, resolution)\n",
    "\n",
    "    # attributes = list(gdf.columns)\n",
    "    # attributes.remove('geometry')\n",
    "    # === Convert geometries and optional values ===\n",
    "    for att in attributes:\n",
    "        if att:\n",
    "            shapes = ((geom, value) for geom, value in zip(gdf.geometry, gdf[att]))\n",
    "        else:\n",
    "            shapes = ((geom, 1) for geom in gdf.geometry)\n",
    "\n",
    "        raster = rasterize(\n",
    "            shapes=shapes,\n",
    "            out_shape=(height, width),\n",
    "            transform=transform,\n",
    "            fill=-1000,\n",
    "            # dtype='float32'\n",
    "        )\n",
    "    \n",
    "        # === Save raster to file ===\n",
    "        with rasterio.open(\n",
    "            output_raster,\n",
    "            'w',\n",
    "            driver='GTiff',\n",
    "            height=height,\n",
    "            width=width,\n",
    "            count=1,\n",
    "            dtype=raster.dtype,\n",
    "            crs=gdf.crs,\n",
    "            transform=transform,\n",
    "        ) as dst:\n",
    "            dst.write(raster, 1)\n",
    "\n",
    "    print(f\"Raster saved to {output_raster}\")\n"
   ]
  },
  {
   "cell_type": "code",
   "execution_count": null,
   "id": "ed659674",
   "metadata": {},
   "outputs": [],
   "source": [
    "rasterise_shp('/nfs/home/genovese/thesis-wildfire-genovese/data/gathering_geojson/vegetazione.geojson', \n",
    "              '/nfs/home/genovese/thesis-wildfire-genovese/outputs/rasterisations/vegetazione.tif',\n",
    "              attributes=['ESTENSIONE'])"
   ]
  },
  {
   "cell_type": "code",
   "execution_count": null,
   "id": "b66e76aa",
   "metadata": {},
   "outputs": [],
   "source": [
    "# Open the TIFF file\n",
    "with rasterio.open(\"/nfs/home/genovese/thesis-wildfire-genovese/outputs/rasterisations/vegetazione.tif\") as src:\n",
    "    num_channels = src.count\n",
    "    print(f\"Number of channels: {num_channels}\")\n",
    "\n",
    "    # Read and plot each channel\n",
    "    fig, axs = plt.subplots(1, num_channels, figsize=(5 * num_channels, 5))\n",
    "    if num_channels == 1:\n",
    "        axs = [axs]  # Ensure it's iterable\n",
    "\n",
    "    for i in range(1, num_channels + 1):\n",
    "        band = src.read(i)\n",
    "        axs[i-1].imshow(band, cmap='gray')\n",
    "        axs[i-1].set_title(f'Band {i}')\n",
    "        axs[i-1].axis('off')\n",
    "\n",
    "    plt.tight_layout()\n",
    "    plt.show()"
   ]
  },
  {
   "cell_type": "markdown",
   "id": "0b9ef4e4",
   "metadata": {},
   "source": [
    "---"
   ]
  }
 ],
 "metadata": {
  "kernelspec": {
   "display_name": ".venv",
   "language": "python",
   "name": "python3"
  },
  "language_info": {
   "codemirror_mode": {
    "name": "ipython",
    "version": 3
   },
   "file_extension": ".py",
   "mimetype": "text/x-python",
   "name": "python",
   "nbconvert_exporter": "python",
   "pygments_lexer": "ipython3",
   "version": "3.10.17"
  }
 },
 "nbformat": 4,
 "nbformat_minor": 5
}
