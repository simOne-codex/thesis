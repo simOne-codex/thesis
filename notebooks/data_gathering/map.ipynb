{
 "cells": [
  {
   "cell_type": "code",
   "execution_count": null,
   "id": "02eec469",
   "metadata": {},
   "outputs": [],
   "source": [
    "import sys \n",
    "sys.path.append(rf\"/nfs/home/genovese/thesis-wildfire-genovese/src\")\n",
    "from importlib import reload\n",
    "import utils\n",
    "reload(utils)\n",
    "from utils import *\n",
    "clean_data_folder = \"/nfs/home/genovese/thesis-wildfire-genovese/data/clean_data/\"\n",
    "output_folder = \"/nfs/home/genovese/thesis-wildfire-genovese/data/gathering\""
   ]
  },
  {
   "cell_type": "code",
   "execution_count": null,
   "id": "d5f2e6dd",
   "metadata": {},
   "outputs": [],
   "source": [
    "zone_altimetriche = gpd.read_file(clean_data_folder + \"zone_altimetriche_piemonte/zone_altimetriche_piemonte.shp\")\n",
    "mappa_forestale = gpd.read_file(clean_data_folder + \"mappa_forestale/mappa_forestale.shp\")\n",
    "mappa_floreale = gpd.read_file(clean_data_folder + \"copertura10_agg2016/copertura10_agg2016.shp\")\n",
    "formazioni_lineari = gpd.read_file(clean_data_folder + \"formazioni_lineari_agg2016/formazioni_lineari_agg2016.shp\")\n",
    "arboricoltura = gpd.read_file(clean_data_folder + \"arboricoltura_agg2016/arboricoltura_agg2016.shp\")\n",
    "strade_principali = gpd.read_file(clean_data_folder + \"strade_principali_piemonte/strade_principali_piemonte.shp\")"
   ]
  },
  {
   "cell_type": "markdown",
   "id": "3b01f717",
   "metadata": {},
   "source": [
    "---"
   ]
  },
  {
   "cell_type": "markdown",
   "id": "ab840b11",
   "metadata": {},
   "source": [
    "# Vegetazione"
   ]
  },
  {
   "cell_type": "code",
   "execution_count": null,
   "id": "669b6573",
   "metadata": {},
   "outputs": [],
   "source": [
    "display(mappa_forestale.info())\n",
    "display(mappa_floreale.info())\n",
    "display(formazioni_lineari.info())\n",
    "display(arboricoltura.info())"
   ]
  },
  {
   "cell_type": "code",
   "execution_count": null,
   "id": "1a605b26",
   "metadata": {},
   "outputs": [],
   "source": [
    "# mappa_forestale.drop(columns=[\"SOTTOTIPO\", \"VARIANTE\"], inplace=True)\n",
    "# mappa_floreale.drop(columns=[\"SOTTOTIPO\", \"VARIANTE\"], inplace=True)\n",
    "# arboricoltura.drop(columns=[\"SOTTOTIPO\", \"VARIANTE\"], inplace=True)"
   ]
  },
  {
   "cell_type": "code",
   "execution_count": null,
   "id": "e1608735",
   "metadata": {},
   "outputs": [],
   "source": [
    "formazioni_lineari"
   ]
  },
  {
   "cell_type": "code",
   "execution_count": null,
   "id": "4495507b",
   "metadata": {},
   "outputs": [],
   "source": [
    "# formazioni_lineari.rename(columns={'idgeo_ln_f': 'IDGEO_PL_T', 'FORMAZIONE': 'CATEGORIA', 'COMP_SPEC': 'TIPO', 'TIPO_STRU': 'DESTINAZ', \"LUNGH\": \"ESTENSIONE\"}, inplace=True)"
   ]
  },
  {
   "cell_type": "code",
   "execution_count": null,
   "id": "6e57f28d",
   "metadata": {},
   "outputs": [],
   "source": [
    "vegetazione = pd.concat([arboricoltura, mappa_forestale, mappa_floreale], ignore_index=True)\n",
    "vegetazione.head()"
   ]
  },
  {
   "cell_type": "code",
   "execution_count": null,
   "id": "9be0b04c",
   "metadata": {},
   "outputs": [],
   "source": [
    "plt.imshow(pd.crosstab(vegetazione['CATEGORIA'], vegetazione['CODICE']), cmap=\"Blues\")\n",
    "plt.show()\n",
    "# CODICE refers exactly to CATEGORIA \n",
    "(~(pd.crosstab(vegetazione['TIPIFORE'], vegetazione['TIPO']) == 0)).sum(axis=1).all()\n",
    "# the map TIPIFORE to TIPO is injective, not the converse. Keep TIPO since it has less classes and more interpretability"
   ]
  },
  {
   "cell_type": "code",
   "execution_count": null,
   "id": "7fbaa996",
   "metadata": {},
   "outputs": [],
   "source": [
    "vegetazione['PRIORITA'].unique()"
   ]
  },
  {
   "cell_type": "code",
   "execution_count": null,
   "id": "6d07119e",
   "metadata": {},
   "outputs": [],
   "source": [
    "# vegetazione.drop(columns=[\"CODICE\", 'TIPIFORE', 'COD_CLC'], inplace=True)"
   ]
  },
  {
   "cell_type": "code",
   "execution_count": null,
   "id": "a1e9ca6b",
   "metadata": {},
   "outputs": [],
   "source": [
    "# add \"Aree per cui non si prevede priorita' d'intervento\" to Filiare since they are planted on purpose \n",
    "formazioni_lineari['PRIORITA'] = \"Aree per cui non si prevede priorita' d'intervento\"\n",
    "vegetazione['ESTENSIONE'] = vegetazione['geometry'].area"
   ]
  },
  {
   "cell_type": "code",
   "execution_count": null,
   "id": "cddb9023",
   "metadata": {},
   "outputs": [],
   "source": [
    "vegetazione_piemonte = pd.concat([vegetazione, formazioni_lineari], ignore_index=True)\n",
    "vegetazione_piemonte.isna().sum()"
   ]
  },
  {
   "cell_type": "code",
   "execution_count": null,
   "id": "7e15e493",
   "metadata": {},
   "outputs": [],
   "source": [
    "import missingno\n",
    "\n",
    "missingno.matrix(vegetazione_piemonte);\n",
    "missingno.matrix(vegetazione);"
   ]
  },
  {
   "cell_type": "code",
   "execution_count": null,
   "id": "8cf31766",
   "metadata": {},
   "outputs": [],
   "source": [
    "# vegetazione_piemonte['INTERVENTO'].fillna(\"Formazione lineare\", inplace=True)"
   ]
  },
  {
   "cell_type": "code",
   "execution_count": null,
   "id": "868718fd",
   "metadata": {},
   "outputs": [],
   "source": [
    "display(vegetazione_piemonte['PRIORITA'].unique())\n",
    "display(vegetazione_piemonte['DESTINAZ'].unique())\n",
    "display(vegetazione_piemonte['ASSETTO'].unique())"
   ]
  },
  {
   "cell_type": "code",
   "execution_count": null,
   "id": "5417a19c",
   "metadata": {},
   "outputs": [],
   "source": [
    "no_prior = vegetazione_piemonte[vegetazione_piemonte['PRIORITA'].isna()]\n",
    "no_dest = vegetazione_piemonte[vegetazione_piemonte['DESTINAZ'].isna()]\n",
    "no_asset = vegetazione_piemonte[vegetazione_piemonte['ASSETTO'].isna()]"
   ]
  },
  {
   "cell_type": "code",
   "execution_count": null,
   "id": "3d56e39a",
   "metadata": {},
   "outputs": [],
   "source": [
    "def get_neigh(target, gdf, col):\n",
    "    light=False\n",
    "    n=1\n",
    "    while(light == False):\n",
    "        buffer = target.buffer(100*n)\n",
    "        # Find polygons that intersect this buffer\n",
    "        neighbors = gdf[gdf.intersects(buffer.union_all()) & (~gdf[col].isna())]\n",
    "        neighbors = neighbors[neighbors.index != target.index[0]]\n",
    "        n+=1\n",
    "        if neighbors.shape[0] > 0:\n",
    "            light=True\n",
    "\n",
    "\n",
    "    return neighbors[col].value_counts()"
   ]
  },
  {
   "cell_type": "code",
   "execution_count": null,
   "id": "ecb74596",
   "metadata": {},
   "outputs": [],
   "source": [
    "from tqdm import tqdm \n",
    "\n",
    "lst = [no_prior, no_dest, no_asset]\n",
    "\n",
    "# assign the most common value of the neighbors in range of 100m (or the nearest one if there are no neighbors)\n",
    "for a, col in enumerate([\"PRIORITA\", \"DESTINAZ\", \"ASSETTO\"]):\n",
    "    for i in tqdm(lst[a].index):\n",
    "        c= get_neigh(lst[a].loc[[i]], vegetazione_piemonte, col).index[0]\n",
    "        vegetazione_piemonte.loc[i, col] = c"
   ]
  },
  {
   "cell_type": "code",
   "execution_count": null,
   "id": "edb24c06",
   "metadata": {},
   "outputs": [],
   "source": [
    "# substitute linestrings with thin polygons to uniformise geometry\n",
    "vegetazione_piemonte['geometry'] = vegetazione_piemonte['geometry'].apply(lambda geom: geom.buffer(0.5) if geom.geom_type == 'LineString' else geom)"
   ]
  },
  {
   "cell_type": "code",
   "execution_count": null,
   "id": "bdff2d5e",
   "metadata": {},
   "outputs": [],
   "source": [
    "vegetazione_piemonte.info()"
   ]
  },
  {
   "cell_type": "code",
   "execution_count": null,
   "id": "dd83f01e",
   "metadata": {},
   "outputs": [],
   "source": [
    "vegetazione_piemonte.to_file('/nfs/home/genovese/thesis-wildfire-genovese/data/gathering/vegetazione')"
   ]
  },
  {
   "cell_type": "markdown",
   "id": "b08a64db",
   "metadata": {},
   "source": [
    "---"
   ]
  },
  {
   "cell_type": "markdown",
   "id": "7640c2c5",
   "metadata": {},
   "source": [
    "# Altimetria e strade"
   ]
  },
  {
   "cell_type": "code",
   "execution_count": null,
   "id": "c6830cbb",
   "metadata": {},
   "outputs": [],
   "source": [
    "zone_altimetriche"
   ]
  },
  {
   "cell_type": "code",
   "execution_count": null,
   "id": "38f71c85",
   "metadata": {},
   "outputs": [],
   "source": [
    "zone_altimetriche.drop(columns='foglio').to_file('/nfs/home/genovese/thesis-wildfire-genovese/data/gathering/altimetria_per_circoscrizione')"
   ]
  },
  {
   "cell_type": "markdown",
   "id": "99f0936e",
   "metadata": {},
   "source": [
    "---"
   ]
  },
  {
   "cell_type": "code",
   "execution_count": null,
   "id": "2745a29a",
   "metadata": {},
   "outputs": [],
   "source": [
    "strade_principali"
   ]
  },
  {
   "cell_type": "code",
   "execution_count": null,
   "id": "090815a5",
   "metadata": {},
   "outputs": [],
   "source": [
    "strade_principali.describe()"
   ]
  },
  {
   "cell_type": "code",
   "execution_count": null,
   "id": "0565798a",
   "metadata": {},
   "outputs": [],
   "source": [
    "# remove univariate columns\n",
    "strade_principali.drop(columns=['GP_REX', 'GP_RAV', 'GP_RRG', 'GP_RSE', 'GP_RSI', 'GP_RSY', 'gp_gripreg'], inplace=True)\n",
    "strade_principali"
   ]
  },
  {
   "cell_type": "code",
   "execution_count": null,
   "id": "5f1c84c4",
   "metadata": {},
   "outputs": [],
   "source": [
    "from shapely.geometry import MultiPolygon\n",
    "# make a polygon of roads\n",
    "def buffer_linestring(x):\n",
    "    if x.geom_type == 'LineString':\n",
    "        return x.buffer(3)\n",
    "    elif x.geom_type == 'MultiLineString':\n",
    "        buffers = [line.buffer(3) for line in x.geoms]\n",
    "        return MultiPolygon(buffers)\n",
    "\n",
    "strade_principali['geometry'] = strade_principali['geometry'].apply(lambda x: buffer_linestring(x))\n",
    "\n",
    "strade_principali.geom_type.unique()"
   ]
  },
  {
   "cell_type": "code",
   "execution_count": null,
   "id": "5197794f",
   "metadata": {},
   "outputs": [],
   "source": [
    "strade_principali.to_file('/nfs/home/genovese/thesis-wildfire-genovese/data/gathering/strade_principali')"
   ]
  },
  {
   "cell_type": "markdown",
   "id": "658723f6",
   "metadata": {},
   "source": [
    "---"
   ]
  }
 ],
 "metadata": {
  "kernelspec": {
   "display_name": ".venv",
   "language": "python",
   "name": "python3"
  },
  "language_info": {
   "codemirror_mode": {
    "name": "ipython",
    "version": 3
   },
   "file_extension": ".py",
   "mimetype": "text/x-python",
   "name": "python",
   "nbconvert_exporter": "python",
   "pygments_lexer": "ipython3",
   "version": "3.10.17"
  }
 },
 "nbformat": 4,
 "nbformat_minor": 5
}
