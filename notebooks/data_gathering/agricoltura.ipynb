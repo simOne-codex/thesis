{
 "cells": [
  {
   "cell_type": "code",
   "execution_count": null,
   "id": "31b72109",
   "metadata": {},
   "outputs": [],
   "source": [
    "import sys \n",
    "sys.path.append(rf\"/nfs/home/genovese/thesis-wildfire-genovese/src\")\n",
    "from importlib import reload\n",
    "import utils\n",
    "reload(utils)\n",
    "from utils import *\n",
    "data_folder = \"/nfs/home/genovese/thesis-wildfire-genovese/data/\""
   ]
  },
  {
   "cell_type": "code",
   "execution_count": null,
   "id": "921c3cd6",
   "metadata": {},
   "outputs": [],
   "source": [
    "farming_2020 = gpd.read_file(data_folder + \"clean_data/farming_census_2020/farming_census_2020.shp\")\n",
    "grazing_2020 = gpd.read_file(data_folder + \"clean_data/grazing_census_2020/grazing_census_2020.shp\")\n",
    "land_2020 = gpd.read_file(data_folder + \"clean_data/agricultural_land_usage_census_2020/agricultural_land_usage_census_2020.shp\")\n",
    "farming_2010 = gpd.read_file(data_folder + \"clean_data/farming_land_usage_census_2010/farming_land_usage_census_2010.shp\")\n",
    "grazing_2010 = gpd.read_file(data_folder + \"clean_data/grazing_census_2010/grazing_census_2010.shp\")"
   ]
  },
  {
   "cell_type": "markdown",
   "id": "f9f1723b",
   "metadata": {},
   "source": [
    "---"
   ]
  },
  {
   "cell_type": "markdown",
   "id": "d1c715e5",
   "metadata": {},
   "source": [
    "# 2020"
   ]
  },
  {
   "cell_type": "code",
   "execution_count": null,
   "id": "d92c137f",
   "metadata": {},
   "outputs": [],
   "source": [
    "df2020 = land_2020.merge(grazing_2020.merge(farming_2020, on='REF_AREA', how='inner'), on='REF_AREA', how='inner')\n",
    "for c in df2020.columns:\n",
    "    print(c)"
   ]
  },
  {
   "cell_type": "code",
   "execution_count": null,
   "id": "6ec52f0a",
   "metadata": {},
   "outputs": [],
   "source": [
    "print((df2020.geometry != df2020.geometry_x).sum())\n",
    "print((df2020.geometry_x != df2020.geometry_y).sum())"
   ]
  },
  {
   "cell_type": "code",
   "execution_count": null,
   "id": "dba80cda",
   "metadata": {},
   "outputs": [],
   "source": [
    "df2020.drop(columns=['geometry_x', 'geometry_y'], inplace=True)"
   ]
  },
  {
   "cell_type": "code",
   "execution_count": null,
   "id": "b90f46da",
   "metadata": {},
   "outputs": [],
   "source": [
    "# C = df2020[df2020.columns.drop(['REF_AREA', 'geometry', 'ALL'])].corr(method='spearman')\n",
    "\n",
    "# fig, ax = plt.subplots(figsize=(10,10))\n",
    "# sns.heatmap(C, ax=ax, cmap='coolwarm', vmin=-1)\n",
    "# plt.show()"
   ]
  },
  {
   "cell_type": "markdown",
   "id": "7a74a584",
   "metadata": {},
   "source": [
    "---"
   ]
  },
  {
   "cell_type": "markdown",
   "id": "0e39969b",
   "metadata": {},
   "source": [
    "# 2010"
   ]
  },
  {
   "cell_type": "code",
   "execution_count": null,
   "id": "1e30fa7e",
   "metadata": {},
   "outputs": [],
   "source": [
    "df2010 = farming_2010.merge(grazing_2010, on='Codice Com', how='inner')\n",
    "(df2010.geometry_x != df2010.geometry_y).sum()"
   ]
  },
  {
   "cell_type": "code",
   "execution_count": null,
   "id": "1a359e48",
   "metadata": {},
   "outputs": [],
   "source": [
    "df2010 = df2010.drop(columns='geometry_x').rename({'geometry_y': 'geometry'}, axis=1)"
   ]
  },
  {
   "cell_type": "code",
   "execution_count": null,
   "id": "a11ac09a",
   "metadata": {},
   "outputs": [],
   "source": [
    "df2010.info()"
   ]
  },
  {
   "cell_type": "code",
   "execution_count": null,
   "id": "6d21e6db",
   "metadata": {},
   "outputs": [],
   "source": [
    "df2010.drop(columns=df2010.columns[[0, 34, 33]], inplace=True)"
   ]
  },
  {
   "cell_type": "markdown",
   "id": "5e0cdadf",
   "metadata": {},
   "source": [
    "---"
   ]
  },
  {
   "cell_type": "markdown",
   "id": "27a2f59f",
   "metadata": {},
   "source": [
    "# Uniformise variables"
   ]
  },
  {
   "cell_type": "code",
   "execution_count": null,
   "id": "e7433a0e",
   "metadata": {},
   "outputs": [],
   "source": [
    "grazing_dict={'TOTCATT': 'totale bovini', \n",
    "              'TOTBUFF': 'totale bufalini', \n",
    "              'TOTSH': 'totale ovini', \n",
    "              'TOTG': 'totale caprini', \n",
    "              'TOTPIG': 'totale suini',\n",
    "              'TOTPOU': 'totale avicoli',\n",
    "              'HIVES': 'totale alveari',\n",
    "              'totale bov': 'totale bovini',\n",
    "              'totale sui': 'totale suini',\n",
    "              'totale ovi': 'totale ovini',\n",
    "              'totale avi': 'totale avicoli'\n",
    "}\n",
    "# gather TOTCATT + TOTBUFF, TOTG + TOTSH, share HIVES"
   ]
  },
  {
   "cell_type": "code",
   "execution_count": null,
   "id": "fc5c4939",
   "metadata": {},
   "outputs": [],
   "source": [
    "df2020.loc[:, 'TOTCATT'] = df2020['TOTCATT'] + df2020['TOTBUFF']\n",
    "df2020.loc[:, 'TOTSH'] = df2020['TOTG'] + df2020['TOTSH']\n",
    "df2020.drop(columns=['TOTG', 'TOTBUFF'], inplace=True)\n",
    "df2010 = df2010.merge(df2020[['HIVES', 'geometry']], on='geometry', how='left')\n",
    "df2010.rename(grazing_dict, axis=1, inplace=True)\n",
    "df2020.rename(grazing_dict, axis=1, inplace=True)"
   ]
  },
  {
   "cell_type": "markdown",
   "id": "c8a35090",
   "metadata": {},
   "source": [
    "---"
   ]
  },
  {
   "cell_type": "code",
   "execution_count": null,
   "id": "6d55ad1d",
   "metadata": {},
   "outputs": [],
   "source": [
    "farming_dict = {'ARLAND': ('seminativi', 'seminativi'),\n",
    "    'CEREAG': ('cereali pe', 'cereali per la produzione di granella'), \n",
    "    'OTHDRYLEG': ('altri legumi secchi e colture proteiche'),\n",
    "                'POTAT': ('patata', 'patata'),\n",
    "                'BEETS': ('barbabieto', 'barbabietola da zucchero'),\n",
    "                'FODR': ('piante sar', 'piante sarchiate da foraggio'),\n",
    "                'CROPIN': ('piante ind', 'piante industriali'),\n",
    "                'VEGCO_TUN': ('ortive', \"ortive protette in serra e tunnel accessibili all'uomo\"),\n",
    "                'FLOWO': ('fiori e pi', 'fiori e piante ornamentali in piena aria'),\n",
    "                'FLOWGH_TUN': ('fiori e pi', \"fiori e piante ornamentali in serra e tunnel accessibili all'uomo\"),\n",
    "                'SEEDL_SEEDS': ('piantine', 'sementi e piantine'),\n",
    "                'SEEDL_SEEDS': ('sementi', 'sementi e piantine'),\n",
    "                'TGRA': ('foraggere', 'foraggere avvicendate'),\n",
    "                'FALLAND': ('terreni a', 'terreni a riposo'),\n",
    "                'PCROPS': ('coltivazio', 'coltivazioni legnose agrarie'),\n",
    "                'VINEY': ('vite', 'vite'),\n",
    "                'OLIVOOILTR': ('olivo per', 'olivo per la produzione di olive da olio'),\n",
    "                'CITRFR': ('agrumi', 'agrumi'),\n",
    "                'FRUIT': ('fruttiferi', 'coltivazioni fruttifere'),\n",
    "                'NURSEOR': ('vivai', 'piante ornamentali da vivaio'),\n",
    "                'PCROO': ('altre colt', 'altre coltivazioni legnose agrarie'),\n",
    "                'PGRAPM': ('prati perm', 'prati permanenti e pascoli')\n",
    "}"
   ]
  }
 ],
 "metadata": {
  "kernelspec": {
   "display_name": ".venv",
   "language": "python",
   "name": "python3"
  },
  "language_info": {
   "codemirror_mode": {
    "name": "ipython",
    "version": 3
   },
   "file_extension": ".py",
   "mimetype": "text/x-python",
   "name": "python",
   "nbconvert_exporter": "python",
   "pygments_lexer": "ipython3",
   "version": "3.10.17"
  }
 },
 "nbformat": 4,
 "nbformat_minor": 5
}
