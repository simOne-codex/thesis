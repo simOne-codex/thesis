{
 "cells": [
  {
   "cell_type": "code",
   "execution_count": null,
   "id": "3657b7db",
   "metadata": {},
   "outputs": [],
   "source": [
    "import sys \n",
    "sys.path.append(rf\"/nfs/home/genovese/thesis-wildfire-genovese/src\")\n",
    "from importlib import reload\n",
    "import utils\n",
    "reload(utils)\n",
    "from utils import *\n",
    "clean_data_folder = \"/nfs/home/genovese/thesis-wildfire-genovese/data/clean_data/\"\n",
    "output_folder = \"/nfs/home/genovese/thesis-wildfire-genovese/data/gathering/\""
   ]
  },
  {
   "cell_type": "code",
   "execution_count": null,
   "id": "fcd80d7c",
   "metadata": {},
   "outputs": [],
   "source": [
    "pop = pd.read_csv('/nfs/home/genovese/thesis-wildfire-genovese/data/clean_data/popolazione_piemonte/population_2002_2019_per_age.csv.csv')\n",
    "pop.drop(columns=pop.columns[:2], inplace=True)\n",
    "pop.head()"
   ]
  },
  {
   "cell_type": "code",
   "execution_count": null,
   "id": "634da4b8",
   "metadata": {},
   "outputs": [],
   "source": [
    "popolazione = dict()\n",
    "for a in list(range(2002, 2020, 1)):\n",
    "    popolazione[a] = pop.loc[:, [str(a), 'Eta', 'Comune']].pivot_table(values=str(a), columns='Eta', index='Comune').reset_index()"
   ]
  },
  {
   "cell_type": "code",
   "execution_count": null,
   "id": "838c1358",
   "metadata": {},
   "outputs": [],
   "source": [
    "confini = gpd.read_file('/nfs/home/genovese/thesis-wildfire-genovese/data/clean_data/confini_piemonte/confini_piemonte.shp')\n",
    "confini.head()"
   ]
  },
  {
   "cell_type": "code",
   "execution_count": null,
   "id": "342e4948",
   "metadata": {},
   "outputs": [],
   "source": [
    "POPOLAZIONE = dict.fromkeys(popolazione.keys())\n",
    "for a in POPOLAZIONE.keys():\n",
    "    POPOLAZIONE[a] = popolazione[a].merge(confini[['Codice Com', 'geometry']].rename(columns={'Codice Com': 'Comune'}), on='Comune', how='inner').drop(columns='Comune')"
   ]
  },
  {
   "cell_type": "code",
   "execution_count": null,
   "id": "a1fbc405",
   "metadata": {},
   "outputs": [],
   "source": [
    "popolazione[2002].loc[:, popolazione[2002].columns[1:6]].sum(axis=1)"
   ]
  },
  {
   "cell_type": "code",
   "execution_count": null,
   "id": "83d46a22",
   "metadata": {},
   "outputs": [],
   "source": [
    "for a, df in POPOLAZIONE.items():\n",
    "    cols = [str(c) for c in list(range(0, 9))]\n",
    "    df['meno di 9 anni'] = df.loc[:, cols].sum(axis=1)\n",
    "    df.drop(columns=cols, inplace=True)\n",
    "\n",
    "    cols = [str(c) for c in list(range(9, 15))]\n",
    "    df['9-14 anni'] = df.loc[:, cols].sum(axis=1)\n",
    "    df.drop(columns=cols, inplace=True)\n",
    "\n",
    "    cols = [str(c) for c in list(range(15, 25))]\n",
    "    df['15-24 anni'] = df.loc[:, cols].sum(axis=1)\n",
    "    df.drop(columns=cols, inplace=True)\n",
    "\n",
    "    cols = [str(c) for c in list(range(25, 50))]\n",
    "    df['25-49 anni'] = df.loc[:, cols].sum(axis=1)\n",
    "    df.drop(columns=cols, inplace=True)\n",
    "\n",
    "    cols = [str(c) for c in list(range(50, 65))]\n",
    "    df['50-64 anni'] = df.loc[:, cols].sum(axis=1)\n",
    "    df.drop(columns=cols, inplace=True)\n",
    "\n",
    "    cols = [str(c) for c in list(range(65, 100))] + ['100 e oltre']\n",
    "    df['piu di 65 anni'] = df.loc[:, cols].sum(axis=1)\n",
    "    df.drop(columns=cols, inplace=True)"
   ]
  },
  {
   "cell_type": "code",
   "execution_count": null,
   "id": "5a5b5615",
   "metadata": {},
   "outputs": [],
   "source": [
    "for a, df in POPOLAZIONE.items():\n",
    "    save_clean_data(gpd.GeoDataFrame(POPOLAZIONE[a]), str(a), output_folder+'per_comune/popolazione')"
   ]
  },
  {
   "cell_type": "markdown",
   "id": "7f962d56",
   "metadata": {},
   "source": [
    "---"
   ]
  }
 ],
 "metadata": {
  "kernelspec": {
   "display_name": ".venv",
   "language": "python",
   "name": "python3"
  },
  "language_info": {
   "codemirror_mode": {
    "name": "ipython",
    "version": 3
   },
   "file_extension": ".py",
   "mimetype": "text/x-python",
   "name": "python",
   "nbconvert_exporter": "python",
   "pygments_lexer": "ipython3",
   "version": "3.10.17"
  }
 },
 "nbformat": 4,
 "nbformat_minor": 5
}
