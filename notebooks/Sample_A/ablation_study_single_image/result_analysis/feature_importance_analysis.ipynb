{
 "cells": [
  {
   "cell_type": "code",
   "execution_count": null,
   "id": "28556803",
   "metadata": {},
   "outputs": [],
   "source": [
    "import pickle\n",
    "import pandas as pd\n",
    "import seaborn as sns\n",
    "import matplotlib.pyplot as plt"
   ]
  },
  {
   "cell_type": "code",
   "execution_count": null,
   "id": "8c455419",
   "metadata": {},
   "outputs": [],
   "source": [
    "with open('/nfs/home/genovese/thesis-wildfire-genovese/ablation_study/trained_models/final_model.pkl', 'rb') as f:\n",
    "    r_model = pickle.load(f)\n",
    "\n",
    "with open('/nfs/home/genovese/thesis-wildfire-genovese/ablation_study/trained_models/final_classification_model.pkl', 'rb') as f:\n",
    "    c_model = pickle.load(f)\n",
    "\n",
    "with open ('/nfs/home/genovese/thesis-wildfire-genovese/src/trained_models/pca.pkl', 'rb') as f:\n",
    "    pca = pickle.load(f)\n",
    "    \n",
    "X_train = pd.read_csv('/nfs/home/genovese/thesis-wildfire-genovese/ablation_study/model_input/X_train_val_rekriged.csv').set_index('fire_id', drop=True).drop(columns='Unnamed: 0')\n",
    "old_features = pd.read_csv('/nfs/home/genovese/thesis-wildfire-genovese/database/model_input/not_imputed_dataset_rekriged.csv', index_col=0).drop(columns=['fire_id', 'target', 'label']).columns"
   ]
  },
  {
   "cell_type": "code",
   "execution_count": null,
   "id": "09554b59",
   "metadata": {},
   "outputs": [],
   "source": [
    "rf = pd.Series(r_model.feature_importances_, index=X_train.columns).sort_values(ascending=False)\n",
    "cf = pd.Series(c_model.feature_importances_, index=X_train.columns).sort_values(ascending=False)"
   ]
  },
  {
   "cell_type": "code",
   "execution_count": null,
   "id": "a2a3bcc2",
   "metadata": {},
   "outputs": [],
   "source": [
    "print(rf, '\\n \\n')\n",
    "print(cf)"
   ]
  },
  {
   "cell_type": "code",
   "execution_count": null,
   "id": "3b201c43",
   "metadata": {},
   "outputs": [],
   "source": [
    "pca_transform = pd.DataFrame(pca.components_, columns = [f'PC{n}' for n in range(1, 379)], index=old_features)\n",
    "r_loadings = pca_transform.loc[:, [pc for pc in rf.index if 'PC' in pc]]\n",
    "c_loadings = pca_transform.loc[:, [pc for pc in cf.index if 'PC' in pc]]"
   ]
  },
  {
   "cell_type": "code",
   "execution_count": null,
   "id": "c14d766c",
   "metadata": {},
   "outputs": [],
   "source": [
    "for col in pd.Series(list(r_loadings.columns)+list(c_loadings.columns)).unique():\n",
    "    print(f\"\\nTop features for {col}:\")\n",
    "    top_features = r_loadings.loc[:, col].abs().sort_values(ascending=False).head(10)\n",
    "    print(top_features)\n",
    "\n",
    "for col in r_loadings.columns:\n",
    "    print(f\"\\nTop features for {col}:\")\n",
    "    top_features = r_loadings.loc[:, col].abs().sort_values(ascending=False).head(10)\n",
    "    print(top_features)"
   ]
  },
  {
   "cell_type": "markdown",
   "id": "352f2d3e",
   "metadata": {},
   "source": [
    "---"
   ]
  }
 ],
 "metadata": {
  "kernelspec": {
   "display_name": ".venv",
   "language": "python",
   "name": "python3"
  },
  "language_info": {
   "codemirror_mode": {
    "name": "ipython",
    "version": 3
   },
   "file_extension": ".py",
   "mimetype": "text/x-python",
   "name": "python",
   "nbconvert_exporter": "python",
   "pygments_lexer": "ipython3",
   "version": "3.10.17"
  }
 },
 "nbformat": 4,
 "nbformat_minor": 5
}
