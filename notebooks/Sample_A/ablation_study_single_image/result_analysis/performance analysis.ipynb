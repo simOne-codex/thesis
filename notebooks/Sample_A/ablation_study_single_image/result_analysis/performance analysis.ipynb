{
 "cells": [
  {
   "cell_type": "code",
   "execution_count": null,
   "id": "dd1ef86e",
   "metadata": {},
   "outputs": [],
   "source": [
    "import pandas as pd\n",
    "from sklearn.metrics import accuracy_score, r2_score\n",
    "from sklearn.ensemble import RandomForestRegressor, RandomForestClassifier\n",
    "import pickle\n",
    "import geopandas as gpd\n",
    "import numpy as np\n",
    "from pykrige.rk import Krige\n",
    "import matplotlib.pyplot as plt"
   ]
  },
  {
   "cell_type": "markdown",
   "id": "37cf90db",
   "metadata": {},
   "source": [
    "---"
   ]
  },
  {
   "cell_type": "code",
   "execution_count": null,
   "id": "e1e94576",
   "metadata": {},
   "outputs": [],
   "source": [
    "#### THE FINAL CHOICE IS: max_depth': 50, 'min_samples_leaf': 5, data rekriged\n",
    "\n",
    "rs = 516\n",
    "\n",
    "X_train = pd.read_csv('/nfs/home/genovese/thesis-wildfire-genovese/ablation_study/model_input/X_train_val_rekriged.csv').set_index('fire_id', drop=True)\n",
    "y_train = pd.read_csv('/nfs/home/genovese/thesis-wildfire-genovese/ablation_study/model_input/y_train_val_rekriged.csv').set_index(X_train.index).iloc[:, 1]\n",
    "X_train.drop(columns=X_train.columns[0], inplace=True)\n",
    "\n",
    "regression_forest = RandomForestRegressor(max_depth=50,\n",
    "                                          min_samples_leaf=5,\n",
    "                                          n_jobs=-1, \n",
    "                                          random_state=rs\n",
    "                                          )\n",
    "\n",
    "\n",
    "regression_forest.fit(X_train, y_train)\n",
    "\n",
    "with open('/nfs/home/genovese/thesis-wildfire-genovese/ablation_study/trained_models/final_model.pkl', 'wb') as f:\n",
    "    pickle.dump(regression_forest, f)"
   ]
  },
  {
   "cell_type": "code",
   "execution_count": null,
   "id": "a2205b4f",
   "metadata": {},
   "outputs": [],
   "source": [
    "with open('/nfs/home/genovese/thesis-wildfire-genovese/ablation_study/trained_models/final_model.pkl', 'rb') as f:\n",
    "    model = pickle.load(f)"
   ]
  },
  {
   "cell_type": "code",
   "execution_count": null,
   "id": "062eba1a",
   "metadata": {},
   "outputs": [],
   "source": [
    "y_train_pred = model.predict(X_train).round(0)\n",
    "print(r2_score(y_train_pred, y_train))\n",
    "\n",
    "X_test = pd.read_csv('/nfs/home/genovese/thesis-wildfire-genovese/ablation_study/model_input/X_test_rekriged.csv', index_col='fire_id').drop(columns='Unnamed: 0')\n",
    "y_test = pd.read_csv('/nfs/home/genovese/thesis-wildfire-genovese/ablation_study/model_input/y_test_rekriged.csv').drop(columns='Unnamed: 0')\n",
    "\n",
    "y_test_pred = model.predict(X_test).round(0)\n",
    "print(r2_score(y_test_pred, y_test))"
   ]
  },
  {
   "cell_type": "code",
   "execution_count": null,
   "id": "73d70b98",
   "metadata": {},
   "outputs": [],
   "source": [
    "geodf = gpd.read_file('/nfs/home/genovese/thesis-wildfire-genovese/database/cache/dataset.geojson').set_index('fire_id')\n",
    "merged = geodf[['geometry']].merge(pd.Series(y_test_pred, index=X_test.index, name='predicted'), on='fire_id')\n",
    "# merged.to_file('/nfs/home/genovese/thesis-wildfire-genovese/outputs/results_for_qgis/pred_test_regression')\n",
    "merged2 = geodf[['geometry']].merge(pd.Series(y_train_pred, index=X_train.index, name='predicted'), on='fire_id')\n",
    "# merged2.to_file('/nfs/home/genovese/thesis-wildfire-genovese/outputs/results_for_qgis/pred_train_regression')\n",
    "\n",
    "y_tot = pd.concat([merged, merged2])\n",
    "y_tot.to_file('/nfs/home/genovese/thesis-wildfire-genovese/ablation_study/outputs/results_for_qgis/pred_tot_regression.geojson', driver='GeoJSON')"
   ]
  },
  {
   "cell_type": "markdown",
   "id": "9dcab88b",
   "metadata": {},
   "source": [
    "---"
   ]
  },
  {
   "cell_type": "code",
   "execution_count": null,
   "id": "daf63b37",
   "metadata": {},
   "outputs": [],
   "source": [
    "rs = 516\n",
    "\n",
    "#### THE FINAL CHOICE IS: max_depth': 50, 'min_samples_leaf': 5, data non rekriged\n",
    "\n",
    "X_train = pd.read_csv('/nfs/home/genovese/thesis-wildfire-genovese/ablation_study/model_input/X_train_val_rekriged.csv').set_index('fire_id', drop=True)\n",
    "y_train = pd.read_csv('/nfs/home/genovese/thesis-wildfire-genovese/ablation_study/model_input/y_train_val_rekriged.csv').set_index(X_train.index).iloc[:, 1]\n",
    "X_train.drop(columns=X_train.columns[0], inplace=True)\n",
    "\n",
    "classification_forest = RandomForestClassifier(max_depth=50,\n",
    "                                          min_samples_leaf=5,\n",
    "                                          n_jobs=-1, \n",
    "                                          random_state=rs\n",
    "                                          )\n",
    "\n",
    "\n",
    "classification_forest.fit(X_train, y_train)\n",
    "\n",
    "with open('/nfs/home/genovese/thesis-wildfire-genovese/ablation_study/trained_models/final_classification_model.pkl', 'wb') as f:\n",
    "    pickle.dump(classification_forest, f)"
   ]
  },
  {
   "cell_type": "code",
   "execution_count": null,
   "metadata": {},
   "outputs": [],
   "source": [
    "with open('/nfs/home/genovese/thesis-wildfire-genovese/ablation_study/trained_models/final_classification_model.pkl', 'rb') as f:\n",
    "    model = pickle.load(f)"
   ]
  },
  {
   "cell_type": "code",
   "execution_count": null,
   "id": "6c38e3ea",
   "metadata": {},
   "outputs": [],
   "source": [
    "y_train_pred = model.predict(X_train)\n",
    "print(accuracy_score(y_train_pred, y_train))\n",
    "\n",
    "X_test = pd.read_csv('/nfs/home/genovese/thesis-wildfire-genovese/ablation_study/model_input/X_test_rekriged.csv', index_col='fire_id').drop(columns='Unnamed: 0')\n",
    "y_test = pd.read_csv('/nfs/home/genovese/thesis-wildfire-genovese/ablation_study/model_input/y_test_rekriged.csv').drop(columns='Unnamed: 0')\n",
    "\n",
    "y_test_pred = model.predict(X_test)\n",
    "print(accuracy_score(y_test_pred, y_test))"
   ]
  },
  {
   "cell_type": "code",
   "execution_count": null,
   "id": "cd5021f3",
   "metadata": {},
   "outputs": [],
   "source": [
    "geodf = gpd.read_file('/nfs/home/genovese/thesis-wildfire-genovese/database/cache/dataset.geojson').set_index('fire_id')\n",
    "merged = geodf[['geometry']].merge(pd.Series(y_test_pred, index=X_test.index, name='predicted'), on='fire_id')\n",
    "# merged.to_file('/nfs/home/genovese/thesis-wildfire-genovese/outputs/results_for_qgis/pred_test_classification')\n",
    "merged2 = geodf[['geometry']].merge(pd.Series(y_train_pred, index=X_train.index, name='predicted'), on='fire_id')\n",
    "# merged2.to_file('/nfs/home/genovese/thesis-wildfire-genovese/outputs/results_for_qgis/pred_train_classification')\n",
    "\n",
    "y_tot = pd.concat([merged, merged2])\n",
    "y_tot.to_file('/nfs/home/genovese/thesis-wildfire-genovese/ablation_study/outputs/results_for_qgis/pred_tot_classification.geojson', driver='GeoJSON')"
   ]
  },
  {
   "cell_type": "markdown",
   "id": "28da61d3",
   "metadata": {},
   "source": [
    "---"
   ]
  },
  {
   "cell_type": "markdown",
   "id": "07a32764",
   "metadata": {},
   "source": [
    "Kriging predicted"
   ]
  },
  {
   "cell_type": "code",
   "execution_count": null,
   "id": "88c8dd5a",
   "metadata": {},
   "outputs": [],
   "source": [
    "kr = Krige(variogram_model='spherical')\n",
    "kc = Krige(variogram_model='spherical')\n",
    "\n",
    "y_tot_c = gpd.read_file('/nfs/home/genovese/thesis-wildfire-genovese/ablation_study/outputs/results_for_qgis/pred_tot_classification.geojson')\n",
    "y_tot_r = gpd.read_file('/nfs/home/genovese/thesis-wildfire-genovese/ablation_study/outputs/results_for_qgis/pred_tot_regression.geojson')\n",
    "\n",
    "kr.fit(np.array(pd.concat([y_tot_r.geometry.x, y_tot_r.geometry.y], axis=1)), y_tot_r.predicted)\n",
    "kc.fit(np.array(pd.concat([y_tot_c.geometry.x, y_tot_c.geometry.y], axis=1)), y_tot_c.predicted)\n",
    "\n",
    "with open('/nfs/home/genovese/thesis-wildfire-genovese/ablation_study/trained_models/classification_pred_kriging.pkl', 'wb') as f:\n",
    "    pickle.dump(kc, f)\n",
    "\n",
    "with open('/nfs/home/genovese/thesis-wildfire-genovese/ablation_study/trained_models/regression_pred_kriging.pkl', 'wb') as f:\n",
    "    pickle.dump(kr, f)"
   ]
  },
  {
   "cell_type": "code",
   "execution_count": null,
   "id": "2e2f2e36",
   "metadata": {},
   "outputs": [],
   "source": [
    "with open('/nfs/home/genovese/thesis-wildfire-genovese/ablation_study/trained_models/classification_pred_kriging.pkl', 'rb') as f:\n",
    "    kc = pickle.load(f)\n",
    "\n",
    "with open('/nfs/home/genovese/thesis-wildfire-genovese/ablation_study/trained_models/regression_pred_kriging.pkl', 'rb') as f:\n",
    "    kr = pickle.load(f)\n",
    "\n",
    "grid = gpd.read_file('/nfs/home/genovese/thesis-wildfire-genovese/outputs/kriged_map/grid_100m_piedmont.geojson')\n",
    "predictions_r = kr.predict(np.array(pd.concat([grid.geometry.x, grid.geometry.y], axis=1)))\n",
    "predictions_c = kc.predict(np.array(pd.concat([grid.geometry.x, grid.geometry.y], axis=1)))\n",
    "\n",
    "\n",
    "with open('/nfs/home/genovese/thesis-wildfire-genovese/ablation_study/outputs/kriged_map/regression_pred_krige_map_output.pkl', 'wb') as f:\n",
    "    pickle.dump(predictions_r, f)\n",
    "\n",
    "with open('/nfs/home/genovese/thesis-wildfire-genovese/ablation_study/outputs/kriged_map/classification_pred_krige_map_output.pkl', 'wb') as f:\n",
    "    pickle.dump(predictions_c, f)"
   ]
  },
  {
   "cell_type": "code",
   "execution_count": null,
   "id": "6c56bf6b",
   "metadata": {},
   "outputs": [],
   "source": [
    "with open('/nfs/home/genovese/thesis-wildfire-genovese/ablation_study/outputs/kriged_map/regression_pred_krige_map_output.pkl', 'rb') as f:\n",
    "    values_r = pickle.load(f)\n",
    "\n",
    "with open('/nfs/home/genovese/thesis-wildfire-genovese/ablation_study/outputs/kriged_map/classification_pred_krige_map_output.pkl', 'rb') as f:\n",
    "    values_c = pickle.load(f)"
   ]
  },
  {
   "cell_type": "code",
   "execution_count": null,
   "id": "2781a5b7",
   "metadata": {},
   "outputs": [],
   "source": [
    "x = grid.geometry.x\n",
    "y = grid.geometry.y\n",
    "plt.scatter(x=x, y=y, c=values_r, cmap='coolwarm')\n",
    "plt.xlabel('lon')\n",
    "plt.ylabel('lat')\n",
    "plt.colorbar(label='Probability')\n",
    "plt.title('Probability map by predictions of regression model')\n",
    "ax = plt.gca()\n",
    "ax.spines['top'].set_visible(False)\n",
    "ax.spines['right'].set_visible(False)\n",
    "ax.set_xlim(x.min()-0.2, x.max()+0.2)\n",
    "ax.set_ylim(y.min()-0.2, y.max()+0.2)\n",
    "\n",
    "plt.show()"
   ]
  },
  {
   "cell_type": "code",
   "execution_count": null,
   "id": "b45e3b87",
   "metadata": {},
   "outputs": [],
   "source": [
    "x = grid.geometry.x\n",
    "y = grid.geometry.y\n",
    "plt.scatter(x=x, y=y, c=values_c, cmap='coolwarm')\n",
    "plt.xlabel('lon')\n",
    "plt.ylabel('lat')\n",
    "plt.colorbar(label='Probability')\n",
    "plt.title('Probability map by predictions of classification model')\n",
    "ax = plt.gca()\n",
    "ax.spines['top'].set_visible(False)\n",
    "ax.spines['right'].set_visible(False)\n",
    "ax.set_xlim(x.min()-0.2, x.max()+0.2)\n",
    "ax.set_ylim(y.min()-0.2, y.max()+0.2)\n",
    "\n",
    "plt.show()"
   ]
  }
 ],
 "metadata": {
  "kernelspec": {
   "display_name": ".venv",
   "language": "python",
   "name": "python3"
  },
  "language_info": {
   "codemirror_mode": {
    "name": "ipython",
    "version": 3
   },
   "file_extension": ".py",
   "mimetype": "text/x-python",
   "name": "python",
   "nbconvert_exporter": "python",
   "pygments_lexer": "ipython3",
   "version": "3.10.17"
  }
 },
 "nbformat": 4,
 "nbformat_minor": 5
}
