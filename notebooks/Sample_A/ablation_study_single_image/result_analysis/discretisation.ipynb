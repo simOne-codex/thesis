{
 "cells": [
  {
   "cell_type": "code",
   "execution_count": null,
   "id": "39463a9f",
   "metadata": {},
   "outputs": [],
   "source": [
    "import pandas as pd\n",
    "import pickle\n",
    "from itertools import permutations\n",
    "import numpy as np\n",
    "import seaborn as sns\n",
    "import matplotlib.pyplot as plt\n",
    "from sklearn.metrics import accuracy_score\n",
    "from tqdm import tqdm"
   ]
  },
  {
   "cell_type": "code",
   "execution_count": null,
   "id": "b089af8f",
   "metadata": {},
   "outputs": [],
   "source": [
    "with open('/nfs/home/genovese/thesis-wildfire-genovese/ablation_study/trained_models/final_model.pkl', 'rb') as f:\n",
    "    r_model = pickle.load(f)\n",
    "\n",
    "with open('/nfs/home/genovese/thesis-wildfire-genovese/ablation_study/trained_models/final_classification_model.pkl', 'rb') as f:\n",
    "    c_model = pickle.load(f)"
   ]
  },
  {
   "cell_type": "code",
   "execution_count": null,
   "metadata": {},
   "outputs": [],
   "source": [
    "X_train_c = pd.read_csv('/nfs/home/genovese/thesis-wildfire-genovese/ablation_study/model_input/X_train_val_rekriged.csv').set_index('fire_id', drop=True)\n",
    "y_train_c = pd.read_csv('/nfs/home/genovese/thesis-wildfire-genovese/ablation_study/model_input/y_train_val_rekriged.csv').set_index(X_train_c.index).iloc[:, 1]\n",
    "X_train_c.drop(columns=X_train_c.columns[0], inplace=True)\n",
    "\n",
    "X_test_c = pd.read_csv('/nfs/home/genovese/thesis-wildfire-genovese/ablation_study/model_input/X_test_rekriged.csv', index_col='fire_id').drop(columns='Unnamed: 0')\n",
    "y_test_c = pd.read_csv('/nfs/home/genovese/thesis-wildfire-genovese/ablation_study/model_input/y_test_rekriged.csv').drop(columns='Unnamed: 0')\n",
    "\n",
    "X_train_r = pd.read_csv('/nfs/home/genovese/thesis-wildfire-genovese/ablation_study/model_input/X_train_val_rekriged.csv').set_index('fire_id', drop=True)\n",
    "y_train_r = pd.read_csv('/nfs/home/genovese/thesis-wildfire-genovese/ablation_study/model_input/y_train_val_rekriged.csv').set_index(X_train_r.index).iloc[:, 1]\n",
    "X_train_r.drop(columns=X_train_r.columns[0], inplace=True)\n",
    "\n",
    "X_test_r = pd.read_csv('/nfs/home/genovese/thesis-wildfire-genovese/ablation_study/model_input/X_test_rekriged.csv', index_col='fire_id').drop(columns='Unnamed: 0')\n",
    "y_test_r = pd.read_csv('/nfs/home/genovese/thesis-wildfire-genovese/ablation_study/model_input/y_test_rekriged.csv').drop(columns='Unnamed: 0')\n",
    "\n",
    "y_train_pred_r = r_model.predict(X_train_r).round(0)\n",
    "y_train_pred_c = c_model.predict(X_train_c)\n",
    "y_test_pred_r = r_model.predict(X_test_r).round(0)\n",
    "y_test_pred_c = c_model.predict(X_test_c)"
   ]
  },
  {
   "cell_type": "code",
   "execution_count": null,
   "id": "7d4dad63",
   "metadata": {},
   "outputs": [],
   "source": [
    "y_train_r.value_counts()"
   ]
  },
  {
   "cell_type": "code",
   "execution_count": null,
   "id": "b4505ca6",
   "metadata": {},
   "outputs": [],
   "source": [
    "pd.Series(y_train_pred_c).value_counts()"
   ]
  },
  {
   "cell_type": "code",
   "execution_count": null,
   "id": "700505f2",
   "metadata": {},
   "outputs": [],
   "source": [
    "fig, ax = plt.subplots(2,1, figsize=(6,12))\n",
    "sns.heatmap(pd.crosstab(pd.Series(y_test_pred_r, name='predicted'), pd.Series(np.array(y_test_r['target_encoded']), name='true')), \n",
    "                    annot=True, \n",
    "                    cmap='GnBu',\n",
    "                    ax=ax[0]);\n",
    "ax[0].set_title('regression')\n",
    "sns.heatmap(pd.crosstab(pd.Series(y_test_pred_c, name='predicted'), pd.Series(np.array(y_test_c['target_encoded']), name='true')), \n",
    "            annot=True, \n",
    "            cmap='GnBu',\n",
    "            ax=ax[1]);\n",
    "ax[1].set_title('classification')\n",
    "plt.show()"
   ]
  },
  {
   "cell_type": "code",
   "execution_count": null,
   "id": "b03c314a",
   "metadata": {},
   "outputs": [],
   "source": [
    "elements = list(range(10))\n",
    "dispositions = list(permutations(elements, 4))\n",
    "\n",
    "splits = pd.DataFrame(np.sort(dispositions)).drop_duplicates()\n",
    "\n",
    "def discretise(val, partition):\n",
    "    if val <= partition[0]:\n",
    "        return 0\n",
    "    elif val <= partition[1]:\n",
    "        return 1\n",
    "    elif val <= partition[2]:\n",
    "        return 2\n",
    "    elif val <= partition[3]:\n",
    "        return 3\n",
    "    elif val <= 10:\n",
    "        return 4"
   ]
  },
  {
   "cell_type": "code",
   "execution_count": null,
   "id": "eac97be0",
   "metadata": {},
   "outputs": [],
   "source": [
    "results = {key: [] for key in ['train_r', 'train_c', 'test_r', 'test_c']}\n",
    "\n",
    "for idx in tqdm(splits.index, desc='Running splits...'):\n",
    "    for n, (y_pred, y_true) in enumerate(zip([pd.Series(y_train_pred_r, name='target_encoded'), \n",
    "                                              pd.Series(y_train_pred_c, name='target_encoded'), \n",
    "                                              pd.Series(y_test_pred_r, name='target_encoded'), \n",
    "                                              pd.Series(y_test_pred_c, name='target_encoded')], \n",
    "                                              [y_train_r, y_train_c, y_test_r['target_encoded'], y_test_c['target_encoded']])):\n",
    "        env = list(results.keys())[n]\n",
    "        pred = y_pred.apply(lambda x: discretise(x, splits.loc[idx, :]))\n",
    "        true = y_true.apply(lambda x: discretise(x, splits.loc[idx, :]))\n",
    "\n",
    "        score = accuracy_score(pred, true)\n",
    "        results[env].append(score)\n",
    "\n",
    "with open('/nfs/home/genovese/thesis-wildfire-genovese/ablation_study/outputs/grid_searches/discretisations.pkl', 'wb') as f:\n",
    "    pickle.dump(results, f)\n"
   ]
  },
  {
   "cell_type": "code",
   "execution_count": null,
   "id": "f337521a",
   "metadata": {},
   "outputs": [],
   "source": [
    "# with open('/nfs/home/genovese/thesis-wildfire-genovese/ablation_study/outputs/grid_searches/discretisations.pkl', 'rb') as f:\n",
    "#     results = pickle.load(f)\n",
    "\n",
    "plt.plot(range(splits.shape[0]), results['train_r'], color='lightblue', label='train')\n",
    "plt.plot(range(splits.shape[0]), results['test_r'], color='yellow', label='test')\n",
    "plt.plot(range(splits.shape[0]), np.array(results['train_r']) - np.array(results['test_r']), color='lightgreen', label='difference')\n",
    "plt.plot(range(splits.shape[0]), [np.max(results['train_r'][:n+1]) for n in range(splits.shape[0])], color = 'blue')\n",
    "plt.plot(range(splits.shape[0]), [np.max(results['test_r'][:n+1]) for n in range(splits.shape[0])], color = 'orange')\n",
    "plt.plot(range(splits.shape[0]), [np.min((np.array(results['train_r']) - np.array(results['test_r']))[:n+1]) for n in range(splits.shape[0])], color = 'green')\n",
    "mask = ~pd.Series([np.max(results['train_r'][:n+1]) for n in range(splits.shape[0])]).duplicated()\n",
    "plt.xticks(pd.Series([np.max(results['train_r'][:n+1]) for n in range(splits.shape[0])]).loc[mask].index)\n",
    "plt.tick_params('x', labelrotation = 90, labelsize=8)\n",
    "plt.grid(True)\n",
    "plt.legend()\n",
    "ax = plt.gca()\n",
    "thresholds_r = [int(tick.get_text()) for tick in ax.get_xticklabels()]\n",
    "plt.show()\n",
    "\n",
    "\n",
    "\n",
    "plt.clf()\n",
    "plt.plot(range(splits.shape[0]), results['train_c'], color='lightblue', label='train')\n",
    "plt.plot(range(splits.shape[0]), results['test_c'], color='yellow', label='test')\n",
    "plt.plot(range(splits.shape[0]), np.array(results['train_c']) - np.array(results['test_c']), color='lightgreen', label='difference')\n",
    "plt.plot(range(splits.shape[0]), [np.max(results['train_c'][:n+1]) for n in range(splits.shape[0])], color = 'blue')\n",
    "plt.plot(range(splits.shape[0]), [np.max(results['test_c'][:n+1]) for n in range(splits.shape[0])], color = 'orange')\n",
    "plt.plot(range(splits.shape[0]), [np.min((np.array(results['train_c']) - np.array(results['test_c']))[:n+1]) for n in range(splits.shape[0])], color = 'green')\n",
    "mask = ~pd.Series([np.max(results['train_c'][:n+1]) for n in range(splits.shape[0])]).duplicated()\n",
    "plt.xticks(pd.Series([np.max(results['train_c'][:n+1]) for n in range(splits.shape[0])]).loc[mask].index)\n",
    "plt.tick_params('x', labelrotation = 90, labelsize=8)\n",
    "plt.grid(True)\n",
    "plt.legend()\n",
    "ax = plt.gca()\n",
    "thresholds_c = [int(tick.get_text()) for tick in ax.get_xticklabels()]\n",
    "plt.show()\n",
    "\n",
    "\n",
    "\n",
    "plt.clf()"
   ]
  },
  {
   "cell_type": "code",
   "execution_count": null,
   "id": "56137153",
   "metadata": {},
   "outputs": [],
   "source": [
    "splits.iloc[thresholds_r, ]"
   ]
  },
  {
   "cell_type": "code",
   "execution_count": null,
   "id": "f17126c9",
   "metadata": {},
   "outputs": [],
   "source": [
    "splits.iloc[thresholds_c, ]"
   ]
  }
 ],
 "metadata": {
  "kernelspec": {
   "display_name": ".venv",
   "language": "python",
   "name": "python3"
  },
  "language_info": {
   "codemirror_mode": {
    "name": "ipython",
    "version": 3
   },
   "file_extension": ".py",
   "mimetype": "text/x-python",
   "name": "python",
   "nbconvert_exporter": "python",
   "pygments_lexer": "ipython3",
   "version": "3.10.17"
  }
 },
 "nbformat": 4,
 "nbformat_minor": 5
}
