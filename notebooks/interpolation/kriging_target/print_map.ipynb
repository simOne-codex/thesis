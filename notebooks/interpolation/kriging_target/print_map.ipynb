{
 "cells": [
  {
   "cell_type": "code",
   "execution_count": null,
   "id": "414b202e",
   "metadata": {},
   "outputs": [],
   "source": [
    "import matplotlib.pyplot as plt\n",
    "import geopandas as gpd\n",
    "import pickle\n",
    "\n",
    "with open('/nfs/home/genovese/thesis-wildfire-genovese/outputs/kriged_map/distribution_kriged_map.pkl', 'rb') as f:\n",
    "    values = pickle.load(f)"
   ]
  },
  {
   "cell_type": "code",
   "execution_count": null,
   "id": "bbd80704",
   "metadata": {},
   "outputs": [],
   "source": [
    "grid = gpd.read_file('/nfs/home/genovese/thesis-wildfire-genovese/outputs/kriged_map/grid_100m_piedmont.geojson')"
   ]
  },
  {
   "cell_type": "code",
   "execution_count": null,
   "id": "c774b0a1",
   "metadata": {},
   "outputs": [],
   "source": [
    "grid2 = grid.to_crs(epsg=4236)"
   ]
  },
  {
   "cell_type": "code",
   "execution_count": null,
   "id": "2ea1a895",
   "metadata": {},
   "outputs": [],
   "source": [
    "x = grid2.geometry.x\n",
    "y = grid2.geometry.y\n",
    "plt.scatter(x=x, y=y, c=values, cmap='coolwarm')\n",
    "plt.xlabel('lon')\n",
    "plt.ylabel('lat')\n",
    "plt.colorbar(label='Probability')\n",
    "plt.title('Probability map by training the Kriging model')\n",
    "ax = plt.gca()\n",
    "ax.spines['top'].set_visible(False)\n",
    "ax.spines['right'].set_visible(False)\n",
    "ax.set_xlim(x.min()-0.2, x.max()+0.2)\n",
    "ax.set_ylim(y.min()-0.2, y.max()+0.2)\n",
    "\n",
    "plt.show()"
   ]
  },
  {
   "cell_type": "markdown",
   "id": "67ef2d01",
   "metadata": {},
   "source": [
    "---"
   ]
  }
 ],
 "metadata": {
  "kernelspec": {
   "display_name": ".venv",
   "language": "python",
   "name": "python3"
  },
  "language_info": {
   "codemirror_mode": {
    "name": "ipython",
    "version": 3
   },
   "file_extension": ".py",
   "mimetype": "text/x-python",
   "name": "python",
   "nbconvert_exporter": "python",
   "pygments_lexer": "ipython3",
   "version": "3.10.17"
  }
 },
 "nbformat": 4,
 "nbformat_minor": 5
}
