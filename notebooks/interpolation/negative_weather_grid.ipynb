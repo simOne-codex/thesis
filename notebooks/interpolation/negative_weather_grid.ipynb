{
 "cells": [
  {
   "cell_type": "code",
   "execution_count": 1,
   "id": "3e4fd9a3",
   "metadata": {},
   "outputs": [],
   "source": [
    "import sys \n",
    "sys.path.append(rf\"/nfs/home/genovese/thesis-wildfire-genovese/src\")\n",
    "from importlib import reload\n",
    "import utils\n",
    "reload(utils)\n",
    "from utils import *\n",
    "import weather_forecast_utils\n",
    "reload(weather_forecast_utils)\n",
    "from weather_forecast_utils import *"
   ]
  },
  {
   "cell_type": "markdown",
   "id": "42cf3ec7",
   "metadata": {},
   "source": [
    "---"
   ]
  },
  {
   "cell_type": "code",
   "execution_count": 2,
   "id": "7abea360",
   "metadata": {},
   "outputs": [],
   "source": [
    "def reverse_day(year, day):\n",
    "    feb = 28\n",
    "    if year in list(range(2000, 2025, 4)):\n",
    "        feb += 1\n",
    "            \n",
    "    days_per_month = [31, feb, 31, 30, 31, 30, 31, 31, 30, 31, 30, 31]\n",
    "\n",
    "    for index, month in enumerate(days_per_month):\n",
    "        if (day - month) == 0:\n",
    "            return (month, index+1)\n",
    "        elif (day - month) > 0:\n",
    "            day -= month\n",
    "        else:\n",
    "            return (day, index+1)"
   ]
  },
  {
   "cell_type": "code",
   "execution_count": null,
   "id": "d096f990",
   "metadata": {},
   "outputs": [],
   "source": [
    "target = gpd.read_file('/nfs/home/genovese/thesis-wildfire-genovese/data/data_loader_for_kriging/kriging_negative_weather_grid.geojson')\n",
    "target.isna().sum()"
   ]
  },
  {
   "cell_type": "code",
   "execution_count": null,
   "id": "8c4bdf81",
   "metadata": {},
   "outputs": [],
   "source": [
    "target['DD'] = target.apply(lambda x: reverse_day(x['YYYY'], x['day'])[0], axis=1)\n",
    "target['MM'] = target.apply(lambda x: reverse_day(x['YYYY'], x['day'])[1], axis=1)\n",
    "target.to_file('/nfs/home/genovese/thesis-wildfire-genovese/data/data_loader_for_kriging/kriging_negative_weather_grid.geojson', index=False)"
   ]
  },
  {
   "cell_type": "markdown",
   "id": "d4f99983",
   "metadata": {},
   "source": [
    "---"
   ]
  },
  {
   "cell_type": "code",
   "execution_count": null,
   "id": "2fd6fbee",
   "metadata": {},
   "outputs": [],
   "source": [
    "positives = dict()\n",
    "negatives = dict()\n",
    "\n",
    "for y in range(2016, 2025):\n",
    "    positives[y] = gpd.read_file(f'/nfs/home/genovese/thesis-wildfire-genovese/data/output_weather_kriging/{y}.geojson')\n",
    "    negatives[y] = gpd.read_file(f'/nfs/home/genovese/thesis-wildfire-genovese/data/negative_output_weather_kriging/{y}.geojson')"
   ]
  },
  {
   "cell_type": "code",
   "execution_count": null,
   "id": "d28bc2cd",
   "metadata": {},
   "outputs": [],
   "source": [
    "for y in range(2016, 2025):\n",
    "    save_clean_data(pd.DataFrame(positives[y]), \"positives_\"+str(y), '/nfs/home/genovese/thesis-wildfire-genovese/database/cache', force=True)\n",
    "    save_clean_data(pd.DataFrame(negatives[y]), \"negatives_\"+str(y), '/nfs/home/genovese/thesis-wildfire-genovese/database/cache', force=True)"
   ]
  },
  {
   "cell_type": "code",
   "execution_count": null,
   "id": "c619c8d6",
   "metadata": {},
   "outputs": [],
   "source": [
    "merged = dict()\n",
    "\n",
    "positives = dict()\n",
    "negatives = dict()\n",
    "\n",
    "for y in range(2016, 2025):\n",
    "    positives[y] = pd.read_csv(f'/nfs/home/genovese/thesis-wildfire-genovese/database/cache/positives_{y}.csv')\n",
    "    negatives[y] = pd.read_csv(f'/nfs/home/genovese/thesis-wildfire-genovese/database/cache/negatives_{y}.csv')\n",
    "\n",
    "for y in positives.keys():\n",
    "    merged[y] = pd.concat([positives[y], negatives[y]], ignore_index=True)"
   ]
  },
  {
   "cell_type": "code",
   "execution_count": null,
   "id": "23d784a0",
   "metadata": {},
   "outputs": [],
   "source": [
    "from shapely import wkt\n",
    "\n",
    "for y, gdf in merged.items():\n",
    "    gdf['geometry'] = gdf['geometry'].apply(wkt.loads)\n",
    "    save_clean_data(gpd.GeoDataFrame(gdf, geometry='geometry', crs=\"EPSG:3857\"), f'meteo_{y}', '/nfs/home/genovese/thesis-wildfire-genovese/database',\n",
    "                    force=True)"
   ]
  },
  {
   "cell_type": "markdown",
   "id": "5a04e657",
   "metadata": {},
   "source": [
    "---"
   ]
  }
 ],
 "metadata": {
  "kernelspec": {
   "display_name": ".venv",
   "language": "python",
   "name": "python3"
  },
  "language_info": {
   "codemirror_mode": {
    "name": "ipython",
    "version": 3
   },
   "file_extension": ".py",
   "mimetype": "text/x-python",
   "name": "python",
   "nbconvert_exporter": "python",
   "pygments_lexer": "ipython3",
   "version": "3.10.17"
  }
 },
 "nbformat": 4,
 "nbformat_minor": 5
}
