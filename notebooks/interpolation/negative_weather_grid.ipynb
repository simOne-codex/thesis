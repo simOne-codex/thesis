{
 "cells": [
  {
   "cell_type": "code",
   "execution_count": null,
   "id": "3e4fd9a3",
   "metadata": {},
   "outputs": [],
   "source": [
    "import sys \n",
    "sys.path.append(rf\"/nfs/home/genovese/thesis-wildfire-genovese/src\")\n",
    "from importlib import reload\n",
    "import utils\n",
    "reload(utils)\n",
    "from utils import *\n",
    "import weather_forecast_utils\n",
    "reload(weather_forecast_utils)\n",
    "from weather_forecast_utils import *\n",
    "\n",
    "from shapely.ops import unary_union\n",
    "from shapely.geometry import Point\n",
    "import random"
   ]
  },
  {
   "cell_type": "code",
   "execution_count": 2,
   "id": "dc967106",
   "metadata": {},
   "outputs": [],
   "source": [
    "import pickle \n",
    "with open('/nfs/home/genovese/thesis-wildfire-genovese/data/data_loader_for_kriging/data_for_weather_kriging.pkl', 'rb') as f:\n",
    "     weather_dict = pickle.load(f)\n",
    "aux = separate_date(gpd.read_file('/nfs/home/genovese/thesis-wildfire-genovese/data/nicola/piedmont_2012_2024_fa.geojson'), 'initialdate')\n",
    "ignitions = aux[aux['YYYY'] >= 2016]\n",
    "confini = gpd.read_file('/nfs/home/genovese/thesis-wildfire-genovese/data/clean_data/confini_piemonte/confini_piemonte.shp').to_crs(epsg=3857)"
   ]
  },
  {
   "cell_type": "code",
   "execution_count": 3,
   "id": "6a994f45",
   "metadata": {},
   "outputs": [
    {
     "name": "stderr",
     "output_type": "stream",
     "text": [
      "/nfs/home/genovese/.venv/lib/python3.10/site-packages/geopandas/geodataframe.py:1819: SettingWithCopyWarning: \n",
      "A value is trying to be set on a copy of a slice from a DataFrame.\n",
      "Try using .loc[row_indexer,col_indexer] = value instead\n",
      "\n",
      "See the caveats in the documentation: https://pandas.pydata.org/pandas-docs/stable/user_guide/indexing.html#returning-a-view-versus-a-copy\n",
      "  super().__setitem__(key, value)\n"
     ]
    }
   ],
   "source": [
    "def month_day_to_day_number(year, month, day):\n",
    "    feb = 28\n",
    "    if year in list(range(2000, 2025, 4)):\n",
    "        feb += 1\n",
    "            \n",
    "    days_per_month = [31, feb, 31, 30, 31, 30, 31, 31, 30, 31, 30, 31]\n",
    "    day_of_year = sum(days_per_month[:month - 1]) + day\n",
    "    return day_of_year\n",
    "ignitions['day'] = ignitions.apply(lambda x: month_day_to_day_number(x['YYYY'], x['MM'], x['DD']), axis=1)"
   ]
  },
  {
   "cell_type": "code",
   "execution_count": null,
   "id": "129039a7",
   "metadata": {},
   "outputs": [],
   "source": [
    "\n",
    "fires = pd.concat([ignitions[['YYYY', 'day']].reset_index(drop=True), pd.Series([Point(x, y) for x, y in zip(ignitions.point_x, ignitions.point_y)])], axis=1).rename(columns={0: 'geometry'})"
   ]
  },
  {
   "cell_type": "code",
   "execution_count": null,
   "id": "3336ea3b",
   "metadata": {},
   "outputs": [],
   "source": [
    "\n",
    "def create_random_point(min_year, max_year, fires, polygons, buffer_distance = 1000):\n",
    "    year = random.randint(min_year, max_year)\n",
    "    total = 365\n",
    "    if year in list(range(2000, 2025, 4)):\n",
    "        total += 1\n",
    "    day = random.randint(1, total)\n",
    "\n",
    "    daily_fires = fires[(fires['YYYY'] == year) & (fires['day'] == day)]\n",
    "    if not daily_fires.shape[0] == 0:\n",
    "        buffers = gpd.GeoDataFrame(gpd.GeoDataFrame(daily_fires, geometry='geometry', crs=\"EPSG:3857\").geometry.buffer(buffer_distance), \n",
    "                                   columns=['geometry'])\n",
    "        geometry_check = confini.unary_union.difference(buffers)\n",
    "    else:\n",
    "        geometry_check = confini\n",
    "    pminx, pminy, pmaxx, pmaxy = geometry_check.total_bounds\n",
    "    random_point = Point(random.uniform(pminx, pmaxx), random.uniform(pminy, pmaxy))\n",
    "    while not geometry_check.contains(random_point):\n",
    "        random_point = Point(random.uniform(pminx, pmaxx), random.uniform(pminy, pmaxy))\n",
    "    \n",
    "    return gpd.GeoDataFrame([year, day, random_point], columns = ['YYYY', 'day', 'geometry'], crs=\"EPSG:3857\")\n"
   ]
  },
  {
   "cell_type": "code",
   "execution_count": null,
   "id": "2514f2bf",
   "metadata": {},
   "outputs": [],
   "source": [
    "\n",
    "\n"
   ]
  },
  {
   "cell_type": "code",
   "execution_count": null,
   "id": "b87e9236",
   "metadata": {},
   "outputs": [],
   "source": [
    "n_points = pd.read_csv('/nfs/home/genovese/thesis-wildfire-genovese/database/model_input/table_data_input.csv').shape[0]\n",
    "negative_grid = gpd.GeoDataFrame()\n",
    "\n",
    "for _ in range(n_points):\n",
    "    negative_grid = pd.concat([negative_grid, create_random_point(2016, 2024, confini[0], confini[1], confini[2], confini[3], fires)],\n",
    "                               ignore_index=True)\n"
   ]
  }
 ],
 "metadata": {
  "kernelspec": {
   "display_name": ".venv",
   "language": "python",
   "name": "python3"
  },
  "language_info": {
   "codemirror_mode": {
    "name": "ipython",
    "version": 3
   },
   "file_extension": ".py",
   "mimetype": "text/x-python",
   "name": "python",
   "nbconvert_exporter": "python",
   "pygments_lexer": "ipython3",
   "version": "3.10.17"
  }
 },
 "nbformat": 4,
 "nbformat_minor": 5
}
