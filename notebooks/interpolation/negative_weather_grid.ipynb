{
 "cells": [
  {
   "cell_type": "code",
   "execution_count": 1,
   "id": "3e4fd9a3",
   "metadata": {},
   "outputs": [],
   "source": [
    "import sys \n",
    "sys.path.append(rf\"/nfs/home/genovese/thesis-wildfire-genovese/src\")\n",
    "from importlib import reload\n",
    "import utils\n",
    "reload(utils)\n",
    "from utils import *\n",
    "import weather_forecast_utils\n",
    "reload(weather_forecast_utils)\n",
    "from weather_forecast_utils import *"
   ]
  },
  {
   "cell_type": "code",
   "execution_count": 2,
   "id": "bbc6941a",
   "metadata": {},
   "outputs": [
    {
     "data": {
      "text/html": [
       "<div>\n",
       "<style scoped>\n",
       "    .dataframe tbody tr th:only-of-type {\n",
       "        vertical-align: middle;\n",
       "    }\n",
       "\n",
       "    .dataframe tbody tr th {\n",
       "        vertical-align: top;\n",
       "    }\n",
       "\n",
       "    .dataframe thead th {\n",
       "        text-align: right;\n",
       "    }\n",
       "</style>\n",
       "<table border=\"1\" class=\"dataframe\">\n",
       "  <thead>\n",
       "    <tr style=\"text-align: right;\">\n",
       "      <th></th>\n",
       "      <th>YYYY</th>\n",
       "      <th>day</th>\n",
       "      <th>height</th>\n",
       "      <th>DD</th>\n",
       "      <th>MM</th>\n",
       "      <th>geometry</th>\n",
       "    </tr>\n",
       "  </thead>\n",
       "  <tbody>\n",
       "    <tr>\n",
       "      <th>0</th>\n",
       "      <td>2020</td>\n",
       "      <td>124</td>\n",
       "      <td>200.0</td>\n",
       "      <td>3</td>\n",
       "      <td>5</td>\n",
       "      <td>POINT (908589.787 5583661.078)</td>\n",
       "    </tr>\n",
       "    <tr>\n",
       "      <th>1</th>\n",
       "      <td>2022</td>\n",
       "      <td>365</td>\n",
       "      <td>235.0</td>\n",
       "      <td>31</td>\n",
       "      <td>12</td>\n",
       "      <td>POINT (895096.419 5647160.622)</td>\n",
       "    </tr>\n",
       "    <tr>\n",
       "      <th>2</th>\n",
       "      <td>2020</td>\n",
       "      <td>357</td>\n",
       "      <td>1121.0</td>\n",
       "      <td>22</td>\n",
       "      <td>12</td>\n",
       "      <td>POINT (929725.38 5777738.779)</td>\n",
       "    </tr>\n",
       "    <tr>\n",
       "      <th>3</th>\n",
       "      <td>2021</td>\n",
       "      <td>284</td>\n",
       "      <td>1100.0</td>\n",
       "      <td>11</td>\n",
       "      <td>10</td>\n",
       "      <td>POINT (812621.05 5570984.636)</td>\n",
       "    </tr>\n",
       "    <tr>\n",
       "      <th>4</th>\n",
       "      <td>2020</td>\n",
       "      <td>159</td>\n",
       "      <td>1973.0</td>\n",
       "      <td>7</td>\n",
       "      <td>6</td>\n",
       "      <td>POINT (770547.743 5635238.603)</td>\n",
       "    </tr>\n",
       "    <tr>\n",
       "      <th>...</th>\n",
       "      <td>...</td>\n",
       "      <td>...</td>\n",
       "      <td>...</td>\n",
       "      <td>...</td>\n",
       "      <td>...</td>\n",
       "      <td>...</td>\n",
       "    </tr>\n",
       "    <tr>\n",
       "      <th>1055</th>\n",
       "      <td>2021</td>\n",
       "      <td>258</td>\n",
       "      <td>185.0</td>\n",
       "      <td>15</td>\n",
       "      <td>9</td>\n",
       "      <td>POINT (920757.969 5586289.335)</td>\n",
       "    </tr>\n",
       "    <tr>\n",
       "      <th>1056</th>\n",
       "      <td>2018</td>\n",
       "      <td>39</td>\n",
       "      <td>1134.0</td>\n",
       "      <td>8</td>\n",
       "      <td>2</td>\n",
       "      <td>POINT (948148.27 5782060.999)</td>\n",
       "    </tr>\n",
       "    <tr>\n",
       "      <th>1057</th>\n",
       "      <td>2017</td>\n",
       "      <td>130</td>\n",
       "      <td>449.0</td>\n",
       "      <td>10</td>\n",
       "      <td>5</td>\n",
       "      <td>POINT (1000447.444 5575959.745)</td>\n",
       "    </tr>\n",
       "    <tr>\n",
       "      <th>1058</th>\n",
       "      <td>2019</td>\n",
       "      <td>196</td>\n",
       "      <td>1441.0</td>\n",
       "      <td>15</td>\n",
       "      <td>7</td>\n",
       "      <td>POINT (791358.972 5633673.361)</td>\n",
       "    </tr>\n",
       "    <tr>\n",
       "      <th>1059</th>\n",
       "      <td>2020</td>\n",
       "      <td>310</td>\n",
       "      <td>220.0</td>\n",
       "      <td>5</td>\n",
       "      <td>11</td>\n",
       "      <td>POINT (928575.633 5703690.245)</td>\n",
       "    </tr>\n",
       "  </tbody>\n",
       "</table>\n",
       "<p>1060 rows × 6 columns</p>\n",
       "</div>"
      ],
      "text/plain": [
       "      YYYY  day  height  DD  MM                         geometry\n",
       "0     2020  124   200.0   3   5   POINT (908589.787 5583661.078)\n",
       "1     2022  365   235.0  31  12   POINT (895096.419 5647160.622)\n",
       "2     2020  357  1121.0  22  12    POINT (929725.38 5777738.779)\n",
       "3     2021  284  1100.0  11  10    POINT (812621.05 5570984.636)\n",
       "4     2020  159  1973.0   7   6   POINT (770547.743 5635238.603)\n",
       "...    ...  ...     ...  ..  ..                              ...\n",
       "1055  2021  258   185.0  15   9   POINT (920757.969 5586289.335)\n",
       "1056  2018   39  1134.0   8   2    POINT (948148.27 5782060.999)\n",
       "1057  2017  130   449.0  10   5  POINT (1000447.444 5575959.745)\n",
       "1058  2019  196  1441.0  15   7   POINT (791358.972 5633673.361)\n",
       "1059  2020  310   220.0   5  11   POINT (928575.633 5703690.245)\n",
       "\n",
       "[1060 rows x 6 columns]"
      ]
     },
     "execution_count": 2,
     "metadata": {},
     "output_type": "execute_result"
    }
   ],
   "source": [
    "gpd.read_file('/nfs/home/genovese/thesis-wildfire-genovese/data/data_loader_for_kriging/kriging_negative_weather_grid.geojson')"
   ]
  },
  {
   "cell_type": "markdown",
   "id": "42cf3ec7",
   "metadata": {},
   "source": [
    "---"
   ]
  },
  {
   "cell_type": "code",
   "execution_count": null,
   "id": "7abea360",
   "metadata": {},
   "outputs": [],
   "source": [
    "def reverse_day(year, day):\n",
    "    feb = 28\n",
    "    if year in list(range(2000, 2025, 4)):\n",
    "        feb += 1\n",
    "            \n",
    "    days_per_month = [31, feb, 31, 30, 31, 30, 31, 31, 30, 31, 30, 31]\n",
    "\n",
    "    for index, month in enumerate(days_per_month):\n",
    "        if (day - month) == 0:\n",
    "            return (month, index+1)\n",
    "        elif (day - month) > 0:\n",
    "            day -= month\n",
    "        else:\n",
    "            return (day, index+1)"
   ]
  },
  {
   "cell_type": "code",
   "execution_count": 3,
   "id": "d096f990",
   "metadata": {},
   "outputs": [
    {
     "data": {
      "text/plain": [
       "YYYY        0\n",
       "day         0\n",
       "height      0\n",
       "DD          0\n",
       "MM          0\n",
       "geometry    0\n",
       "dtype: int64"
      ]
     },
     "execution_count": 3,
     "metadata": {},
     "output_type": "execute_result"
    }
   ],
   "source": [
    "target = gpd.read_file('/nfs/home/genovese/thesis-wildfire-genovese/data/data_loader_for_kriging/kriging_negative_weather_grid.geojson')\n",
    "target.isna().sum()"
   ]
  },
  {
   "cell_type": "code",
   "execution_count": 23,
   "id": "8c4bdf81",
   "metadata": {},
   "outputs": [],
   "source": [
    "target['DD'] = target.apply(lambda x: reverse_day(x['YYYY'], x['day'])[0], axis=1)\n",
    "target['MM'] = target.apply(lambda x: reverse_day(x['YYYY'], x['day'])[1], axis=1)\n",
    "target.to_file('/nfs/home/genovese/thesis-wildfire-genovese/data/data_loader_for_kriging/kriging_negative_weather_grid.geojson', index=False)"
   ]
  },
  {
   "cell_type": "markdown",
   "id": "d4f99983",
   "metadata": {},
   "source": [
    "---"
   ]
  },
  {
   "cell_type": "code",
   "execution_count": null,
   "id": "2fd6fbee",
   "metadata": {},
   "outputs": [],
   "source": [
    "positives = dict()\n",
    "negatives = dict()\n",
    "\n",
    "for y in range(2016, 2025):\n",
    "    positives[y] = gpd.read_file(f'/nfs/home/genovese/thesis-wildfire-genovese/data/output_weather_kriging/{y}.geojson')\n",
    "    negatives[y] = gpd.read_file(f'/nfs/home/genovese/thesis-wildfire-genovese/data/negative_output_weather_kriging/{y}.geojson')"
   ]
  },
  {
   "cell_type": "code",
   "execution_count": null,
   "id": "d28bc2cd",
   "metadata": {},
   "outputs": [],
   "source": [
    "for y in range(2016, 2025):\n",
    "    save_clean_data(pd.DataFrame(positives[y]), \"positives_\"+str(y), '/nfs/home/genovese/thesis-wildfire-genovese/database/cache')\n",
    "    save_clean_data(pd.DataFrame(negatives[y]), \"negatives_\"+str(y), '/nfs/home/genovese/thesis-wildfire-genovese/database/cache')"
   ]
  },
  {
   "cell_type": "code",
   "execution_count": 82,
   "id": "c619c8d6",
   "metadata": {},
   "outputs": [],
   "source": [
    "merged = dict()\n",
    "\n",
    "positives = dict()\n",
    "negatives = dict()\n",
    "\n",
    "for y in range(2016, 2025):\n",
    "    positives[y] = pd.read_csv(f'/nfs/home/genovese/thesis-wildfire-genovese/database/cache/positives_{y}.csv')\n",
    "    negatives[y] = pd.read_csv(f'/nfs/home/genovese/thesis-wildfire-genovese/database/cache/negatives_{y}.csv')\n",
    "\n",
    "for y in positives.keys():\n",
    "    merged[y] = pd.concat([positives[y], negatives[y]], ignore_index=True)"
   ]
  },
  {
   "cell_type": "code",
   "execution_count": null,
   "id": "23d784a0",
   "metadata": {},
   "outputs": [
    {
     "name": "stdout",
     "output_type": "stream",
     "text": [
      "File meteo_2016 already saved\n",
      "File has been overwritten\n",
      "File meteo_2017 already saved\n",
      "File has been overwritten\n",
      "File meteo_2018 already saved\n",
      "File has been overwritten\n",
      "File meteo_2019 already saved\n",
      "File has been overwritten\n",
      "File meteo_2020 already saved\n",
      "File has been overwritten\n",
      "File meteo_2021 already saved\n",
      "File has been overwritten\n",
      "File meteo_2022 already saved\n",
      "File has been overwritten\n",
      "File meteo_2023 already saved\n",
      "File has been overwritten\n",
      "File meteo_2024 already saved\n",
      "File has been overwritten\n"
     ]
    }
   ],
   "source": [
    "from shapely import wkt\n",
    "\n",
    "for y, gdf in merged.items():\n",
    "    gdf['geometry'] = gdf['geometry'].apply(wkt.loads)\n",
    "    save_clean_data(gpd.GeoDataFrame(gdf, geometry='geometry', crs=\"EPSG:3857\"), f'meteo_{y}', '/nfs/home/genovese/thesis-wildfire-genovese/database')"
   ]
  },
  {
   "cell_type": "markdown",
   "id": "5a04e657",
   "metadata": {},
   "source": [
    "---"
   ]
  }
 ],
 "metadata": {
  "kernelspec": {
   "display_name": ".venv",
   "language": "python",
   "name": "python3"
  },
  "language_info": {
   "codemirror_mode": {
    "name": "ipython",
    "version": 3
   },
   "file_extension": ".py",
   "mimetype": "text/x-python",
   "name": "python",
   "nbconvert_exporter": "python",
   "pygments_lexer": "ipython3",
   "version": "3.10.17"
  }
 },
 "nbformat": 4,
 "nbformat_minor": 5
}
