{
 "cells": [
  {
   "cell_type": "code",
   "execution_count": 1,
   "id": "3e4fd9a3",
   "metadata": {},
   "outputs": [],
   "source": [
    "import sys \n",
    "sys.path.append(rf\"/nfs/home/genovese/thesis-wildfire-genovese/src\")\n",
    "from importlib import reload\n",
    "import utils\n",
    "reload(utils)\n",
    "from utils import *\n",
    "import weather_forecast_utils\n",
    "reload(weather_forecast_utils)\n",
    "from weather_forecast_utils import *\n",
    "\n",
    "from shapely.ops import unary_union\n",
    "from shapely.geometry import Point\n",
    "import random"
   ]
  },
  {
   "cell_type": "code",
   "execution_count": 2,
   "id": "dc967106",
   "metadata": {},
   "outputs": [],
   "source": [
    "import pickle \n",
    "with open('/nfs/home/genovese/thesis-wildfire-genovese/data/data_loader_for_kriging/data_for_weather_kriging.pkl', 'rb') as f:\n",
    "     weather_dict = pickle.load(f)\n",
    "aux = separate_date(gpd.read_file('/nfs/home/genovese/thesis-wildfire-genovese/data/nicola/piedmont_2012_2024_fa.geojson'), 'initialdate')\n",
    "ignitions = aux[aux['YYYY'] >= 2016]\n",
    "confini = gpd.read_file('/nfs/home/genovese/thesis-wildfire-genovese/data/clean_data/confini_piemonte/confini_piemonte.shp').to_crs(epsg=3857)"
   ]
  },
  {
   "cell_type": "code",
   "execution_count": 3,
   "id": "6a994f45",
   "metadata": {},
   "outputs": [
    {
     "name": "stderr",
     "output_type": "stream",
     "text": [
      "/nfs/home/genovese/.venv/lib/python3.10/site-packages/geopandas/geodataframe.py:1819: SettingWithCopyWarning: \n",
      "A value is trying to be set on a copy of a slice from a DataFrame.\n",
      "Try using .loc[row_indexer,col_indexer] = value instead\n",
      "\n",
      "See the caveats in the documentation: https://pandas.pydata.org/pandas-docs/stable/user_guide/indexing.html#returning-a-view-versus-a-copy\n",
      "  super().__setitem__(key, value)\n"
     ]
    }
   ],
   "source": [
    "def month_day_to_day_number(year, month, day):\n",
    "    feb = 28\n",
    "    if year in list(range(2000, 2025, 4)):\n",
    "        feb += 1\n",
    "            \n",
    "    days_per_month = [31, feb, 31, 30, 31, 30, 31, 31, 30, 31, 30, 31]\n",
    "    day_of_year = sum(days_per_month[:month - 1]) + day\n",
    "    return day_of_year\n",
    "ignitions['day'] = ignitions.apply(lambda x: month_day_to_day_number(x['YYYY'], x['MM'], x['DD']), axis=1)"
   ]
  },
  {
   "cell_type": "code",
   "execution_count": null,
   "id": "129039a7",
   "metadata": {},
   "outputs": [],
   "source": [
    "\n",
    "fires = pd.concat([ignitions[['YYYY', 'day']].reset_index(drop=True), pd.Series([Point(x, y) for x, y in zip(ignitions.point_x, ignitions.point_y)])], axis=1).rename(columns={0: 'geometry'})"
   ]
  },
  {
   "cell_type": "code",
   "execution_count": null,
   "id": "3336ea3b",
   "metadata": {},
   "outputs": [],
   "source": [
    "\n",
    "def create_random_point(min_year, max_year, fires, polygons, buffer_distance = 1000):\n",
    "    year = random.randint(min_year, max_year)\n",
    "    total = 365\n",
    "    if year in list(range(2000, 2025, 4)):\n",
    "        total += 1\n",
    "    day = random.randint(1, total)\n",
    "\n",
    "    daily_fires = fires[(fires['YYYY'] == year) & (fires['day'] == day)]\n",
    "    if not daily_fires.shape[0] == 0:\n",
    "        buffers = gpd.GeoDataFrame(gpd.GeoDataFrame(daily_fires, geometry='geometry', crs=\"EPSG:3857\").geometry.buffer(buffer_distance), \n",
    "                                   columns=['geometry'])\n",
    "        geometry_check = confini.unary_union.difference(buffers)\n",
    "    else:\n",
    "        geometry_check = confini\n",
    "    pminx, pminy, pmaxx, pmaxy = geometry_check.total_bounds\n",
    "    random_point = Point(random.uniform(pminx, pmaxx), random.uniform(pminy, pmaxy))\n",
    "    while not geometry_check.contains(random_point):\n",
    "        random_point = Point(random.uniform(pminx, pmaxx), random.uniform(pminy, pmaxy))\n",
    "    \n",
    "    return gpd.GeoDataFrame([year, day, random_point], columns = ['YYYY', 'day', 'geometry'], crs=\"EPSG:3857\")\n"
   ]
  },
  {
   "cell_type": "code",
   "execution_count": null,
   "id": "b87e9236",
   "metadata": {},
   "outputs": [],
   "source": [
    "n_points = pd.read_csv('/nfs/home/genovese/thesis-wildfire-genovese/database/model_input/table_data_input.csv').shape[0]\n",
    "negative_grid = gpd.GeoDataFrame()\n",
    "\n",
    "for _ in range(n_points):\n",
    "    negative_grid = pd.concat([negative_grid, create_random_point(2016, 2024, confini[0], confini[1], confini[2], confini[3], fires)],\n",
    "                               ignore_index=True)\n"
   ]
  },
  {
   "cell_type": "markdown",
   "id": "d4f99983",
   "metadata": {},
   "source": [
    "---"
   ]
  },
  {
   "cell_type": "code",
   "execution_count": 59,
   "id": "2fd6fbee",
   "metadata": {},
   "outputs": [],
   "source": [
    "positives = dict()\n",
    "negatives = dict()\n",
    "\n",
    "for y in range(2016, 2025):\n",
    "    positives[y] = gpd.read_file(f'/nfs/home/genovese/thesis-wildfire-genovese/database/meteo_{y}.geojson')\n",
    "    negatives[y] = gpd.read_file(f'/nfs/home/genovese/thesis-wildfire-genovese/data/negative_output_weather_kriging/{y}.geojson')"
   ]
  },
  {
   "cell_type": "code",
   "execution_count": 69,
   "id": "d28bc2cd",
   "metadata": {},
   "outputs": [
    {
     "name": "stdout",
     "output_type": "stream",
     "text": [
      "File saved to: /nfs/home/genovese/thesis-wildfire-genovese/database/cache/positives_2016\n",
      "File saved to: /nfs/home/genovese/thesis-wildfire-genovese/database/cache/negatives_2016\n",
      "File saved to: /nfs/home/genovese/thesis-wildfire-genovese/database/cache/positives_2017\n",
      "File saved to: /nfs/home/genovese/thesis-wildfire-genovese/database/cache/negatives_2017\n",
      "File saved to: /nfs/home/genovese/thesis-wildfire-genovese/database/cache/positives_2018\n",
      "File saved to: /nfs/home/genovese/thesis-wildfire-genovese/database/cache/negatives_2018\n",
      "File saved to: /nfs/home/genovese/thesis-wildfire-genovese/database/cache/positives_2019\n",
      "File saved to: /nfs/home/genovese/thesis-wildfire-genovese/database/cache/negatives_2019\n",
      "File saved to: /nfs/home/genovese/thesis-wildfire-genovese/database/cache/positives_2020\n",
      "File saved to: /nfs/home/genovese/thesis-wildfire-genovese/database/cache/negatives_2020\n",
      "File saved to: /nfs/home/genovese/thesis-wildfire-genovese/database/cache/positives_2021\n",
      "File saved to: /nfs/home/genovese/thesis-wildfire-genovese/database/cache/negatives_2021\n",
      "File saved to: /nfs/home/genovese/thesis-wildfire-genovese/database/cache/positives_2022\n",
      "File saved to: /nfs/home/genovese/thesis-wildfire-genovese/database/cache/negatives_2022\n",
      "File saved to: /nfs/home/genovese/thesis-wildfire-genovese/database/cache/positives_2023\n",
      "File saved to: /nfs/home/genovese/thesis-wildfire-genovese/database/cache/negatives_2023\n",
      "File saved to: /nfs/home/genovese/thesis-wildfire-genovese/database/cache/positives_2024\n",
      "File saved to: /nfs/home/genovese/thesis-wildfire-genovese/database/cache/negatives_2024\n"
     ]
    }
   ],
   "source": [
    "for y in range(2016, 2025):\n",
    "    save_clean_data(pd.DataFrame(positives[y]), \"positives_\"+str(y), '/nfs/home/genovese/thesis-wildfire-genovese/database/cache')\n",
    "    save_clean_data(pd.DataFrame(negatives[y].drop(columns=['DD', 'MM'])), \"negatives_\"+str(y), '/nfs/home/genovese/thesis-wildfire-genovese/database/cache')"
   ]
  },
  {
   "cell_type": "code",
   "execution_count": 82,
   "id": "c619c8d6",
   "metadata": {},
   "outputs": [],
   "source": [
    "merged = dict()\n",
    "\n",
    "positives = dict()\n",
    "negatives = dict()\n",
    "\n",
    "for y in range(2016, 2025):\n",
    "    positives[y] = pd.read_csv(f'/nfs/home/genovese/thesis-wildfire-genovese/database/cache/positives_{y}.csv')\n",
    "    negatives[y] = pd.read_csv(f'/nfs/home/genovese/thesis-wildfire-genovese/database/cache/negatives_{y}.csv')\n",
    "\n",
    "for y in positives.keys():\n",
    "    merged[y] = pd.concat([positives[y], negatives[y]], ignore_index=True)"
   ]
  },
  {
   "cell_type": "code",
   "execution_count": null,
   "id": "44a75db5",
   "metadata": {},
   "outputs": [],
   "source": [
    "# from shapely import wkt\n",
    "\n",
    "# # Convert WKT strings to shapely geometry objects\n",
    "# merged[2016]['geometry'] = merged[2016]['geometry'].apply(wkt.loads)\n",
    "\n",
    "# # Create GeoDataFrame\n",
    "# gdf = gpd.GeoDataFrame(merged[2016], geometry='geometry', crs=\"EPSG:3857\")  # or whatever CRS is appropriate"
   ]
  },
  {
   "cell_type": "code",
   "execution_count": 83,
   "id": "23d784a0",
   "metadata": {},
   "outputs": [
    {
     "name": "stdout",
     "output_type": "stream",
     "text": [
      "File meteo_2016 already saved\n",
      "File has been overwritten\n",
      "File meteo_2017 already saved\n",
      "File has been overwritten\n",
      "File meteo_2018 already saved\n",
      "File has been overwritten\n",
      "File meteo_2019 already saved\n",
      "File has been overwritten\n",
      "File meteo_2020 already saved\n",
      "File has been overwritten\n",
      "File meteo_2021 already saved\n",
      "File has been overwritten\n",
      "File meteo_2022 already saved\n",
      "File has been overwritten\n",
      "File meteo_2023 already saved\n",
      "File has been overwritten\n",
      "File meteo_2024 already saved\n",
      "File has been overwritten\n"
     ]
    }
   ],
   "source": [
    "for y, gdf in merged.items():\n",
    "    gdf['geometry'] = gdf['geometry'].apply(wkt.loads)\n",
    "    save_clean_data(gpd.GeoDataFrame(gdf, geometry='geometry', crs=\"EPSG:3857\"), f'meteo_{y}', '/nfs/home/genovese/thesis-wildfire-genovese/database')"
   ]
  },
  {
   "cell_type": "markdown",
   "id": "5a04e657",
   "metadata": {},
   "source": [
    "---"
   ]
  }
 ],
 "metadata": {
  "kernelspec": {
   "display_name": ".venv",
   "language": "python",
   "name": "python3"
  },
  "language_info": {
   "codemirror_mode": {
    "name": "ipython",
    "version": 3
   },
   "file_extension": ".py",
   "mimetype": "text/x-python",
   "name": "python",
   "nbconvert_exporter": "python",
   "pygments_lexer": "ipython3",
   "version": "3.10.17"
  }
 },
 "nbformat": 4,
 "nbformat_minor": 5
}
