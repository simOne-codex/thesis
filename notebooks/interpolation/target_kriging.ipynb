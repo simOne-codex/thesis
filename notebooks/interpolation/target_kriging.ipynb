{
 "cells": [
  {
   "cell_type": "code",
   "execution_count": 2,
   "id": "1725bb13",
   "metadata": {},
   "outputs": [],
   "source": [
    "import sys \n",
    "sys.path.append(rf\"/nfs/home/genovese/thesis-wildfire-genovese/src\")\n",
    "from importlib import reload\n",
    "import utils\n",
    "reload(utils)\n",
    "from utils import *"
   ]
  },
  {
   "cell_type": "code",
   "execution_count": 15,
   "id": "c28116fe",
   "metadata": {},
   "outputs": [],
   "source": [
    "positives = gpd.GeoDataFrame(\n",
    "    pd.DataFrame(gpd.read_file('/nfs/home/genovese/thesis-wildfire-genovese/data/data_loader_for_kriging/kriging_weather_grid.geojson')),\n",
    "    ).set_crs(epsg=3857, allow_override=True)\n",
    "negatives = gpd.GeoDataFrame(pd.DataFrame(\n",
    "    gpd.read_file('/nfs/home/genovese/thesis-wildfire-genovese/data/data_loader_for_kriging/kriging_negative_weather_grid.geojson')),\n",
    "    crs='EPSG:3857')"
   ]
  },
  {
   "cell_type": "code",
   "execution_count": 16,
   "id": "c7e68f64",
   "metadata": {},
   "outputs": [],
   "source": [
    "p = pd.concat([positives[['geometry']], pd.Series([1]*positives.shape[0], name='label')],  axis=1)\n",
    "n = pd.concat([negatives[['geometry']], pd.Series([0]*negatives.shape[0], name='label')],  axis=1)"
   ]
  },
  {
   "cell_type": "code",
   "execution_count": 17,
   "id": "3a6e972d",
   "metadata": {},
   "outputs": [],
   "source": [
    "tot = pd.concat([p, n])"
   ]
  },
  {
   "cell_type": "code",
   "execution_count": null,
   "id": "8f2240e4",
   "metadata": {},
   "outputs": [],
   "source": [
    "import numpy as np\n",
    "from pykrige.rk import Krige\n",
    "from sklearn.model_selection import GridSearchCV\n",
    "from sklearn.metrics import mean_squared_error\n",
    "\n",
    "# Define parameter grid for Kriging\n",
    "param_grid = {\n",
    "    \"method\": [\"ordinary\", \"universal\"],\n",
    "    \"variogram_model\": [\"linear\", \"power\", \"gaussian\", \"spherical\", \"exponential\", 'hole-effect'],\n",
    "}\n",
    "\n",
    "# Create Kriging model (scikit-learn wrapper)\n",
    "kriging_model = Krige()\n",
    "\n",
    "# GridSearch with 5-fold cross-validation\n",
    "grid_search = GridSearchCV(\n",
    "    estimator=kriging_model,\n",
    "    param_grid=param_grid,\n",
    "    scoring='neg_mean_squared_error',\n",
    "    cv=10\n",
    ")\n",
    "\n",
    "# Fit GridSearch\n",
    "grid_search.fit(tot.geometry, tot.label)\n",
    "\n",
    "# Print best model\n",
    "print(\"Best parameters:\", grid_search.best_params_)\n",
    "print(\"Best MSE:\", -grid_search.best_score_)\n"
   ]
  },
  {
   "cell_type": "code",
   "execution_count": null,
   "id": "8413b4e0",
   "metadata": {},
   "outputs": [],
   "source": [
    "from sklearn.model_selection import GridSearchCV\n",
    "\n",
    "from pykrige.rk import Krige\n",
    "\n",
    "# 2D Kring param opt\n",
    "\n",
    "param_dict = {\n",
    "    \"method\": [\"ordinary\", \"universal\"],\n",
    "    \"variogram_model\": [\"linear\", \"power\", \"gaussian\", \"spherical\"],\n",
    "    # \"nlags\": [4, 6, 8],\n",
    "    # \"weight\": [True, False]\n",
    "}\n",
    "\n",
    "estimator = GridSearchCV(Krige(), param_dict, verbose=True, return_train_score=True)\n",
    "\n",
    "# run the gridsearch\n",
    "estimator.fit(X=X, y=y)\n",
    "\n",
    "\n",
    "if hasattr(estimator, \"best_score_\"):\n",
    "    print(\"best_score R² = {:.3f}\".format(estimator.best_score_))\n",
    "    print(\"best_params = \", estimator.best_params_)\n",
    "\n",
    "print(\"\\nCV results::\")\n",
    "if hasattr(estimator, \"cv_results_\"):\n",
    "    for key in [\n",
    "        \"mean_test_score\",\n",
    "        \"mean_train_score\",\n",
    "        \"param_method\",\n",
    "        \"param_variogram_model\",\n",
    "    ]:\n",
    "        print(\" - {} : {}\".format(key, estimator.cv_results_[key]))\n",
    "\n",
    "# 3D Kring param opt\n",
    "\n",
    "param_dict3d = {\n",
    "    \"method\": [\"ordinary3d\", \"universal3d\"],\n",
    "    \"variogram_model\": [\"linear\", \"power\", \"gaussian\", \"spherical\"],\n",
    "    # \"nlags\": [4, 6, 8],\n",
    "    # \"weight\": [True, False]\n",
    "}\n",
    "\n",
    "estimator = GridSearchCV(Krige(), param_dict3d, verbose=True, return_train_score=True)\n",
    "\n",
    "# dummy data\n",
    "X3 = np.random.randint(0, 400, size=(100, 3)).astype(float)\n",
    "y = 5 * np.random.rand(100)\n",
    "\n",
    "# run the gridsearch\n",
    "estimator.fit(X=X3, y=y)\n",
    "\n",
    "\n",
    "if hasattr(estimator, \"best_score_\"):\n",
    "    print(\"best_score R² = {:.3f}\".format(estimator.best_score_))\n",
    "    print(\"best_params = \", estimator.best_params_)\n",
    "\n",
    "print(\"\\nCV results::\")\n",
    "if hasattr(estimator, \"cv_results_\"):\n",
    "    for key in [\n",
    "        \"mean_test_score\",\n",
    "        \"mean_train_score\",\n",
    "        \"param_method\",\n",
    "        \"param_variogram_model\",\n",
    "    ]:\n",
    "        print(\" - {} : {}\".format(key, estimator.cv_results_[key]))"
   ]
  },
  {
   "cell_type": "markdown",
   "id": "796ef540",
   "metadata": {},
   "source": [
    "---"
   ]
  }
 ],
 "metadata": {
  "kernelspec": {
   "display_name": ".venv",
   "language": "python",
   "name": "python3"
  },
  "language_info": {
   "codemirror_mode": {
    "name": "ipython",
    "version": 3
   },
   "file_extension": ".py",
   "mimetype": "text/x-python",
   "name": "python",
   "nbconvert_exporter": "python",
   "pygments_lexer": "ipython3",
   "version": "3.10.17"
  }
 },
 "nbformat": 4,
 "nbformat_minor": 5
}
