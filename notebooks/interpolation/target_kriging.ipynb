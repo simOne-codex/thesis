{
 "cells": [
  {
   "cell_type": "code",
   "execution_count": 1,
   "id": "1725bb13",
   "metadata": {},
   "outputs": [],
   "source": [
    "import sys \n",
    "sys.path.append(rf\"/nfs/home/genovese/thesis-wildfire-genovese/src\")\n",
    "from importlib import reload\n",
    "import utils\n",
    "reload(utils)\n",
    "from utils import *"
   ]
  },
  {
   "cell_type": "markdown",
   "id": "8d3ca2f1",
   "metadata": {},
   "source": [
    "Choosing variogram model on ordinary kriging..."
   ]
  },
  {
   "cell_type": "code",
   "execution_count": null,
   "id": "c3a91752",
   "metadata": {},
   "outputs": [],
   "source": [
    "scores = pd.read_csv('/nfs/home/genovese/thesis-wildfire-genovese/outputs/grid_searches/ordinary_target_kriging.csv')\n",
    "scores[scores['rank_test_score'] == 1]"
   ]
  },
  {
   "cell_type": "markdown",
   "id": "149aa8bb",
   "metadata": {},
   "source": [
    "Ordinary spherical model selected"
   ]
  },
  {
   "cell_type": "markdown",
   "id": "796ef540",
   "metadata": {},
   "source": [
    "---"
   ]
  },
  {
   "cell_type": "markdown",
   "id": "bcd1e4e0",
   "metadata": {},
   "source": [
    "Fine tuning on ordinary spherical kriging..."
   ]
  },
  {
   "cell_type": "code",
   "execution_count": null,
   "id": "02168eb6",
   "metadata": {},
   "outputs": [],
   "source": [
    "scores = pd.read_csv('/nfs/home/genovese/thesis-wildfire-genovese/outputs/grid_searches/fine_tuning_target_kriging.csv')\n",
    "scores[scores['rank_test_score'] == 1].shape"
   ]
  },
  {
   "cell_type": "markdown",
   "id": "4c09df71",
   "metadata": {},
   "source": [
    "Since the scores are the same, I'll use the model with the lowest fitting time"
   ]
  },
  {
   "cell_type": "code",
   "execution_count": null,
   "id": "21bcde4d",
   "metadata": {},
   "outputs": [],
   "source": [
    "scores[scores['mean_fit_time'] == scores['mean_fit_time'].min()].params.iloc[0]"
   ]
  },
  {
   "cell_type": "markdown",
   "id": "bf8eae49",
   "metadata": {},
   "source": [
    "{'nlags': 8, 'variogram_parameters': {'psill': 1.5, 'range': 1.5, 'nugget': -1}, 'weight': False}"
   ]
  },
  {
   "cell_type": "code",
   "execution_count": 2,
   "id": "4cce5209",
   "metadata": {},
   "outputs": [],
   "source": [
    "from pykrige.rk import Krige\n",
    "from sklearn.metrics import mean_squared_error"
   ]
  },
  {
   "cell_type": "code",
   "execution_count": 4,
   "id": "b8b3da56",
   "metadata": {},
   "outputs": [],
   "source": [
    "positives = gpd.GeoDataFrame(\n",
    "    pd.DataFrame(gpd.read_file('/nfs/home/genovese/thesis-wildfire-genovese/data/data_loader_for_kriging/kriging_weather_grid.geojson')),\n",
    "    ).set_crs(epsg=3857, allow_override=True)\n",
    "negatives = gpd.GeoDataFrame(pd.DataFrame(\n",
    "    gpd.read_file('/nfs/home/genovese/thesis-wildfire-genovese/data/data_loader_for_kriging/kriging_negative_weather_grid.geojson')),\n",
    "    crs='EPSG:3857')\n",
    "\n",
    "p = pd.concat([positives[['geometry']], pd.Series([1]*positives.shape[0], name='label')],  axis=1)\n",
    "n = pd.concat([negatives[['geometry']], pd.Series([0]*negatives.shape[0], name='label')],  axis=1)\n",
    "\n",
    "tot = pd.concat([p, n])\n",
    "\n",
    "# Create Kriging model (scikit-learn wrapper)\n",
    "\n",
    "kriging_model = Krige(method='ordinary', variogram_model='spherical', variogram_parameters={'psill': 1.5, 'range': 1.5, 'nugget': -1}, nlags=8, weight=False)\n",
    "kriging_model.fit(np.array(pd.concat([tot.geometry.x, tot.geometry.y], axis=1)), tot.label)"
   ]
  },
  {
   "cell_type": "code",
   "execution_count": 9,
   "id": "204271f5",
   "metadata": {},
   "outputs": [],
   "source": [
    "import pickle \n",
    "with open('/nfs/home/genovese/thesis-wildfire-genovese/src/trained_models/target_kriging.pkl', 'wb') as f:\n",
    "    pickle.dump(kriging_model, f)"
   ]
  },
  {
   "cell_type": "code",
   "execution_count": 7,
   "id": "198b9b43",
   "metadata": {},
   "outputs": [],
   "source": [
    "import pickle \n",
    "with open('/nfs/home/genovese/thesis-wildfire-genovese/src/trained_models/target_kriging.pkl', 'rb') as f:\n",
    "    kriging_model = pickle.load(f)"
   ]
  },
  {
   "cell_type": "code",
   "execution_count": null,
   "id": "a3b90ad4",
   "metadata": {},
   "outputs": [],
   "source": [
    "ambiguous = gpd.read_file('/nfs/home/genovese/thesis-wildfire-genovese/data/gathering_geojson/ambiguous_fires_grid.geojson')"
   ]
  },
  {
   "cell_type": "code",
   "execution_count": null,
   "id": "0cf33e38",
   "metadata": {},
   "outputs": [],
   "source": [
    "y_pred = kriging_model.predict(np.array(pd.concat([ambiguous.geometry.x, ambiguous.geometry.y], axis=1)))\n",
    "pred_df = pd.concat([ambiguous, pd.Series(y_pred)], axis=1)"
   ]
  },
  {
   "cell_type": "code",
   "execution_count": null,
   "id": "85a48ae2",
   "metadata": {},
   "outputs": [],
   "source": [
    "pred_df.rename(columns={0: 'label'}, inplace=True)"
   ]
  },
  {
   "cell_type": "code",
   "execution_count": null,
   "id": "265d6bf0",
   "metadata": {},
   "outputs": [],
   "source": [
    "def reverse_day(year, day):\n",
    "    feb = 28\n",
    "    if year in list(range(2000, 2025, 4)):\n",
    "        feb += 1\n",
    "            \n",
    "    days_per_month = [31, feb, 31, 30, 31, 30, 31, 31, 30, 31, 30, 31]\n",
    "\n",
    "    for index, month in enumerate(days_per_month):\n",
    "        if (day - month) == 0:\n",
    "            return (month, index+1)\n",
    "        elif (day - month) > 0:\n",
    "            day -= month\n",
    "        else:\n",
    "            return (day, index+1)"
   ]
  },
  {
   "cell_type": "code",
   "execution_count": null,
   "id": "b74e19ce",
   "metadata": {},
   "outputs": [],
   "source": [
    "pred_df['DD'] = pred_df.apply(lambda x: reverse_day(x['YYYY'], x['day'])[0], axis=1)\n",
    "pred_df['MM'] = pred_df.apply(lambda x: reverse_day(x['YYYY'], x['day'])[1], axis=1)\n",
    "pred_df.to_file('/nfs/home/genovese/thesis-wildfire-genovese/data/data_loader_for_kriging/kriging_ambiguous_weather_grid.geojson', index=False, driver='GeoJSON')"
   ]
  },
  {
   "cell_type": "code",
   "execution_count": null,
   "id": "7a83b2bb",
   "metadata": {},
   "outputs": [],
   "source": [
    "non_fires = gpd.read_file('/nfs/home/genovese/thesis-wildfire-genovese/data/data_loader_for_kriging/kriging_ambiguous_weather_grid.geojson')"
   ]
  },
  {
   "cell_type": "code",
   "execution_count": null,
   "id": "0e20c22f",
   "metadata": {},
   "outputs": [],
   "source": [
    "from pandas._libs.tslibs.timestamps import Timestamp\n",
    "non_fires['initialdate'] = non_fires.apply(lambda x: Timestamp(year = x.YYYY, month=x.MM, day=x.DD), axis=1)\n",
    "non_fires['id'] = [-(idx+100000) for idx in non_fires.index]"
   ]
  },
  {
   "cell_type": "code",
   "execution_count": null,
   "id": "94348b5e",
   "metadata": {},
   "outputs": [],
   "source": [
    "non_fires['polygon'] = non_fires.buffer(1000)\n",
    "fires = non_fires.set_geometry(col='polygon')\n",
    "fires.drop(columns='geometry', inplace=True)\n",
    "fires.rename(columns={'polygon': 'geometry'}, inplace=True)\n",
    "fires.to_file('/nfs/home/genovese/thesis-wildfire-genovese/src/OnFireForest/sentinel_negative_fires/ambiguous.geojson',driver='GeoJSON', index=False)"
   ]
  },
  {
   "cell_type": "markdown",
   "id": "93143932",
   "metadata": {},
   "source": [
    "---"
   ]
  },
  {
   "cell_type": "code",
   "execution_count": null,
   "id": "8a571d34",
   "metadata": {},
   "outputs": [],
   "source": [
    "f = gpd.read_file('/nfs/home/genovese/thesis-wildfire-genovese/src/OnFireForest/sentinel_negative_fires/ambiguous.geojson').to_crs('32632')\n",
    "f.to_file('/nfs/home/genovese/thesis-wildfire-genovese/src/OnFireForest/sentinel_negative_fires/ambiguous.geojson',driver='GeoJSON', index=False)"
   ]
  },
  {
   "cell_type": "code",
   "execution_count": null,
   "id": "1fa5c212",
   "metadata": {},
   "outputs": [],
   "source": [
    "import sys \n",
    "sys.path.append(rf\"/nfs/home/genovese/thesis-wildfire-genovese/src\")\n",
    "from importlib import reload\n",
    "import utils\n",
    "reload(utils)\n",
    "from utils import *"
   ]
  },
  {
   "cell_type": "code",
   "execution_count": null,
   "id": "bcf2e0c4",
   "metadata": {},
   "outputs": [],
   "source": [
    "sys.path.append(rf'/nfs/home/genovese/thesis-wildfire-genovese/src/Nicola_model')\n",
    "import generate_sentinel_new\n",
    "reload(generate_sentinel_new)\n",
    "from generate_sentinel_new import *"
   ]
  },
  {
   "cell_type": "code",
   "execution_count": null,
   "id": "7476c728",
   "metadata": {},
   "outputs": [],
   "source": [
    "config_path = \"/nfs/home/genovese/thesis-wildfire-genovese/src/OnFireForest/sentinel_negative_fires/congif.yaml\" # Definisci il percorso del config\n",
    "\n",
    "config_example = {\n",
    "        \"geojson_path\": \"/nfs/home/genovese/thesis-wildfire-genovese/src/OnFireForest/sentinel_negative_fires/ambiguous.geojson\",\n",
    "        \"interval_pre_fire_days\": 7, # AGGIORNATO\n",
    "        \"satellite\": \"sentinel-2\",  # AGGIORNATO\n",
    "        \"patch_size_pixels\": 256,\n",
    "        \"target_crs\": \"EPSG:32632\", # NUOVO\n",
    "        \"min_fire_area_sq_m\": 200,  # NUOVO\n",
    "        \"image_similarity_tolerance\": 0.005 # NUOVO\n",
    "    }\n",
    "\n",
    "with open(config_path, \"w\") as f:\n",
    "    yaml.dump(config_example, f)\n",
    "    \n",
    "print(f\"Generato o aggiornato il file di configurazione: {config_path}\")\n",
    "\n",
    "\n",
    "config_data = load_config(config_path) # Carica il config dal percorso specificato\n",
    "\n",
    "print(\"\\n--- Inizio Processo Batch per TUTTI gli incendi ---\")\n",
    "\n",
    "gdf_all_fires_filtered = gpd.read_file(config_data[\"geojson_path\"])\n",
    "gdf_all_fires_filtered = gdf_all_fires_filtered[gdf_all_fires_filtered['id'] < -102138]\n",
    "min_date_for_sentinel2 = datetime(2015, 6, 23) \n",
    "    \n",
    "# # Filtra gli incendi per data (solo quelli dopo l'inizio di Sentinel-2)\n",
    "# gdf_all_fires_filtered = gdf_all_fires[pd.to_datetime(gdf_all_fires[\"initialdate\"]) >= min_date_for_sentinel2]\n",
    "    \n",
    "print(f\"Trovati {len(gdf_all_fires_filtered)} incendi nel GeoJSON. Filtrati {len(gdf_all_fires_filtered)} incendi dopo il {min_date_for_sentinel2.strftime('%Y-%m-%d')}.\")\n",
    "\n",
    "for idx, fire_row in gdf_all_fires_filtered.iterrows():\n",
    "    try:\n",
    "        process_single_fire(fire_row[\"id\"], config_data, '/nfs/home/genovese/thesis-wildfire-genovese/database/ambiguous_piedmont')\n",
    "    except Exception as e:\n",
    "        print(f\"🚨 ERRORE GRAVE durante il processo dell'incendio ID {fire_row['id']}: {e}\")\n",
    "            # Puoi aggiungere qui della logica per registrare gli errori o riprovare\n",
    "\n",
    "print(\"\\n--- Processo Batch Completato ---\")"
   ]
  },
  {
   "cell_type": "code",
   "execution_count": null,
   "id": "98b174ab",
   "metadata": {},
   "outputs": [],
   "source": [
    "from PIL import Image\n",
    "\n",
    "parent = '/nfs/home/genovese/thesis-wildfire-genovese/database/ambiguous_piedmont'\n",
    "directories = os.listdir(parent)\n",
    "\n",
    "black_image = Image.new(\"RGB\", (256, 256), (0, 0, 0))\n",
    "\n",
    "for fire in directories:\n",
    "    dir_path = os.path.join(parent, fire)\n",
    "    if os.path.isdir(dir_path):\n",
    "        image_path = os.path.join(parent, dir_path, f\"{fire}_GTSentinel.png\")\n",
    "        black_image.save(image_path)\n",
    "        print(f\"Saved black image to: {image_path}\")\n",
    "    else:\n",
    "        print(f\"Directory does not exist: {dir_path}\")"
   ]
  }
 ],
 "metadata": {
  "kernelspec": {
   "display_name": ".venv",
   "language": "python",
   "name": "python3"
  },
  "language_info": {
   "codemirror_mode": {
    "name": "ipython",
    "version": 3
   },
   "file_extension": ".py",
   "mimetype": "text/x-python",
   "name": "python",
   "nbconvert_exporter": "python",
   "pygments_lexer": "ipython3",
   "version": "3.10.17"
  }
 },
 "nbformat": 4,
 "nbformat_minor": 5
}
