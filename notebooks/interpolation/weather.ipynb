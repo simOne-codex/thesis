{
 "cells": [
  {
   "cell_type": "code",
   "execution_count": null,
   "id": "90836170",
   "metadata": {},
   "outputs": [],
   "source": [
    "import sys\n",
    "sys.path.append(rf'/nfs/home/genovese/thesis-wildfire-genovese/src/')\n",
    "from importlib import reload\n",
    "import utils\n",
    "reload(utils)\n",
    "from utils import *\n",
    "data_folder = '/nfs/home/genovese/thesis-wildfire-genovese/data/'"
   ]
  },
  {
   "cell_type": "code",
   "execution_count": null,
   "id": "a95c9d39",
   "metadata": {},
   "outputs": [],
   "source": [
    "confini = gpd.read_file('/nfs/home/genovese/thesis-wildfire-genovese/data/clean_data/confini_piemonte/confini_piemonte.shp')"
   ]
  },
  {
   "cell_type": "code",
   "execution_count": null,
   "id": "7f0631ea",
   "metadata": {},
   "outputs": [],
   "source": [
    "meteo = dict()\n",
    "    \n",
    "for a in list(range(2000, 2025)):\n",
    "    meteo[a] = gpd.read_file(f'/nfs/home/genovese/thesis-wildfire-genovese/data/gathering_geojson/weather_forecast/{a}.geojson')"
   ]
  },
  {
   "cell_type": "markdown",
   "id": "67f6e5ff",
   "metadata": {},
   "source": [
    "---"
   ]
  },
  {
   "cell_type": "markdown",
   "id": "0fe37627",
   "metadata": {},
   "source": [
    "### Set points for aimed kriging"
   ]
  },
  {
   "cell_type": "code",
   "execution_count": null,
   "id": "d77b43de",
   "metadata": {},
   "outputs": [],
   "source": [
    "target = separate_date(gpd.read_file('/nfs/home/genovese/thesis-wildfire-genovese/data/nicola/piedmont_2012_2024_fa.geojson'), 'initialdate')"
   ]
  },
  {
   "cell_type": "code",
   "execution_count": null,
   "id": "2200a728",
   "metadata": {},
   "outputs": [],
   "source": [
    "def month_day_to_day_number(year, month, day):\n",
    "    feb = 28\n",
    "    if year in list(range(2000, 2025, 4)):\n",
    "        feb += 1\n",
    "            \n",
    "    days_per_month = [31, feb, 31, 30, 31, 30, 31, 31, 30, 31, 30, 31]\n",
    "    day_of_year = sum(days_per_month[:month - 1]) + day\n",
    "    return day_of_year"
   ]
  },
  {
   "cell_type": "code",
   "execution_count": null,
   "id": "552f4e4b",
   "metadata": {},
   "outputs": [],
   "source": [
    "target['day_of_year'] = target.apply(lambda x: month_day_to_day_number(x['YYYY'], x['MM'], x['DD']), axis=1)"
   ]
  },
  {
   "cell_type": "code",
   "execution_count": null,
   "id": "dbedf5a8",
   "metadata": {},
   "outputs": [],
   "source": [
    "from shapely.geometry import Point\n",
    "\n",
    "target = gpd.read_file('/nfs/home/genovese/thesis-wildfire-genovese/data/gathering_geojson/negative_fires_grid.geojson')\n",
    "altimetria = gpd.read_file('/nfs/home/genovese/thesis-wildfire-genovese/data/gathering_geojson/altimetria_per_circoscrizione.geojson').to_crs(target.crs)\n",
    "\n",
    "def get_polygon_value(gdf, point, value):\n",
    "    for idx, polygon in gdf.iterrows():\n",
    "        if polygon['geometry'].contains(point):\n",
    "            return polygon[value]\n",
    "    return None\n",
    "\n",
    "# Apply the function to all points\n",
    "values = [get_polygon_value(altimetria, point, 'MEDIANA') for point in tqdm(target['geometry'])]\n",
    "\n",
    "# 5. Create a GeoDataFrame with points and associated polygon values\n",
    "points_gdf = gpd.GeoDataFrame(\n",
    "    geometry='geometry',\n",
    "    data={'height': values},\n",
    "    crs=altimetria.crs\n",
    ")\n",
    "\n",
    "for_kriging = gpd.GeoDataFrame(target['YYYY', 'day', 'geometry'], geometry='geometry'\n",
    "                               ).merge(points_gdf, on='geometry', how='inner')\n",
    "\n",
    "for_kriging.to_file('/nfs/home/genovese/thesis-wildfire-genovese/data/data_loader_for_kriging/kriging_negative_weather_grid.geojson')"
   ]
  },
  {
   "cell_type": "markdown",
   "id": "148f91f5",
   "metadata": {},
   "source": [
    "---"
   ]
  }
 ],
 "metadata": {
  "kernelspec": {
   "display_name": ".venv",
   "language": "python",
   "name": "python3"
  },
  "language_info": {
   "codemirror_mode": {
    "name": "ipython",
    "version": 3
   },
   "file_extension": ".py",
   "mimetype": "text/x-python",
   "name": "python",
   "nbconvert_exporter": "python",
   "pygments_lexer": "ipython3",
   "version": "3.10.17"
  }
 },
 "nbformat": 4,
 "nbformat_minor": 5
}
