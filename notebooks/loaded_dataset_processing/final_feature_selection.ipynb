{
 "cells": [
  {
   "cell_type": "markdown",
   "id": "501b4c57",
   "metadata": {},
   "source": [
    "The RandomForest RFE rotated with PCA showed both a constant train r2 and an increasing validation r2 until iteration 33 (we don't use accuracy score here since we'll decide discretisation afterwards based on validation). We choose those variables selected in iteration 33"
   ]
  },
  {
   "cell_type": "code",
   "execution_count": 2,
   "id": "cdf57a4f",
   "metadata": {},
   "outputs": [],
   "source": [
    "import pandas as pd"
   ]
  },
  {
   "cell_type": "code",
   "execution_count": 8,
   "id": "8715c9b5",
   "metadata": {},
   "outputs": [],
   "source": [
    "nonr_scores = pd.read_csv('/nfs/home/genovese/thesis-wildfire-genovese/outputs/rfe_pca/non_rekriged_regression_rf_rfe_tracking.csv', index_col=0)\n",
    "r_scores = pd.read_csv('/nfs/home/genovese/thesis-wildfire-genovese/outputs/rfe_pca/rekriged_regression_rf_rfe_tracking.csv',  index_col=0)"
   ]
  },
  {
   "cell_type": "code",
   "execution_count": 10,
   "id": "670cccfa",
   "metadata": {},
   "outputs": [
    {
     "data": {
      "text/plain": [
       "PC1     0.085959\n",
       "PC2     0.169260\n",
       "PC3     0.090745\n",
       "PC4     0.265495\n",
       "PC10    0.086807\n",
       "PC11    0.080733\n",
       "PC12    0.127443\n",
       "PC15    0.093558\n",
       "Name: iteration_33, dtype: float64"
      ]
     },
     "execution_count": 10,
     "metadata": {},
     "output_type": "execute_result"
    }
   ],
   "source": [
    "nonr_scores['iteration_33'].loc[~nonr_scores['iteration_33'].isna()]"
   ]
  },
  {
   "cell_type": "code",
   "execution_count": 11,
   "id": "bb0c0370",
   "metadata": {},
   "outputs": [
    {
     "data": {
      "text/plain": [
       "PC2     0.182533\n",
       "PC3     0.087994\n",
       "PC4     0.266415\n",
       "PC5     0.084003\n",
       "PC6     0.084702\n",
       "PC10    0.085312\n",
       "PC12    0.124102\n",
       "PC15    0.084938\n",
       "Name: iteration_33, dtype: float64"
      ]
     },
     "execution_count": 11,
     "metadata": {},
     "output_type": "execute_result"
    }
   ],
   "source": [
    "r_scores['iteration_33'].loc[~r_scores['iteration_33'].isna()]"
   ]
  },
  {
   "cell_type": "code",
   "execution_count": 25,
   "id": "69bd5c4b",
   "metadata": {},
   "outputs": [],
   "source": [
    "data1 = pd.read_csv('/nfs/home/genovese/thesis-wildfire-genovese/database/model_input/not_imputed_dataset_rekriged.csv', index_col=0)\n",
    "data2 = pd.read_csv('/nfs/home/genovese/thesis-wildfire-genovese/database/model_input/not_imputed_dataset_non_rekriged.csv', index_col=0)\n",
    "pca_df = pd.read_csv('/nfs/home/genovese/thesis-wildfire-genovese/database/model_input/pca_tranformed_without_target.csv')"
   ]
  },
  {
   "cell_type": "code",
   "execution_count": 26,
   "id": "abc4fb67",
   "metadata": {},
   "outputs": [],
   "source": [
    "tot1 = pd.concat([data1.loc[:, ['target','label', 'fire_id']], pca_df], axis=1)\n",
    "tot2 = pd.concat([data2.loc[:, ['target','label', 'fire_id']], pca_df], axis=1)"
   ]
  },
  {
   "cell_type": "code",
   "execution_count": 27,
   "id": "730eb951",
   "metadata": {},
   "outputs": [],
   "source": [
    "final1 = tot1[['target', 'label', 'fire_id']+list(r_scores['iteration_33'].loc[~r_scores['iteration_33'].isna()].index)]\n",
    "final2 = tot2[['target', 'label', 'fire_id']+list(nonr_scores['iteration_33'].loc[~nonr_scores['iteration_33'].isna()].index)]"
   ]
  },
  {
   "cell_type": "code",
   "execution_count": 31,
   "id": "d6f59ff4",
   "metadata": {},
   "outputs": [],
   "source": [
    "final1.to_csv('/nfs/home/genovese/thesis-wildfire-genovese/database/model_input/final_pca_selected_dataset_rekriged.csv', index=False)\n",
    "final2.to_csv('/nfs/home/genovese/thesis-wildfire-genovese/database/model_input/final_pca_selected_dataset_non_rekriged.csv', index=False)"
   ]
  },
  {
   "cell_type": "markdown",
   "id": "7f5ced0f",
   "metadata": {},
   "source": [
    "---"
   ]
  },
  {
   "cell_type": "markdown",
   "id": "74dcd942",
   "metadata": {},
   "source": [
    "AFTER THE ADDITION OF SENTINEL VARIABLES"
   ]
  },
  {
   "cell_type": "code",
   "execution_count": 2,
   "id": "a33de030",
   "metadata": {},
   "outputs": [],
   "source": [
    "import pandas as pd"
   ]
  },
  {
   "cell_type": "code",
   "execution_count": 3,
   "id": "e94f6ba2",
   "metadata": {},
   "outputs": [],
   "source": [
    "nonr = pd.read_csv('/nfs/home/genovese/thesis-wildfire-genovese/database/model_input/final_dataset_non_rekriged.csv', index_col=0)\n",
    "r = pd.read_csv('/nfs/home/genovese/thesis-wildfire-genovese/database/model_input/final_dataset_rekriged.csv', index_col=0)\n",
    "nonr.index.name = 'fire_id'\n",
    "r.index.name = 'fire_id'"
   ]
  },
  {
   "cell_type": "code",
   "execution_count": 4,
   "id": "efd32bb4",
   "metadata": {},
   "outputs": [],
   "source": [
    "# fill missing sentinels with 0 only\n",
    "nonr.fillna(0, inplace=True)\n",
    "r.fillna(0, inplace=True)"
   ]
  },
  {
   "cell_type": "code",
   "execution_count": 5,
   "id": "90cdb275",
   "metadata": {},
   "outputs": [],
   "source": [
    "# remove univariate sentinels\n",
    "nonr.drop(columns=list(nonr.describe().loc[: ,nonr.describe().loc['std', :] == 0].columns), inplace=True)\n",
    "r.drop(columns=list(r.describe().loc[: ,r.describe().loc['std', :] == 0].columns), inplace=True)"
   ]
  },
  {
   "cell_type": "code",
   "execution_count": 7,
   "id": "7d9d961f",
   "metadata": {},
   "outputs": [],
   "source": [
    "nonr.to_csv('/nfs/home/genovese/thesis-wildfire-genovese/database/model_input/cleaned_final_non_rekriged.csv')\n",
    "r.to_csv('/nfs/home/genovese/thesis-wildfire-genovese/database/model_input/cleaned_final_rekriged.csv')"
   ]
  },
  {
   "cell_type": "markdown",
   "id": "52555bb3",
   "metadata": {},
   "source": [
    "---"
   ]
  }
 ],
 "metadata": {
  "kernelspec": {
   "display_name": ".venv",
   "language": "python",
   "name": "python3"
  },
  "language_info": {
   "codemirror_mode": {
    "name": "ipython",
    "version": 3
   },
   "file_extension": ".py",
   "mimetype": "text/x-python",
   "name": "python",
   "nbconvert_exporter": "python",
   "pygments_lexer": "ipython3",
   "version": "3.10.17"
  }
 },
 "nbformat": 4,
 "nbformat_minor": 5
}
