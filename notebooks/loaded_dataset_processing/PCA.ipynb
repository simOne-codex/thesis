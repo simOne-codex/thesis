{
 "cells": [
  {
   "cell_type": "code",
   "execution_count": null,
   "id": "35772ed3",
   "metadata": {},
   "outputs": [],
   "source": [
    "import sys \n",
    "sys.path.append(rf\"/nfs/home/genovese/thesis-wildfire-genovese/src\")\n",
    "from importlib import reload\n",
    "import utils\n",
    "reload(utils)\n",
    "from utils import *\n",
    "\n",
    "from sklearn.preprocessing import StandardScaler\n",
    "from sklearn.decomposition import PCA"
   ]
  },
  {
   "cell_type": "code",
   "execution_count": null,
   "id": "1d25b9fc",
   "metadata": {},
   "outputs": [],
   "source": [
    "def pca_with_results(df, plot=True):\n",
    "    scaler = StandardScaler()\n",
    "    scaled_data = scaler.fit_transform(df)\n",
    "\n",
    "    # Step 2: Apply PCA\n",
    "    pca = PCA()\n",
    "    pca_data = pca.fit_transform(scaled_data)\n",
    "\n",
    "    # Step 3: Create a DataFrame of PCA results\n",
    "    pca_df = pd.DataFrame(data=pca_data, columns=[f'PC{c}' for c in range(1, df.shape[1]+1)], index=df.index)\n",
    "\n",
    "    # Step 4: Explained variance\n",
    "    explained_variance = pca.explained_variance_ratio_\n",
    "    pcs = np.arange(1, len(explained_variance) + 1)\n",
    "\n",
    "    # Step 5: Plot\n",
    "    if plot:\n",
    "        plt.plot(pcs, explained_variance, marker='o', linestyle='-')\n",
    "        plt.title('Explained Variance by Principal Component')\n",
    "        plt.xlabel('Principal Component')\n",
    "        plt.ylabel('Explained Variance Ratio')\n",
    "        plt.xticks(pcs)\n",
    "        plt.grid(True)\n",
    "        plt.show()\n",
    "\n",
    "    return pca, pca_df"
   ]
  }
 ],
 "metadata": {
  "kernelspec": {
   "display_name": ".venv",
   "language": "python",
   "name": "python3"
  },
  "language_info": {
   "name": "python",
   "version": "3.10.17"
  }
 },
 "nbformat": 4,
 "nbformat_minor": 5
}
