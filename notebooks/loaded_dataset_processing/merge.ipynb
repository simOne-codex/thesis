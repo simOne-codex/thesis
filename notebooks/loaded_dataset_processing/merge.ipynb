{
 "cells": [
  {
   "cell_type": "code",
   "execution_count": null,
   "id": "ce65c22c",
   "metadata": {},
   "outputs": [],
   "source": [
    "import sys \n",
    "sys.path.append(rf\"/nfs/home/genovese/thesis-wildfire-genovese/src\")\n",
    "from importlib import reload\n",
    "import utils\n",
    "reload(utils)\n",
    "from utils import *"
   ]
  },
  {
   "cell_type": "code",
   "execution_count": null,
   "id": "73b01913",
   "metadata": {},
   "outputs": [],
   "source": [
    "positives = pd.read_csv('/nfs/home/genovese/thesis-wildfire-genovese/database/model_input/table_data_input.csv')\n",
    "negatives = pd.read_csv('/nfs/home/genovese/thesis-wildfire-genovese/database/model_input/negative_table_data_input.csv')\n",
    "others = pd.read_csv('/nfs/home/genovese/thesis-wildfire-genovese/database/model_input/ambiguous_table_data_input.csv')"
   ]
  },
  {
   "cell_type": "code",
   "execution_count": null,
   "id": "9852f989",
   "metadata": {},
   "outputs": [],
   "source": [
    "from shapely import wkt\n",
    "\n",
    "positives.drop(index=positives.index[0], inplace=True)\n",
    "negatives.drop(index=negatives.index[0], inplace=True)\n",
    "others.drop(index=others.index[0], inplace=True)\n",
    "\n",
    "positives['ignition_point (epsg=3857)'] = positives['ignition_point (epsg=3857)'].apply(wkt.loads)\n",
    "positives = gpd.GeoDataFrame(positives, geometry='ignition_point (epsg=3857)', crs='EPSG:3857')\n",
    "negatives['ignition_point (epsg=3857)'] = negatives['ignition_point (epsg=3857)'].apply(wkt.loads)\n",
    "negatives = gpd.GeoDataFrame(negatives, geometry='ignition_point (epsg=3857)', crs='EPSG:3857')\n",
    "others['ignition_point (epsg=3857)'] = others['ignition_point (epsg=3857)'].apply(wkt.loads)\n",
    "others = gpd.GeoDataFrame(others, geometry='ignition_point (epsg=3857)', crs='EPSG:3857')"
   ]
  },
  {
   "cell_type": "code",
   "execution_count": null,
   "id": "97d74700",
   "metadata": {},
   "outputs": [],
   "source": [
    "for c in positives.columns:\n",
    "    if c not in negatives.columns:\n",
    "        print(f'Column {c} in positives not in negatives')\n",
    "    if c not in others.columns:\n",
    "        print(f'Column {c} in positives not in others')\n",
    "\n",
    "for c in negatives.columns:\n",
    "    if c not in positives.columns:\n",
    "        print(f'Column {c} in negatives not in positives')\n",
    "    if c not in others.columns:\n",
    "        print(f'Column {c} in negatives not in others')\n",
    "\n",
    "for c in others.columns:\n",
    "    if c not in positives.columns:\n",
    "        print(f'Column {c} in others not in positives')\n",
    "    if c not in negatives.columns:\n",
    "        print(f'Column {c} in others not in negatives')"
   ]
  },
  {
   "cell_type": "code",
   "execution_count": null,
   "id": "1923e8a1",
   "metadata": {},
   "outputs": [],
   "source": [
    "geonegatives = gpd.read_file('/nfs/home/genovese/thesis-wildfire-genovese/src/OnFireForest/sentinel_negative_fires/negatives.geojson').to_crs(epsg=3857)\n",
    "geonegatives['ignition_point (epsg=3857)'] = geonegatives.geometry.centroid\n",
    "geoothers = gpd.read_file('/nfs/home/genovese/thesis-wildfire-genovese/src/OnFireForest/sentinel_negative_fires/ambiguous.geojson').to_crs(epsg=3857)\n",
    "geoothers['ignition_point (epsg=3857)'] = geoothers.geometry.centroid"
   ]
  },
  {
   "cell_type": "code",
   "execution_count": null,
   "id": "2675d25b",
   "metadata": {},
   "outputs": [],
   "source": [
    "from shapely.geometry import Point\n",
    "\n",
    "def round_points(gdf, col, precision=3):\n",
    "    gdf = gdf.copy()\n",
    "    gdf[col] = gdf[col].apply(\n",
    "        lambda geom: Point(round(geom.x, precision), round(geom.y, precision))\n",
    "        if geom.geom_type == 'Point' else geom\n",
    "    )\n",
    "    return gdf\n",
    "\n",
    "negatives = round_points(negatives, 'ignition_point (epsg=3857)')\n",
    "others = round_points(others, 'ignition_point (epsg=3857)')"
   ]
  },
  {
   "cell_type": "code",
   "execution_count": null,
   "id": "fd8bb0e6",
   "metadata": {},
   "outputs": [],
   "source": [
    "gdf1 = negatives.copy()\n",
    "gdf1['x'] = gdf1['ignition_point (epsg=3857)'].x\n",
    "gdf1['y'] = gdf1['ignition_point (epsg=3857)'].y\n",
    "\n",
    "gdf2 = geonegatives.copy()\n",
    "gdf2['x'] = gdf2['ignition_point (epsg=3857)'].x\n",
    "gdf2['y'] = gdf2['ignition_point (epsg=3857)'].y\n",
    "\n",
    "gdf2['x'] = gdf2.apply(lambda row: round(float(np.format_float_positional(row.x, trim='-')), 3), axis=1)\n",
    "gdf2['y'] = gdf2.apply(lambda row: round(float(np.format_float_positional(row.y, trim='-')), 3), axis=1)\n",
    "\n",
    "merged = gdf1.merge(gdf2[['id', 'x', 'y']], on=['x','y'], how='inner')\n",
    "\n",
    "# Restore geometry\n",
    "merged = gpd.GeoDataFrame(merged, geometry='ignition_point (epsg=3857)', crs=3857).drop(columns=['x', 'y']).rename(columns={'id': 'fire_id'})"
   ]
  },
  {
   "cell_type": "code",
   "execution_count": null,
   "id": "f96f3ebb",
   "metadata": {},
   "outputs": [],
   "source": [
    "save_clean_data(merged, 'negative_model_data_input', '/nfs/home/genovese/thesis-wildfire-genovese/database/cache')"
   ]
  },
  {
   "cell_type": "markdown",
   "id": "f24f9582",
   "metadata": {},
   "source": [
    "---"
   ]
  },
  {
   "cell_type": "code",
   "execution_count": null,
   "id": "cb082bd1",
   "metadata": {},
   "outputs": [],
   "source": [
    "gdf1 = others.copy()\n",
    "gdf1['x'] = gdf1['ignition_point (epsg=3857)'].x\n",
    "gdf1['y'] = gdf1['ignition_point (epsg=3857)'].y\n",
    "\n",
    "gdf2 = geoothers.copy()\n",
    "gdf2['x'] = gdf2['ignition_point (epsg=3857)'].x\n",
    "gdf2['y'] = gdf2['ignition_point (epsg=3857)'].y\n",
    "\n",
    "gdf2['x'] = gdf2.apply(lambda row: round(float(np.format_float_positional(row.x, trim='-')), 3), axis=1)\n",
    "gdf2['y'] = gdf2.apply(lambda row: round(float(np.format_float_positional(row.y, trim='-')), 3), axis=1)\n",
    "\n",
    "merged = gdf1.merge(gdf2[['id', 'x', 'y']], on=['x','y'], how='inner')\n",
    "\n",
    "# Restore geometry\n",
    "merged = gpd.GeoDataFrame(merged, geometry='ignition_point (epsg=3857)', crs=3857).drop(columns=['x', 'y']).drop(columns='fire_id').rename(columns={'id': 'fire_id'})"
   ]
  },
  {
   "cell_type": "code",
   "execution_count": null,
   "id": "fdc3a1de",
   "metadata": {},
   "outputs": [],
   "source": [
    "save_clean_data(merged, 'others_model_data_input', '/nfs/home/genovese/thesis-wildfire-genovese/database/cache')"
   ]
  },
  {
   "cell_type": "markdown",
   "id": "b57af2c9",
   "metadata": {},
   "source": [
    "---"
   ]
  },
  {
   "cell_type": "code",
   "execution_count": null,
   "id": "817153a5",
   "metadata": {},
   "outputs": [],
   "source": [
    "geopositives = gpd.read_file('/nfs/home/genovese/thesis-wildfire-genovese/database/piedmont_2016_2024_fa.geojson')"
   ]
  },
  {
   "cell_type": "code",
   "execution_count": null,
   "id": "03ebb5a2",
   "metadata": {},
   "outputs": [],
   "source": [
    "geopositives['ignition_point (epsg=3857)'] = geopositives.apply(lambda row: Point(row.point_x, row.point_y), axis=1)"
   ]
  },
  {
   "cell_type": "code",
   "execution_count": null,
   "id": "8976c0c7",
   "metadata": {},
   "outputs": [],
   "source": [
    "gdf1 = positives.copy()\n",
    "gdf1['x'] = gdf1['ignition_point (epsg=3857)'].x\n",
    "gdf1['y'] = gdf1['ignition_point (epsg=3857)'].y\n",
    "\n",
    "gdf2 = geopositives.copy()\n",
    "gdf2['x'] = gdf2['ignition_point (epsg=3857)'].x\n",
    "gdf2['y'] = gdf2['ignition_point (epsg=3857)'].y\n",
    "\n",
    "gdf2['x'] = gdf2.apply(lambda row: round(float(np.format_float_positional(row.x, trim='-')), 3), axis=1)\n",
    "gdf2['y'] = gdf2.apply(lambda row: round(float(np.format_float_positional(row.y, trim='-')), 3), axis=1)\n",
    "\n",
    "gdf1['x'] = gdf1.apply(lambda row: round(float(np.format_float_positional(row.x, trim='-')), 3), axis=1)\n",
    "gdf1['y'] = gdf1.apply(lambda row: round(float(np.format_float_positional(row.y, trim='-')), 3), axis=1)\n",
    "\n",
    "merged = gdf1.merge(gdf2[['id', 'x', 'y']], on=['x','y'], how='inner')\n",
    "\n",
    "# Restore geometry\n",
    "merged = gpd.GeoDataFrame(merged, geometry='ignition_point (epsg=3857)', crs=3857).drop(columns=['x', 'y']).drop(columns='fire_id').rename(columns={'id': 'fire_id'})"
   ]
  },
  {
   "cell_type": "code",
   "execution_count": null,
   "id": "d2df2e87",
   "metadata": {},
   "outputs": [],
   "source": [
    "save_clean_data(merged, 'positive_model_data_input', '/nfs/home/genovese/thesis-wildfire-genovese/database/cache')"
   ]
  },
  {
   "cell_type": "markdown",
   "id": "82fd4bf5",
   "metadata": {},
   "source": [
    "---"
   ]
  },
  {
   "cell_type": "code",
   "execution_count": null,
   "id": "188f0e77",
   "metadata": {},
   "outputs": [],
   "source": [
    "positives = gpd.read_file('/nfs/home/genovese/thesis-wildfire-genovese/database/cache/positive_model_data_input.geojson')\n",
    "negatives = gpd.read_file('/nfs/home/genovese/thesis-wildfire-genovese/database/cache/negative_model_data_input.geojson')\n",
    "others = gpd.read_file('/nfs/home/genovese/thesis-wildfire-genovese/database/cache/others_model_data_input.geojson')"
   ]
  },
  {
   "cell_type": "code",
   "execution_count": null,
   "id": "0f664546",
   "metadata": {},
   "outputs": [],
   "source": [
    "total = pd.concat([positives, negatives, others], axis=0, ignore_index=True)"
   ]
  },
  {
   "cell_type": "code",
   "execution_count": null,
   "id": "46c6a7b3",
   "metadata": {},
   "outputs": [],
   "source": [
    "total.duplicated().sum()"
   ]
  },
  {
   "cell_type": "code",
   "execution_count": null,
   "id": "6e60d9f8",
   "metadata": {},
   "outputs": [],
   "source": [
    "save_clean_data(total, 'dataset', '/nfs/home/genovese/thesis-wildfire-genovese/database/model_input')"
   ]
  },
  {
   "cell_type": "markdown",
   "id": "b822e9bb",
   "metadata": {},
   "source": [
    "---"
   ]
  }
 ],
 "metadata": {
  "kernelspec": {
   "display_name": ".venv",
   "language": "python",
   "name": "python3"
  },
  "language_info": {
   "codemirror_mode": {
    "name": "ipython",
    "version": 3
   },
   "file_extension": ".py",
   "mimetype": "text/x-python",
   "name": "python",
   "nbconvert_exporter": "python",
   "pygments_lexer": "ipython3",
   "version": "3.10.17"
  }
 },
 "nbformat": 4,
 "nbformat_minor": 5
}
