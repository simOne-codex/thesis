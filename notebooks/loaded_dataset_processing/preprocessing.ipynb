{
 "cells": [
  {
   "cell_type": "code",
   "execution_count": 1,
   "id": "ef58cf54",
   "metadata": {},
   "outputs": [],
   "source": [
    "import sys \n",
    "sys.path.append(rf\"/nfs/home/genovese/thesis-wildfire-genovese/src\")\n",
    "from importlib import reload\n",
    "import utils\n",
    "reload(utils)\n",
    "from utils import *"
   ]
  },
  {
   "cell_type": "markdown",
   "id": "a9b1923f",
   "metadata": {},
   "source": [
    "See /nfs/home/genovese/thesis-wildfire-genovese/outputs/EDA_ProfileReport.html for the EDA, here the consequent preprocessing"
   ]
  },
  {
   "cell_type": "code",
   "execution_count": null,
   "id": "0cd41124",
   "metadata": {},
   "outputs": [],
   "source": [
    "data = pd.read_csv('/nfs/home/genovese/thesis-wildfire-genovese/database/model_input/dataset_with_days_enumerated.csv')"
   ]
  },
  {
   "cell_type": "markdown",
   "id": "68dc8678",
   "metadata": {},
   "source": [
    "### 1. drop duplicates and constant variables"
   ]
  },
  {
   "cell_type": "code",
   "execution_count": null,
   "id": "00bf0d36",
   "metadata": {},
   "outputs": [],
   "source": [
    "data.drop_duplicates(inplace=True)\n",
    "data.drop(columns=['VEGETAZIONE_TIPO_Saliceto paludoso di Salix cinerea',\n",
    "                   'VEGETAZIONE_TIPO_Larici-cembreto su rodoreto-vaccinieto',\n",
    "                   'VEGETAZIONE_INTERVENTO_Gestione a governo misto'],\n",
    "                   inplace=True)"
   ]
  },
  {
   "cell_type": "markdown",
   "id": "b57b1b40",
   "metadata": {},
   "source": [
    "### 2. Check for almost constant variables"
   ]
  },
  {
   "cell_type": "code",
   "execution_count": null,
   "id": "be0d5d81",
   "metadata": {},
   "outputs": [],
   "source": [
    "for c in data.columns:\n",
    "    vals = data[c].value_counts().sort_values(ascending = False)\n",
    "    if vals.iloc[1:].sum() <= 50:\n",
    "        print(f'Column {c} has value counts: ', vals)"
   ]
  },
  {
   "cell_type": "code",
   "execution_count": null,
   "id": "555aa63b",
   "metadata": {},
   "outputs": [],
   "source": [
    "# data['TOTALE_VEGETAZIONE'] = data.loc[:, [col for col in data.columns if 'VEGETAZIONE_TIPO' in col]].sum(axis=1)\n",
    "# data['TOTALE_STRADE'] = data.loc[:, [col for col in data.columns if 'RTP' in col]].sum(axis=1)"
   ]
  },
  {
   "cell_type": "code",
   "execution_count": null,
   "id": "f050b9c0",
   "metadata": {},
   "outputs": [],
   "source": [
    "to_drop = []\n",
    "\n",
    "for c in data.columns:\n",
    "    vals = data[c].value_counts().sort_values(ascending = False)\n",
    "    if vals.iloc[1:].sum() <= 10:\n",
    "        if np.max(list(vals.index)) < 0.1:\n",
    "            to_drop.append(c)"
   ]
  },
  {
   "cell_type": "code",
   "execution_count": null,
   "id": "d5f22042",
   "metadata": {},
   "outputs": [],
   "source": [
    "# data.drop(columns=to_drop, inplace=True)"
   ]
  },
  {
   "cell_type": "markdown",
   "id": "afb332c8",
   "metadata": {},
   "source": [
    "### 3. Look for too high correlations and drop under necessity"
   ]
  },
  {
   "cell_type": "code",
   "execution_count": null,
   "id": "e6a49dfb",
   "metadata": {},
   "outputs": [],
   "source": [
    "def find_high_corr_pairs(df, threshold=0.9):\n",
    "    corr = df.corr()  # compute correlation matrix\n",
    "    # Extract only upper triangle (exclude duplicates and self-correlation)\n",
    "    upper = corr.where(np.triu(np.ones(corr.shape), k=1).astype(bool))\n",
    "    \n",
    "    # Stack into long format and filter\n",
    "    high_corr = upper.stack().loc[lambda x: x.abs() > threshold]\n",
    "    # Result is a Series with MultiIndex (col1, col2) and value = correlation\n",
    "\n",
    "    return high_corr"
   ]
  },
  {
   "cell_type": "code",
   "execution_count": null,
   "id": "f3ab20dc",
   "metadata": {},
   "outputs": [],
   "source": [
    "high_corr = find_high_corr_pairs(data, threshold=0.95)\n",
    "for s in high_corr.index:\n",
    "    print(s)"
   ]
  },
  {
   "cell_type": "code",
   "execution_count": null,
   "id": "df5de6f5",
   "metadata": {},
   "outputs": [],
   "source": [
    "save_clean_data(data, 'processed_not_imputed_non_rekriged', '/nfs/home/genovese/thesis-wildfire-genovese/database/cache')"
   ]
  },
  {
   "cell_type": "markdown",
   "id": "20e32fc5",
   "metadata": {},
   "source": [
    "### 4. Reintroduce target"
   ]
  },
  {
   "cell_type": "code",
   "execution_count": null,
   "id": "d26d7a4a",
   "metadata": {},
   "outputs": [],
   "source": [
    "data = pd.read_csv('/nfs/home/genovese/thesis-wildfire-genovese/database/cache/processed_not_imputed_non_rekriged.csv')\n",
    "kriged = gpd.read_file('/nfs/home/genovese/thesis-wildfire-genovese/src/OnFireForest/sentinel_negative_fires/ambiguous.geojson')\n",
    "negatives = gpd.read_file('/nfs/home/genovese/thesis-wildfire-genovese/src/OnFireForest/sentinel_negative_fires/negatives.geojson')"
   ]
  },
  {
   "cell_type": "code",
   "execution_count": 3,
   "id": "0a2dbcc6",
   "metadata": {},
   "outputs": [
    {
     "name": "stderr",
     "output_type": "stream",
     "text": [
      "/tmp/ipykernel_368259/626330105.py:11: FutureWarning: Downcasting object dtype arrays on .fillna, .ffill, .bfill is deprecated and will change in a future version. Call result.infer_objects(copy=False) instead. To opt-in to the future behavior, set `pd.set_option('future.no_silent_downcasting', True)`\n",
      "  data.loc[:, 'target'] = data.target.fillna(1)\n"
     ]
    }
   ],
   "source": [
    "data['target'] = [None]*data.shape[0]\n",
    "\n",
    "for idx, target in zip(kriged.id, kriged.label):\n",
    "    j = data[data.fire_id == idx].index\n",
    "    data.loc[j, 'target'] = target\n",
    "\n",
    "for idx in negatives.id:\n",
    "    j = data[data.fire_id == idx].index\n",
    "    data.loc[j, 'target'] = 0\n",
    "\n",
    "data.loc[:, 'target'] = data.target.fillna(1)"
   ]
  },
  {
   "cell_type": "code",
   "execution_count": 5,
   "id": "18c40183",
   "metadata": {},
   "outputs": [],
   "source": [
    "import pickle \n",
    "with open('/nfs/home/genovese/thesis-wildfire-genovese/src/trained_models/target_kriging.pkl', 'rb') as f:\n",
    "    krige = pickle.load(f)"
   ]
  },
  {
   "cell_type": "code",
   "execution_count": 6,
   "id": "eab5cd62",
   "metadata": {},
   "outputs": [
    {
     "data": {
      "text/plain": [
       "{'anisotropy_angle': (0.0, 0.0, 0.0),\n",
       " 'anisotropy_scaling': (1.0, 1.0),\n",
       " 'coordinates_type': 'euclidean',\n",
       " 'drift_terms': None,\n",
       " 'enable_statistics': False,\n",
       " 'exact_values': True,\n",
       " 'ext_drift_grid': (None, None, None),\n",
       " 'functional_drift': None,\n",
       " 'method': 'ordinary',\n",
       " 'n_closest_points': 10,\n",
       " 'nlags': 8,\n",
       " 'point_drift': None,\n",
       " 'pseudo_inv': False,\n",
       " 'pseudo_inv_type': 'pinv',\n",
       " 'variogram_function': None,\n",
       " 'variogram_model': 'spherical',\n",
       " 'variogram_parameters': {'psill': 1.5, 'range': 1.5, 'nugget': -1},\n",
       " 'verbose': False,\n",
       " 'weight': False}"
      ]
     },
     "execution_count": 6,
     "metadata": {},
     "output_type": "execute_result"
    }
   ],
   "source": [
    "krige.get_params()"
   ]
  },
  {
   "cell_type": "code",
   "execution_count": null,
   "id": "c6ead64c",
   "metadata": {},
   "outputs": [],
   "source": [
    "from shapely import wkt\n",
    "\n",
    "data2 = data.copy(deep=True)\n",
    "for idx, target in zip(negatives.id, krige.predict(np.array(pd.concat([negatives.geometry.centroid.x, negatives.geometry.centroid.y], axis=1)))):\n",
    "    j = data2[data2.fire_id == idx].index\n",
    "    data2.loc[j, 'target'] = target\n",
    "\n",
    "positives = pd.read_csv('/nfs/home/genovese/thesis-wildfire-genovese/database/model_input/table_data_input.csv').drop(index=0)\n",
    "positives['ignition_point (epsg=3857)'] = positives['ignition_point (epsg=3857)'].apply(wkt.loads)\n",
    "positives = gpd.GeoDataFrame(positives, geometry='ignition_point (epsg=3857)', crs = 'EPSG:3857')\n",
    "for idx, target in zip(positives.fire_id, krige.predict(np.array(pd.concat([positives.geometry.x, positives.geometry.y], axis=1)))):\n",
    "    j = data2[data2.fire_id == idx].index\n",
    "    data2.loc[j, 'target'] = target"
   ]
  },
  {
   "cell_type": "code",
   "execution_count": null,
   "id": "744960f7",
   "metadata": {},
   "outputs": [],
   "source": [
    "save_clean_data(data, 'processed_not_imputed_non_rekriged', '/nfs/home/genovese/thesis-wildfire-genovese/database/cache')\n",
    "save_clean_data(data2, 'processed_not_imputed_rekriged', '/nfs/home/genovese/thesis-wildfire-genovese/database/cache')"
   ]
  },
  {
   "cell_type": "markdown",
   "id": "c841d7d6",
   "metadata": {},
   "source": [
    "### 5. Assign target interval"
   ]
  },
  {
   "cell_type": "code",
   "execution_count": null,
   "id": "e37f9527",
   "metadata": {},
   "outputs": [],
   "source": [
    "data1 = pd.read_csv('/nfs/home/genovese/thesis-wildfire-genovese/database/cache/processed_not_imputed_rekriged.csv')\n",
    "data2 = pd.read_csv('/nfs/home/genovese/thesis-wildfire-genovese/database/cache/processed_not_imputed_non_rekriged.csv')"
   ]
  },
  {
   "cell_type": "code",
   "execution_count": null,
   "id": "54a71047",
   "metadata": {},
   "outputs": [],
   "source": [
    "def classify_target(row, target='target'):\n",
    "    if row[target] <= 0.2:\n",
    "        return 0\n",
    "    elif (row[target] > 0.2) and (row[target] <= 0.4):\n",
    "        return 1\n",
    "    elif (row[target] > 0.4) and (row[target] <= 0.6):\n",
    "        return 2\n",
    "    elif (row[target] > 0.6) and (row[target] <= 0.8):\n",
    "        return 3\n",
    "    elif row[target] > 0.8:\n",
    "        return 4\n",
    "    \n",
    "data1['label'] = data1.apply(lambda x: classify_target(x), axis=1)\n",
    "data2['label'] = data2.apply(lambda x: classify_target(x), axis=1)"
   ]
  },
  {
   "cell_type": "code",
   "execution_count": null,
   "id": "156a2876",
   "metadata": {},
   "outputs": [],
   "source": [
    "(data1.label == data2.label).all()"
   ]
  },
  {
   "cell_type": "markdown",
   "id": "33ed76eb",
   "metadata": {},
   "source": [
    "No difference between kriged and not for the label"
   ]
  },
  {
   "cell_type": "code",
   "execution_count": null,
   "id": "b1766c59",
   "metadata": {},
   "outputs": [],
   "source": [
    "data1.to_csv('/nfs/home/genovese/thesis-wildfire-genovese/database/model_input/not_imputed_dataset_non_kriged.csv')\n",
    "data2.to_csv('/nfs/home/genovese/thesis-wildfire-genovese/database/model_input/not_imputed_dataset_kriged.csv')"
   ]
  },
  {
   "cell_type": "markdown",
   "id": "1e6d181b",
   "metadata": {},
   "source": [
    "### 6. NA imputing\n",
    "see knn_imputer.py, to do inside each kfold"
   ]
  },
  {
   "cell_type": "code",
   "execution_count": 2,
   "id": "62def844",
   "metadata": {},
   "outputs": [],
   "source": [
    "data1 = pd.read_csv('/nfs/home/genovese/thesis-wildfire-genovese/database/model_input/not_imputed_dataset_non_kriged.csv')\n",
    "data2 = pd.read_csv('/nfs/home/genovese/thesis-wildfire-genovese/database/model_input/not_imputed_dataset_kriged.csv')"
   ]
  },
  {
   "cell_type": "code",
   "execution_count": 4,
   "id": "a266faee",
   "metadata": {},
   "outputs": [
    {
     "data": {
      "text/plain": [
       "<Figure size 600x600 with 0 Axes>"
      ]
     },
     "metadata": {},
     "output_type": "display_data"
    },
    {
     "data": {
      "image/png": "[encoded data removed]",
      "text/plain": [
       "<Figure size 800x600 with 2 Axes>"
      ]
     },
     "metadata": {},
     "output_type": "display_data"
    }
   ],
   "source": [
    "histbox(data1.target)"
   ]
  }
 ],
 "metadata": {
  "kernelspec": {
   "display_name": ".venv",
   "language": "python",
   "name": "python3"
  },
  "language_info": {
   "codemirror_mode": {
    "name": "ipython",
    "version": 3
   },
   "file_extension": ".py",
   "mimetype": "text/x-python",
   "name": "python",
   "nbconvert_exporter": "python",
   "pygments_lexer": "ipython3",
   "version": "3.10.17"
  }
 },
 "nbformat": 4,
 "nbformat_minor": 5
}
